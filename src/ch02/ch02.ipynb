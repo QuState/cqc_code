{
 "cells": [
  {
   "cell_type": "code",
   "execution_count": null,
   "id": "7c473172",
   "metadata": {},
   "outputs": [],
   "source": [
    "# need to run from src\n",
    "import os\n",
    "os.chdir('..')"
   ]
  },
  {
   "cell_type": "code",
   "execution_count": null,
   "id": "5dfa6954",
   "metadata": {},
   "outputs": [],
   "source": [
    "# key = QuantumRegister(3)\n",
    "# value = QuantumRegister(3)\n",
    "# weight = QuantumRegister(4)"
   ]
  },
  {
   "cell_type": "code",
   "execution_count": null,
   "id": "0f30ba98",
   "metadata": {},
   "outputs": [],
   "source": [
    "[bin(k)[2:].zfill(1) for k in range(2**1)]\n",
    "[bin(k)[2:].zfill(2) for k in range(2**2)]\n",
    "[bin(k)[2:].zfill(3) for k in range(2**3)]"
   ]
  },
  {
   "cell_type": "code",
   "execution_count": null,
   "id": "c15e34d1",
   "metadata": {},
   "outputs": [],
   "source": [
    "n = 3\n",
    "decimal_range = [k for k in range(2**n)]\n",
    "decimal_range\n",
    "binary_range = [bin(k)[2:].zfill(3) for k in range(2**n)]\n",
    "binary_range"
   ]
  },
  {
   "cell_type": "code",
   "execution_count": null,
   "id": "3287610b",
   "metadata": {},
   "outputs": [],
   "source": [
    "[k for k in range(2**(n-1))] + [k-2**n for k in range(2**(n-1), 2**n)]"
   ]
  },
  {
   "cell_type": "code",
   "execution_count": null,
   "id": "4cccfca7",
   "metadata": {},
   "outputs": [],
   "source": [
    "z = 0.2 + 0.3j\n",
    "type(z)\n",
    "z.real\n",
    "z.imag"
   ]
  },
  {
   "cell_type": "code",
   "execution_count": null,
   "id": "81669205",
   "metadata": {},
   "outputs": [],
   "source": [
    "abs(z)"
   ]
  },
  {
   "cell_type": "code",
   "execution_count": null,
   "id": "21a001a1",
   "metadata": {},
   "outputs": [],
   "source": [
    "z = 0.2 + 0.3j\n",
    "z.conjugate()"
   ]
  },
  {
   "cell_type": "code",
   "execution_count": null,
   "id": "0fe423ba",
   "metadata": {},
   "outputs": [],
   "source": [
    "# [[a, b], [c, d]]"
   ]
  },
  {
   "cell_type": "code",
   "execution_count": null,
   "id": "b579bb20",
   "metadata": {},
   "outputs": [],
   "source": [
    "[(0, 3), (1, 4), (2, 5), (3, 6)]"
   ]
  },
  {
   "cell_type": "code",
   "execution_count": null,
   "id": "49031f5b",
   "metadata": {},
   "outputs": [],
   "source": [
    "[(x, x + 3) for x in [0, 1, 2, 3]]"
   ]
  },
  {
   "cell_type": "code",
   "execution_count": null,
   "id": "6fa1f305",
   "metadata": {},
   "outputs": [],
   "source": [
    "[(x, x + 3) for x in range(-64, 64)]"
   ]
  },
  {
   "cell_type": "code",
   "execution_count": null,
   "id": "42841d7d",
   "metadata": {},
   "outputs": [],
   "source": [
    "def run_knapsack(min_v, max_w, iterations):\n",
    "    pass"
   ]
  },
  {
   "cell_type": "code",
   "execution_count": null,
   "id": "9536bbb9",
   "metadata": {},
   "outputs": [],
   "source": [
    "run_knapsack(3, 4, 0)"
   ]
  },
  {
   "cell_type": "code",
   "execution_count": null,
   "id": "48d07cec",
   "metadata": {},
   "outputs": [],
   "source": [
    "run_knapsack(3, 4, 1)"
   ]
  },
  {
   "cell_type": "code",
   "execution_count": null,
   "id": "732cf4de",
   "metadata": {},
   "outputs": [],
   "source": [
    "run_knapsack(3, 4, 3)"
   ]
  },
  {
   "cell_type": "code",
   "execution_count": null,
   "id": "b61902a7",
   "metadata": {},
   "outputs": [],
   "source": [
    "run_knapsack(4, 4, 1)"
   ]
  }
 ],
 "metadata": {
  "kernelspec": {
   "display_name": "Python 3 (ipykernel)",
   "language": "python",
   "name": "python3"
  },
  "language_info": {
   "codemirror_mode": {
    "name": "ipython",
    "version": 3
   },
   "file_extension": ".py",
   "mimetype": "text/x-python",
   "name": "python",
   "nbconvert_exporter": "python",
   "pygments_lexer": "ipython3",
   "version": "3.9.13"
  }
 },
 "nbformat": 4,
 "nbformat_minor": 5
}
