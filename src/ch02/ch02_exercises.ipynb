{
 "cells": [
  {
   "cell_type": "code",
   "execution_count": 1,
   "metadata": {
    "collapsed": true
   },
   "outputs": [],
   "source": [
    "import os\n",
    "os.chdir('..')"
   ]
  },
  {
   "cell_type": "markdown",
   "metadata": {},
   "source": [
    "## Exercise 1\n",
    "\n",
    "Take two binary strings that differ only in the $n^{\\text{th}}$ position from the right (starting with 0).\n",
    "Justify that the difference between their decimal values is 2 to the power n.\n",
    "\n",
    "Example string pairs:\n",
    "- 000 and 010\n",
    "- 0101 and 0100\n",
    "- 10101 and 10001\n"
   ]
  },
  {
   "cell_type": "code",
   "execution_count": 2,
   "metadata": {},
   "outputs": [],
   "source": [
    "def to_decimal_form(binary_string):\n",
    "    return sum([int(binary_string[::-1][d])*(2**d) for d in range(len(binary_string))])"
   ]
  },
  {
   "cell_type": "code",
   "execution_count": 3,
   "metadata": {},
   "outputs": [],
   "source": [
    "string1 = '000'\n",
    "string2 = '010'\n",
    "decimal1 = to_decimal_form(string1)\n",
    "decimal2 = to_decimal_form(string2)\n",
    "\n",
    "n_position = 1 \n",
    "assert (abs(decimal1 - decimal2) == 2**n_position)"
   ]
  },
  {
   "cell_type": "code",
   "execution_count": 4,
   "metadata": {},
   "outputs": [],
   "source": [
    "string1 = '0101'\n",
    "string2 = '0100'\n",
    "decimal1 = to_decimal_form(string1)\n",
    "decimal2 = to_decimal_form(string2)\n",
    "\n",
    "n_position = 0 \n",
    "assert (abs(decimal1 - decimal2) == 2**n_position)"
   ]
  },
  {
   "cell_type": "code",
   "execution_count": 5,
   "metadata": {},
   "outputs": [],
   "source": [
    "string1 = '10101'\n",
    "string2 = '10001'\n",
    "decimal1 = to_decimal_form(string1)\n",
    "decimal2 = to_decimal_form(string2)\n",
    "\n",
    "n_position = 2 \n",
    "assert (abs(decimal1 - decimal2) == 2**n_position)"
   ]
  },
  {
   "cell_type": "markdown",
   "metadata": {},
   "source": [
    "## Exercise 2\n",
    "\n",
    "What is the minimum number of digits you need for the Two's Complement representation of -5?"
   ]
  },
  {
   "cell_type": "markdown",
   "metadata": {},
   "source": [
    "**Answer:**\n",
    "\n",
    "4 is the minimum number of digits you need for the Two's Complement representation of -5.\n",
    "\n",
    "When using Twos's Complement, half of the possible binary strings of a given length (those that start with 1) will be used to represent negative values. With 3 digits, there are 8 possible binary strings, four of which can be used to represent negative values (-1, -2, -3, and -4). With 4 digits, there are 16 possible strings, so -1 through -8 can be represented."
   ]
  },
  {
   "cell_type": "markdown",
   "metadata": {},
   "source": [
    "## Exercise 3\n",
    "\n",
    "What values of a, b, c, and d would result in swapping the amplitudes in a given pair?"
   ]
  },
  {
   "cell_type": "markdown",
   "metadata": {},
   "source": [
    "**Answer:**\n",
    "\n",
    "a = 0, b = 1, c = 1, d = 0\n",
    "\n",
    "The new amplitude values are computed with the following formulae:\n",
    "\n",
    "$z_0 \\leftarrow az_0 + bz_1$\n",
    "\n",
    "$z_1 \\leftarrow  cz_0 + dz_1$\n",
    "\n",
    "If a = 0, b = 1, c = 1, d = 0:\n",
    "\n",
    "$z_0 \\leftarrow 0z_0 + 1z_1 = z_1$\n",
    "\n",
    "$z_1 \\leftarrow  1z_0 + 0z_1 = z_0$\n",
    "\n",
    "The amplitudes are swapped."
   ]
  },
  {
   "cell_type": "markdown",
   "metadata": {},
   "source": [
    "## Exercise 4\n",
    "\n",
    "Can you work out the optimal solution in your head?"
   ]
  },
  {
   "cell_type": "markdown",
   "metadata": {},
   "source": [
    "**Answer:**\n",
    "\n",
    "With weight capacity 4, the highest value selection would include the items with labels 1 and 2, and not include the item with label 0."
   ]
  }
 ],
 "metadata": {
  "kernelspec": {
   "display_name": "Python 3 (ipykernel)",
   "language": "python",
   "name": "python3"
  },
  "language_info": {
   "codemirror_mode": {
    "name": "ipython",
    "version": 3
   },
   "file_extension": ".py",
   "mimetype": "text/x-python",
   "name": "python",
   "nbconvert_exporter": "python",
   "pygments_lexer": "ipython3",
   "version": "3.9.13"
  }
 },
 "nbformat": 4,
 "nbformat_minor": 1
}
