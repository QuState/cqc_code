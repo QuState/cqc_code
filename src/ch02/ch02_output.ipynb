{
 "cells": [
  {
   "cell_type": "code",
   "execution_count": 1,
   "id": "0922fe78",
   "metadata": {},
   "outputs": [],
   "source": [
    "# need to run from src\n",
    "import os\n",
    "os.chdir('..')"
   ]
  },
  {
   "cell_type": "code",
   "execution_count": 2,
   "id": "3c248bb2",
   "metadata": {},
   "outputs": [],
   "source": [
    "# key = QuantumRegister(3)\n",
    "# value = QuantumRegister(3)\n",
    "# weight = QuantumRegister(4)"
   ]
  },
  {
   "cell_type": "code",
   "execution_count": 3,
   "id": "0f30ba98",
   "metadata": {},
   "outputs": [
    {
     "data": {
      "text/plain": [
       "['000', '001', '010', '011', '100', '101', '110', '111']"
      ]
     },
     "execution_count": 3,
     "metadata": {},
     "output_type": "execute_result"
    }
   ],
   "source": [
    "[bin(k)[2:].zfill(1) for k in range(2**1)]\n",
    "[bin(k)[2:].zfill(2) for k in range(2**2)]\n",
    "[bin(k)[2:].zfill(3) for k in range(2**3)]"
   ]
  },
  {
   "cell_type": "code",
   "execution_count": 4,
   "id": "c15e34d1",
   "metadata": {},
   "outputs": [
    {
     "data": {
      "text/plain": [
       "['000', '001', '010', '011', '100', '101', '110', '111']"
      ]
     },
     "execution_count": 4,
     "metadata": {},
     "output_type": "execute_result"
    }
   ],
   "source": [
    "n = 3\n",
    "decimal_range = [k for k in range(2**n)]\n",
    "decimal_range\n",
    "binary_range = [bin(k)[2:].zfill(3) for k in range(2**n)]\n",
    "binary_range"
   ]
  },
  {
   "cell_type": "code",
   "execution_count": 5,
   "id": "3287610b",
   "metadata": {},
   "outputs": [
    {
     "data": {
      "text/plain": [
       "[0, 1, 2, 3, -4, -3, -2, -1]"
      ]
     },
     "execution_count": 5,
     "metadata": {},
     "output_type": "execute_result"
    }
   ],
   "source": [
    "[k for k in range(2**(n-1))] + [k-2**n for k in range(2**(n-1), 2**n)]"
   ]
  },
  {
   "cell_type": "code",
   "execution_count": 6,
   "id": "4cccfca7",
   "metadata": {},
   "outputs": [
    {
     "data": {
      "text/plain": [
       "0.3"
      ]
     },
     "execution_count": 6,
     "metadata": {},
     "output_type": "execute_result"
    }
   ],
   "source": [
    "z = 0.2 + 0.3j\n",
    "type(z)\n",
    "z.real\n",
    "z.imag"
   ]
  },
  {
   "cell_type": "code",
   "execution_count": 7,
   "id": "81669205",
   "metadata": {},
   "outputs": [
    {
     "data": {
      "text/plain": [
       "0.36055512754639896"
      ]
     },
     "execution_count": 7,
     "metadata": {},
     "output_type": "execute_result"
    }
   ],
   "source": [
    "abs(z)"
   ]
  },
  {
   "cell_type": "code",
   "execution_count": 8,
   "id": "21a001a1",
   "metadata": {},
   "outputs": [
    {
     "data": {
      "text/plain": [
       "(0.2-0.3j)"
      ]
     },
     "execution_count": 8,
     "metadata": {},
     "output_type": "execute_result"
    }
   ],
   "source": [
    "z = 0.2 + 0.3j\n",
    "z.conjugate()"
   ]
  },
  {
   "cell_type": "code",
   "execution_count": 9,
   "id": "0fe423ba",
   "metadata": {},
   "outputs": [],
   "source": [
    "# [[a, b], [c, d]]"
   ]
  },
  {
   "cell_type": "code",
   "execution_count": 10,
   "id": "b579bb20",
   "metadata": {},
   "outputs": [
    {
     "data": {
      "text/plain": [
       "[(0, 3), (1, 4), (2, 5), (3, 6)]"
      ]
     },
     "execution_count": 10,
     "metadata": {},
     "output_type": "execute_result"
    }
   ],
   "source": [
    "[(0, 3), (1, 4), (2, 5), (3, 6)]"
   ]
  },
  {
   "cell_type": "code",
   "execution_count": 11,
   "id": "49031f5b",
   "metadata": {},
   "outputs": [
    {
     "data": {
      "text/plain": [
       "[(0, 3), (1, 4), (2, 5), (3, 6)]"
      ]
     },
     "execution_count": 11,
     "metadata": {},
     "output_type": "execute_result"
    }
   ],
   "source": [
    "[(x, x + 3) for x in [0, 1, 2, 3]]"
   ]
  },
  {
   "cell_type": "code",
   "execution_count": 12,
   "id": "6fa1f305",
   "metadata": {},
   "outputs": [
    {
     "data": {
      "text/plain": [
       "[(-64, -61),\n",
       " (-63, -60),\n",
       " (-62, -59),\n",
       " (-61, -58),\n",
       " (-60, -57),\n",
       " (-59, -56),\n",
       " (-58, -55),\n",
       " (-57, -54),\n",
       " (-56, -53),\n",
       " (-55, -52),\n",
       " (-54, -51),\n",
       " (-53, -50),\n",
       " (-52, -49),\n",
       " (-51, -48),\n",
       " (-50, -47),\n",
       " (-49, -46),\n",
       " (-48, -45),\n",
       " (-47, -44),\n",
       " (-46, -43),\n",
       " (-45, -42),\n",
       " (-44, -41),\n",
       " (-43, -40),\n",
       " (-42, -39),\n",
       " (-41, -38),\n",
       " (-40, -37),\n",
       " (-39, -36),\n",
       " (-38, -35),\n",
       " (-37, -34),\n",
       " (-36, -33),\n",
       " (-35, -32),\n",
       " (-34, -31),\n",
       " (-33, -30),\n",
       " (-32, -29),\n",
       " (-31, -28),\n",
       " (-30, -27),\n",
       " (-29, -26),\n",
       " (-28, -25),\n",
       " (-27, -24),\n",
       " (-26, -23),\n",
       " (-25, -22),\n",
       " (-24, -21),\n",
       " (-23, -20),\n",
       " (-22, -19),\n",
       " (-21, -18),\n",
       " (-20, -17),\n",
       " (-19, -16),\n",
       " (-18, -15),\n",
       " (-17, -14),\n",
       " (-16, -13),\n",
       " (-15, -12),\n",
       " (-14, -11),\n",
       " (-13, -10),\n",
       " (-12, -9),\n",
       " (-11, -8),\n",
       " (-10, -7),\n",
       " (-9, -6),\n",
       " (-8, -5),\n",
       " (-7, -4),\n",
       " (-6, -3),\n",
       " (-5, -2),\n",
       " (-4, -1),\n",
       " (-3, 0),\n",
       " (-2, 1),\n",
       " (-1, 2),\n",
       " (0, 3),\n",
       " (1, 4),\n",
       " (2, 5),\n",
       " (3, 6),\n",
       " (4, 7),\n",
       " (5, 8),\n",
       " (6, 9),\n",
       " (7, 10),\n",
       " (8, 11),\n",
       " (9, 12),\n",
       " (10, 13),\n",
       " (11, 14),\n",
       " (12, 15),\n",
       " (13, 16),\n",
       " (14, 17),\n",
       " (15, 18),\n",
       " (16, 19),\n",
       " (17, 20),\n",
       " (18, 21),\n",
       " (19, 22),\n",
       " (20, 23),\n",
       " (21, 24),\n",
       " (22, 25),\n",
       " (23, 26),\n",
       " (24, 27),\n",
       " (25, 28),\n",
       " (26, 29),\n",
       " (27, 30),\n",
       " (28, 31),\n",
       " (29, 32),\n",
       " (30, 33),\n",
       " (31, 34),\n",
       " (32, 35),\n",
       " (33, 36),\n",
       " (34, 37),\n",
       " (35, 38),\n",
       " (36, 39),\n",
       " (37, 40),\n",
       " (38, 41),\n",
       " (39, 42),\n",
       " (40, 43),\n",
       " (41, 44),\n",
       " (42, 45),\n",
       " (43, 46),\n",
       " (44, 47),\n",
       " (45, 48),\n",
       " (46, 49),\n",
       " (47, 50),\n",
       " (48, 51),\n",
       " (49, 52),\n",
       " (50, 53),\n",
       " (51, 54),\n",
       " (52, 55),\n",
       " (53, 56),\n",
       " (54, 57),\n",
       " (55, 58),\n",
       " (56, 59),\n",
       " (57, 60),\n",
       " (58, 61),\n",
       " (59, 62),\n",
       " (60, 63),\n",
       " (61, 64),\n",
       " (62, 65),\n",
       " (63, 66)]"
      ]
     },
     "execution_count": 12,
     "metadata": {},
     "output_type": "execute_result"
    }
   ],
   "source": [
    "[(x, x + 3) for x in range(-64, 64)]"
   ]
  },
  {
   "cell_type": "code",
   "execution_count": 13,
   "id": "42841d7d",
   "metadata": {},
   "outputs": [],
   "source": [
    "def run_knapsack(min_v, max_w, iterations):\n",
    "    pass"
   ]
  },
  {
   "cell_type": "code",
   "execution_count": 14,
   "id": "9536bbb9",
   "metadata": {},
   "outputs": [],
   "source": [
    "run_knapsack(3, 4, 0)"
   ]
  },
  {
   "cell_type": "code",
   "execution_count": 15,
   "id": "48d07cec",
   "metadata": {},
   "outputs": [],
   "source": [
    "run_knapsack(3, 4, 1)"
   ]
  },
  {
   "cell_type": "code",
   "execution_count": 16,
   "id": "732cf4de",
   "metadata": {},
   "outputs": [],
   "source": [
    "run_knapsack(3, 4, 3)"
   ]
  },
  {
   "cell_type": "code",
   "execution_count": 17,
   "id": "b61902a7",
   "metadata": {},
   "outputs": [],
   "source": [
    "run_knapsack(4, 4, 1)"
   ]
  }
 ],
 "metadata": {
  "kernelspec": {
   "display_name": "Python 3 (ipykernel)",
   "language": "python",
   "name": "python3"
  },
  "language_info": {
   "codemirror_mode": {
    "name": "ipython",
    "version": 3
   },
   "file_extension": ".py",
   "mimetype": "text/x-python",
   "name": "python",
   "nbconvert_exporter": "python",
   "pygments_lexer": "ipython3",
   "version": "3.9.13"
  }
 },
 "nbformat": 4,
 "nbformat_minor": 5
}
