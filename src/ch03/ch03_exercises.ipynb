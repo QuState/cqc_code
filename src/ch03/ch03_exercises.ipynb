{
 "cells": [
  {
   "cell_type": "code",
   "execution_count": 1,
   "metadata": {},
   "outputs": [],
   "source": [
    "import os\n",
    "os.chdir('..')"
   ]
  },
  {
   "cell_type": "code",
   "execution_count": 2,
   "metadata": {},
   "outputs": [],
   "source": [
    "from math import sqrt, atan2, pi, cos, sin\n",
    "import numpy as np\n",
    "from util import cis"
   ]
  },
  {
   "cell_type": "markdown",
   "metadata": {},
   "source": [
    "## Exercise 1\n",
    "\n",
    "What directions correspond to amplitudes that are real numbers?\n"
   ]
  },
  {
   "cell_type": "markdown",
   "metadata": {},
   "source": [
    "**Answer**:\n",
    "\n",
    "Directions 0, $\\pm 180^\\circ$/$\\pm \\pi$.\n",
    "\n",
    "Consider the polar form of a complex number:\n",
    "\n",
    "$r(\\cos\\theta + i\\sin\\theta)$\n",
    "\n",
    "If $\\sin \\theta = 0$, then the imaginary part of the complex number will be 0 (so the value will be a real number only).\n",
    "We know that $\\sin \\theta = 0$ for $\\theta = \\pi$ and $\\theta = -\\pi$."
   ]
  },
  {
   "cell_type": "markdown",
   "metadata": {},
   "source": [
    "## Exercise 2\n",
    "\n",
    "Write code that verifies that multiplying the 1-side of the example state below by -1, reverses its direction."
   ]
  },
  {
   "cell_type": "code",
   "execution_count": 3,
   "metadata": {},
   "outputs": [],
   "source": [
    "state = [sqrt(0.3), -sqrt(0.7)]"
   ]
  },
  {
   "cell_type": "code",
   "execution_count": 4,
   "metadata": {},
   "outputs": [
    {
     "name": "stdout",
     "output_type": "stream",
     "text": [
      "-0.5pi radians, -90.0 degrees\n"
     ]
    }
   ],
   "source": [
    "direction_1side_before = atan2(state[1].real, state[1].imag)\n",
    "print(\"{0}pi radians, {1} degrees\".format(direction_1side_before/pi, direction_1side_before * (180/pi)))"
   ]
  },
  {
   "cell_type": "code",
   "execution_count": 5,
   "metadata": {},
   "outputs": [],
   "source": [
    "state = [state[0], -state[1]]"
   ]
  },
  {
   "cell_type": "code",
   "execution_count": 6,
   "metadata": {},
   "outputs": [
    {
     "name": "stdout",
     "output_type": "stream",
     "text": [
      "0.5pi radians, 90.0 degrees\n"
     ]
    }
   ],
   "source": [
    "direction_1side_after = atan2(state[1].real, state[1].imag)\n",
    "print(\"{0}pi radians, {1} degrees\".format(direction_1side_after/pi, direction_1side_after * (180/pi)))"
   ]
  },
  {
   "cell_type": "code",
   "execution_count": 7,
   "metadata": {},
   "outputs": [],
   "source": [
    "assert (direction_1side_after == pi+direction_1side_before)"
   ]
  },
  {
   "cell_type": "markdown",
   "metadata": {},
   "source": [
    "# Exercise 3\n",
    "\n",
    "Find the values $a, b, c$ and $d$ for which the following is true for any pair of amplitudes $z_0, z_1$:\n",
    "\n",
    "\n",
    "$$\\begin{bmatrix}\n",
    "a & b\\\\\n",
    "c & d\n",
    "\\end{bmatrix}\n",
    "\\begin{bmatrix}\n",
    "z_0\\\\\n",
    "z_1\n",
    "\\end{bmatrix}\n",
    "=\n",
    "\\begin{bmatrix}\n",
    "z_0 \\\\\n",
    "z_1\n",
    "\\end{bmatrix}$$"
   ]
  },
  {
   "cell_type": "markdown",
   "metadata": {},
   "source": [
    "**Answer:**\n",
    "\n",
    "a=1, b=0, c=0, d=1\n",
    "\n",
    "$\\begin{bmatrix}\n",
    "1 & 0\\\\\n",
    "0 & 1\n",
    "\\end{bmatrix}\n",
    "\\begin{bmatrix}\n",
    "z_0\\\\\n",
    "z_1\n",
    "\\end{bmatrix}\n",
    "=\n",
    "\\begin{bmatrix}\n",
    "z_0 \\\\\n",
    "z_1\n",
    "\\end{bmatrix}$"
   ]
  },
  {
   "cell_type": "code",
   "execution_count": 9,
   "metadata": {},
   "outputs": [],
   "source": [
    "state = [sqrt(0.3), -sqrt(0.7)]\n",
    "\n",
    "(a, b, c, d) = (1, 0, 0, 1)\n",
    "state = [a*state[0] + b*state[1], c*state[0] + d*state[1]]"
   ]
  },
  {
   "cell_type": "code",
   "execution_count": 10,
   "metadata": {},
   "outputs": [],
   "source": [
    "assert (state == [sqrt(0.3), -sqrt(0.7)])"
   ]
  },
  {
   "cell_type": "markdown",
   "metadata": {},
   "source": [
    "## Exercise 4\n",
    "\n",
    "Show that $YX = -XY$, $ZX = -XZ$, and $ZY = - YZ$."
   ]
  },
  {
   "cell_type": "markdown",
   "metadata": {},
   "source": [
    "**Answer**:\n",
    "\n",
    "$YX = -XY$\n",
    "\n",
    "$\\begin{bmatrix}\n",
    "0 & -i\\\\\n",
    "i & 0\n",
    "\\end{bmatrix}\n",
    "\\begin{bmatrix}\n",
    "0 & 1\\\\\n",
    "1 & 0\n",
    "\\end{bmatrix}\n",
    "=\n",
    "\\begin{bmatrix}\n",
    "0 & -1\\\\\n",
    "-1 & 0\n",
    "\\end{bmatrix}\n",
    "\\begin{bmatrix}\n",
    "0 & -i\\\\\n",
    "i & 0\n",
    "\\end{bmatrix}\n",
    "$\n",
    "\n",
    "$\\begin{bmatrix}\n",
    "-i & 0 \\\\\n",
    "0 & i\n",
    "\\end{bmatrix}\n",
    "=\n",
    "\\begin{bmatrix}\n",
    "-i & 0 \\\\\n",
    "0 & i\n",
    "\\end{bmatrix}$"
   ]
  },
  {
   "cell_type": "code",
   "execution_count": 11,
   "metadata": {},
   "outputs": [],
   "source": [
    "x_gate = np.array([[0, 1], [1, 0]])\n",
    "y_gate = np.array([[0, complex(0, -1)], [complex(0, 1), 0]])"
   ]
  },
  {
   "cell_type": "code",
   "execution_count": 12,
   "metadata": {},
   "outputs": [],
   "source": [
    "assert (np.matmul(y_gate, x_gate) == np.matmul(-x_gate, y_gate)).all"
   ]
  },
  {
   "cell_type": "markdown",
   "metadata": {},
   "source": [
    "**Answer**:\n",
    "\n",
    "$ZX = -XZ$\n",
    "\n",
    "$\\begin{bmatrix}\n",
    "1 & 0\\\\\n",
    "0 & -1\n",
    "\\end{bmatrix}\n",
    "\\begin{bmatrix}\n",
    "0 & 1\\\\\n",
    "1 & 0\n",
    "\\end{bmatrix}\n",
    "=\n",
    "\\begin{bmatrix}\n",
    "0 & -1\\\\\n",
    "-1 & 0\n",
    "\\end{bmatrix}\n",
    "\\begin{bmatrix}\n",
    "1 & 0\\\\\n",
    "0 & -1\n",
    "\\end{bmatrix}\n",
    "$\n",
    "\n",
    "$\\begin{bmatrix}\n",
    "0 & 1 \\\\\n",
    "-1 & 0\n",
    "\\end{bmatrix}\n",
    "=\n",
    "\\begin{bmatrix}\n",
    "0 & 1 \\\\\n",
    "-1 & 0\n",
    "\\end{bmatrix}$"
   ]
  },
  {
   "cell_type": "code",
   "execution_count": 13,
   "metadata": {},
   "outputs": [],
   "source": [
    "x_gate = np.array([[0, 1], [1, 0]])\n",
    "z_gate = np.array([[1, 0], [0, -1]])"
   ]
  },
  {
   "cell_type": "code",
   "execution_count": 14,
   "metadata": {},
   "outputs": [],
   "source": [
    "assert (np.matmul(z_gate, x_gate) == np.matmul(-x_gate, z_gate)).all"
   ]
  },
  {
   "cell_type": "markdown",
   "metadata": {},
   "source": [
    "**Answer**:\n",
    "\n",
    "$ZY = -YZ$\n",
    "\n",
    "$\\begin{bmatrix}\n",
    "1 & 0\\\\\n",
    "0 & -1\n",
    "\\end{bmatrix}\n",
    "\\begin{bmatrix}\n",
    "0 & -i\\\\\n",
    "i & 0\n",
    "\\end{bmatrix}\n",
    "=\n",
    "\\begin{bmatrix}\n",
    "0 & i\\\\\n",
    "-i & 0\n",
    "\\end{bmatrix}\n",
    "\\begin{bmatrix}\n",
    "1 & 0\\\\\n",
    "0 & -1\n",
    "\\end{bmatrix}\n",
    "$\n",
    "\n",
    "$\\begin{bmatrix}\n",
    "0 & -i \\\\\n",
    "-i & 0\n",
    "\\end{bmatrix}\n",
    "=\n",
    "\\begin{bmatrix}\n",
    "0 & -i \\\\\n",
    "-i & 0\n",
    "\\end{bmatrix}$"
   ]
  },
  {
   "cell_type": "code",
   "execution_count": 15,
   "metadata": {},
   "outputs": [],
   "source": [
    "z_gate = np.array([[1, 0], [0, -1]])\n",
    "y_gate = np.array([[0, complex(0, -1)], [complex(0, 1), 0]])"
   ]
  },
  {
   "cell_type": "code",
   "execution_count": 16,
   "metadata": {},
   "outputs": [],
   "source": [
    "assert (np.matmul(z_gate, y_gate) == np.matmul(-y_gate, z_gate)).all"
   ]
  },
  {
   "cell_type": "markdown",
   "metadata": {},
   "source": [
    "## Exercise 5\n",
    "\n",
    "Check that rotations of the same type compose by adding rotation angles.\n",
    "For example, $R_Y(\\theta_2)R_Y(\\theta_1) = R_Y(\\theta_1 + \\theta_2)$.\n"
   ]
  },
  {
   "cell_type": "markdown",
   "metadata": {},
   "source": [
    "**Answer:**\n",
    "\n",
    "$\\begin{bmatrix}\n",
    "\\cos \\frac{\\theta_2}{2} & -\\sin \\frac{\\theta_2}{2}\\\\\n",
    "\\sin \\frac{\\theta_2}{2} & \\cos \\frac{\\theta_2}{2}\n",
    "\\end{bmatrix}\n",
    "\\begin{bmatrix}\n",
    "\\cos \\frac{\\theta_1}{2} & -\\sin \\frac{\\theta_1}{2}\\\\\n",
    "\\sin \\frac{\\theta_1}{2} & \\cos \\frac{\\theta_1}{2}\n",
    "\\end{bmatrix}\n",
    "=\n",
    "\\begin{bmatrix}\n",
    "\\cos \\frac{\\theta_2}{2} \\cos \\frac{\\theta_1}{2} - \\sin \\frac{\\theta_2}{2} \\sin \\frac{\\theta_1}{2} & -\\cos \\frac{\\theta_2}{2} \\sin \\frac{\\theta_1}{2} - \\sin \\frac{\\theta_2}{2}\\cos \\frac{\\theta_1}{2} \\\\\n",
    "\\sin \\frac{\\theta_2}{2} \\cos \\frac{\\theta_1}{2} + \\cos \\frac{\\theta_2}{2}\\sin \\frac{\\theta_1}{2} & -\\sin \\frac{\\theta_2}{2} \\sin \\frac{\\theta_1}{2} + \\cos \\frac{\\theta_2}{2} \\cos \\frac{\\theta_1}{2}\n",
    "\\end{bmatrix}\n",
    "=\n",
    "\\begin{bmatrix}\n",
    "\\cos \\frac{\\theta_2 + \\theta_1}{2} & -\\sin \\frac{\\theta_2 + \\theta_1}{2} \\\\\n",
    "\\sin \\frac{\\theta_2 + \\theta_1}{2} & \\cos \\frac{\\theta_2 + \\theta_1}{2}\n",
    "\\end{bmatrix}\n",
    "$"
   ]
  },
  {
   "cell_type": "code",
   "execution_count": 17,
   "metadata": {},
   "outputs": [],
   "source": [
    "state1 = [sqrt(0.3), -sqrt(0.7)]\n",
    "\n",
    "theta1 = pi\n",
    "theta2 = pi/3\n",
    "\n",
    "# apply ry(theta2)\n",
    "(a, b, c, d) = (cos(theta2/2), -sin(theta2/2), sin(theta2/2), cos(theta2/2))\n",
    "state1 = [a*state1[0] + b*state1[1], c*state1[0] + d*state1[1]]\n",
    "\n",
    "# apply ry(theta1)\n",
    "(a, b, c, d) = (cos(theta1/2), -sin(theta1/2), sin(theta1/2), cos(theta1/2))\n",
    "state1 = [a*state1[0] + b*state1[1], c*state1[0] + d*state1[1]]"
   ]
  },
  {
   "cell_type": "code",
   "execution_count": 18,
   "metadata": {},
   "outputs": [
    {
     "data": {
      "text/plain": "[0.45070755855688904, 0.8926716622922946]"
     },
     "execution_count": 18,
     "metadata": {},
     "output_type": "execute_result"
    }
   ],
   "source": [
    "state1"
   ]
  },
  {
   "cell_type": "code",
   "execution_count": 19,
   "metadata": {},
   "outputs": [],
   "source": [
    "state2 = [sqrt(0.3), -sqrt(0.7)]\n",
    "\n",
    "# apply ry(theta1 + theta2)\n",
    "(a, b, c, d) = (cos((theta1 + theta2)/2), -sin((theta1 + theta2)/2), sin((theta1 + theta2)/2), cos((theta1 + theta2)/2))\n",
    "state2 = [a*state2[0] + b*state2[1], c*state2[0] + d*state2[1]]"
   ]
  },
  {
   "cell_type": "code",
   "execution_count": 20,
   "metadata": {},
   "outputs": [
    {
     "data": {
      "text/plain": "[0.45070755855688904, 0.8926716622922946]"
     },
     "execution_count": 20,
     "metadata": {},
     "output_type": "execute_result"
    }
   ],
   "source": [
    "state2"
   ]
  },
  {
   "cell_type": "code",
   "execution_count": 21,
   "metadata": {},
   "outputs": [],
   "source": [
    "assert (state1 == state2)"
   ]
  },
  {
   "cell_type": "markdown",
   "metadata": {},
   "source": [
    "## Exercise 6\n",
    "\n",
    "Use the definitions of the Y, Z, and H gates to prove that they are their own inverses.\n"
   ]
  },
  {
   "cell_type": "markdown",
   "metadata": {},
   "source": [
    "**Y-Gate**:"
   ]
  },
  {
   "cell_type": "code",
   "execution_count": 22,
   "metadata": {},
   "outputs": [
    {
     "data": {
      "text/plain": "[0.5477225575051661, -0.8366600265340756]"
     },
     "execution_count": 22,
     "metadata": {},
     "output_type": "execute_result"
    }
   ],
   "source": [
    "state = [sqrt(0.3), -sqrt(0.7)]\n",
    "state"
   ]
  },
  {
   "cell_type": "code",
   "execution_count": 23,
   "metadata": {},
   "outputs": [
    {
     "data": {
      "text/plain": "[0.8366600265340756j, 0.5477225575051661j]"
     },
     "execution_count": 23,
     "metadata": {},
     "output_type": "execute_result"
    }
   ],
   "source": [
    "# apply Y-gate\n",
    "state = [-1j*state[1], 1j*state[0]]\n",
    "state"
   ]
  },
  {
   "cell_type": "code",
   "execution_count": 24,
   "metadata": {
    "scrolled": false
   },
   "outputs": [
    {
     "data": {
      "text/plain": "[(0.5477225575051661-0j), (-0.8366600265340756+0j)]"
     },
     "execution_count": 24,
     "metadata": {},
     "output_type": "execute_result"
    }
   ],
   "source": [
    "# apply second Y-gate\n",
    "state = [-1j*state[1], 1j*state[0]]\n",
    "state"
   ]
  },
  {
   "cell_type": "markdown",
   "metadata": {},
   "source": [
    "**Z-Gate**"
   ]
  },
  {
   "cell_type": "code",
   "execution_count": 25,
   "metadata": {},
   "outputs": [
    {
     "data": {
      "text/plain": "[0.5477225575051661, -0.8366600265340756]"
     },
     "execution_count": 25,
     "metadata": {},
     "output_type": "execute_result"
    }
   ],
   "source": [
    "state = [sqrt(0.3), -sqrt(0.7)]\n",
    "state"
   ]
  },
  {
   "cell_type": "code",
   "execution_count": 26,
   "metadata": {},
   "outputs": [
    {
     "data": {
      "text/plain": "[0.5477225575051661, 0.8366600265340756]"
     },
     "execution_count": 26,
     "metadata": {},
     "output_type": "execute_result"
    }
   ],
   "source": [
    "# apply Z-gate\n",
    "state = [state[0], -state[1]]\n",
    "state"
   ]
  },
  {
   "cell_type": "code",
   "execution_count": 27,
   "metadata": {},
   "outputs": [
    {
     "data": {
      "text/plain": "[0.5477225575051661, -0.8366600265340756]"
     },
     "execution_count": 27,
     "metadata": {},
     "output_type": "execute_result"
    }
   ],
   "source": [
    "# apply second Z-gate\n",
    "state = [state[0], -state[1]]\n",
    "state"
   ]
  },
  {
   "cell_type": "markdown",
   "metadata": {},
   "source": [
    "**Hadamard Gate**"
   ]
  },
  {
   "cell_type": "code",
   "execution_count": 28,
   "metadata": {},
   "outputs": [
    {
     "data": {
      "text/plain": "[0.5477225575051661, -0.8366600265340756]"
     },
     "execution_count": 28,
     "metadata": {},
     "output_type": "execute_result"
    }
   ],
   "source": [
    "state = [sqrt(0.3), -sqrt(0.7)]\n",
    "state"
   ]
  },
  {
   "cell_type": "code",
   "execution_count": 29,
   "metadata": {},
   "outputs": [
    {
     "data": {
      "text/plain": "[-0.20430964368921997, 0.9789063129307033]"
     },
     "execution_count": 29,
     "metadata": {},
     "output_type": "execute_result"
    }
   ],
   "source": [
    "# Apply H-gate\n",
    "state = [sqrt(0.5)*(state[0] + state[1]), sqrt(0.5)*(state[0] -state[1])]\n",
    "state"
   ]
  },
  {
   "cell_type": "code",
   "execution_count": 30,
   "metadata": {},
   "outputs": [
    {
     "data": {
      "text/plain": "[0.5477225575051661, -0.8366600265340756]"
     },
     "execution_count": 30,
     "metadata": {},
     "output_type": "execute_result"
    }
   ],
   "source": [
    "# Apply second H-gate\n",
    "state = [sqrt(0.5)*(state[0] + state[1]), sqrt(0.5)*(state[0] -state[1])]\n",
    "state"
   ]
  },
  {
   "cell_type": "markdown",
   "metadata": {},
   "source": [
    "## Exercise 3.7\n",
    "\n",
    "Prove the following identities: $Y =  P(\\pi)R_X(\\pi)$, $R_X(\\theta) = HR_Z(\\theta)H$, and $R_Y(\\theta) = P(\\frac{\\pi}{2})R_X(\\theta)P(-\\frac{\\pi}{2})$ for any angle $\\theta$.\n"
   ]
  },
  {
   "cell_type": "markdown",
   "metadata": {},
   "source": [
    "**$Y =  P(\\pi)R_X(\\pi)$**\n",
    "\n",
    "$\\begin{bmatrix}\n",
    "0 & -i \\\\\n",
    "i & 0\n",
    "\\end{bmatrix}\n",
    "=\n",
    "\\begin{bmatrix}\n",
    "1 & 0 \\\\\n",
    "0 & \\cos \\pi + i \\sin \\pi\n",
    "\\end{bmatrix}\n",
    "\\begin{bmatrix}\n",
    "\\cos \\frac{\\pi}{2} & -i \\sin \\frac{\\pi}{2} \\\\\n",
    " -i \\sin \\frac{\\pi}{2} & \\cos \\frac{\\pi}{2}\n",
    "\\end{bmatrix}\n",
    "$"
   ]
  },
  {
   "cell_type": "code",
   "execution_count": 31,
   "metadata": {},
   "outputs": [],
   "source": [
    "state1 = [0.2958+0.51235j, -0.40311+0.69821j]\n",
    "\n",
    "# apply Y-gate\n",
    "state1 = [-1j*state1[1], 1j*state1[0]]"
   ]
  },
  {
   "cell_type": "code",
   "execution_count": 32,
   "metadata": {},
   "outputs": [
    {
     "data": {
      "text/plain": "[(0.69821+0.40311j), (-0.51235+0.2958j)]"
     },
     "execution_count": 32,
     "metadata": {},
     "output_type": "execute_result"
    }
   ],
   "source": [
    "state1"
   ]
  },
  {
   "cell_type": "code",
   "execution_count": 33,
   "metadata": {},
   "outputs": [],
   "source": [
    "state2 = [0.2958+0.51235j, -0.40311+0.69821j]\n",
    "\n",
    "# apply Rx(pi)-gate\n",
    "(a, b, c, d) = (cos(pi/2), complex(0, -sin(pi/2)), complex(0, -sin(pi/2)), cos(pi/2))\n",
    "state2 = [a*state2[0] + b*state2[1], c*state2[0] + d*state2[1]]\n",
    "\n",
    "# apply P(pi)-gate\n",
    "state2 = [state2[0], cis(pi)*state2[1]]"
   ]
  },
  {
   "cell_type": "code",
   "execution_count": 34,
   "metadata": {},
   "outputs": [
    {
     "data": {
      "text/plain": "[(0.69821+0.4031100000000001j), (-0.51235+0.2958j)]"
     },
     "execution_count": 34,
     "metadata": {},
     "output_type": "execute_result"
    }
   ],
   "source": [
    "state2"
   ]
  },
  {
   "cell_type": "markdown",
   "metadata": {},
   "source": [
    "**$R_X(\\theta) = HR_Z(\\theta)H$**\n",
    "\n",
    "$\\begin{bmatrix}\n",
    "\\cos \\frac{\\theta}{2} & -i \\sin \\frac{\\theta}{2} \\\\\n",
    " -i \\sin \\frac{\\theta}{2} & \\cos \\frac{\\theta}{2}\n",
    "\\end{bmatrix}\n",
    "=\n",
    "\\begin{bmatrix}\n",
    "\\frac{1}{\\sqrt{2}} & \\frac{1}{\\sqrt{2}} \\\\\n",
    "\\frac{1}{\\sqrt{2}} & -\\frac{1}{\\sqrt{2}}\n",
    "\\end{bmatrix}\n",
    "\\begin{bmatrix}\n",
    "\\cos \\frac{\\theta}{2} - i \\sin \\frac{\\theta}{2} & 0 \\\\\n",
    "0 & \\cos \\frac{\\theta}{2} + i \\sin \\frac{\\theta}{2}\n",
    "\\end{bmatrix}\n",
    "\\begin{bmatrix}\n",
    "\\frac{1}{\\sqrt{2}} & \\frac{1}{\\sqrt{2}} \\\\\n",
    "\\frac{1}{\\sqrt{2}} & -\\frac{1}{\\sqrt{2}}\n",
    "\\end{bmatrix}\n",
    "$"
   ]
  },
  {
   "cell_type": "code",
   "execution_count": 35,
   "metadata": {},
   "outputs": [],
   "source": [
    "theta = pi/3"
   ]
  },
  {
   "cell_type": "code",
   "execution_count": 36,
   "metadata": {},
   "outputs": [],
   "source": [
    "state1 = [0.2958+0.51235j, -0.40311+0.69821j]\n",
    "\n",
    "# apply Rx(theta)\n",
    "(a, b, c, d) = (cos(theta/2), complex(0, -sin(theta/2)), complex(0, -sin(theta/2)), cos(theta/2))\n",
    "state1 = [a*state1[0] + b*state1[1], c*state1[0] + d*state1[1]]"
   ]
  },
  {
   "cell_type": "code",
   "execution_count": 37,
   "metadata": {},
   "outputs": [
    {
     "data": {
      "text/plain": "[(0.6052753144394369+0.6452631156289571j),\n (-0.09292850051954515+0.4567675971763329j)]"
     },
     "execution_count": 37,
     "metadata": {},
     "output_type": "execute_result"
    }
   ],
   "source": [
    "state1"
   ]
  },
  {
   "cell_type": "code",
   "execution_count": 38,
   "metadata": {},
   "outputs": [
    {
     "data": {
      "text/plain": "[(0.605275314439437+0.6452631156289572j),\n (-0.09292850051954513+0.45676759717633303j)]"
     },
     "execution_count": 38,
     "metadata": {},
     "output_type": "execute_result"
    }
   ],
   "source": [
    "state2 = [0.2958+0.51235j, -0.40311+0.69821j]\n",
    "\n",
    "# apply H-gate\n",
    "state2 = [sqrt(0.5)*(state2[0] + state2[1]), sqrt(0.5)*(state2[0] -state2[1])]\n",
    "\n",
    "# apply Rz(theta)-gate\n",
    "state2 = [cis(-theta/2)*state2[0], cis(theta/2)*state2[1]]\n",
    "\n",
    "# apply H-gate\n",
    "state2 = [sqrt(0.5)*(state2[0] + state2[1]), sqrt(0.5)*(state2[0] -state2[1])]\n",
    "\n",
    "state2"
   ]
  },
  {
   "cell_type": "markdown",
   "metadata": {},
   "source": [
    "**$R_Y(\\theta) = P(\\frac{\\pi}{2})R_X(\\theta)P(-\\frac{\\pi}{2})$**\n",
    "\n",
    "$\\begin{bmatrix}\n",
    "\\cos \\frac{\\theta}{2} & - \\sin \\frac{\\theta}{2} \\\\\n",
    "\\sin \\frac{\\theta}{2} & \\cos \\frac{\\theta}{2}\n",
    "\\end{bmatrix}\n",
    "=\n",
    "\\begin{bmatrix}\n",
    "1 & 0 \\\\\n",
    "0 & \\cos \\frac{\\pi}{2} + i \\sin \\frac{\\pi}{2}\n",
    "\\end{bmatrix}\n",
    "\\begin{bmatrix}\n",
    "\\cos \\frac{\\theta}{2} & -i \\sin \\frac{\\theta}{2} \\\\\n",
    " -i \\sin \\frac{\\theta}{2} & \\cos \\frac{\\theta}{2}\n",
    "\\end{bmatrix}\n",
    "\\begin{bmatrix}\n",
    "1 & 0 \\\\\n",
    "0 & \\cos \\frac{-\\pi}{2} + i \\sin \\frac{-\\pi}{2}\n",
    "\\end{bmatrix}\n",
    "$\n",
    "\n",
    "\n",
    "$\\begin{bmatrix}\n",
    "\\cos \\frac{\\theta}{2} & - \\sin \\frac{\\theta}{2} \\\\\n",
    "\\sin \\frac{\\theta}{2} & \\cos \\frac{\\theta}{2}\n",
    "\\end{bmatrix}\n",
    "=\n",
    "\\begin{bmatrix}\n",
    "1 & 0 \\\\\n",
    "0 & i\n",
    "\\end{bmatrix}\n",
    "\\begin{bmatrix}\n",
    "\\cos \\frac{\\theta}{2} & -i \\sin \\frac{\\theta}{2} \\\\\n",
    " -i \\sin \\frac{\\theta}{2} & \\cos \\frac{\\theta}{2}\n",
    "\\end{bmatrix}\n",
    "\\begin{bmatrix}\n",
    "1 & 0 \\\\\n",
    "0 & -i\n",
    "\\end{bmatrix}\n",
    "$"
   ]
  },
  {
   "cell_type": "code",
   "execution_count": 39,
   "metadata": {},
   "outputs": [],
   "source": [
    "theta = pi/6"
   ]
  },
  {
   "cell_type": "code",
   "execution_count": 40,
   "metadata": {},
   "outputs": [
    {
     "data": {
      "text/plain": "[(0.39005340468758354+0.31418205161817314j),\n (-0.31281568629406076+0.8070250089315669j)]"
     },
     "execution_count": 40,
     "metadata": {},
     "output_type": "execute_result"
    }
   ],
   "source": [
    "state1 = [0.2958+0.51235j, -0.40311+0.69821j]\n",
    "\n",
    "# apply ry(theta)\n",
    "(a, b, c, d) = (cos(theta/2), -sin(theta/2), sin(theta/2), cos(theta/2))\n",
    "state1 = [a*state1[0] + b*state1[1], c*state1[0] + d*state1[1]]\n",
    "\n",
    "state1"
   ]
  },
  {
   "cell_type": "code",
   "execution_count": 41,
   "metadata": {},
   "outputs": [
    {
     "data": {
      "text/plain": "[(0.3900534046875836+0.31418205161817314j),\n (-0.31281568629406076+0.8070250089315669j)]"
     },
     "execution_count": 41,
     "metadata": {},
     "output_type": "execute_result"
    }
   ],
   "source": [
    "state2 = [0.2958+0.51235j, -0.40311+0.69821j]\n",
    "\n",
    "# apply P(-pi/2)-gate\n",
    "state2 = [state2[0], cis(-pi/2)*state2[1]]\n",
    "\n",
    "# apply Rx(theta)\n",
    "(a, b, c, d) = (cos(theta/2), complex(0, -sin(theta/2)), complex(0, -sin(theta/2)), cos(theta/2))\n",
    "state2 = [a*state2[0] + b*state2[1], c*state2[0] + d*state2[1]]\n",
    "\n",
    "# apply P(pi/2)-gate\n",
    "state2 = [state2[0], cis(pi/2)*state2[1]]\n",
    "\n",
    "state2"
   ]
  }
 ],
 "metadata": {
  "kernelspec": {
   "display_name": "Python 3 (ipykernel)",
   "language": "python",
   "name": "python3"
  },
  "language_info": {
   "codemirror_mode": {
    "name": "ipython",
    "version": 3
   },
   "file_extension": ".py",
   "mimetype": "text/x-python",
   "name": "python",
   "nbconvert_exporter": "python",
   "pygments_lexer": "ipython3",
   "version": "3.9.13"
  }
 },
 "nbformat": 4,
 "nbformat_minor": 1
}
