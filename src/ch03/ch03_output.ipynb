{
 "cells": [
  {
   "cell_type": "markdown",
   "id": "72a9760e",
   "metadata": {},
   "source": [
    "## Section 3.1"
   ]
  },
  {
   "cell_type": "markdown",
   "id": "a18efcf6",
   "metadata": {},
   "source": [
    "#### Section 3.1.3"
   ]
  },
  {
   "cell_type": "code",
   "execution_count": 1,
   "id": "initial_id",
   "metadata": {},
   "outputs": [],
   "source": [
    "state = [0.2958+0.51235j, -0.40311+0.69821j] # <1>"
   ]
  },
  {
   "cell_type": "code",
   "execution_count": 2,
   "id": "815c1606",
   "metadata": {},
   "outputs": [
    {
     "data": {
      "text/plain": [
       "(-0.40311+0.69821j)"
      ]
     },
     "execution_count": 2,
     "metadata": {},
     "output_type": "execute_result"
    }
   ],
   "source": [
    "state[0]\n",
    "state[1]"
   ]
  },
  {
   "cell_type": "code",
   "execution_count": 3,
   "id": "516d8a14",
   "metadata": {
    "ExecuteTime": {
     "end_time": "2023-10-19T17:06:05.842129Z",
     "start_time": "2023-10-19T17:06:05.839168Z"
    }
   },
   "outputs": [],
   "source": [
    "from math import sqrt\n",
    "\n",
    "state1 = [1, 0]\n",
    "\n",
    "state2 = [0, 1]\n",
    "\n",
    "state3 = [sqrt(1/2), sqrt(1/2)]\n",
    "\n",
    "state4 = [sqrt(0.3), sqrt(0.7)]"
   ]
  },
  {
   "cell_type": "code",
   "execution_count": 4,
   "id": "2c003b6d",
   "metadata": {},
   "outputs": [
    {
     "data": {
      "text/plain": [
       "0"
      ]
     },
     "execution_count": 4,
     "metadata": {},
     "output_type": "execute_result"
    }
   ],
   "source": [
    "state = [1, 0]\n",
    "state[0].real # <1>\n",
    "state[0].imag # <1>"
   ]
  },
  {
   "cell_type": "code",
   "execution_count": 5,
   "id": "3868c64b",
   "metadata": {},
   "outputs": [
    {
     "data": {
      "text/plain": [
       "1.0"
      ]
     },
     "execution_count": 5,
     "metadata": {},
     "output_type": "execute_result"
    }
   ],
   "source": [
    "state = [1, 0]\n",
    "sum([abs(k)**2 for k in state]) # <1>\n",
    "state = [sqrt(0.3), sqrt(0.7)]\n",
    "sum([abs(k)**2 for k in state])"
   ]
  },
  {
   "cell_type": "code",
   "execution_count": 6,
   "id": "89daaaef",
   "metadata": {},
   "outputs": [],
   "source": [
    "state = [sqrt(0.3), -sqrt(0.7)]"
   ]
  },
  {
   "cell_type": "code",
   "execution_count": 7,
   "id": "e2507f97",
   "metadata": {},
   "outputs": [
    {
     "data": {
      "text/plain": [
       "3.141592653589793"
      ]
     },
     "execution_count": 7,
     "metadata": {},
     "output_type": "execute_result"
    }
   ],
   "source": [
    "from math import atan2\n",
    "state = [sqrt(0.3), -sqrt(0.7)]\n",
    "direction = atan2(state[1].imag, state[1].real) # <1>\n",
    "direction"
   ]
  },
  {
   "cell_type": "code",
   "execution_count": 8,
   "id": "6cb702a7",
   "metadata": {},
   "outputs": [
    {
     "data": {
      "text/plain": [
       "180.0"
      ]
     },
     "execution_count": 8,
     "metadata": {},
     "output_type": "execute_result"
    }
   ],
   "source": [
    "from math import pi\n",
    "direction * (180/pi)"
   ]
  },
  {
   "cell_type": "code",
   "execution_count": 9,
   "id": "fe2a14c8",
   "metadata": {},
   "outputs": [
    {
     "data": {
      "text/plain": [
       "[(-0.34149942885245477+0.42822673911544473j),\n",
       " (0.6768721799802616+0.4917764247793589j)]"
      ]
     },
     "execution_count": 9,
     "metadata": {},
     "output_type": "execute_result"
    }
   ],
   "source": [
    "from math import cos, sin\n",
    "state = [sqrt(0.3) * (cos(5 * pi / 7) + 1j * sin(5 * pi / 7)),\n",
    "         sqrt(0.7) * (cos(pi / 5) + 1j * sin(pi / 5))] # <1>\n",
    "state"
   ]
  },
  {
   "cell_type": "code",
   "execution_count": 10,
   "id": "ce4ba187",
   "metadata": {},
   "outputs": [
    {
     "name": "stdout",
     "output_type": "stream",
     "text": [
      "[0, (-0.34149942885245477+0.42822673911544473j)]\n",
      "[1, (0.6768721799802616+0.4917764247793589j)]\n"
     ]
    }
   ],
   "source": [
    "table = [[k, state[k]] for k in range(len(state))]\n",
    "for row in table:\n",
    "    print(row)"
   ]
  },
  {
   "cell_type": "code",
   "execution_count": 11,
   "id": "7c49788f",
   "metadata": {},
   "outputs": [
    {
     "name": "stdout",
     "output_type": "stream",
     "text": [
      "[0, (-0.3415+0.42823j)]\n",
      "[1, (0.67687+0.49178j)]\n"
     ]
    }
   ],
   "source": [
    "formatted_table = [\n",
    "    [round(x.real, 5) + 1j * round(x.imag, 5) if isinstance(x, complex) else x\n",
    "     for x in table[k]] for k in range(len(table))]\n",
    "for row in formatted_table:\n",
    "    print(row)"
   ]
  },
  {
   "cell_type": "code",
   "execution_count": 12,
   "id": "a4fcbcec",
   "metadata": {},
   "outputs": [
    {
     "data": {
      "text/plain": [
       "0.5477225575051661"
      ]
     },
     "execution_count": 12,
     "metadata": {},
     "output_type": "execute_result"
    }
   ],
   "source": [
    "abs(state[0])"
   ]
  },
  {
   "cell_type": "code",
   "execution_count": 13,
   "id": "a9cd8d4a",
   "metadata": {},
   "outputs": [
    {
     "data": {
      "text/plain": [
       "0.29999999999999993"
      ]
     },
     "execution_count": 13,
     "metadata": {},
     "output_type": "execute_result"
    }
   ],
   "source": [
    "abs(state[0])**2"
   ]
  },
  {
   "cell_type": "code",
   "execution_count": 14,
   "id": "12c2c84f",
   "metadata": {},
   "outputs": [
    {
     "name": "stdout",
     "output_type": "stream",
     "text": [
      "[0, (-0.3415+0.42823j), 128.57143, 0.54772, 0.3]\n",
      "[1, (0.67687+0.49178j), 36.0, 0.83666, 0.7]\n"
     ]
    }
   ],
   "source": [
    "enhanced_table = [\n",
    "    [k, state[k], atan2(state[k].imag, state[k].real) * (180 / pi),\n",
    "     abs(state[k]), abs(state[k]) ** 2] for k in range(len(state))]\n",
    "formatted_enhanced_table = [[round(x, 5) if isinstance(x, float) else round(\n",
    "    x.real, 5) + 1j * round(x.imag, 5) if isinstance(x, complex) else x for\n",
    "                             x in enhanced_table[k]] for k in\n",
    "                            range(len(enhanced_table))]\n",
    "for row in formatted_enhanced_table:\n",
    "    print(row)"
   ]
  },
  {
   "cell_type": "markdown",
   "id": "7c506605",
   "metadata": {},
   "source": [
    "#### Section 3.1.4"
   ]
  },
  {
   "cell_type": "markdown",
   "id": "9ae01ecf",
   "metadata": {},
   "source": [
    "Listing 3.1"
   ]
  },
  {
   "cell_type": "code",
   "execution_count": 15,
   "id": "019a0ef5",
   "metadata": {},
   "outputs": [],
   "source": [
    "def init_state():\n",
    "    state = [0 for _ in range(2)] # <1>\n",
    "    state[0] = 1 # <2>\n",
    "    return state"
   ]
  },
  {
   "cell_type": "code",
   "execution_count": 16,
   "id": "b4f2c628",
   "metadata": {},
   "outputs": [
    {
     "data": {
      "text/plain": [
       "[1, 0]"
      ]
     },
     "execution_count": 16,
     "metadata": {},
     "output_type": "execute_result"
    }
   ],
   "source": [
    "state = init_state()\n",
    "state"
   ]
  },
  {
   "cell_type": "markdown",
   "id": "64295498",
   "metadata": {},
   "source": [
    "Listing 3.2"
   ]
  },
  {
   "cell_type": "code",
   "execution_count": 17,
   "id": "fddf2c22",
   "metadata": {},
   "outputs": [],
   "source": [
    "from util import is_close\n",
    "\n",
    "def prepare_state(*a):\n",
    "    state = [a[k] for k in range(len(a))] # <1>\n",
    "    assert(len(state) == 2) # <2>\n",
    "    assert(is_close(sum([abs(state[k])**2 for k in range(len(state))]), 1)) # <3>\n",
    "    return state"
   ]
  },
  {
   "cell_type": "code",
   "execution_count": 18,
   "id": "f28a6603",
   "metadata": {},
   "outputs": [],
   "source": [
    "list = [0.2958+0.51235j, -0.40311+0.69821j]\n",
    "state = prepare_state(*list)"
   ]
  },
  {
   "cell_type": "markdown",
   "id": "78a5c283",
   "metadata": {},
   "source": [
    "## Section 3.2"
   ]
  },
  {
   "cell_type": "markdown",
   "id": "3248f51d",
   "metadata": {},
   "source": [
    "#### Section 3.2.1"
   ]
  },
  {
   "cell_type": "markdown",
   "id": "0c3a126a",
   "metadata": {},
   "source": [
    "Listing 3.3"
   ]
  },
  {
   "cell_type": "code",
   "execution_count": 19,
   "id": "46c336aa",
   "metadata": {},
   "outputs": [],
   "source": [
    "def cis(theta):\n",
    "    return cos(theta) + 1j*sin(theta)"
   ]
  },
  {
   "cell_type": "markdown",
   "id": "032ed818",
   "metadata": {},
   "source": [
    "#### Section 3.2.2"
   ]
  },
  {
   "cell_type": "code",
   "execution_count": 20,
   "id": "4fc163451e5bf91a",
   "metadata": {},
   "outputs": [],
   "source": [
    "state = [state[1], state[0]]"
   ]
  },
  {
   "cell_type": "code",
   "execution_count": 21,
   "id": "9d787676b96b7c1c",
   "metadata": {},
   "outputs": [],
   "source": [
    "state = [state[0], -state[1]]"
   ]
  },
  {
   "cell_type": "code",
   "execution_count": 22,
   "id": "282317df",
   "metadata": {},
   "outputs": [],
   "source": [
    "phi = pi/6\n",
    "state = [state[0], cis(phi)*state[1]] # <1>"
   ]
  },
  {
   "cell_type": "code",
   "execution_count": 23,
   "id": "2abc3495",
   "metadata": {},
   "outputs": [],
   "source": [
    "state = [sqrt(0.5)*(state[0] + state[1]), sqrt(0.5)*(state[0] -state[1])]"
   ]
  },
  {
   "cell_type": "code",
   "execution_count": 24,
   "id": "8bb6776c",
   "metadata": {},
   "outputs": [],
   "source": [
    "theta = pi/3\n",
    "state = [cis(-theta/2)*state[0], cis(theta/2)*state[1]]"
   ]
  },
  {
   "cell_type": "code",
   "execution_count": 25,
   "id": "9a23b5d5",
   "metadata": {},
   "outputs": [],
   "source": [
    "state = [-1j*state[1], 1j*state[0]]"
   ]
  },
  {
   "cell_type": "markdown",
   "id": "fc7eb933",
   "metadata": {},
   "source": [
    "#### Section 3.2.3"
   ]
  },
  {
   "cell_type": "code",
   "execution_count": 26,
   "id": "a1824463",
   "metadata": {},
   "outputs": [],
   "source": [
    "(a, b, c, d) = (1/sqrt(2), 1/sqrt(2), 1/sqrt(2), -1/sqrt(2))\n",
    "state = [a*state[0] + b*state[1], c*state[0] + d*state[1]]"
   ]
  },
  {
   "cell_type": "markdown",
   "id": "3fc2a2b9",
   "metadata": {},
   "source": [
    "#### Section 3.2.6"
   ]
  },
  {
   "cell_type": "code",
   "execution_count": 27,
   "id": "f455f5b0",
   "metadata": {},
   "outputs": [
    {
     "data": {
      "text/plain": [
       "[0, 1]"
      ]
     },
     "execution_count": 27,
     "metadata": {},
     "output_type": "execute_result"
    }
   ],
   "source": [
    "state = init_state() # <1>\n",
    "state\n",
    "state = [state[1], state[0]] # <2>\n",
    "state"
   ]
  },
  {
   "cell_type": "code",
   "execution_count": 28,
   "id": "25775758",
   "metadata": {},
   "outputs": [
    {
     "data": {
      "text/plain": [
       "[1, 0]"
      ]
     },
     "execution_count": 28,
     "metadata": {},
     "output_type": "execute_result"
    }
   ],
   "source": [
    "state = [state[1], state[0]]\n",
    "state"
   ]
  },
  {
   "cell_type": "markdown",
   "id": "d6687900",
   "metadata": {},
   "source": [
    "#### Section 3.2.7"
   ]
  },
  {
   "cell_type": "code",
   "execution_count": 29,
   "id": "a45dd448",
   "metadata": {},
   "outputs": [
    {
     "data": {
      "text/plain": [
       "[(0.2958+0.51235j), (0.40311-0.69821j)]"
      ]
     },
     "execution_count": 29,
     "metadata": {},
     "output_type": "execute_result"
    }
   ],
   "source": [
    "state = [0.2958+0.51235j, -0.40311+0.69821j]\n",
    "state = [state[0], -state[1]]\n",
    "state"
   ]
  },
  {
   "cell_type": "code",
   "execution_count": 30,
   "id": "473e0d1c",
   "metadata": {},
   "outputs": [
    {
     "data": {
      "text/plain": [
       "[(0.2958+0.51235j), (0.4031099999999999-0.69821j)]"
      ]
     },
     "execution_count": 30,
     "metadata": {},
     "output_type": "execute_result"
    }
   ],
   "source": [
    "state = [0.2958+0.51235j, -0.40311+0.69821j]\n",
    "state = [state[0], cis(pi)*state[1]]\n",
    "state"
   ]
  },
  {
   "cell_type": "code",
   "execution_count": 31,
   "id": "826ae12e",
   "metadata": {},
   "outputs": [
    {
     "data": {
      "text/plain": [
       "[(-0.40311+0.69821j), (0.2958+0.51235j)]"
      ]
     },
     "execution_count": 31,
     "metadata": {},
     "output_type": "execute_result"
    }
   ],
   "source": [
    "state = [0.2958+0.51235j, -0.40311+0.69821j]\n",
    "state = [state[1], state[0]]\n",
    "state"
   ]
  },
  {
   "cell_type": "code",
   "execution_count": 32,
   "id": "1b10c923",
   "metadata": {},
   "outputs": [
    {
     "data": {
      "text/plain": [
       "[(-0.4031100000000001+0.6982100000000001j), (0.2958+0.5123500000000001j)]"
      ]
     },
     "execution_count": 32,
     "metadata": {},
     "output_type": "execute_result"
    }
   ],
   "source": [
    "state = [0.2958+0.51235j, -0.40311+0.69821j]\n",
    "state = [sqrt(0.5)*(state[0]+state[1]), sqrt(0.5)*(state[0]-state[1])]\n",
    "state = [state[0], -state[1]]\n",
    "state = [sqrt(0.5)*(state[0]+state[1]), sqrt(0.5)*(state[0]-state[1])]\n",
    "state"
   ]
  },
  {
   "cell_type": "markdown",
   "id": "eded303c",
   "metadata": {},
   "source": [
    "## Section 3.3"
   ]
  },
  {
   "cell_type": "markdown",
   "id": "91e9d6d4",
   "metadata": {},
   "source": [
    "#### Section 3.3.1"
   ]
  },
  {
   "cell_type": "markdown",
   "id": "f225faf0",
   "metadata": {},
   "source": [
    "Listing 3.4"
   ]
  },
  {
   "cell_type": "code",
   "execution_count": 33,
   "id": "491682c0",
   "metadata": {},
   "outputs": [],
   "source": [
    "from math import atan2, pi\n",
    "\n",
    "def to_table(s, decimals=5):\n",
    "    table = [\n",
    "        [k, s[k], atan2(s[k].imag, s[k].real) / (2 * pi) * 360, abs(s[k]),\n",
    "         abs(s[k]) ** 2] for k in range(len(s))] # <1>\n",
    "\n",
    "    table_r = [[round(x, decimals) if isinstance(x, float) else round(\n",
    "        x.real) + 1j * round(x.imag, decimals) if isinstance(x,complex) else\n",
    "    x for x in table[k]] for k in range(len(table))] # <2>\n",
    "\n",
    "    return table_r\n",
    "\n",
    "def print_state(state, decimals=5): # <3>\n",
    "    print(*to_table(state, decimals),sep='\\n')"
   ]
  },
  {
   "cell_type": "code",
   "execution_count": 34,
   "id": "dfc938e9",
   "metadata": {},
   "outputs": [
    {
     "name": "stdout",
     "output_type": "stream",
     "text": [
      "[0, 1, 0.0, 1, 1]\n",
      "[1, 0, 0.0, 0, 0]\n"
     ]
    }
   ],
   "source": [
    "state = init_state()\n",
    "print_state(state)"
   ]
  },
  {
   "cell_type": "markdown",
   "id": "20695dfa",
   "metadata": {},
   "source": [
    "#### Section 3.3.2"
   ]
  },
  {
   "cell_type": "code",
   "execution_count": 35,
   "id": "b253ef73",
   "metadata": {},
   "outputs": [],
   "source": [
    "gate = [[a, b], [c, d]]"
   ]
  },
  {
   "cell_type": "code",
   "execution_count": 36,
   "id": "ef8d6979",
   "metadata": {},
   "outputs": [],
   "source": [
    "from math import cos, sin, sqrt\n",
    "\n",
    "x = [[0, 1], [1, 0]]\n",
    "\n",
    "z = [[1, 0], [0, -1]]\n",
    "\n",
    "def phase(theta):\n",
    "    return [[1, 0], [0, complex(cos(theta), sin(theta))]]\n",
    "\n",
    "h = [[1/sqrt(2), 1/sqrt(2)], [1/sqrt(2), -1/sqrt(2)]]\n",
    "\n",
    "def rz(theta):\n",
    "    return [[complex(cos(theta / 2), -sin(theta / 2)), 0],\n",
    "            [0, complex(cos(theta / 2), sin(theta / 2))]]\n",
    "\n",
    "y = [[0, complex(0, -1)], [complex(0, 1), 0]]\n",
    "\n",
    "def rx(theta):\n",
    "    return [[cos(theta/2), complex(0, -sin(theta/2))],\n",
    "            [complex(0, -sin(theta/2)), cos(theta/2)]]\n",
    "\n",
    "def ry(theta):\n",
    "    return [[cos(theta/2), -sin(theta/2)], [sin(theta/2), cos(theta/2)]]"
   ]
  },
  {
   "cell_type": "code",
   "execution_count": 37,
   "id": "56abf2be",
   "metadata": {},
   "outputs": [
    {
     "data": {
      "text/plain": [
       "0.7071067811865475"
      ]
     },
     "execution_count": 37,
     "metadata": {},
     "output_type": "execute_result"
    }
   ],
   "source": [
    "gate[0][0]*state[0] + gate[0][1]*state[1]"
   ]
  },
  {
   "cell_type": "code",
   "execution_count": 38,
   "id": "0312bcc6",
   "metadata": {},
   "outputs": [
    {
     "data": {
      "text/plain": [
       "0.7071067811865475"
      ]
     },
     "execution_count": 38,
     "metadata": {},
     "output_type": "execute_result"
    }
   ],
   "source": [
    "gate[1][0]*state[0] + gate[1][1]*state[1]"
   ]
  },
  {
   "cell_type": "markdown",
   "id": "62e3c6cd",
   "metadata": {},
   "source": [
    "Listing 3.6"
   ]
  },
  {
   "cell_type": "code",
   "execution_count": 39,
   "id": "32ea5e68",
   "metadata": {},
   "outputs": [],
   "source": [
    "def transform(state, gate):\n",
    "    assert(len(state) == 2) # <1>\n",
    "    z0 = state[0]\n",
    "    z1 = state[1]\n",
    "    state[0] = gate[0][0]*z0 + gate[0][1]*z1 # <2>\n",
    "    state[1] = gate[1][0]*z0 + gate[1][1]*z1 # <3>"
   ]
  },
  {
   "cell_type": "markdown",
   "id": "fed52cd6",
   "metadata": {},
   "source": [
    "#### Section 3.3.3"
   ]
  },
  {
   "cell_type": "code",
   "execution_count": 40,
   "id": "a37a5517",
   "metadata": {},
   "outputs": [],
   "source": [
    "s = init_state()\n",
    "transform(s, ry(2*pi/3))\n",
    "transform(s, x)\n",
    "transform(s, phase(pi/3))\n",
    "transform(s, h)"
   ]
  },
  {
   "cell_type": "code",
   "execution_count": 41,
   "id": "51de6638",
   "metadata": {},
   "outputs": [
    {
     "name": "stdout",
     "output_type": "stream",
     "text": [
      "[0, (1+0.30619j), 21.20602, 0.84647, 0.71651]\n",
      "[1, -0.30619j, -35.10391, 0.53244, 0.28349]\n"
     ]
    }
   ],
   "source": [
    "print_state(s)"
   ]
  },
  {
   "cell_type": "markdown",
   "id": "0c695a62",
   "metadata": {},
   "source": [
    "## Section 3.4"
   ]
  },
  {
   "cell_type": "code",
   "execution_count": 42,
   "id": "be8ca1a7",
   "metadata": {},
   "outputs": [
    {
     "name": "stdout",
     "output_type": "stream",
     "text": [
      "[1, 0, 0, 1, 1, 0, 0, 1, 1, 1]\n",
      "1 -> 6\n",
      "0 -> 4\n"
     ]
    }
   ],
   "source": [
    "from random import choices\n",
    "from collections import Counter\n",
    "samples = choices(range(len(s)), [abs(s[k])**2 for k in range(len(s))], k=10) # <1>\n",
    "print(samples)\n",
    "for (k, v) in Counter(samples).items():\n",
    "    print(str(k) + ' -> ' + str(v))"
   ]
  },
  {
   "cell_type": "code",
   "execution_count": 43,
   "id": "e35bd43f",
   "metadata": {},
   "outputs": [
    {
     "name": "stdout",
     "output_type": "stream",
     "text": [
      "0 -> 701\n",
      "1 -> 299\n"
     ]
    }
   ],
   "source": [
    "samples = choices(range(len(s)), [abs(s[k])**2 for k in range(len(s))], k=1000)\n",
    "for (k, v) in Counter(samples).items():\n",
    "    print(str(k) + ' -> ' + str(v))"
   ]
  },
  {
   "cell_type": "markdown",
   "id": "d743fbab",
   "metadata": {},
   "source": [
    "#### Section 3.4.1"
   ]
  },
  {
   "cell_type": "code",
   "execution_count": 44,
   "id": "6de647d9",
   "metadata": {},
   "outputs": [
    {
     "data": {
      "text/plain": [
       "[0.7071067811865475, 0.7071067811865475]"
      ]
     },
     "execution_count": 44,
     "metadata": {},
     "output_type": "execute_result"
    }
   ],
   "source": [
    "state = init_state()\n",
    "transform(state, h)\n",
    "state"
   ]
  },
  {
   "cell_type": "code",
   "execution_count": 45,
   "id": "4b859ee9",
   "metadata": {},
   "outputs": [
    {
     "name": "stdout",
     "output_type": "stream",
     "text": [
      "[0, 0.70711, 0.0, 0.70711, 0.5]\n",
      "[1, 0.70711, 0.0, 0.70711, 0.5]\n"
     ]
    }
   ],
   "source": [
    "print_state(state)"
   ]
  },
  {
   "cell_type": "code",
   "execution_count": 46,
   "id": "a85c8a60",
   "metadata": {},
   "outputs": [
    {
     "name": "stdout",
     "output_type": "stream",
     "text": [
      "[0, 1, 0, 0, 0, 0, 1, 0, 0, 0]\n",
      "0 -> 8\n",
      "1 -> 2\n"
     ]
    }
   ],
   "source": [
    "samples = choices(range(len(state)), [abs(state[k])**2 for k in range(len(state))], k=10)\n",
    "print(samples)\n",
    "for (k, v) in Counter(samples).items():\n",
    "    print(str(k) + ' -> ' + str(v))"
   ]
  },
  {
   "cell_type": "markdown",
   "id": "93cb317b",
   "metadata": {},
   "source": [
    "## Section 3.5"
   ]
  },
  {
   "cell_type": "markdown",
   "id": "32c6600e",
   "metadata": {},
   "source": [
    "#### Section 3.5.1"
   ]
  },
  {
   "cell_type": "code",
   "execution_count": 47,
   "id": "758a2ac4",
   "metadata": {},
   "outputs": [
    {
     "name": "stdout",
     "output_type": "stream",
     "text": [
      "[0, 0.83666, 0.0, 0.83666, 0.7]\n",
      "[1, 0.54772, 0.0, 0.54772, 0.3]\n"
     ]
    }
   ],
   "source": [
    "from math import acos\n",
    "p = 0.7\n",
    "theta = 2*acos(sqrt(p)) # <1>\n",
    "s = init_state()\n",
    "transform(s, ry(theta)) # <2>\n",
    "print_state(s)"
   ]
  },
  {
   "cell_type": "markdown",
   "id": "3f445cad",
   "metadata": {},
   "source": [
    "#### Section 3.5.2"
   ]
  },
  {
   "cell_type": "code",
   "execution_count": 48,
   "id": "ac24af08",
   "metadata": {},
   "outputs": [
    {
     "name": "stdout",
     "output_type": "stream",
     "text": [
      "0.27350000000000013\n",
      "[0, 0.52297, 0.0, 0.52297, 0.2735]\n",
      "[1, 0.85235, 0.0, 0.85235, 0.7265]\n"
     ]
    }
   ],
   "source": [
    "x = 273.5\n",
    "theta = 2*acos(sqrt(x/1000)) # <1>\n",
    "print(cos(theta/2)**2) # <2>\n",
    "state = init_state()\n",
    "transform(state, ry(theta)) # <3>\n",
    "print_state(state)"
   ]
  },
  {
   "cell_type": "code",
   "execution_count": 49,
   "id": "d60316ee",
   "metadata": {},
   "outputs": [
    {
     "name": "stdout",
     "output_type": "stream",
     "text": [
      "[0, 0.2735, 0.0, 0.2735, 0.0748]\n",
      "[1, 0.96187, 0.0, 0.96187, 0.9252]\n"
     ]
    }
   ],
   "source": [
    "x = 273.5\n",
    "theta = 2*acos(x/1000) # <1>\n",
    "assert is_close(cos(theta/2), x/1000) # <2>\n",
    "state = init_state()\n",
    "transform(state, ry(theta)) # <3>\n",
    "print_state(state)"
   ]
  },
  {
   "cell_type": "code",
   "execution_count": 50,
   "id": "194f6d38",
   "metadata": {},
   "outputs": [
    {
     "name": "stdout",
     "output_type": "stream",
     "text": [
      "0.2735\n",
      "[0, 0.70711, 0.0, 0.70711, 0.5]\n",
      "[1, 0.53552j, 49.23, 0.70711, 0.5]\n"
     ]
    }
   ],
   "source": [
    "x = 273.5\n",
    "theta = pi*x/1000 # <1>\n",
    "print(round(theta/pi, 5))\n",
    "state = init_state()\n",
    "transform(state, h) # <2>\n",
    "transform(state, phase(theta)) # <3>\n",
    "print_state(state)"
   ]
  },
  {
   "cell_type": "code",
   "execution_count": 51,
   "id": "a5b06a07",
   "metadata": {},
   "outputs": [
    {
     "data": {
      "text/plain": [
       "273.5"
      ]
     },
     "execution_count": 51,
     "metadata": {},
     "output_type": "execute_result"
    }
   ],
   "source": [
    "direction_1 = atan2(state[1].imag, state[1].real) # <1>\n",
    "round(direction_1/pi*1000, 1) # <2>"
   ]
  }
 ],
 "metadata": {
  "kernelspec": {
   "display_name": "Python 3 (ipykernel)",
   "language": "python",
   "name": "python3"
  },
  "language_info": {
   "codemirror_mode": {
    "name": "ipython",
    "version": 3
   },
   "file_extension": ".py",
   "mimetype": "text/x-python",
   "name": "python",
   "nbconvert_exporter": "python",
   "pygments_lexer": "ipython3",
   "version": "3.9.13"
  }
 },
 "nbformat": 4,
 "nbformat_minor": 5
}
