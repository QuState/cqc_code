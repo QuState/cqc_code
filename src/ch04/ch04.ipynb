{
 "cells": [
  {
   "cell_type": "code",
   "execution_count": null,
   "id": "32d61e67",
   "metadata": {},
   "outputs": [],
   "source": [
    "import os\n",
    "os.chdir('..')"
   ]
  },
  {
   "cell_type": "markdown",
   "id": "0b9f250b",
   "metadata": {},
   "source": [
    "## Section 4.2"
   ]
  },
  {
   "cell_type": "markdown",
   "id": "5852c908",
   "metadata": {},
   "source": [
    "#### Section 4.2.1"
   ]
  },
  {
   "cell_type": "code",
   "execution_count": null,
   "id": "98e6fc81",
   "metadata": {},
   "outputs": [],
   "source": [
    "from math import sqrt, cos, sin\n",
    "\n",
    "[p0, p1, p2, p3] = [1, 0, 0, 0]\n",
    "[theta0, theta1, theta2, theta3] = [0, 0, 0, 0]\n",
    "\n",
    "state = [sqrt(p0) * (cos(theta0) + 1j * sin(theta0)),\n",
    "         sqrt(p1) * (cos(theta1) + 1j * sin(theta1)),\n",
    "         sqrt(p2) * (cos(theta2) + 1j * sin(theta2)),\n",
    "         sqrt(p3) * (cos(theta3) + 1j * sin(theta3))]"
   ]
  },
  {
   "cell_type": "code",
   "execution_count": null,
   "id": "ed2762ec",
   "metadata": {},
   "outputs": [],
   "source": [
    "import random\n",
    "from math import pi\n",
    "\n",
    "random.seed(123456789) # <1>\n",
    "\n",
    "probs = [random.random() for _ in range(4)] # <2>\n",
    "total = sum(probs)\n",
    "probs = [p/total for p in probs] # <3>\n",
    "\n",
    "angles = [random.uniform(0, 2*pi) for _ in range(4)] # <4>\n",
    "\n",
    "state = [sqrt(p)*(cos(a) + 1j*sin(a)) for (p, a) in zip(probs, angles)] # <5>"
   ]
  },
  {
   "cell_type": "code",
   "execution_count": null,
   "id": "ca0d5892",
   "metadata": {},
   "outputs": [],
   "source": [
    "def cis(theta):\n",
    "    return cos(theta) + 1j*sin(theta)"
   ]
  },
  {
   "cell_type": "code",
   "execution_count": null,
   "id": "cb957766",
   "metadata": {},
   "outputs": [],
   "source": [
    "p = 0.75\n",
    "theta0 = 0\n",
    "theta1 = 60/(180/pi) # <1>\n",
    "first_state = [sqrt(p)*cis(theta0), sqrt(1-p)*cis(theta1)]\n",
    "[round(amp.real, 5)+1j*round(amp.imag, 5) for amp in first_state]"
   ]
  },
  {
   "cell_type": "code",
   "execution_count": null,
   "id": "21097c7f",
   "metadata": {},
   "outputs": [],
   "source": [
    "q = 0.5\n",
    "phi0 = 0\n",
    "phi1 = -120/(180/pi)\n",
    "second_state = [sqrt(q)*cis(phi0), sqrt(1-q)*cis(phi1)]\n",
    "[round(amp.real, 5)+1j*round(amp.imag, 5) for amp in second_state]\n",
    "[(0.70711+0j), (-0.35355-0.61237j)]"
   ]
  },
  {
   "cell_type": "code",
   "execution_count": null,
   "id": "58b2cb87",
   "metadata": {},
   "outputs": [],
   "source": [
    "new_state = [sqrt(p*q)*cis(theta0 + phi0),\n",
    "                sqrt(p*(1-q))*cis(theta0 + phi1),\n",
    "                sqrt((1-p)*q)*cis(theta1 + phi0),\n",
    "                sqrt((1-p)*(1-q))*cis(theta1 + phi1)]"
   ]
  },
  {
   "cell_type": "code",
   "execution_count": null,
   "id": "e7ccb39e",
   "metadata": {},
   "outputs": [],
   "source": [
    "new_state = [first_state[0]*second_state[0], first_state[0]*second_state[1],\n",
    "             first_state[1]*second_state[0], first_state[1]*second_state[1]]\n",
    "[round(amp.real, 5)+1j*round(amp.imag, 5) for amp in new_state]"
   ]
  },
  {
   "cell_type": "code",
   "execution_count": null,
   "id": "bd2c1ef1",
   "metadata": {},
   "outputs": [],
   "source": [
    "new_state = [sqrt(p*q)*cis(theta0 + phi0), sqrt(p*(1-q))*cis(theta0 + phi1),\n",
    "            sqrt((1-p)*q)*cis(theta1 + phi0), sqrt((1-p)*(1-q))*cis(theta1 + phi1)]\n",
    "[round(amp.real, 5)+1j*round(amp.imag, 5) for amp in new_state]"
   ]
  },
  {
   "cell_type": "code",
   "execution_count": null,
   "id": "9bf57bb2",
   "metadata": {},
   "outputs": [],
   "source": [
    "bell_state1 = [sqrt(0.5), 0.0, 0.0, sqrt(0.5)]\n",
    "\n",
    "bell_state2 = [sqrt(0.5), 0.0, 0.0, -sqrt(0.5)]"
   ]
  },
  {
   "cell_type": "code",
   "execution_count": null,
   "id": "f1570190",
   "metadata": {},
   "outputs": [],
   "source": [
    "bell_state3 = [0.0, sqrt(0.5), sqrt(0.5), 0.0]\n",
    "\n",
    "bell_state4 = [0.0, sqrt(0.5), -sqrt(0.5), 0.0]"
   ]
  },
  {
   "cell_type": "markdown",
   "id": "9f9b7bac",
   "metadata": {},
   "source": [
    "#### Section 4.2.2"
   ]
  },
  {
   "cell_type": "code",
   "execution_count": null,
   "id": "f6ad9000",
   "metadata": {},
   "outputs": [],
   "source": [
    "state_list = [(0.09858+0.03637j), (0.07478+0.06912j), (0.04852+0.10526j),\n",
    "         (0.00641+0.16322j), (-0.12895+0.34953j), (0.58403-0.6318j),\n",
    "         (0.18795-0.08665j), (0.12867-0.00506j)]"
   ]
  },
  {
   "cell_type": "markdown",
   "id": "522cb589",
   "metadata": {},
   "source": [
    "Listing 4.1"
   ]
  },
  {
   "cell_type": "code",
   "execution_count": null,
   "id": "6433a976",
   "metadata": {},
   "outputs": [],
   "source": [
    "from math import log2, ceil, floor\n",
    "from util import is_close\n",
    "\n",
    "def is_power_of_two(m):\n",
    "    return ceil(log2(m)) == floor(log2(m))\n",
    "\n",
    "def prepare_state(*a):\n",
    "    state = [a[k] for k in range(len(a))]\n",
    "    assert (is_power_of_two(len(state)))  # <1>\n",
    "    assert (is_close(sum([abs(state[k]) ** 2 for k in range(len(state))]), 1.0))  # <2>\n",
    "    return state  # <3>"
   ]
  },
  {
   "cell_type": "code",
   "execution_count": null,
   "id": "727a56d7",
   "metadata": {},
   "outputs": [],
   "source": [
    "state = prepare_state(*state_list)"
   ]
  },
  {
   "cell_type": "code",
   "execution_count": null,
   "id": "981fc995",
   "metadata": {},
   "outputs": [],
   "source": [
    "[[k, state[k]] for k in range(len(state))]"
   ]
  },
  {
   "cell_type": "code",
   "execution_count": null,
   "id": "29eb1ae6",
   "metadata": {},
   "outputs": [],
   "source": [
    "from math import atan2\n",
    "\n",
    "table1 = [\n",
    "    [k, round(atan2(state[k].imag, state[k].real) / (2 * pi) * 360, 5),\n",
    "     round(abs(state[k]) ** 2, 5)] for k in range(len(state))]\n",
    "for row in table1:\n",
    "    print(row)"
   ]
  },
  {
   "cell_type": "code",
   "execution_count": null,
   "id": "f9b7a408",
   "metadata": {},
   "outputs": [],
   "source": [
    "expanded_table = [[k, state[k], round(\n",
    "    atan2(state[k].imag, state[k].real) / (2 * pi) * 360, 5),\n",
    "                   round(abs(state[k]), 5), round(abs(state[k]) ** 2, 5)]\n",
    "                  for k in range(len(state))]\n",
    "for row in expanded_table:\n",
    "    print(row)"
   ]
  },
  {
   "cell_type": "code",
   "execution_count": null,
   "id": "77bdc2f5",
   "metadata": {},
   "outputs": [],
   "source": [
    "table2 = [[row[0], (\n",
    "            round(sqrt(row[2]) * cos(row[1] / (180 / pi)), 5) + round(\n",
    "        sqrt(row[2]) * sin(row[1] / (180 / pi)), 5) * 1j)] for row in\n",
    "          table1]\n",
    "for row in table2:\n",
    "    print(row)"
   ]
  },
  {
   "cell_type": "markdown",
   "id": "60e48f73",
   "metadata": {},
   "source": [
    "#### Section 4.2.3"
   ]
  },
  {
   "cell_type": "markdown",
   "id": "0979f5b2",
   "metadata": {},
   "source": [
    "Listing 4.2"
   ]
  },
  {
   "cell_type": "code",
   "execution_count": null,
   "id": "c8918a10",
   "metadata": {},
   "outputs": [],
   "source": [
    "def init_state(n):\n",
    "    state = [0 for _ in range(2 ** n)] # <1>\n",
    "    state[0] = 1 # <2>\n",
    "    return state"
   ]
  },
  {
   "cell_type": "code",
   "execution_count": null,
   "id": "2c4b2a0d",
   "metadata": {},
   "outputs": [],
   "source": [
    "state = init_state(2)\n",
    "state"
   ]
  },
  {
   "cell_type": "markdown",
   "id": "be93c3c9",
   "metadata": {},
   "source": [
    "## Section 4.3"
   ]
  },
  {
   "cell_type": "markdown",
   "id": "7ee23908",
   "metadata": {},
   "source": [
    "#### Section 4.3.2"
   ]
  },
  {
   "cell_type": "markdown",
   "id": "006cb0c4",
   "metadata": {},
   "source": [
    "Listing 4.3"
   ]
  },
  {
   "cell_type": "code",
   "execution_count": null,
   "id": "1b86a98a",
   "metadata": {},
   "outputs": [],
   "source": [
    "def is_bit_set(m, k):\n",
    "    return m & (1 << k)\n",
    "\n",
    "def pair_generator_check_digit(n, t):\n",
    "    distance = int(2 ** t) # <1>\n",
    "\n",
    "    for k0 in range(2**n): # <2>\n",
    "        if not is_bit_set(k0, t): # <3>\n",
    "            k1 = k0 + distance # <4>\n",
    "            yield k0, k1"
   ]
  },
  {
   "cell_type": "code",
   "execution_count": null,
   "id": "07907ce8",
   "metadata": {},
   "outputs": [],
   "source": [
    "for (k0, k1) in pair_generator_check_digit(3, 0):\n",
    "    print(k0, k1)"
   ]
  },
  {
   "cell_type": "markdown",
   "id": "39ea6cb3",
   "metadata": {},
   "source": [
    "Listing 4.4"
   ]
  },
  {
   "cell_type": "code",
   "execution_count": null,
   "id": "988535b2",
   "metadata": {},
   "outputs": [],
   "source": [
    "def pair_generator_pattern(n, t):\n",
    "    distance = int(2 ** t) # <1>\n",
    "\n",
    "    for j in range(2**(n-t-1)):\n",
    "        for k0 in range(2*j*distance, (2*j+1)*distance): # <2>\n",
    "            k1 = k0 + distance # <3>\n",
    "            yield k0, k1"
   ]
  },
  {
   "cell_type": "code",
   "execution_count": null,
   "id": "bc6f4797",
   "metadata": {},
   "outputs": [],
   "source": [
    "for (k0, k1) in pair_generator_pattern(3, 0):\n",
    "    print(k0, k1)"
   ]
  },
  {
   "cell_type": "markdown",
   "id": "34a97715",
   "metadata": {},
   "source": [
    "Listing 4.5"
   ]
  },
  {
   "cell_type": "code",
   "execution_count": null,
   "id": "ee285814",
   "metadata": {},
   "outputs": [],
   "source": [
    "def pair_generator_concatenate(n, t):\n",
    "    distance = int(2 ** t) # <1>\n",
    "    suffix_count = int(2 ** t) # <2>\n",
    "    prefix_count = int(2 ** (n - t - 1)) # <2>\n",
    "\n",
    "    for p in range(prefix_count): # <3>\n",
    "        for s in range(suffix_count):\n",
    "            k0 = p * suffix_count*2 + s\n",
    "            k1 = k0 + distance\n",
    "            yield k0, k1"
   ]
  },
  {
   "cell_type": "code",
   "execution_count": null,
   "id": "0861b619",
   "metadata": {},
   "outputs": [],
   "source": [
    "for (k0, k1) in pair_generator_concatenate(4, 1):\n",
    "    print(k0, k1)"
   ]
  },
  {
   "cell_type": "markdown",
   "id": "f4a59677",
   "metadata": {},
   "source": [
    "#### Section 4.3.3"
   ]
  },
  {
   "cell_type": "markdown",
   "id": "1e85b5b1",
   "metadata": {},
   "source": [
    "Listing 4.6"
   ]
  },
  {
   "cell_type": "code",
   "execution_count": null,
   "id": "531b3aa9",
   "metadata": {},
   "outputs": [],
   "source": [
    "def process_pair(state, gate, k0, k1):\n",
    "    x = state[k0] # <1>\n",
    "    y = state[k1] # <1>\n",
    "    state[k0] = x * gate[0][0] + y * gate[0][1] # <2>\n",
    "    state[k1] = x * gate[1][0] + y * gate[1][1] # <2>\n",
    "\n",
    "def transform(state, t, gate):\n",
    "    n = int(log2(len(state))) # <3>\n",
    "    for (k0, k1) in pair_generator(n, t): # <4>\n",
    "        process_pair(state, gate, k0, k1) # <5>"
   ]
  },
  {
   "cell_type": "code",
   "execution_count": null,
   "id": "f1b8d543",
   "metadata": {},
   "outputs": [],
   "source": [
    "pair_generator = pair_generator_concatenate"
   ]
  },
  {
   "cell_type": "code",
   "execution_count": null,
   "id": "87dfee49",
   "metadata": {},
   "outputs": [],
   "source": [
    "state = [(0.09858+0.03637j), (0.07478+0.06912j), (0.04852+0.10526j),\n",
    "         (0.00641+0.16322j), (-0.12895+0.34953j), (0.58403-0.6318j),\n",
    "         (0.18795-0.08665j), (0.12867-0.00506j)]"
   ]
  },
  {
   "cell_type": "code",
   "execution_count": null,
   "id": "8bf2c062",
   "metadata": {},
   "outputs": [],
   "source": [
    "from sim_gates import *\n",
    "\n",
    "transform(state, 0, x)\n",
    "state"
   ]
  },
  {
   "cell_type": "markdown",
   "id": "8b47a7e1",
   "metadata": {},
   "source": [
    "#### Section 4.3.4"
   ]
  },
  {
   "cell_type": "code",
   "execution_count": null,
   "id": "1ee1eec0",
   "metadata": {},
   "outputs": [],
   "source": [
    "state = init_state(3)"
   ]
  },
  {
   "cell_type": "code",
   "execution_count": null,
   "id": "f13f1e04",
   "metadata": {},
   "outputs": [],
   "source": [
    "state"
   ]
  },
  {
   "cell_type": "code",
   "execution_count": null,
   "id": "86a96993",
   "metadata": {},
   "outputs": [],
   "source": [
    "transform(state, 0, h)\n",
    "state"
   ]
  },
  {
   "cell_type": "code",
   "execution_count": null,
   "id": "2ea6d0e4",
   "metadata": {},
   "outputs": [],
   "source": [
    "state = init_state(3)\n",
    "transform(state, 1, h)\n",
    "state"
   ]
  },
  {
   "cell_type": "code",
   "execution_count": null,
   "id": "bf890817",
   "metadata": {},
   "outputs": [],
   "source": [
    "state = init_state(3)\n",
    "transform(state, 0, h)\n",
    "transform(state, 1, h)\n",
    "transform(state, 2, h)\n",
    "state"
   ]
  },
  {
   "cell_type": "markdown",
   "id": "0d52e5f5",
   "metadata": {},
   "source": [
    "## Section 4.4"
   ]
  },
  {
   "cell_type": "markdown",
   "id": "6bc72916",
   "metadata": {},
   "source": [
    "#### Section 4.4.1"
   ]
  },
  {
   "cell_type": "markdown",
   "id": "912c1d9a",
   "metadata": {},
   "source": [
    "Listing 4.7"
   ]
  },
  {
   "cell_type": "code",
   "execution_count": null,
   "id": "5ddba81a",
   "metadata": {},
   "outputs": [],
   "source": [
    "from math import log2\n",
    "\n",
    "def c_transform(state, c, t, gate): # <1>\n",
    "    n = int(log2(len(state)))\n",
    "    for (k0, k1) in filter(lambda p: is_bit_set(p[0], c), pair_generator(n, t)): # <2>\n",
    "        process_pair(state, gate, k0, k1) # <3>"
   ]
  },
  {
   "cell_type": "code",
   "execution_count": null,
   "id": "d4c28a68",
   "metadata": {},
   "outputs": [],
   "source": [
    "state = [(0.09858+0.03637j), (0.07478+0.06912j), (0.04852+0.10526j),\n",
    "         (0.00641+0.16322j), (-0.12895+0.34953j), (0.58403-0.6318j),\n",
    "         (0.18795-0.08665j), (0.12867-0.00506j)]"
   ]
  },
  {
   "cell_type": "code",
   "execution_count": null,
   "id": "ed6244bc",
   "metadata": {},
   "outputs": [],
   "source": [
    "c_transform(state, 1, 2, x)\n",
    "state"
   ]
  },
  {
   "cell_type": "markdown",
   "id": "68137cb4",
   "metadata": {},
   "source": [
    "#### Section 4.4.2"
   ]
  },
  {
   "cell_type": "markdown",
   "id": "b9822860",
   "metadata": {},
   "source": [
    "Listing 4.8"
   ]
  },
  {
   "cell_type": "code",
   "execution_count": null,
   "id": "6385d0a9",
   "metadata": {},
   "outputs": [],
   "source": [
    "from math import log2\n",
    "\n",
    "def mc_transform(state, cs, t, gate):\n",
    "    assert not t in cs # <1>\n",
    "    n = int(log2(len(state)))\n",
    "    for (k0, k1) in filter(lambda p: all([is_bit_set(p[0], c) for c in cs]), pair_generator(n, t)): # <2>\n",
    "        process_pair(state, gate, k0, k1) # <3>"
   ]
  },
  {
   "cell_type": "code",
   "execution_count": null,
   "id": "93c40050",
   "metadata": {},
   "outputs": [],
   "source": [
    "state = [(0.09858+0.03637j), (0.07478+0.06912j), (0.04852+0.10526j),\n",
    "         (0.00641+0.16322j), (-0.12895+0.34953j), (0.58403-0.6318j),\n",
    "         (0.18795-0.08665j), (0.12867-0.00506j)]"
   ]
  },
  {
   "cell_type": "code",
   "execution_count": null,
   "id": "01846bb9",
   "metadata": {},
   "outputs": [],
   "source": [
    "mc_transform(state, [1, 2], 0, x)\n",
    "state"
   ]
  },
  {
   "cell_type": "markdown",
   "id": "66858552",
   "metadata": {},
   "source": [
    "## Section 4.5"
   ]
  },
  {
   "cell_type": "markdown",
   "id": "e8ec8ad6",
   "metadata": {},
   "source": [
    "#### Section 4.5.1"
   ]
  },
  {
   "cell_type": "markdown",
   "id": "f62d21f3",
   "metadata": {},
   "source": [
    "Listing 4.9"
   ]
  },
  {
   "cell_type": "code",
   "execution_count": null,
   "id": "a4f12cc0",
   "metadata": {},
   "outputs": [],
   "source": [
    "from random import choices\n",
    "from collections import Counter\n",
    "\n",
    "def measure(state, shots):\n",
    "    samples = choices(range(len(state)),\n",
    "                      [abs(state[k]) ** 2 for k in range(len(state))],\n",
    "                      k=shots)\n",
    "    counts = {}\n",
    "    for (k, v) in Counter(samples).items():\n",
    "        counts[k] = v\n",
    "    return counts"
   ]
  },
  {
   "cell_type": "code",
   "execution_count": null,
   "id": "b190aab9",
   "metadata": {},
   "outputs": [],
   "source": [
    "state = [(0.09858+0.03637j), (0.07478+0.06912j), (0.04852+0.10526j),\n",
    "         (0.00641+0.16322j), (-0.12895+0.34953j), (0.58403-0.6318j),\n",
    "         (0.18795-0.08665j), (0.12867-0.00506j)]"
   ]
  },
  {
   "cell_type": "code",
   "execution_count": null,
   "id": "f9971afb",
   "metadata": {},
   "outputs": [],
   "source": [
    "probabilities = [[k, abs(state[k])**2] for k in range(len(state))]\n",
    "for i in probabilities:\n",
    "    print(\"probability of outcome\", i[0], \": \", round(i[1], 3))"
   ]
  },
  {
   "cell_type": "code",
   "execution_count": null,
   "id": "2e8a2633",
   "metadata": {},
   "outputs": [],
   "source": [
    "samples = measure(state, 100)\n",
    "samples"
   ]
  },
  {
   "cell_type": "markdown",
   "id": "a6438c75",
   "metadata": {},
   "source": [
    "#### Section 4.5.2"
   ]
  },
  {
   "cell_type": "markdown",
   "id": "98fd27eb",
   "metadata": {},
   "source": [
    "Listing 4.10"
   ]
  },
  {
   "cell_type": "code",
   "execution_count": null,
   "id": "17642e7e",
   "metadata": {},
   "outputs": [],
   "source": [
    "class QuantumRegister:\n",
    "    def __init__(self, size, shift=0):\n",
    "        self.size = size\n",
    "        self.shift = shift\n",
    "\n",
    "    def __getitem__(self, key):\n",
    "        if isinstance(key, slice):\n",
    "            return [self[ii] for ii in range(*key.indices(len(self)))]\n",
    "        elif isinstance(key, int):\n",
    "            if key < 0:\n",
    "                key += len(self)\n",
    "            assert(0 <= key < self.size)\n",
    "            return self.shift + key\n",
    "\n",
    "    def __len__(self):\n",
    "        return self.size\n",
    "\n",
    "    def __iter__(self):\n",
    "        return list([self.shift + i for i in range(self.size)])\n",
    "\n",
    "    def __reversed__(self):\n",
    "        return list([self.shift + i for i in range(self.size)[::-1]])"
   ]
  },
  {
   "cell_type": "markdown",
   "id": "0ac77484",
   "metadata": {},
   "source": [
    "Listing 4.11"
   ]
  },
  {
   "cell_type": "code",
   "execution_count": null,
   "id": "b359eddc",
   "metadata": {},
   "outputs": [],
   "source": [
    "class QuantumTransformation:\n",
    "    def __init__(self, gate, target, controls=[], name=None, arg=None):\n",
    "        self.gate = gate\n",
    "        self.target= target\n",
    "        self.controls = controls\n",
    "        self.name = name\n",
    "        self.arg = arg"
   ]
  },
  {
   "cell_type": "markdown",
   "id": "80d6c33a",
   "metadata": {},
   "source": [
    "Listing 4.12"
   ]
  },
  {
   "cell_type": "code",
   "execution_count": null,
   "id": "5d76730e",
   "metadata": {},
   "outputs": [],
   "source": [
    "class QuantumCircuit:\n",
    "    def __init__(self, *args):\n",
    "        bits = 0\n",
    "        regs = []\n",
    "        for register in args:\n",
    "            register.shift = bits\n",
    "            bits += register.size\n",
    "            regs.append(register.size)\n",
    "\n",
    "        self.state = init_state(bits)\n",
    "        self.transformations = []\n",
    "        self.regs = regs\n",
    "        self.reports = {}\n",
    "\n",
    "    def initialize(self, state):\n",
    "        self.state = state\n",
    "\n",
    "    def h(self, t):\n",
    "        self.transformations.append(QuantumTransformation(h, t, [], 'h'))\n",
    "\n",
    "    def x(self, t):\n",
    "        self.transformations.append(QuantumTransformation(x, t, [], 'x'))\n",
    "\n",
    "    def cx(self, c, t):\n",
    "        self.transformations.append(QuantumTransformation(x, t, [c], 'cx'))\n",
    "\n",
    "    def mcx(self, cs, t):\n",
    "        self.transformations.append(QuantumTransformation(x, t, cs))\n",
    "\n",
    "    def run(self):\n",
    "        for tr in self.transformations:\n",
    "            cs = tr.controls\n",
    "            if len(cs) == 0:\n",
    "                transform(self.state, tr.target, tr.gate)\n",
    "            elif len(cs) == 1:\n",
    "                c_transform(self.state, cs[0], tr.target, tr.gate)\n",
    "            else:\n",
    "                mc_transform(self.state, cs, tr.target, tr.gate)\n",
    "        self.transformations = []\n",
    "        return self.state\n",
    "\n",
    "    def measure(self, shots):\n",
    "        return measure(self.state, shots)"
   ]
  },
  {
   "cell_type": "code",
   "execution_count": null,
   "id": "25c580a6",
   "metadata": {},
   "outputs": [],
   "source": [
    "q = QuantumRegister(3)\n",
    "qc = QuantumCircuit(q)\n",
    "\n",
    "qc.h(q[0])\n",
    "qc.h(q[1])\n",
    "qc.mcx([q[0], q[1]], q[2])"
   ]
  },
  {
   "cell_type": "code",
   "execution_count": null,
   "id": "8ab1317d",
   "metadata": {},
   "outputs": [],
   "source": [
    "state = qc.run()"
   ]
  },
  {
   "cell_type": "code",
   "execution_count": null,
   "id": "2bbc6cd4",
   "metadata": {},
   "outputs": [],
   "source": [
    "samples = measure(state, 1000)\n",
    "samples"
   ]
  },
  {
   "cell_type": "markdown",
   "id": "3516c8da",
   "metadata": {},
   "source": [
    "#### Section 4.5.3"
   ]
  },
  {
   "cell_type": "code",
   "execution_count": null,
   "id": "bad197c1",
   "metadata": {},
   "outputs": [],
   "source": [
    "q = QuantumRegister(3)\n",
    "qc = QuantumCircuit(q)\n",
    "\n",
    "for i in range(len(q)):\n",
    "    qc.h(q[i])\n",
    "\n",
    "state = qc.run()"
   ]
  },
  {
   "cell_type": "markdown",
   "id": "f30916ad",
   "metadata": {},
   "source": [
    "Listing 4.13"
   ]
  },
  {
   "cell_type": "code",
   "execution_count": null,
   "id": "03b0a7fa",
   "metadata": {},
   "outputs": [],
   "source": [
    "def uniform(n):\n",
    "    q = QuantumRegister(n)\n",
    "    qc = QuantumCircuit(q)\n",
    "\n",
    "    for i in range(len(q)):\n",
    "        qc.h(q[i])\n",
    "\n",
    "    return qc"
   ]
  },
  {
   "cell_type": "markdown",
   "id": "163aca63",
   "metadata": {},
   "source": [
    "#### Section 4.5.4"
   ]
  },
  {
   "cell_type": "code",
   "execution_count": null,
   "id": "4b682513",
   "metadata": {},
   "outputs": [],
   "source": [
    "from sim_circuit import *\n",
    "\n",
    "q = QuantumRegister(3)\n",
    "qc = QuantumCircuit(q)\n",
    "\n",
    "for i in range(len(q)):\n",
    "    qc.ry(pi/3, q[i])\n",
    "\n",
    "state = qc.run()"
   ]
  },
  {
   "cell_type": "markdown",
   "id": "d322eb84",
   "metadata": {},
   "source": [
    "Listing 4.14"
   ]
  },
  {
   "cell_type": "code",
   "execution_count": null,
   "id": "1796216d",
   "metadata": {},
   "outputs": [],
   "source": [
    "def binomial(n, theta):\n",
    "    q = QuantumRegister(n)\n",
    "    qc = QuantumCircuit(q)\n",
    "\n",
    "    for i in range(len(q)): # <1>\n",
    "        qc.ry(theta, q[i])\n",
    "    \n",
    "    return qc"
   ]
  },
  {
   "cell_type": "markdown",
   "id": "d23d8887",
   "metadata": {},
   "source": [
    "#### Section 4.5.5"
   ]
  },
  {
   "cell_type": "code",
   "execution_count": null,
   "id": "30b2e28d",
   "metadata": {},
   "outputs": [],
   "source": [
    "q = QuantumRegister(2)\n",
    "qc = QuantumCircuit(q)\n",
    "\n",
    "qc.h(q[0])\n",
    "qc.cx(q[0], q[1])\n",
    "\n",
    "state = qc.run()"
   ]
  },
  {
   "cell_type": "code",
   "execution_count": null,
   "id": "408274a9",
   "metadata": {},
   "outputs": [],
   "source": [
    "q = QuantumRegister(2)\n",
    "qc = QuantumCircuit(q)\n",
    "\n",
    "qc.h(q[0])\n",
    "qc.x(q[1])\n",
    "qc.cx(q[0], q[1])\n",
    "\n",
    "state = qc.run()"
   ]
  }
 ],
 "metadata": {
  "kernelspec": {
   "display_name": "Python 3 (ipykernel)",
   "language": "python",
   "name": "python3"
  },
  "language_info": {
   "codemirror_mode": {
    "name": "ipython",
    "version": 3
   },
   "file_extension": ".py",
   "mimetype": "text/x-python",
   "name": "python",
   "nbconvert_exporter": "python",
   "pygments_lexer": "ipython3",
   "version": "3.9.13"
  }
 },
 "nbformat": 4,
 "nbformat_minor": 5
}
