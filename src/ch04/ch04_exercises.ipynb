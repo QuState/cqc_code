{
 "cells": [
  {
   "cell_type": "code",
   "execution_count": 1,
   "metadata": {},
   "outputs": [],
   "source": [
    "import os\n",
    "os.chdir('..')"
   ]
  },
  {
   "cell_type": "code",
   "execution_count": 2,
   "metadata": {},
   "outputs": [],
   "source": [
    "from math import pi\n",
    "from sim_circuit import *\n",
    "from util import print_state_table, is_close"
   ]
  },
  {
   "cell_type": "markdown",
   "metadata": {},
   "source": [
    "## Exercise 1\n",
    "\n",
    "The famous mathematician John von Neumann's proposed a solution for getting fair results by tossing a biased coin. The solution is succinctly described like this:\n",
    "\n",
    "* Toss the coin twice.\n",
    "* If the results match (HH or TT), start over, forgetting both results.\n",
    "* If the results differ (HT or TH), use the first result, forgetting the second.\n",
    "\n",
    "Which Bell state offers a quantum solution to von Neumann's problem?"
   ]
  },
  {
   "cell_type": "markdown",
   "metadata": {},
   "source": [
    "**Answer:**\n",
    "\n",
    "The second two Bell states.\n",
    "\n",
    "When we measure one of the last two Bell states, we will get '01' or '10'."
   ]
  },
  {
   "cell_type": "markdown",
   "metadata": {},
   "source": [
    "## Exercise 2\n",
    "\n",
    "Implement circuits that encode the remaining two Bell states."
   ]
  },
  {
   "cell_type": "markdown",
   "metadata": {},
   "source": [
    "**Answer**: The second Bell state"
   ]
  },
  {
   "cell_type": "code",
   "execution_count": 3,
   "metadata": {},
   "outputs": [],
   "source": [
    "q = QuantumRegister(2)\n",
    "qc = QuantumCircuit(q)\n",
    "\n",
    "qc.h(q[0])\n",
    "qc.cx(q[0], q[1])\n",
    "qc.z(q[1])\n",
    "\n",
    "bell_state2 = qc.run()"
   ]
  },
  {
   "cell_type": "code",
   "execution_count": 4,
   "metadata": {},
   "outputs": [
    {
     "data": {
      "text/plain": [
       "[0.7071067811865475, 0.0, 0.0, -0.7071067811865475]"
      ]
     },
     "execution_count": 4,
     "metadata": {},
     "output_type": "execute_result"
    }
   ],
   "source": [
    "bell_state2"
   ]
  },
  {
   "cell_type": "code",
   "execution_count": 5,
   "metadata": {},
   "outputs": [
    {
     "name": "stdout",
     "output_type": "stream",
     "text": [
      "\n",
      "\n",
      "Outcome   Binary        Amplitude        Magnitude   Direction      Amplitude Bar         Probability\n",
      "----------------------------------------------------------------------------------------------------\n",
      "  0         00     +0.7071 + 0.0000*i     0.7071     0.0           ##############           0.5\n",
      "  1         01     +0.0000 + 0.0000*i     0.0000                                            0.0\n",
      "  2         10     +0.0000 + 0.0000*i     0.0000                                            0.0\n",
      "  3         11     -0.7071 + 0.0000*i     0.7071     180.0         ##############           0.5\n"
     ]
    }
   ],
   "source": [
    "print_state_table(bell_state2)"
   ]
  },
  {
   "cell_type": "markdown",
   "metadata": {},
   "source": [
    "**Answer**: The fourth Bell state"
   ]
  },
  {
   "cell_type": "code",
   "execution_count": 6,
   "metadata": {},
   "outputs": [],
   "source": [
    "q = QuantumRegister(2)\n",
    "qc = QuantumCircuit(q)\n",
    "\n",
    "qc.h(q[0])\n",
    "qc.x(q[1])\n",
    "qc.cx(q[0], q[1])\n",
    "qc.z(q[1])\n",
    "\n",
    "bell_state4 = qc.run()"
   ]
  },
  {
   "cell_type": "code",
   "execution_count": 7,
   "metadata": {},
   "outputs": [
    {
     "data": {
      "text/plain": [
       "[0.0, 0.7071067811865475, -0.7071067811865475, 0.0]"
      ]
     },
     "execution_count": 7,
     "metadata": {},
     "output_type": "execute_result"
    }
   ],
   "source": [
    "bell_state4"
   ]
  },
  {
   "cell_type": "code",
   "execution_count": 8,
   "metadata": {},
   "outputs": [
    {
     "name": "stdout",
     "output_type": "stream",
     "text": [
      "\n",
      "\n",
      "Outcome   Binary        Amplitude        Magnitude   Direction      Amplitude Bar         Probability\n",
      "----------------------------------------------------------------------------------------------------\n",
      "  0         00     +0.0000 + 0.0000*i     0.0000                                            0.0\n",
      "  1         01     +0.7071 + 0.0000*i     0.7071     0.0           ##############           0.5\n",
      "  2         10     -0.7071 + 0.0000*i     0.7071     180.0         ##############           0.5\n",
      "  3         11     +0.0000 + 0.0000*i     0.0000                                            0.0\n"
     ]
    }
   ],
   "source": [
    "print_state_table(bell_state4)"
   ]
  },
  {
   "cell_type": "markdown",
   "metadata": {},
   "source": [
    "## Exercise 3: Implementing the geometric distribution\n",
    "\n",
    "The geometric distribution models the number of times a process must be repeated before a successful outcome is achieved. If the probability of success is $p$, then the probability of having $k$ failures before the first success is:\n",
    "$(1-p)^{k}p$.\n",
    "\n",
    "Verify that the following circuit:\n",
    "\n",
    "```\n",
    "q = QuantumRegister(n)\n",
    "qc = QuantumCircuit(q)\n",
    "\n",
    "for i in range(len(q)):\n",
    "    qc.ry(theta, q[i])\n",
    "\n",
    "for i in range(len(q) - 1):\n",
    "    qc.cry(pi - theta, q[i], q[i+1])\n",
    "\n",
    "z = qc.run()\n",
    "```\n",
    "\n",
    "prepares a quantum state $z$ with the following properties:\n",
    "\n",
    "1. The amplitudes in the state $z$ at indices $2^n - 2^k$ for $0 \\le k < n$ (which start with $k$ digits of 1, and end with $n-k$ digits of 0) are $z_{2^n - 2^k} = cos^{k}\\frac{\\theta}{2} \\sin\\frac{\\theta}{2}$, and the probabilities: $|z_{2^n - 2^k}|^2 = cos^{2k}\\frac{\\theta}{2} \\sin^2\\frac{\\theta}{2} = (1-p)^{k}p$, with $p = \\sin^2\\frac{\\theta}{2}$, matching the geometric distribution probabilities.\n",
    "\n",
    "2. Amplitude $z_0$ is the \"left over\" amplitude accounting for the infinite tail of the geometric distribution.\n",
    "\n",
    "3. All other amplitudes are 0.\n",
    "\n",
    "4. The table state representation for $n = 3$ and $\\theta = 0.8\\pi$ matches."
   ]
  },
  {
   "cell_type": "markdown",
   "metadata": {},
   "source": [
    "**Answer:**"
   ]
  },
  {
   "cell_type": "code",
   "execution_count": 9,
   "metadata": {},
   "outputs": [],
   "source": [
    "# prepare state with n = 3 and theta = 0.8pi\n",
    "n = 3\n",
    "theta = 0.8*pi\n",
    "\n",
    "q = QuantumRegister(n)\n",
    "qc = QuantumCircuit(q)\n",
    "\n",
    "for i in range(len(q)):\n",
    "    qc.ry(theta, q[i])\n",
    "\n",
    "for i in range(len(q) - 1):\n",
    "    qc.cry(pi - theta, q[i], q[i+1])\n",
    "\n",
    "z = qc.run()"
   ]
  },
  {
   "cell_type": "code",
   "execution_count": 10,
   "metadata": {},
   "outputs": [],
   "source": [
    "n  = 3\n",
    "special_indices = [2**n-2**k for k in range(n)]\n",
    "\n",
    "k = n-1\n",
    "for i in range(1, 2**n):\n",
    "    if i in special_indices:\n",
    "        assert is_close(z[i], cos(theta/2)**k*sin(theta/2))\n",
    "        k = k - 1\n",
    "    else:\n",
    "        assert(abs(z[i]) < 0.0001)"
   ]
  },
  {
   "cell_type": "code",
   "execution_count": 11,
   "metadata": {},
   "outputs": [],
   "source": [
    "assert is_close(abs(z[0])**2, 1 - sum([abs(z[i])**2 for i in range(1, 2**n)]))"
   ]
  },
  {
   "cell_type": "code",
   "execution_count": 12,
   "metadata": {},
   "outputs": [
    {
     "name": "stdout",
     "output_type": "stream",
     "text": [
      "\n",
      "\n",
      "Outcome   Binary        Amplitude        Magnitude   Direction      Amplitude Bar         Probability\n",
      "----------------------------------------------------------------------------------------------------\n",
      "  0        000     +0.0295 + 0.0000*i     0.0295     0.0                                    0.0009\n",
      "  1        001     +0.0000 + 0.0000*i     0.0000                                            0.0\n",
      "  2        010     +0.0000 + 0.0000*i     0.0000                                            0.0\n",
      "  3        011     +0.0000 + 0.0000*i     0.0000                                            0.0\n",
      "  4        100     +0.0908 + 0.0000*i     0.0908     0.0           #                        0.0082\n",
      "  5        101     +0.0000 + 0.0000*i     0.0000                                            0.0\n",
      "  6        110     +0.2939 + 0.0000*i     0.2939     0.0           #####                    0.0864\n",
      "  7        111     +0.9511 + 0.0000*i     0.9511     0.0           ###################      0.9046\n"
     ]
    }
   ],
   "source": [
    "print_state_table(z)"
   ]
  }
 ],
 "metadata": {
  "kernelspec": {
   "display_name": "Python 3 (ipykernel)",
   "language": "python",
   "name": "python3"
  },
  "language_info": {
   "codemirror_mode": {
    "name": "ipython",
    "version": 3
   },
   "file_extension": ".py",
   "mimetype": "text/x-python",
   "name": "python",
   "nbconvert_exporter": "python",
   "pygments_lexer": "ipython3",
   "version": "3.9.13"
  }
 },
 "nbformat": 4,
 "nbformat_minor": 1
}
