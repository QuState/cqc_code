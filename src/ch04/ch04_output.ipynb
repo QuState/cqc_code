{
 "cells": [
  {
   "cell_type": "code",
   "execution_count": 1,
   "id": "9ed84014",
   "metadata": {},
   "outputs": [],
   "source": [
    "import os\n",
    "os.chdir('..')"
   ]
  },
  {
   "cell_type": "markdown",
   "id": "c821cda1",
   "metadata": {},
   "source": [
    "## Section 4.2"
   ]
  },
  {
   "cell_type": "markdown",
   "id": "93544c11",
   "metadata": {},
   "source": [
    "#### Section 4.2.1"
   ]
  },
  {
   "cell_type": "code",
   "execution_count": 2,
   "id": "561ec404",
   "metadata": {},
   "outputs": [],
   "source": [
    "from math import sqrt, cos, sin\n",
    "\n",
    "[p0, p1, p2, p3] = [1, 0, 0, 0]\n",
    "[theta0, theta1, theta2, theta3] = [0, 0, 0, 0]\n",
    "\n",
    "state = [sqrt(p0) * (cos(theta0) + 1j * sin(theta0)),\n",
    "         sqrt(p1) * (cos(theta1) + 1j * sin(theta1)),\n",
    "         sqrt(p2) * (cos(theta2) + 1j * sin(theta2)),\n",
    "         sqrt(p3) * (cos(theta3) + 1j * sin(theta3))]"
   ]
  },
  {
   "cell_type": "code",
   "execution_count": 3,
   "id": "ed2762ec",
   "metadata": {},
   "outputs": [],
   "source": [
    "import random\n",
    "from math import pi\n",
    "\n",
    "random.seed(123456789) # <1>\n",
    "\n",
    "probs = [random.random() for _ in range(4)] # <2>\n",
    "total = sum(probs)\n",
    "probs = [p/total for p in probs] # <3>\n",
    "\n",
    "angles = [random.uniform(0, 2*pi) for _ in range(4)] # <4>\n",
    "\n",
    "state = [sqrt(p)*(cos(a) + 1j*sin(a)) for (p, a) in zip(probs, angles)] # <5>"
   ]
  },
  {
   "cell_type": "code",
   "execution_count": 4,
   "id": "c2ad9e95",
   "metadata": {},
   "outputs": [
    {
     "name": "stdout",
     "output_type": "stream",
     "text": [
      "\n",
      "\n",
      "Outcome   Binary        Amplitude        Magnitude   Direction      Amplitude Bar         Probability\n",
      "----------------------------------------------------------------------------------------------------\n",
      "  0         00     +0.1743 - 0.4266*i     0.4608     -67.78        #########                0.2124\n",
      "  1         01     -0.3383 + 0.2551*i     0.4237     142.98        ########                 0.1795\n",
      "  2         10     +0.5293 - 0.2208*i     0.5735     -22.64        ###########              0.3289\n",
      "  3         11     -0.1973 - 0.4902*i     0.5284     -111.92       ##########               0.2792\n"
     ]
    }
   ],
   "source": [
    "from util import print_state_table\n",
    "\n",
    "print_state_table(state)"
   ]
  },
  {
   "cell_type": "code",
   "execution_count": 5,
   "id": "ca0d5892",
   "metadata": {},
   "outputs": [],
   "source": [
    "def cis(theta):\n",
    "    return cos(theta) + 1j*sin(theta)"
   ]
  },
  {
   "cell_type": "code",
   "execution_count": 6,
   "id": "cb957766",
   "metadata": {},
   "outputs": [
    {
     "data": {
      "text/plain": [
       "[(0.86603+0j), (0.25+0.43301j)]"
      ]
     },
     "execution_count": 6,
     "metadata": {},
     "output_type": "execute_result"
    }
   ],
   "source": [
    "p = 0.75\n",
    "theta0 = 0\n",
    "theta1 = 60/(180/pi) # <1>\n",
    "first_state = [sqrt(p)*cis(theta0), sqrt(1-p)*cis(theta1)]\n",
    "[round(amp.real, 5)+1j*round(amp.imag, 5) for amp in first_state]"
   ]
  },
  {
   "cell_type": "code",
   "execution_count": 7,
   "id": "21097c7f",
   "metadata": {},
   "outputs": [
    {
     "data": {
      "text/plain": [
       "[(0.70711+0j), (-0.35355-0.61237j)]"
      ]
     },
     "execution_count": 7,
     "metadata": {},
     "output_type": "execute_result"
    }
   ],
   "source": [
    "q = 0.5\n",
    "phi0 = 0\n",
    "phi1 = -120/(180/pi)\n",
    "second_state = [sqrt(q)*cis(phi0), sqrt(1-q)*cis(phi1)]\n",
    "[round(amp.real, 5)+1j*round(amp.imag, 5) for amp in second_state]\n",
    "[(0.70711+0j), (-0.35355-0.61237j)]"
   ]
  },
  {
   "cell_type": "code",
   "execution_count": 8,
   "id": "58b2cb87",
   "metadata": {},
   "outputs": [],
   "source": [
    "new_state = [sqrt(p*q)*cis(theta0 + phi0),\n",
    "                sqrt(p*(1-q))*cis(theta0 + phi1),\n",
    "                sqrt((1-p)*q)*cis(theta1 + phi0),\n",
    "                sqrt((1-p)*(1-q))*cis(theta1 + phi1)]"
   ]
  },
  {
   "cell_type": "code",
   "execution_count": 9,
   "id": "e7ccb39e",
   "metadata": {},
   "outputs": [
    {
     "data": {
      "text/plain": [
       "[(0.61237+0j), (-0.30619-0.53033j), (0.17678+0.30619j), (0.17678-0.30619j)]"
      ]
     },
     "execution_count": 9,
     "metadata": {},
     "output_type": "execute_result"
    }
   ],
   "source": [
    "new_state = [first_state[0]*second_state[0], first_state[0]*second_state[1],\n",
    "             first_state[1]*second_state[0], first_state[1]*second_state[1]]\n",
    "[round(amp.real, 5)+1j*round(amp.imag, 5) for amp in new_state]"
   ]
  },
  {
   "cell_type": "code",
   "execution_count": 10,
   "id": "bd2c1ef1",
   "metadata": {},
   "outputs": [
    {
     "data": {
      "text/plain": [
       "[(0.61237+0j), (-0.30619-0.53033j), (0.17678+0.30619j), (0.17678-0.30619j)]"
      ]
     },
     "execution_count": 10,
     "metadata": {},
     "output_type": "execute_result"
    }
   ],
   "source": [
    "new_state = [sqrt(p*q)*cis(theta0 + phi0), sqrt(p*(1-q))*cis(theta0 + phi1),\n",
    "            sqrt((1-p)*q)*cis(theta1 + phi0), sqrt((1-p)*(1-q))*cis(theta1 + phi1)]\n",
    "[round(amp.real, 5)+1j*round(amp.imag, 5) for amp in new_state]"
   ]
  },
  {
   "cell_type": "code",
   "execution_count": 11,
   "id": "9bf57bb2",
   "metadata": {},
   "outputs": [],
   "source": [
    "bell_state1 = [sqrt(0.5), 0.0, 0.0, sqrt(0.5)]\n",
    "\n",
    "bell_state2 = [sqrt(0.5), 0.0, 0.0, -sqrt(0.5)]"
   ]
  },
  {
   "cell_type": "code",
   "execution_count": 12,
   "id": "f9b34e3e",
   "metadata": {},
   "outputs": [
    {
     "name": "stdout",
     "output_type": "stream",
     "text": [
      "\n",
      "\n",
      "Outcome   Binary        Amplitude        Magnitude   Direction      Amplitude Bar         Probability\n",
      "----------------------------------------------------------------------------------------------------\n",
      "  0         00     +0.7071 + 0.0000*i     0.7071     0.0           ##############           0.5\n",
      "  1         01     +0.0000 + 0.0000*i     0.0000                                            0.0\n",
      "  2         10     +0.0000 + 0.0000*i     0.0000                                            0.0\n",
      "  3         11     +0.7071 + 0.0000*i     0.7071     0.0           ##############           0.5\n"
     ]
    }
   ],
   "source": [
    "print_state_table(bell_state1)"
   ]
  },
  {
   "cell_type": "code",
   "execution_count": 13,
   "id": "50ce84a9",
   "metadata": {},
   "outputs": [
    {
     "name": "stdout",
     "output_type": "stream",
     "text": [
      "\n",
      "\n",
      "Outcome   Binary        Amplitude        Magnitude   Direction      Amplitude Bar         Probability\n",
      "----------------------------------------------------------------------------------------------------\n",
      "  0         00     +0.7071 + 0.0000*i     0.7071     0.0           ##############           0.5\n",
      "  1         01     +0.0000 + 0.0000*i     0.0000                                            0.0\n",
      "  2         10     +0.0000 + 0.0000*i     0.0000                                            0.0\n",
      "  3         11     -0.7071 + 0.0000*i     0.7071     180.0         ##############           0.5\n"
     ]
    }
   ],
   "source": [
    "print_state_table(bell_state2)"
   ]
  },
  {
   "cell_type": "code",
   "execution_count": 14,
   "id": "f1570190",
   "metadata": {},
   "outputs": [],
   "source": [
    "bell_state3 = [0.0, sqrt(0.5), sqrt(0.5), 0.0]\n",
    "\n",
    "bell_state4 = [0.0, sqrt(0.5), -sqrt(0.5), 0.0]"
   ]
  },
  {
   "cell_type": "code",
   "execution_count": 15,
   "id": "a8651486",
   "metadata": {},
   "outputs": [
    {
     "name": "stdout",
     "output_type": "stream",
     "text": [
      "\n",
      "\n",
      "Outcome   Binary        Amplitude        Magnitude   Direction      Amplitude Bar         Probability\n",
      "----------------------------------------------------------------------------------------------------\n",
      "  0         00     +0.0000 + 0.0000*i     0.0000                                            0.0\n",
      "  1         01     +0.7071 + 0.0000*i     0.7071     0.0           ##############           0.5\n",
      "  2         10     +0.7071 + 0.0000*i     0.7071     0.0           ##############           0.5\n",
      "  3         11     +0.0000 + 0.0000*i     0.0000                                            0.0\n"
     ]
    }
   ],
   "source": [
    "print_state_table(bell_state3)"
   ]
  },
  {
   "cell_type": "code",
   "execution_count": 16,
   "id": "7d528e2b",
   "metadata": {},
   "outputs": [
    {
     "name": "stdout",
     "output_type": "stream",
     "text": [
      "\n",
      "\n",
      "Outcome   Binary        Amplitude        Magnitude   Direction      Amplitude Bar         Probability\n",
      "----------------------------------------------------------------------------------------------------\n",
      "  0         00     +0.0000 + 0.0000*i     0.0000                                            0.0\n",
      "  1         01     +0.7071 + 0.0000*i     0.7071     0.0           ##############           0.5\n",
      "  2         10     -0.7071 + 0.0000*i     0.7071     180.0         ##############           0.5\n",
      "  3         11     +0.0000 + 0.0000*i     0.0000                                            0.0\n"
     ]
    }
   ],
   "source": [
    "print_state_table(bell_state4)"
   ]
  },
  {
   "cell_type": "markdown",
   "id": "46b4c796",
   "metadata": {},
   "source": [
    "#### Section 4.2.2"
   ]
  },
  {
   "cell_type": "code",
   "execution_count": 17,
   "id": "f6ad9000",
   "metadata": {},
   "outputs": [],
   "source": [
    "state_list = [(0.09858+0.03637j), (0.07478+0.06912j), (0.04852+0.10526j),\n",
    "         (0.00641+0.16322j), (-0.12895+0.34953j), (0.58403-0.6318j),\n",
    "         (0.18795-0.08665j), (0.12867-0.00506j)]"
   ]
  },
  {
   "cell_type": "markdown",
   "id": "d90c89ae",
   "metadata": {},
   "source": [
    "Listing 4.1"
   ]
  },
  {
   "cell_type": "code",
   "execution_count": 18,
   "id": "6433a976",
   "metadata": {},
   "outputs": [],
   "source": [
    "from math import log2, ceil, floor\n",
    "from util import is_close\n",
    "\n",
    "def is_power_of_two(m):\n",
    "    return ceil(log2(m)) == floor(log2(m))\n",
    "\n",
    "def prepare_state(*a):\n",
    "    state = [a[k] for k in range(len(a))]\n",
    "    assert (is_power_of_two(len(state)))  # <1>\n",
    "    assert (is_close(sum([abs(state[k]) ** 2 for k in range(len(state))]), 1.0))  # <2>\n",
    "    return state  # <3>"
   ]
  },
  {
   "cell_type": "code",
   "execution_count": 19,
   "id": "727a56d7",
   "metadata": {},
   "outputs": [],
   "source": [
    "state = prepare_state(*state_list)"
   ]
  },
  {
   "cell_type": "code",
   "execution_count": 20,
   "id": "981fc995",
   "metadata": {},
   "outputs": [
    {
     "data": {
      "text/plain": [
       "[[0, (0.09858+0.03637j)],\n",
       " [1, (0.07478+0.06912j)],\n",
       " [2, (0.04852+0.10526j)],\n",
       " [3, (0.00641+0.16322j)],\n",
       " [4, (-0.12895+0.34953j)],\n",
       " [5, (0.58403-0.6318j)],\n",
       " [6, (0.18795-0.08665j)],\n",
       " [7, (0.12867-0.00506j)]]"
      ]
     },
     "execution_count": 20,
     "metadata": {},
     "output_type": "execute_result"
    }
   ],
   "source": [
    "[[k, state[k]] for k in range(len(state))]"
   ]
  },
  {
   "cell_type": "code",
   "execution_count": 21,
   "id": "29eb1ae6",
   "metadata": {},
   "outputs": [
    {
     "name": "stdout",
     "output_type": "stream",
     "text": [
      "[0, 20.25098, 0.01104]\n",
      "[1, 42.74755, 0.01037]\n",
      "[2, 65.25248, 0.01343]\n",
      "[3, 87.75103, 0.02668]\n",
      "[4, 110.25023, 0.1388]\n",
      "[5, -47.25, 0.74026]\n",
      "[6, -24.75097, 0.04283]\n",
      "[7, -2.25202, 0.01658]\n"
     ]
    }
   ],
   "source": [
    "from math import atan2\n",
    "\n",
    "table1 = [\n",
    "    [k, round(atan2(state[k].imag, state[k].real) / (2 * pi) * 360, 5),\n",
    "     round(abs(state[k]) ** 2, 5)] for k in range(len(state))]\n",
    "for row in table1:\n",
    "    print(row)"
   ]
  },
  {
   "cell_type": "code",
   "execution_count": 22,
   "id": "f9b7a408",
   "metadata": {},
   "outputs": [
    {
     "name": "stdout",
     "output_type": "stream",
     "text": [
      "[0, (0.09858+0.03637j), 20.25098, 0.10508, 0.01104]\n",
      "[1, (0.07478+0.06912j), 42.74755, 0.10183, 0.01037]\n",
      "[2, (0.04852+0.10526j), 65.25248, 0.1159, 0.01343]\n",
      "[3, (0.00641+0.16322j), 87.75103, 0.16335, 0.02668]\n",
      "[4, (-0.12895+0.34953j), 110.25023, 0.37256, 0.1388]\n",
      "[5, (0.58403-0.6318j), -47.25, 0.86038, 0.74026]\n",
      "[6, (0.18795-0.08665j), -24.75097, 0.20696, 0.04283]\n",
      "[7, (0.12867-0.00506j), -2.25202, 0.12877, 0.01658]\n"
     ]
    }
   ],
   "source": [
    "expanded_table = [[k, state[k], round(\n",
    "    atan2(state[k].imag, state[k].real) / (2 * pi) * 360, 5),\n",
    "                   round(abs(state[k]), 5), round(abs(state[k]) ** 2, 5)]\n",
    "                  for k in range(len(state))]\n",
    "for row in expanded_table:\n",
    "    print(row)"
   ]
  },
  {
   "cell_type": "code",
   "execution_count": 23,
   "id": "77bdc2f5",
   "metadata": {},
   "outputs": [
    {
     "name": "stdout",
     "output_type": "stream",
     "text": [
      "[0, (0.09858+0.03637j)]\n",
      "[1, (0.07478+0.06912j)]\n",
      "[2, (0.04851+0.10524j)]\n",
      "[3, (0.00641+0.16321j)]\n",
      "[4, (-0.12895+0.34953j)]\n",
      "[5, (0.58403-0.6318j)]\n",
      "[6, (0.18794-0.08665j)]\n",
      "[7, (0.12866-0.00506j)]\n"
     ]
    }
   ],
   "source": [
    "table2 = [[row[0], (\n",
    "            round(sqrt(row[2]) * cos(row[1] / (180 / pi)), 5) + round(\n",
    "        sqrt(row[2]) * sin(row[1] / (180 / pi)), 5) * 1j)] for row in\n",
    "          table1]\n",
    "for row in table2:\n",
    "    print(row)"
   ]
  },
  {
   "cell_type": "code",
   "execution_count": 24,
   "id": "1f9c0f8d",
   "metadata": {},
   "outputs": [
    {
     "name": "stdout",
     "output_type": "stream",
     "text": [
      "\n",
      "\n",
      "Outcome   Binary        Amplitude        Magnitude   Direction      Amplitude Bar         Probability\n",
      "----------------------------------------------------------------------------------------------------\n",
      "  0        000     +0.0986 + 0.0364*i     0.1051     20.26         ##                       0.011\n",
      "  1        001     +0.0748 + 0.0691*i     0.1018     42.73         ##                       0.0104\n",
      "  2        010     +0.0485 + 0.1053*i     0.1159     65.27         ##                       0.0134\n",
      "  3        011     +0.0064 + 0.1632*i     0.1633     87.75         ###                      0.0267\n",
      "  4        100     -0.1290 + 0.3495*i     0.3725     110.26        #######                  0.1388\n",
      "  5        101     +0.5840 - 0.6318*i     0.8604     -47.25        #################        0.7402\n",
      "  6        110     +0.1880 - 0.0867*i     0.2070     -24.76        ####                     0.0429\n",
      "  7        111     +0.1287 - 0.0051*i     0.1288     -2.27         ##                       0.0166\n"
     ]
    }
   ],
   "source": [
    "print_state_table(state)"
   ]
  },
  {
   "cell_type": "markdown",
   "id": "fb02c5f0",
   "metadata": {},
   "source": [
    "#### Section 4.2.3"
   ]
  },
  {
   "cell_type": "markdown",
   "id": "49119c21",
   "metadata": {},
   "source": [
    "Listing 4.2"
   ]
  },
  {
   "cell_type": "code",
   "execution_count": 25,
   "id": "c8918a10",
   "metadata": {},
   "outputs": [],
   "source": [
    "def init_state(n):\n",
    "    state = [0 for _ in range(2 ** n)] # <1>\n",
    "    state[0] = 1 # <2>\n",
    "    return state"
   ]
  },
  {
   "cell_type": "code",
   "execution_count": 26,
   "id": "2c4b2a0d",
   "metadata": {},
   "outputs": [
    {
     "data": {
      "text/plain": [
       "[1, 0, 0, 0]"
      ]
     },
     "execution_count": 26,
     "metadata": {},
     "output_type": "execute_result"
    }
   ],
   "source": [
    "state = init_state(2)\n",
    "state"
   ]
  },
  {
   "cell_type": "markdown",
   "id": "b83f3f01",
   "metadata": {},
   "source": [
    "## Section 4.3"
   ]
  },
  {
   "cell_type": "markdown",
   "id": "29fdc282",
   "metadata": {},
   "source": [
    "#### Section 4.3.2"
   ]
  },
  {
   "cell_type": "markdown",
   "id": "ef5fc4be",
   "metadata": {},
   "source": [
    "Listing 4.3"
   ]
  },
  {
   "cell_type": "code",
   "execution_count": 27,
   "id": "1b86a98a",
   "metadata": {},
   "outputs": [],
   "source": [
    "def is_bit_set(m, k):\n",
    "    return m & (1 << k)\n",
    "\n",
    "def pair_generator_check_digit(n, t):\n",
    "    distance = int(2 ** t) # <1>\n",
    "\n",
    "    for k0 in range(2**n): # <2>\n",
    "        if not is_bit_set(k0, t): # <3>\n",
    "            k1 = k0 + distance # <4>\n",
    "            yield k0, k1"
   ]
  },
  {
   "cell_type": "code",
   "execution_count": 28,
   "id": "07907ce8",
   "metadata": {},
   "outputs": [
    {
     "name": "stdout",
     "output_type": "stream",
     "text": [
      "0 1\n",
      "2 3\n",
      "4 5\n",
      "6 7\n"
     ]
    }
   ],
   "source": [
    "for (k0, k1) in pair_generator_check_digit(3, 0):\n",
    "    print(k0, k1)"
   ]
  },
  {
   "cell_type": "markdown",
   "id": "bdf44d53",
   "metadata": {},
   "source": [
    "Listing 4.4"
   ]
  },
  {
   "cell_type": "code",
   "execution_count": 29,
   "id": "988535b2",
   "metadata": {},
   "outputs": [],
   "source": [
    "def pair_generator_pattern(n, t):\n",
    "    distance = int(2 ** t) # <1>\n",
    "\n",
    "    for j in range(2**(n-t-1)):\n",
    "        for k0 in range(2*j*distance, (2*j+1)*distance): # <2>\n",
    "            k1 = k0 + distance # <3>\n",
    "            yield k0, k1"
   ]
  },
  {
   "cell_type": "code",
   "execution_count": 30,
   "id": "bc6f4797",
   "metadata": {},
   "outputs": [
    {
     "name": "stdout",
     "output_type": "stream",
     "text": [
      "0 1\n",
      "2 3\n",
      "4 5\n",
      "6 7\n"
     ]
    }
   ],
   "source": [
    "for (k0, k1) in pair_generator_pattern(3, 0):\n",
    "    print(k0, k1)"
   ]
  },
  {
   "cell_type": "markdown",
   "id": "8078ed22",
   "metadata": {},
   "source": [
    "Listing 4.5"
   ]
  },
  {
   "cell_type": "code",
   "execution_count": 31,
   "id": "ee285814",
   "metadata": {},
   "outputs": [],
   "source": [
    "def pair_generator_concatenate(n, t):\n",
    "    distance = int(2 ** t) # <1>\n",
    "    suffix_count = int(2 ** t) # <2>\n",
    "    prefix_count = int(2 ** (n - t - 1)) # <2>\n",
    "\n",
    "    for p in range(prefix_count): # <3>\n",
    "        for s in range(suffix_count):\n",
    "            k0 = p * suffix_count*2 + s\n",
    "            k1 = k0 + distance\n",
    "            yield k0, k1"
   ]
  },
  {
   "cell_type": "code",
   "execution_count": 32,
   "id": "0861b619",
   "metadata": {},
   "outputs": [
    {
     "name": "stdout",
     "output_type": "stream",
     "text": [
      "0 2\n",
      "1 3\n",
      "4 6\n",
      "5 7\n",
      "8 10\n",
      "9 11\n",
      "12 14\n",
      "13 15\n"
     ]
    }
   ],
   "source": [
    "for (k0, k1) in pair_generator_concatenate(4, 1):\n",
    "    print(k0, k1)"
   ]
  },
  {
   "cell_type": "markdown",
   "id": "89e9ad78",
   "metadata": {},
   "source": [
    "#### Section 4.3.3"
   ]
  },
  {
   "cell_type": "markdown",
   "id": "ffb33aec",
   "metadata": {},
   "source": [
    "Listing 4.6"
   ]
  },
  {
   "cell_type": "code",
   "execution_count": 33,
   "id": "531b3aa9",
   "metadata": {},
   "outputs": [],
   "source": [
    "def process_pair(state, gate, k0, k1):\n",
    "    x = state[k0] # <1>\n",
    "    y = state[k1] # <1>\n",
    "    state[k0] = x * gate[0][0] + y * gate[0][1] # <2>\n",
    "    state[k1] = x * gate[1][0] + y * gate[1][1] # <2>\n",
    "\n",
    "def transform(state, t, gate):\n",
    "    n = int(log2(len(state))) # <3>\n",
    "    for (k0, k1) in pair_generator(n, t): # <4>\n",
    "        process_pair(state, gate, k0, k1) # <5>"
   ]
  },
  {
   "cell_type": "code",
   "execution_count": 34,
   "id": "f1b8d543",
   "metadata": {},
   "outputs": [],
   "source": [
    "pair_generator = pair_generator_concatenate"
   ]
  },
  {
   "cell_type": "code",
   "execution_count": 35,
   "id": "87dfee49",
   "metadata": {},
   "outputs": [],
   "source": [
    "state = [(0.09858+0.03637j), (0.07478+0.06912j), (0.04852+0.10526j),\n",
    "         (0.00641+0.16322j), (-0.12895+0.34953j), (0.58403-0.6318j),\n",
    "         (0.18795-0.08665j), (0.12867-0.00506j)]"
   ]
  },
  {
   "cell_type": "code",
   "execution_count": 36,
   "id": "8bf2c062",
   "metadata": {},
   "outputs": [
    {
     "data": {
      "text/plain": [
       "[(0.07478+0.06912j),\n",
       " (0.09858+0.03637j),\n",
       " (0.00641+0.16322j),\n",
       " (0.04852+0.10526j),\n",
       " (0.58403-0.6318j),\n",
       " (-0.12895+0.34953j),\n",
       " (0.12867-0.00506j),\n",
       " (0.18795-0.08665j)]"
      ]
     },
     "execution_count": 36,
     "metadata": {},
     "output_type": "execute_result"
    }
   ],
   "source": [
    "from sim_gates import *\n",
    "\n",
    "transform(state, 0, x)\n",
    "state"
   ]
  },
  {
   "cell_type": "markdown",
   "id": "4274e6da",
   "metadata": {},
   "source": [
    "#### Section 4.3.4"
   ]
  },
  {
   "cell_type": "code",
   "execution_count": 37,
   "id": "1ee1eec0",
   "metadata": {},
   "outputs": [],
   "source": [
    "state = init_state(3)"
   ]
  },
  {
   "cell_type": "code",
   "execution_count": 38,
   "id": "f13f1e04",
   "metadata": {},
   "outputs": [
    {
     "data": {
      "text/plain": [
       "[1, 0, 0, 0, 0, 0, 0, 0]"
      ]
     },
     "execution_count": 38,
     "metadata": {},
     "output_type": "execute_result"
    }
   ],
   "source": [
    "state"
   ]
  },
  {
   "cell_type": "code",
   "execution_count": 39,
   "id": "86a96993",
   "metadata": {},
   "outputs": [
    {
     "data": {
      "text/plain": [
       "[0.7071067811865475, 0.7071067811865475, 0.0, 0.0, 0.0, 0.0, 0.0, 0.0]"
      ]
     },
     "execution_count": 39,
     "metadata": {},
     "output_type": "execute_result"
    }
   ],
   "source": [
    "transform(state, 0, h)\n",
    "state"
   ]
  },
  {
   "cell_type": "code",
   "execution_count": 40,
   "id": "2ea6d0e4",
   "metadata": {},
   "outputs": [
    {
     "data": {
      "text/plain": [
       "[0.7071067811865475, 0.0, 0.7071067811865475, 0.0, 0.0, 0.0, 0.0, 0.0]"
      ]
     },
     "execution_count": 40,
     "metadata": {},
     "output_type": "execute_result"
    }
   ],
   "source": [
    "state = init_state(3)\n",
    "transform(state, 1, h)\n",
    "state"
   ]
  },
  {
   "cell_type": "code",
   "execution_count": 41,
   "id": "bf890817",
   "metadata": {},
   "outputs": [
    {
     "data": {
      "text/plain": [
       "[0.3535533905932737,\n",
       " 0.3535533905932737,\n",
       " 0.3535533905932737,\n",
       " 0.3535533905932737,\n",
       " 0.3535533905932737,\n",
       " 0.3535533905932737,\n",
       " 0.3535533905932737,\n",
       " 0.3535533905932737]"
      ]
     },
     "execution_count": 41,
     "metadata": {},
     "output_type": "execute_result"
    }
   ],
   "source": [
    "state = init_state(3)\n",
    "transform(state, 0, h)\n",
    "transform(state, 1, h)\n",
    "transform(state, 2, h)\n",
    "state"
   ]
  },
  {
   "cell_type": "code",
   "execution_count": 42,
   "id": "0a1f1ed1",
   "metadata": {},
   "outputs": [
    {
     "name": "stdout",
     "output_type": "stream",
     "text": [
      "\n",
      "\n",
      "Outcome   Binary        Amplitude        Magnitude   Direction      Amplitude Bar         Probability\n",
      "----------------------------------------------------------------------------------------------------\n",
      "  0        000     +0.3536 + 0.0000*i     0.3536     0.0           #######                  0.125\n",
      "  1        001     +0.3536 + 0.0000*i     0.3536     0.0           #######                  0.125\n",
      "  2        010     +0.3536 + 0.0000*i     0.3536     0.0           #######                  0.125\n",
      "  3        011     +0.3536 + 0.0000*i     0.3536     0.0           #######                  0.125\n",
      "  4        100     +0.3536 + 0.0000*i     0.3536     0.0           #######                  0.125\n",
      "  5        101     +0.3536 + 0.0000*i     0.3536     0.0           #######                  0.125\n",
      "  6        110     +0.3536 + 0.0000*i     0.3536     0.0           #######                  0.125\n",
      "  7        111     +0.3536 + 0.0000*i     0.3536     0.0           #######                  0.125\n"
     ]
    }
   ],
   "source": [
    "print_state_table(state)"
   ]
  },
  {
   "cell_type": "markdown",
   "id": "5bccc30d",
   "metadata": {},
   "source": [
    "## Section 4.4"
   ]
  },
  {
   "cell_type": "markdown",
   "id": "34f091d4",
   "metadata": {},
   "source": [
    "#### Section 4.4.1"
   ]
  },
  {
   "cell_type": "markdown",
   "id": "39d244fa",
   "metadata": {},
   "source": [
    "Listing 4.7"
   ]
  },
  {
   "cell_type": "code",
   "execution_count": 43,
   "id": "5ddba81a",
   "metadata": {},
   "outputs": [],
   "source": [
    "from math import log2\n",
    "\n",
    "def c_transform(state, c, t, gate): # <1>\n",
    "    n = int(log2(len(state)))\n",
    "    for (k0, k1) in filter(lambda p: is_bit_set(p[0], c), pair_generator(n, t)): # <2>\n",
    "        process_pair(state, gate, k0, k1) # <3>"
   ]
  },
  {
   "cell_type": "code",
   "execution_count": 44,
   "id": "d4c28a68",
   "metadata": {},
   "outputs": [],
   "source": [
    "state = [(0.09858+0.03637j), (0.07478+0.06912j), (0.04852+0.10526j),\n",
    "         (0.00641+0.16322j), (-0.12895+0.34953j), (0.58403-0.6318j),\n",
    "         (0.18795-0.08665j), (0.12867-0.00506j)]"
   ]
  },
  {
   "cell_type": "code",
   "execution_count": 45,
   "id": "ed6244bc",
   "metadata": {},
   "outputs": [
    {
     "data": {
      "text/plain": [
       "[(0.09858+0.03637j),\n",
       " (0.07478+0.06912j),\n",
       " (0.18795-0.08665j),\n",
       " (0.12867-0.00506j),\n",
       " (-0.12895+0.34953j),\n",
       " (0.58403-0.6318j),\n",
       " (0.04852+0.10526j),\n",
       " (0.00641+0.16322j)]"
      ]
     },
     "execution_count": 45,
     "metadata": {},
     "output_type": "execute_result"
    }
   ],
   "source": [
    "c_transform(state, 1, 2, x)\n",
    "state"
   ]
  },
  {
   "cell_type": "markdown",
   "id": "1e96cbf1",
   "metadata": {},
   "source": [
    "#### Section 4.4.2"
   ]
  },
  {
   "cell_type": "markdown",
   "id": "14061bef",
   "metadata": {},
   "source": [
    "Listing 4.8"
   ]
  },
  {
   "cell_type": "code",
   "execution_count": 46,
   "id": "6385d0a9",
   "metadata": {},
   "outputs": [],
   "source": [
    "from math import log2\n",
    "\n",
    "def mc_transform(state, cs, t, gate):\n",
    "    assert not t in cs # <1>\n",
    "    n = int(log2(len(state)))\n",
    "    for (k0, k1) in filter(lambda p: all([is_bit_set(p[0], c) for c in cs]), pair_generator(n, t)): # <2>\n",
    "        process_pair(state, gate, k0, k1) # <3>"
   ]
  },
  {
   "cell_type": "code",
   "execution_count": 47,
   "id": "93c40050",
   "metadata": {},
   "outputs": [],
   "source": [
    "state = [(0.09858+0.03637j), (0.07478+0.06912j), (0.04852+0.10526j),\n",
    "         (0.00641+0.16322j), (-0.12895+0.34953j), (0.58403-0.6318j),\n",
    "         (0.18795-0.08665j), (0.12867-0.00506j)]"
   ]
  },
  {
   "cell_type": "code",
   "execution_count": 48,
   "id": "01846bb9",
   "metadata": {},
   "outputs": [
    {
     "data": {
      "text/plain": [
       "[(0.09858+0.03637j),\n",
       " (0.07478+0.06912j),\n",
       " (0.04852+0.10526j),\n",
       " (0.00641+0.16322j),\n",
       " (-0.12895+0.34953j),\n",
       " (0.58403-0.6318j),\n",
       " (0.12867-0.00506j),\n",
       " (0.18795-0.08665j)]"
      ]
     },
     "execution_count": 48,
     "metadata": {},
     "output_type": "execute_result"
    }
   ],
   "source": [
    "mc_transform(state, [1, 2], 0, x)\n",
    "state"
   ]
  },
  {
   "cell_type": "markdown",
   "id": "985927d6",
   "metadata": {},
   "source": [
    "## Section 4.5"
   ]
  },
  {
   "cell_type": "markdown",
   "id": "11be7854",
   "metadata": {},
   "source": [
    "#### Section 4.5.1"
   ]
  },
  {
   "cell_type": "markdown",
   "id": "08d58db1",
   "metadata": {},
   "source": [
    "Listing 4.9"
   ]
  },
  {
   "cell_type": "code",
   "execution_count": 49,
   "id": "a4f12cc0",
   "metadata": {},
   "outputs": [],
   "source": [
    "from random import choices\n",
    "from collections import Counter\n",
    "\n",
    "def measure(state, shots):\n",
    "    samples = choices(range(len(state)),\n",
    "                      [abs(state[k]) ** 2 for k in range(len(state))],\n",
    "                      k=shots)\n",
    "    counts = {}\n",
    "    for (k, v) in Counter(samples).items():\n",
    "        counts[k] = v\n",
    "    return counts"
   ]
  },
  {
   "cell_type": "code",
   "execution_count": 50,
   "id": "b190aab9",
   "metadata": {},
   "outputs": [],
   "source": [
    "state = [(0.09858+0.03637j), (0.07478+0.06912j), (0.04852+0.10526j),\n",
    "         (0.00641+0.16322j), (-0.12895+0.34953j), (0.58403-0.6318j),\n",
    "         (0.18795-0.08665j), (0.12867-0.00506j)]"
   ]
  },
  {
   "cell_type": "code",
   "execution_count": 51,
   "id": "f9971afb",
   "metadata": {},
   "outputs": [
    {
     "name": "stdout",
     "output_type": "stream",
     "text": [
      "probability of outcome 0 :  0.011\n",
      "probability of outcome 1 :  0.01\n",
      "probability of outcome 2 :  0.013\n",
      "probability of outcome 3 :  0.027\n",
      "probability of outcome 4 :  0.139\n",
      "probability of outcome 5 :  0.74\n",
      "probability of outcome 6 :  0.043\n",
      "probability of outcome 7 :  0.017\n"
     ]
    }
   ],
   "source": [
    "probabilities = [[k, abs(state[k])**2] for k in range(len(state))]\n",
    "for i in probabilities:\n",
    "    print(\"probability of outcome\", i[0], \": \", round(i[1], 3))"
   ]
  },
  {
   "cell_type": "code",
   "execution_count": 52,
   "id": "2e8a2633",
   "metadata": {},
   "outputs": [
    {
     "data": {
      "text/plain": [
       "{5: 83, 2: 3, 4: 10, 3: 2, 1: 1, 6: 1}"
      ]
     },
     "execution_count": 52,
     "metadata": {},
     "output_type": "execute_result"
    }
   ],
   "source": [
    "samples = measure(state, 100)\n",
    "samples"
   ]
  },
  {
   "cell_type": "markdown",
   "id": "270f4058",
   "metadata": {},
   "source": [
    "#### Section 4.5.2"
   ]
  },
  {
   "cell_type": "markdown",
   "id": "60aa0780",
   "metadata": {},
   "source": [
    "Listing 4.10"
   ]
  },
  {
   "cell_type": "code",
   "execution_count": 53,
   "id": "17642e7e",
   "metadata": {},
   "outputs": [],
   "source": [
    "class QuantumRegister:\n",
    "    def __init__(self, size, shift=0):\n",
    "        self.size = size\n",
    "        self.shift = shift\n",
    "\n",
    "    def __getitem__(self, key):\n",
    "        if isinstance(key, slice):\n",
    "            return [self[ii] for ii in range(*key.indices(len(self)))]\n",
    "        elif isinstance(key, int):\n",
    "            if key < 0:\n",
    "                key += len(self)\n",
    "            assert(0 <= key < self.size)\n",
    "            return self.shift + key\n",
    "\n",
    "    def __len__(self):\n",
    "        return self.size\n",
    "\n",
    "    def __iter__(self):\n",
    "        return list([self.shift + i for i in range(self.size)])\n",
    "\n",
    "    def __reversed__(self):\n",
    "        return list([self.shift + i for i in range(self.size)[::-1]])"
   ]
  },
  {
   "cell_type": "markdown",
   "id": "720741fc",
   "metadata": {},
   "source": [
    "Listing 4.11"
   ]
  },
  {
   "cell_type": "code",
   "execution_count": 54,
   "id": "b359eddc",
   "metadata": {},
   "outputs": [],
   "source": [
    "class QuantumTransformation:\n",
    "    def __init__(self, gate, target, controls=[], name=None, arg=None):\n",
    "        self.gate = gate\n",
    "        self.target= target\n",
    "        self.controls = controls\n",
    "        self.name = name\n",
    "        self.arg = arg"
   ]
  },
  {
   "cell_type": "markdown",
   "id": "cec0c289",
   "metadata": {},
   "source": [
    "Listing 4.12"
   ]
  },
  {
   "cell_type": "code",
   "execution_count": 55,
   "id": "5d76730e",
   "metadata": {},
   "outputs": [],
   "source": [
    "class QuantumCircuit:\n",
    "    def __init__(self, *args):\n",
    "        bits = 0\n",
    "        regs = []\n",
    "        for register in args:\n",
    "            register.shift = bits\n",
    "            bits += register.size\n",
    "            regs.append(register.size)\n",
    "\n",
    "        self.state = init_state(bits)\n",
    "        self.transformations = []\n",
    "        self.regs = regs\n",
    "        self.reports = {}\n",
    "\n",
    "    def initialize(self, state):\n",
    "        self.state = state\n",
    "\n",
    "    def h(self, t):\n",
    "        self.transformations.append(QuantumTransformation(h, t, [], 'h'))\n",
    "\n",
    "    def x(self, t):\n",
    "        self.transformations.append(QuantumTransformation(x, t, [], 'x'))\n",
    "\n",
    "    def cx(self, c, t):\n",
    "        self.transformations.append(QuantumTransformation(x, t, [c], 'cx'))\n",
    "\n",
    "    def mcx(self, cs, t):\n",
    "        self.transformations.append(QuantumTransformation(x, t, cs))\n",
    "\n",
    "    def run(self):\n",
    "        for tr in self.transformations:\n",
    "            cs = tr.controls\n",
    "            if len(cs) == 0:\n",
    "                transform(self.state, tr.target, tr.gate)\n",
    "            elif len(cs) == 1:\n",
    "                c_transform(self.state, cs[0], tr.target, tr.gate)\n",
    "            else:\n",
    "                mc_transform(self.state, cs, tr.target, tr.gate)\n",
    "        self.transformations = []\n",
    "        return self.state\n",
    "\n",
    "    def measure(self, shots):\n",
    "        return measure(self.state, shots)"
   ]
  },
  {
   "cell_type": "code",
   "execution_count": 56,
   "id": "25c580a6",
   "metadata": {},
   "outputs": [],
   "source": [
    "q = QuantumRegister(3)\n",
    "qc = QuantumCircuit(q)\n",
    "\n",
    "qc.h(q[0])\n",
    "qc.h(q[1])\n",
    "qc.mcx([q[0], q[1]], q[2])"
   ]
  },
  {
   "cell_type": "code",
   "execution_count": 57,
   "id": "8ab1317d",
   "metadata": {},
   "outputs": [],
   "source": [
    "state = qc.run()"
   ]
  },
  {
   "cell_type": "code",
   "execution_count": 58,
   "id": "20fdd670",
   "metadata": {},
   "outputs": [
    {
     "name": "stdout",
     "output_type": "stream",
     "text": [
      "\n",
      "\n",
      "Outcome   Binary        Amplitude        Magnitude   Direction      Amplitude Bar         Probability\n",
      "----------------------------------------------------------------------------------------------------\n",
      "  0        000     +0.5000 + 0.0000*i     0.5000     0.0           ##########               0.25\n",
      "  1        001     +0.5000 + 0.0000*i     0.5000     0.0           ##########               0.25\n",
      "  2        010     +0.5000 + 0.0000*i     0.5000     0.0           ##########               0.25\n",
      "  3        011     +0.0000 + 0.0000*i     0.0000                                            0.0\n",
      "  4        100     +0.0000 + 0.0000*i     0.0000                                            0.0\n",
      "  5        101     +0.0000 + 0.0000*i     0.0000                                            0.0\n",
      "  6        110     +0.0000 + 0.0000*i     0.0000                                            0.0\n",
      "  7        111     +0.5000 + 0.0000*i     0.5000     0.0           ##########               0.25\n"
     ]
    }
   ],
   "source": [
    "print_state_table(state)"
   ]
  },
  {
   "cell_type": "code",
   "execution_count": 59,
   "id": "2bbc6cd4",
   "metadata": {},
   "outputs": [
    {
     "data": {
      "text/plain": [
       "{2: 245, 7: 238, 0: 267, 1: 250}"
      ]
     },
     "execution_count": 59,
     "metadata": {},
     "output_type": "execute_result"
    }
   ],
   "source": [
    "samples = measure(state, 1000)\n",
    "samples"
   ]
  },
  {
   "cell_type": "markdown",
   "id": "6971ffc7",
   "metadata": {},
   "source": [
    "#### Section 4.5.3"
   ]
  },
  {
   "cell_type": "code",
   "execution_count": 60,
   "id": "bad197c1",
   "metadata": {},
   "outputs": [],
   "source": [
    "q = QuantumRegister(3)\n",
    "qc = QuantumCircuit(q)\n",
    "\n",
    "for i in range(len(q)):\n",
    "    qc.h(q[i])\n",
    "\n",
    "state = qc.run()"
   ]
  },
  {
   "cell_type": "code",
   "execution_count": 61,
   "id": "9acfc4e7",
   "metadata": {},
   "outputs": [
    {
     "name": "stdout",
     "output_type": "stream",
     "text": [
      "\n",
      "\n",
      "Outcome   Binary        Amplitude        Magnitude   Direction      Amplitude Bar         Probability\n",
      "----------------------------------------------------------------------------------------------------\n",
      "  0        000     +0.3536 + 0.0000*i     0.3536     0.0           #######                  0.125\n",
      "  1        001     +0.3536 + 0.0000*i     0.3536     0.0           #######                  0.125\n",
      "  2        010     +0.3536 + 0.0000*i     0.3536     0.0           #######                  0.125\n",
      "  3        011     +0.3536 + 0.0000*i     0.3536     0.0           #######                  0.125\n",
      "  4        100     +0.3536 + 0.0000*i     0.3536     0.0           #######                  0.125\n",
      "  5        101     +0.3536 + 0.0000*i     0.3536     0.0           #######                  0.125\n",
      "  6        110     +0.3536 + 0.0000*i     0.3536     0.0           #######                  0.125\n",
      "  7        111     +0.3536 + 0.0000*i     0.3536     0.0           #######                  0.125\n"
     ]
    }
   ],
   "source": [
    "print_state_table(state)"
   ]
  },
  {
   "cell_type": "markdown",
   "id": "bd9bb319",
   "metadata": {},
   "source": [
    "Listing 4.13"
   ]
  },
  {
   "cell_type": "code",
   "execution_count": 62,
   "id": "03b0a7fa",
   "metadata": {},
   "outputs": [],
   "source": [
    "def uniform(n):\n",
    "    q = QuantumRegister(n)\n",
    "    qc = QuantumCircuit(q)\n",
    "\n",
    "    for i in range(len(q)):\n",
    "        qc.h(q[i])\n",
    "\n",
    "    return qc"
   ]
  },
  {
   "cell_type": "markdown",
   "id": "76e9ae33",
   "metadata": {},
   "source": [
    "#### Section 4.5.4"
   ]
  },
  {
   "cell_type": "code",
   "execution_count": 63,
   "id": "4b682513",
   "metadata": {},
   "outputs": [],
   "source": [
    "from sim_circuit import *\n",
    "\n",
    "q = QuantumRegister(3)\n",
    "qc = QuantumCircuit(q)\n",
    "\n",
    "for i in range(len(q)):\n",
    "    qc.ry(pi/3, q[i])\n",
    "\n",
    "state = qc.run()"
   ]
  },
  {
   "cell_type": "code",
   "execution_count": 64,
   "id": "39a016d7",
   "metadata": {},
   "outputs": [
    {
     "name": "stdout",
     "output_type": "stream",
     "text": [
      "\n",
      "\n",
      "Outcome   Binary        Amplitude        Magnitude   Direction      Amplitude Bar         Probability\n",
      "----------------------------------------------------------------------------------------------------\n",
      "  0        000     +0.6495 + 0.0000*i     0.6495     0.0           ############             0.4219\n",
      "  1        001     +0.3750 + 0.0000*i     0.3750     0.0           #######                  0.1406\n",
      "  2        010     +0.3750 + 0.0000*i     0.3750     0.0           #######                  0.1406\n",
      "  3        011     +0.2165 + 0.0000*i     0.2165     0.0           ####                     0.0469\n",
      "  4        100     +0.3750 + 0.0000*i     0.3750     0.0           #######                  0.1406\n",
      "  5        101     +0.2165 + 0.0000*i     0.2165     0.0           ####                     0.0469\n",
      "  6        110     +0.2165 + 0.0000*i     0.2165     0.0           ####                     0.0469\n",
      "  7        111     +0.1250 + 0.0000*i     0.1250     0.0           ##                       0.0156\n"
     ]
    }
   ],
   "source": [
    "print_state_table(state)"
   ]
  },
  {
   "cell_type": "markdown",
   "id": "acb77c8e",
   "metadata": {},
   "source": [
    "Listing 4.14"
   ]
  },
  {
   "cell_type": "code",
   "execution_count": 65,
   "id": "1796216d",
   "metadata": {},
   "outputs": [],
   "source": [
    "def binomial(n, theta):\n",
    "    q = QuantumRegister(n)\n",
    "    qc = QuantumCircuit(q)\n",
    "\n",
    "    for i in range(len(q)): # <1>\n",
    "        qc.ry(theta, q[i])\n",
    "    \n",
    "    return qc"
   ]
  },
  {
   "cell_type": "markdown",
   "id": "a641754e",
   "metadata": {},
   "source": [
    "#### Section 4.5.5"
   ]
  },
  {
   "cell_type": "code",
   "execution_count": 66,
   "id": "30b2e28d",
   "metadata": {},
   "outputs": [],
   "source": [
    "q = QuantumRegister(2)\n",
    "qc = QuantumCircuit(q)\n",
    "\n",
    "qc.h(q[0])\n",
    "qc.cx(q[0], q[1])\n",
    "\n",
    "state = qc.run()"
   ]
  },
  {
   "cell_type": "code",
   "execution_count": 67,
   "id": "1946888c",
   "metadata": {},
   "outputs": [
    {
     "name": "stdout",
     "output_type": "stream",
     "text": [
      "\n",
      "\n",
      "Outcome   Binary        Amplitude        Magnitude   Direction      Amplitude Bar         Probability\n",
      "----------------------------------------------------------------------------------------------------\n",
      "  0         00     +0.7071 + 0.0000*i     0.7071     0.0           ##############           0.5\n",
      "  1         01     +0.0000 + 0.0000*i     0.0000                                            0.0\n",
      "  2         10     +0.0000 + 0.0000*i     0.0000                                            0.0\n",
      "  3         11     +0.7071 + 0.0000*i     0.7071     0.0           ##############           0.5\n"
     ]
    }
   ],
   "source": [
    "print_state_table(state)"
   ]
  },
  {
   "cell_type": "code",
   "execution_count": 68,
   "id": "408274a9",
   "metadata": {},
   "outputs": [],
   "source": [
    "q = QuantumRegister(2)\n",
    "qc = QuantumCircuit(q)\n",
    "\n",
    "qc.h(q[0])\n",
    "qc.x(q[1])\n",
    "qc.cx(q[0], q[1])\n",
    "\n",
    "state = qc.run()"
   ]
  },
  {
   "cell_type": "code",
   "execution_count": 69,
   "id": "898bcd92",
   "metadata": {},
   "outputs": [
    {
     "name": "stdout",
     "output_type": "stream",
     "text": [
      "\n",
      "\n",
      "Outcome   Binary        Amplitude        Magnitude   Direction      Amplitude Bar         Probability\n",
      "----------------------------------------------------------------------------------------------------\n",
      "  0         00     +0.0000 + 0.0000*i     0.0000                                            0.0\n",
      "  1         01     +0.7071 + 0.0000*i     0.7071     0.0           ##############           0.5\n",
      "  2         10     +0.7071 + 0.0000*i     0.7071     0.0           ##############           0.5\n",
      "  3         11     +0.0000 + 0.0000*i     0.0000                                            0.0\n"
     ]
    }
   ],
   "source": [
    "print_state_table(state)"
   ]
  }
 ],
 "metadata": {
  "kernelspec": {
   "display_name": "Python 3 (ipykernel)",
   "language": "python",
   "name": "python3"
  },
  "language_info": {
   "codemirror_mode": {
    "name": "ipython",
    "version": 3
   },
   "file_extension": ".py",
   "mimetype": "text/x-python",
   "name": "python",
   "nbconvert_exporter": "python",
   "pygments_lexer": "ipython3",
   "version": "3.9.13"
  }
 },
 "nbformat": 4,
 "nbformat_minor": 5
}
