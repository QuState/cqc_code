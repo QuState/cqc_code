{
 "cells": [
  {
   "cell_type": "code",
   "execution_count": null,
   "id": "0d02f891",
   "metadata": {
    "ExecuteTime": {
     "end_time": "2023-11-01T18:50:47.143668Z",
     "start_time": "2023-11-01T18:50:46.928513Z"
    }
   },
   "outputs": [],
   "source": [
    "import os\n",
    "os.chdir('..')\n",
    "\n",
    "from util import CONFIG\n",
    "CONFIG.set_use_mpl_tables(True)"
   ]
  },
  {
   "cell_type": "markdown",
   "id": "be73b7c5",
   "metadata": {},
   "source": [
    "## Section 5.1"
   ]
  },
  {
   "cell_type": "markdown",
   "id": "b15d63d2",
   "metadata": {},
   "source": [
    "#### Section 5.1.1"
   ]
  },
  {
   "cell_type": "code",
   "execution_count": null,
   "id": "bd4a5688",
   "metadata": {
    "ExecuteTime": {
     "end_time": "2023-11-01T18:50:47.188871Z",
     "start_time": "2023-11-01T18:50:46.935950Z"
    }
   },
   "outputs": [],
   "source": [
    "from math import sqrt, pi, cos\n",
    "N = 8\n",
    "frequency = 1.7\n",
    "samples = [1/sqrt(8)*cos(2 * pi * frequency * (t / N)) for t in range(N)]"
   ]
  },
  {
   "cell_type": "code",
   "execution_count": null,
   "id": "c1a3897f",
   "metadata": {
    "ExecuteTime": {
     "end_time": "2023-11-01T18:50:48.277395Z",
     "start_time": "2023-11-01T18:50:46.939249Z"
    },
    "scrolled": true
   },
   "outputs": [],
   "source": [
    "import numpy as np\n",
    "import matplotlib.pyplot as plt\n",
    "\n",
    "x = np.linspace(0, N, 50)\n",
    "wave = [1/sqrt(8)*cos(2 * pi * frequency * (t/N)) for t in x]\n",
    "plt.plot(x, wave, label='signal', color='red')\n",
    "plt.scatter(range(N), samples)\n",
    "plt.show()"
   ]
  },
  {
   "cell_type": "code",
   "execution_count": null,
   "id": "f3c8839c",
   "metadata": {
    "ExecuteTime": {
     "end_time": "2023-11-01T18:50:48.280554Z",
     "start_time": "2023-11-01T18:50:48.278412Z"
    }
   },
   "outputs": [],
   "source": [
    "f = np.fft.fft(samples)\n",
    "f"
   ]
  },
  {
   "cell_type": "code",
   "execution_count": null,
   "id": "77180767",
   "metadata": {
    "ExecuteTime": {
     "end_time": "2023-11-01T18:50:48.364318Z",
     "start_time": "2023-11-01T18:50:48.283480Z"
    }
   },
   "outputs": [],
   "source": [
    "plt.stem(np.abs(f),use_line_collection=True)"
   ]
  },
  {
   "cell_type": "code",
   "execution_count": null,
   "id": "a929d214",
   "metadata": {
    "ExecuteTime": {
     "end_time": "2023-11-01T18:50:48.605487Z",
     "start_time": "2023-11-01T18:50:48.366971Z"
    }
   },
   "outputs": [],
   "source": [
    "from math import atan2\n",
    "\n",
    "a = abs(f)\n",
    "d = [atan2(c.imag, c.real) for c in f]\n",
    "fig, axs = plt.subplots(int(N / 2) + 1)\n",
    "for k in range(int(N / 2) + 1):\n",
    "    axs[k].plot(x, [(1 / N if k == 0 or k == N / 2 else 2 / N) * a[k] * cos(\n",
    "        2 * pi / N * k * j + d[k]) for j in x])\n",
    "plt.show()"
   ]
  },
  {
   "cell_type": "markdown",
   "id": "8a2b0544",
   "metadata": {},
   "source": [
    "#### Section 5.1.2"
   ]
  },
  {
   "cell_type": "markdown",
   "id": "694c4121",
   "metadata": {},
   "source": [
    "Listing 5.1"
   ]
  },
  {
   "cell_type": "code",
   "execution_count": null,
   "id": "287739c7",
   "metadata": {
    "ExecuteTime": {
     "end_time": "2023-11-01T18:50:48.612202Z",
     "start_time": "2023-11-01T18:50:48.606383Z"
    }
   },
   "outputs": [],
   "source": [
    "from math import pi\n",
    "from sim_circuit import QuantumRegister, QuantumCircuit\n",
    "\n",
    "def real_valued_sinusoids(n, v):\n",
    "    N = 2**n\n",
    "    theta = v*2*pi/N\n",
    "\n",
    "    q = QuantumRegister(n)\n",
    "    a = QuantumRegister(1)\n",
    "    qc = QuantumCircuit(q, a) # ancilla is last qubit\n",
    "\n",
    "    for j in range(n):\n",
    "        qc.h(q[j])\n",
    "\n",
    "    for j in range(n):\n",
    "        qc.cry(2**(j+1)*theta, q[j], a[0])\n",
    "\n",
    "    return qc"
   ]
  },
  {
   "cell_type": "code",
   "execution_count": null,
   "id": "9ae56aab",
   "metadata": {
    "ExecuteTime": {
     "end_time": "2023-11-01T18:50:48.615019Z",
     "start_time": "2023-11-01T18:50:48.611876Z"
    }
   },
   "outputs": [],
   "source": [
    "qc = real_valued_sinusoids(3, 1.7)\n",
    "state = qc.run()"
   ]
  },
  {
   "cell_type": "code",
   "execution_count": null,
   "id": "4d1b1428",
   "metadata": {
    "ExecuteTime": {
     "end_time": "2023-11-01T18:50:48.617922Z",
     "start_time": "2023-11-01T18:50:48.615613Z"
    }
   },
   "outputs": [],
   "source": [
    "from util import show_state_table\n",
    "\n",
    "show_state_table(state)"
   ]
  },
  {
   "cell_type": "code",
   "execution_count": null,
   "id": "14c50482",
   "metadata": {
    "ExecuteTime": {
     "end_time": "2023-11-01T18:50:48.625911Z",
     "start_time": "2023-11-01T18:50:48.622064Z"
    }
   },
   "outputs": [],
   "source": [
    "def cis(theta):\n",
    "    return cos(theta) + 1j*sin(theta)"
   ]
  },
  {
   "cell_type": "code",
   "execution_count": null,
   "id": "eacf5709",
   "metadata": {
    "ExecuteTime": {
     "end_time": "2023-11-01T18:50:48.642648Z",
     "start_time": "2023-11-01T18:50:48.625547Z"
    }
   },
   "outputs": [],
   "source": [
    "from math import sin\n",
    "\n",
    "theta = pi/3\n",
    "state = [sqrt(1/N) * cis(k*theta) for k in range(N)]"
   ]
  },
  {
   "cell_type": "markdown",
   "id": "f400eeaf",
   "metadata": {},
   "source": [
    "Listing 5.2"
   ]
  },
  {
   "cell_type": "code",
   "execution_count": null,
   "id": "bf9180af",
   "metadata": {
    "ExecuteTime": {
     "end_time": "2023-11-01T18:50:48.653021Z",
     "start_time": "2023-11-01T18:50:48.628576Z"
    }
   },
   "outputs": [],
   "source": [
    "def geom(n, theta):\n",
    "    N = 2**n\n",
    "    return [sqrt(1/N) * cis(k*theta) for k in range(N)]"
   ]
  },
  {
   "cell_type": "code",
   "execution_count": null,
   "id": "42614262",
   "metadata": {
    "ExecuteTime": {
     "end_time": "2023-11-01T18:50:48.659146Z",
     "start_time": "2023-11-01T18:50:48.632359Z"
    }
   },
   "outputs": [],
   "source": [
    "state = geom(3, pi/3)\n",
    "[(round(amp.real, 5) + 1j*round(amp.imag, 5)) for amp in state]"
   ]
  },
  {
   "cell_type": "code",
   "execution_count": null,
   "id": "994ea76a",
   "metadata": {
    "ExecuteTime": {
     "end_time": "2023-11-01T18:50:48.659490Z",
     "start_time": "2023-11-01T18:50:48.636433Z"
    }
   },
   "outputs": [],
   "source": [
    "for k in range(len(state)):\n",
    "    print(\"phase of amplitude \", k, \":\", round(atan2(state[k].imag, state[k].real), 5))"
   ]
  },
  {
   "cell_type": "code",
   "execution_count": null,
   "id": "2109c15a",
   "metadata": {
    "ExecuteTime": {
     "end_time": "2023-11-01T18:50:48.662122Z",
     "start_time": "2023-11-01T18:50:48.641239Z"
    }
   },
   "outputs": [],
   "source": [
    "state = geom(3, pi/6)\n",
    "[(round(amp.real, 5) + 1j*round(amp.imag, 4)) for amp in state]"
   ]
  },
  {
   "cell_type": "markdown",
   "id": "231e8f0c",
   "metadata": {},
   "source": [
    "Listing 5.3"
   ]
  },
  {
   "cell_type": "code",
   "execution_count": null,
   "id": "ea911f8f",
   "metadata": {
    "ExecuteTime": {
     "end_time": "2023-11-01T18:50:48.662192Z",
     "start_time": "2023-11-01T18:50:48.645761Z"
    }
   },
   "outputs": [],
   "source": [
    "def geometric_sequence_circuit(n, v):\n",
    "    theta = v*2*pi/2**n\n",
    "\n",
    "    q = QuantumRegister(n)\n",
    "    qc = QuantumCircuit(q)\n",
    "\n",
    "    for j in range(n):\n",
    "        qc.h(q[j])\n",
    "\n",
    "    for j in range(n):\n",
    "        qc.p(2 ** j * theta, q[j])\n",
    "\n",
    "    return qc"
   ]
  },
  {
   "cell_type": "code",
   "execution_count": null,
   "id": "8318bc07",
   "metadata": {
    "ExecuteTime": {
     "end_time": "2023-11-01T18:50:48.662248Z",
     "start_time": "2023-11-01T18:50:48.649488Z"
    }
   },
   "outputs": [],
   "source": [
    "n = 3\n",
    "v = 1.7\n",
    "qc = geometric_sequence_circuit(n, v)\n",
    "state = qc.run()\n",
    "\n",
    "from util import all_close\n",
    "\n",
    "theta = v*2*pi/2**n\n",
    "assert all_close(state, [sqrt(1/2**n) * cis(k*theta) for k in range(2**n)])"
   ]
  },
  {
   "cell_type": "code",
   "execution_count": null,
   "id": "c8069008",
   "metadata": {
    "ExecuteTime": {
     "end_time": "2023-11-01T18:50:48.669780Z",
     "start_time": "2023-11-01T18:50:48.652425Z"
    }
   },
   "outputs": [],
   "source": [
    "show_state_table(state)"
   ]
  },
  {
   "cell_type": "markdown",
   "id": "a37f7184",
   "metadata": {},
   "source": [
    "#### Section 5.1.3"
   ]
  },
  {
   "cell_type": "code",
   "execution_count": null,
   "id": "c6744bb4",
   "metadata": {
    "ExecuteTime": {
     "end_time": "2023-11-01T18:50:48.670008Z",
     "start_time": "2023-11-01T18:50:48.655873Z"
    }
   },
   "outputs": [],
   "source": [
    "N = 8\n",
    "omega = cis(2*pi/N)\n",
    "abs(omega**N)"
   ]
  },
  {
   "cell_type": "code",
   "execution_count": null,
   "id": "b2c1a150",
   "metadata": {
    "ExecuteTime": {
     "end_time": "2023-11-01T18:50:48.693625Z",
     "start_time": "2023-11-01T18:50:48.660614Z"
    }
   },
   "outputs": [],
   "source": [
    "omega = cis(2*pi/N)\n",
    "sequence = [omega**k for k in range(N)]\n",
    "[(round(amp.real, 5) + 1j*round(amp.imag, 4)) for amp in sequence]"
   ]
  },
  {
   "cell_type": "code",
   "execution_count": null,
   "id": "bf81dd3f",
   "metadata": {
    "ExecuteTime": {
     "end_time": "2023-11-01T18:50:48.745192Z",
     "start_time": "2023-11-01T18:50:48.665307Z"
    }
   },
   "outputs": [],
   "source": [
    "N = 8\n",
    "sequence = [cis(l*2*pi/N) for l in range(N)]\n",
    "[(round(amp.real, 5) + 1j*round(amp.imag, 4)) for amp in sequence]"
   ]
  },
  {
   "cell_type": "markdown",
   "id": "93f7e249",
   "metadata": {},
   "source": [
    "## Section 5.2"
   ]
  },
  {
   "cell_type": "code",
   "execution_count": null,
   "id": "58d503d8",
   "metadata": {
    "ExecuteTime": {
     "end_time": "2023-11-01T18:50:48.771866Z",
     "start_time": "2023-11-01T18:50:48.668587Z"
    }
   },
   "outputs": [],
   "source": [
    "state = geom(1, pi/3)"
   ]
  },
  {
   "cell_type": "code",
   "execution_count": null,
   "id": "8cb6a784",
   "metadata": {
    "ExecuteTime": {
     "end_time": "2023-11-01T18:50:48.772344Z",
     "start_time": "2023-11-01T18:50:48.672409Z"
    }
   },
   "outputs": [],
   "source": [
    "q = QuantumRegister(1)\n",
    "qc = QuantumCircuit(q)\n",
    "\n",
    "theta = pi/3\n",
    "qc.h(q[0])\n",
    "qc.p(theta, q[0])\n",
    "qc.h(q[0])\n",
    "\n",
    "state = qc.run()"
   ]
  },
  {
   "cell_type": "code",
   "execution_count": null,
   "id": "5ec5aca9",
   "metadata": {
    "ExecuteTime": {
     "end_time": "2023-11-01T18:50:48.772402Z",
     "start_time": "2023-11-01T18:50:48.676185Z"
    }
   },
   "outputs": [],
   "source": [
    "from util import is_close\n",
    "theta = pi/3\n",
    "[(round(amp.real, 5) + 1j*round(amp.imag, 5)) for amp in state]\n",
    "assert(is_close(abs(state[0]), cos(theta/2)))\n",
    "assert(is_close(abs(state[1]), sin(theta/2)))"
   ]
  },
  {
   "cell_type": "markdown",
   "id": "aace8abc",
   "metadata": {},
   "source": [
    "## Section 5.3"
   ]
  },
  {
   "cell_type": "code",
   "execution_count": null,
   "id": "4d98d5f6",
   "metadata": {
    "ExecuteTime": {
     "end_time": "2023-11-01T18:50:48.772475Z",
     "start_time": "2023-11-01T18:50:48.679468Z"
    }
   },
   "outputs": [],
   "source": [
    "quantities = [4, 2, 2, 3]\n",
    "prices = [1.2, 1.5, 2, 0.7]"
   ]
  },
  {
   "cell_type": "code",
   "execution_count": null,
   "id": "f490bb42",
   "metadata": {
    "ExecuteTime": {
     "end_time": "2023-11-01T18:50:48.780831Z",
     "start_time": "2023-11-01T18:50:48.682666Z"
    }
   },
   "outputs": [],
   "source": [
    "sum([quantities[k] * prices[k] for k in range(len(quantities))])"
   ]
  },
  {
   "cell_type": "markdown",
   "id": "284774c0",
   "metadata": {},
   "source": [
    "Listing 5.4"
   ]
  },
  {
   "cell_type": "code",
   "execution_count": null,
   "id": "ccbfea41",
   "metadata": {
    "ExecuteTime": {
     "end_time": "2023-11-01T18:50:48.781099Z",
     "start_time": "2023-11-01T18:50:48.686014Z"
    }
   },
   "outputs": [],
   "source": [
    "def inner(v1, v2):\n",
    "    assert(len(v1) == len(v2))\n",
    "    return sum(z1*z2.conjugate() for z1, z2 in zip(v1, v2))"
   ]
  },
  {
   "cell_type": "markdown",
   "id": "8a8e43d1",
   "metadata": {},
   "source": [
    "## Section 5.4"
   ]
  },
  {
   "cell_type": "markdown",
   "id": "877c4608",
   "metadata": {},
   "source": [
    "#### Section 5.4.1"
   ]
  },
  {
   "cell_type": "code",
   "execution_count": null,
   "id": "a3f3f1e7",
   "metadata": {
    "ExecuteTime": {
     "end_time": "2023-11-01T18:50:48.782888Z",
     "start_time": "2023-11-01T18:50:48.695908Z"
    }
   },
   "outputs": [],
   "source": [
    "N = 4\n",
    "omega = cis(2*pi/N)\n",
    "F_0 = [omega**(0*k) for k in range(N)]\n",
    "F_1 = [omega**(1*k) for k in range(N)]\n",
    "F_2 = [omega**(2*k) for k in range(N)]\n",
    "F_3 = [omega**(3*k) for k in range(N)]"
   ]
  },
  {
   "cell_type": "code",
   "execution_count": null,
   "id": "75c897df",
   "metadata": {
    "ExecuteTime": {
     "end_time": "2023-11-01T18:50:48.783306Z",
     "start_time": "2023-11-01T18:50:48.698608Z"
    }
   },
   "outputs": [],
   "source": [
    "F_0"
   ]
  },
  {
   "cell_type": "code",
   "execution_count": null,
   "id": "239926c9",
   "metadata": {
    "ExecuteTime": {
     "end_time": "2023-11-01T18:50:48.783513Z",
     "start_time": "2023-11-01T18:50:48.703884Z"
    }
   },
   "outputs": [],
   "source": [
    "N = 4\n",
    "F_0 = [cis(k*0*2*pi/N) for k in range(N)]\n",
    "F_1 = [cis(k*1*2*pi/N) for k in range(N)]\n",
    "F_2 = [cis(k*2*2*pi/N) for k in range(N)]\n",
    "F_3 = [cis(k*3*2*pi/N) for k in range(N)]"
   ]
  },
  {
   "cell_type": "code",
   "execution_count": null,
   "id": "1485a2ac",
   "metadata": {
    "ExecuteTime": {
     "end_time": "2023-11-01T18:50:48.783701Z",
     "start_time": "2023-11-01T18:50:48.707241Z"
    }
   },
   "outputs": [],
   "source": [
    "N = 8\n",
    "frequency = 1.7\n",
    "samples = [1/sqrt(N)*cos(2 * pi * frequency * (i / N)) for i in range(N)]"
   ]
  },
  {
   "cell_type": "code",
   "execution_count": null,
   "id": "75430754",
   "metadata": {
    "ExecuteTime": {
     "end_time": "2023-11-01T18:50:48.783867Z",
     "start_time": "2023-11-01T18:50:48.711234Z"
    }
   },
   "outputs": [],
   "source": [
    "F_0 = [cis(k*0*2*pi/N) for k in range(N)]\n",
    "similarity = inner(samples, F_0)\n",
    "round(similarity.real, 5) + 1j*round(similarity.imag, 5)"
   ]
  },
  {
   "cell_type": "code",
   "execution_count": null,
   "id": "38dceb83",
   "metadata": {
    "ExecuteTime": {
     "end_time": "2023-11-01T18:50:48.784183Z",
     "start_time": "2023-11-01T18:50:48.714009Z"
    }
   },
   "outputs": [],
   "source": [
    "dft = [inner(samples, [cis(k*l*2*pi/N) for k in range(N)]) for l in range(8)]\n",
    "[(round(x.real, 5) + 1j*round(x.imag, 5)) for x in dft]"
   ]
  },
  {
   "cell_type": "code",
   "execution_count": null,
   "id": "b7830d42",
   "metadata": {
    "ExecuteTime": {
     "end_time": "2023-11-01T18:50:48.784348Z",
     "start_time": "2023-11-01T18:50:48.720198Z"
    }
   },
   "outputs": [],
   "source": [
    "f = np.fft.fft(samples)\n",
    "f"
   ]
  },
  {
   "cell_type": "markdown",
   "id": "17caaa21",
   "metadata": {},
   "source": [
    "#### Section 5.4.2"
   ]
  },
  {
   "cell_type": "markdown",
   "id": "74c3b9d7",
   "metadata": {},
   "source": [
    "Listing 5.5"
   ]
  },
  {
   "cell_type": "code",
   "execution_count": null,
   "id": "ce75d519",
   "metadata": {
    "ExecuteTime": {
     "end_time": "2023-11-01T18:50:48.784497Z",
     "start_time": "2023-11-01T18:50:48.723466Z"
    }
   },
   "outputs": [],
   "source": [
    "def fourier_basis(N, l):\n",
    "    return [1/sqrt(N) * cis(k*l*2*pi/N) for k in range(N)]"
   ]
  },
  {
   "cell_type": "code",
   "execution_count": null,
   "id": "8f5b5819",
   "metadata": {
    "ExecuteTime": {
     "end_time": "2023-11-01T18:50:48.784659Z",
     "start_time": "2023-11-01T18:50:48.727646Z"
    }
   },
   "outputs": [],
   "source": [
    "N = 8\n",
    "v = 1.7\n",
    "state = [1/sqrt(N)*cos(k*v*2*pi/N) for k in range(N)] \\\n",
    "        + [1/sqrt(N)*sin(k*v*2*pi/N) for k in range(N)]"
   ]
  },
  {
   "cell_type": "code",
   "execution_count": null,
   "id": "525835be",
   "metadata": {
    "ExecuteTime": {
     "end_time": "2023-11-01T18:50:48.793788Z",
     "start_time": "2023-11-01T18:50:48.730938Z"
    }
   },
   "outputs": [],
   "source": [
    "similarity = inner(state[:N], fourier_basis(N,0))\n",
    "round(similarity.real, 5) + 1j*round(similarity.imag, 5)"
   ]
  },
  {
   "cell_type": "code",
   "execution_count": null,
   "id": "4f06720a",
   "metadata": {
    "ExecuteTime": {
     "end_time": "2023-11-01T18:50:48.793958Z",
     "start_time": "2023-11-01T18:50:48.735178Z"
    }
   },
   "outputs": [],
   "source": [
    "similarity/(1/sqrt(8))"
   ]
  },
  {
   "cell_type": "code",
   "execution_count": null,
   "id": "c2f006c6",
   "metadata": {
    "ExecuteTime": {
     "end_time": "2023-11-01T18:50:48.794006Z",
     "start_time": "2023-11-01T18:50:48.739156Z"
    }
   },
   "outputs": [],
   "source": [
    "iqft = [inner(state[:N], fourier_basis(N, k)) for k in range(N)] + \\\n",
    "       [inner(state[N:], fourier_basis(N, k)) for k in range(N)]"
   ]
  },
  {
   "cell_type": "code",
   "execution_count": null,
   "id": "1cb48817",
   "metadata": {
    "ExecuteTime": {
     "end_time": "2023-11-01T18:50:48.794116Z",
     "start_time": "2023-11-01T18:50:48.742790Z"
    }
   },
   "outputs": [],
   "source": [
    "show_state_table(iqft)"
   ]
  },
  {
   "cell_type": "markdown",
   "id": "45aa99f9",
   "metadata": {},
   "source": [
    "Listing 5.6"
   ]
  },
  {
   "cell_type": "code",
   "execution_count": null,
   "id": "1176305c",
   "metadata": {
    "ExecuteTime": {
     "end_time": "2023-11-01T18:50:48.797532Z",
     "start_time": "2023-11-01T18:50:48.746927Z"
    }
   },
   "outputs": [],
   "source": [
    "def icft(state):\n",
    "    N = len(state)\n",
    "    s = [state[k] for k in range(N)]\n",
    "\n",
    "    for i in range(N):\n",
    "        state[i] = inner(s, fourier_basis(N, i))"
   ]
  },
  {
   "cell_type": "markdown",
   "id": "800bdc80",
   "metadata": {},
   "source": [
    "Listing 5.7"
   ]
  },
  {
   "cell_type": "code",
   "execution_count": null,
   "id": "62938f76",
   "metadata": {
    "ExecuteTime": {
     "end_time": "2023-11-01T18:50:48.797662Z",
     "start_time": "2023-11-01T18:50:48.750015Z"
    }
   },
   "outputs": [],
   "source": [
    "def cft(state):\n",
    "    N = len(state)\n",
    "    s = [state[k] for k in range(N)]\n",
    "\n",
    "    for i in range(N):\n",
    "        state[i] = inner(s, fourier_basis(N, -i))"
   ]
  },
  {
   "cell_type": "markdown",
   "id": "e031d998",
   "metadata": {},
   "source": [
    "## Section 5.5"
   ]
  },
  {
   "cell_type": "markdown",
   "id": "f0297610",
   "metadata": {},
   "source": [
    "Listing 5.8"
   ]
  },
  {
   "cell_type": "code",
   "execution_count": null,
   "id": "436ec365",
   "metadata": {
    "ExecuteTime": {
     "end_time": "2023-11-01T18:50:48.797721Z",
     "start_time": "2023-11-01T18:50:48.759764Z"
    }
   },
   "outputs": [],
   "source": [
    "def qft(self, targets, swap=True):\n",
    "    for j in range(len(targets))[::-1]:\n",
    "        self.h(targets[j])\n",
    "        for k in range(j)[::-1]:\n",
    "            self.cp(pi * 2.0 ** (k - j), targets[j], targets[k])\n",
    "\n",
    "    if swap:\n",
    "        self.mswap(targets)\n",
    "\n",
    "def iqft(self, targets, swap=True):\n",
    "    for j in range(len(targets))[::-1]:\n",
    "        self.h(targets[j])\n",
    "        for k in range(j)[::-1]:\n",
    "            self.cp(-pi * 2 ** (k - j), targets[j], targets[k])\n",
    "\n",
    "    if swap:\n",
    "        self.mswap(targets)"
   ]
  },
  {
   "cell_type": "markdown",
   "id": "d09df6eb",
   "metadata": {},
   "source": [
    "#### Section 5.5.1"
   ]
  },
  {
   "cell_type": "code",
   "execution_count": null,
   "id": "75b0bbef",
   "metadata": {
    "ExecuteTime": {
     "end_time": "2023-11-01T18:50:48.879905Z",
     "start_time": "2023-11-01T18:50:48.764263Z"
    }
   },
   "outputs": [],
   "source": [
    "divmod(13, 2)"
   ]
  },
  {
   "cell_type": "code",
   "execution_count": null,
   "id": "a04fa706",
   "metadata": {
    "ExecuteTime": {
     "end_time": "2023-11-01T18:50:48.898251Z",
     "start_time": "2023-11-01T18:50:48.767983Z"
    }
   },
   "outputs": [],
   "source": [
    "divmod(6, 2)"
   ]
  },
  {
   "cell_type": "code",
   "execution_count": null,
   "id": "d12f3f87",
   "metadata": {
    "ExecuteTime": {
     "end_time": "2023-11-01T18:50:48.912941Z",
     "start_time": "2023-11-01T18:50:48.773277Z"
    }
   },
   "outputs": [],
   "source": [
    "divmod(3, 2)"
   ]
  },
  {
   "cell_type": "code",
   "execution_count": null,
   "id": "d4e79b38",
   "metadata": {
    "ExecuteTime": {
     "end_time": "2023-11-01T18:50:48.913142Z",
     "start_time": "2023-11-01T18:50:48.776775Z"
    }
   },
   "outputs": [],
   "source": [
    "divmod(1, 2)"
   ]
  }
 ],
 "metadata": {
  "kernelspec": {
   "display_name": "Python 3 (ipykernel)",
   "language": "python",
   "name": "python3"
  },
  "language_info": {
   "codemirror_mode": {
    "name": "ipython",
    "version": 3
   },
   "file_extension": ".py",
   "mimetype": "text/x-python",
   "name": "python",
   "nbconvert_exporter": "python",
   "pygments_lexer": "ipython3",
   "version": "3.9.13"
  }
 },
 "nbformat": 4,
 "nbformat_minor": 5
}
