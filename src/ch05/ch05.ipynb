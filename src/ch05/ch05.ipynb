{
 "cells": [
  {
   "cell_type": "code",
   "execution_count": null,
   "id": "f1feb3af",
   "metadata": {},
   "outputs": [],
   "source": [
    "import os\n",
    "os.chdir('..')"
   ]
  },
  {
   "cell_type": "markdown",
   "id": "dd2f4118",
   "metadata": {},
   "source": [
    "## Section 5.1"
   ]
  },
  {
   "cell_type": "markdown",
   "id": "964c4fc1",
   "metadata": {},
   "source": [
    "#### Section 5.1.1"
   ]
  },
  {
   "cell_type": "code",
   "execution_count": null,
   "id": "968dbb0e",
   "metadata": {},
   "outputs": [],
   "source": [
    "from math import sqrt, pi, cos\n",
    "N = 8\n",
    "frequency = 1.7\n",
    "samples = [1/sqrt(8)*cos(2 * pi * frequency * (t / N)) for t in range(N)]"
   ]
  },
  {
   "cell_type": "code",
   "execution_count": null,
   "id": "c1a3897f",
   "metadata": {
    "scrolled": true
   },
   "outputs": [],
   "source": [
    "import numpy as np\n",
    "import matplotlib.pyplot as plt\n",
    "\n",
    "x = np.linspace(0, N, 50)\n",
    "wave = [1/sqrt(8)*cos(2 * pi * frequency * (t/N)) for t in x]\n",
    "plt.plot(x, wave, label='signal', color='red')\n",
    "plt.scatter(range(N), samples)\n",
    "plt.show()"
   ]
  },
  {
   "cell_type": "code",
   "execution_count": null,
   "id": "f3c8839c",
   "metadata": {},
   "outputs": [],
   "source": [
    "f = np.fft.fft(samples)\n",
    "f"
   ]
  },
  {
   "cell_type": "code",
   "execution_count": null,
   "id": "77180767",
   "metadata": {},
   "outputs": [],
   "source": [
    "plt.stem(np.abs(f),use_line_collection=True)"
   ]
  },
  {
   "cell_type": "code",
   "execution_count": null,
   "id": "a929d214",
   "metadata": {},
   "outputs": [],
   "source": [
    "from math import atan2\n",
    "\n",
    "a = abs(f)\n",
    "d = [atan2(c.imag, c.real) for c in f]\n",
    "fig, axs = plt.subplots(int(N / 2) + 1)\n",
    "for k in range(int(N / 2) + 1):\n",
    "    axs[k].plot(x, [(1 / N if k == 0 or k == N / 2 else 2 / N) * a[k] * cos(\n",
    "        2 * pi / N * k * j + d[k]) for j in x])\n",
    "plt.show()"
   ]
  },
  {
   "cell_type": "markdown",
   "id": "64c0be8f",
   "metadata": {},
   "source": [
    "#### Section 5.1.2"
   ]
  },
  {
   "cell_type": "markdown",
   "id": "ed5db0c2",
   "metadata": {},
   "source": [
    "Listing 5.1"
   ]
  },
  {
   "cell_type": "code",
   "execution_count": null,
   "id": "287739c7",
   "metadata": {},
   "outputs": [],
   "source": [
    "from math import pi\n",
    "from sim_circuit import QuantumRegister, QuantumCircuit\n",
    "\n",
    "def real_valued_sinusoids(n, v):\n",
    "    N = 2**n\n",
    "    theta = v*2*pi/N\n",
    "\n",
    "    q = QuantumRegister(n)\n",
    "    a = QuantumRegister(1)\n",
    "    qc = QuantumCircuit(q, a) # ancilla is last qubit\n",
    "\n",
    "    for j in range(n):\n",
    "        qc.h(q[j])\n",
    "\n",
    "    for j in range(n):\n",
    "        qc.cry(2**(j+1)*theta, q[j], a[0])\n",
    "\n",
    "    return qc"
   ]
  },
  {
   "cell_type": "code",
   "execution_count": null,
   "id": "9ae56aab",
   "metadata": {},
   "outputs": [],
   "source": [
    "qc = real_valued_sinusoids(3, 1.7)\n",
    "qc.report('sinusoids')[2]"
   ]
  },
  {
   "cell_type": "code",
   "execution_count": null,
   "id": "14c50482",
   "metadata": {},
   "outputs": [],
   "source": [
    "def cis(theta):\n",
    "    return cos(theta) + 1j*sin(theta)"
   ]
  },
  {
   "cell_type": "code",
   "execution_count": null,
   "id": "eacf5709",
   "metadata": {},
   "outputs": [],
   "source": [
    "from math import sin\n",
    "\n",
    "theta = pi/3\n",
    "state = [sqrt(1/N) * cis(k*theta) for k in range(N)]"
   ]
  },
  {
   "cell_type": "markdown",
   "id": "3a148d47",
   "metadata": {},
   "source": [
    "Listing 5.2"
   ]
  },
  {
   "cell_type": "code",
   "execution_count": null,
   "id": "bf9180af",
   "metadata": {},
   "outputs": [],
   "source": [
    "def geom(n, theta):\n",
    "    N = 2**n\n",
    "    return [sqrt(1/N) * cis(k*theta) for k in range(N)]"
   ]
  },
  {
   "cell_type": "code",
   "execution_count": null,
   "id": "42614262",
   "metadata": {},
   "outputs": [],
   "source": [
    "state = geom(3, pi/3)\n",
    "[(round(amp.real, 5) + 1j*round(amp.imag, 5)) for amp in state]"
   ]
  },
  {
   "cell_type": "code",
   "execution_count": null,
   "id": "994ea76a",
   "metadata": {},
   "outputs": [],
   "source": [
    "for k in range(len(state)):\n",
    "    print(\"phase of amplitude \", k, \":\", round(atan2(state[k].imag, state[k].real), 5))"
   ]
  },
  {
   "cell_type": "code",
   "execution_count": null,
   "id": "2109c15a",
   "metadata": {},
   "outputs": [],
   "source": [
    "state = geom(3, pi/6)\n",
    "[(round(amp.real, 5) + 1j*round(amp.imag, 4)) for amp in state]"
   ]
  },
  {
   "cell_type": "markdown",
   "id": "a5f4557b",
   "metadata": {},
   "source": [
    "Listing 5.3"
   ]
  },
  {
   "cell_type": "code",
   "execution_count": null,
   "id": "ea911f8f",
   "metadata": {},
   "outputs": [],
   "source": [
    "def geometric_sequence_circuit(n, v):\n",
    "    theta = v*2*pi/N\n",
    "\n",
    "    q = QuantumRegister(n)\n",
    "    qc = QuantumCircuit(q)\n",
    "\n",
    "    for j in range(n):\n",
    "        qc.h(q[j])\n",
    "\n",
    "    for j in range(n):\n",
    "        qc.p(2 ** j * theta, q[j])\n",
    "\n",
    "    assert all_close(qc.run(), [sqrt(1/N) * cis(k*theta) for k in range(N)])"
   ]
  },
  {
   "cell_type": "markdown",
   "id": "67cec08e",
   "metadata": {},
   "source": [
    "#### Section 5.1.3"
   ]
  },
  {
   "cell_type": "code",
   "execution_count": null,
   "id": "c6744bb4",
   "metadata": {},
   "outputs": [],
   "source": [
    "N = 8\n",
    "omega = cis(2*pi/N)\n",
    "abs(omega**N)"
   ]
  },
  {
   "cell_type": "code",
   "execution_count": null,
   "id": "b2c1a150",
   "metadata": {},
   "outputs": [],
   "source": [
    "omega = cis(2*pi/N)\n",
    "sequence = [omega**k for k in range(N)]\n",
    "[(round(amp.real, 5) + 1j*round(amp.imag, 4)) for amp in sequence]"
   ]
  },
  {
   "cell_type": "code",
   "execution_count": null,
   "id": "bf81dd3f",
   "metadata": {},
   "outputs": [],
   "source": [
    "N = 8\n",
    "sequence = [cis(l*2*pi/N) for l in range(N)]\n",
    "[(round(amp.real, 5) + 1j*round(amp.imag, 4)) for amp in sequence]"
   ]
  },
  {
   "cell_type": "markdown",
   "id": "7ff567e8",
   "metadata": {},
   "source": [
    "## Section 5.2"
   ]
  },
  {
   "cell_type": "code",
   "execution_count": null,
   "id": "58d503d8",
   "metadata": {},
   "outputs": [],
   "source": [
    "state = geom(1, pi/3)"
   ]
  },
  {
   "cell_type": "code",
   "execution_count": null,
   "id": "8cb6a784",
   "metadata": {},
   "outputs": [],
   "source": [
    "q = QuantumRegister(1)\n",
    "qc = QuantumCircuit(q)\n",
    "\n",
    "theta = pi/3\n",
    "qc.h(q[0])\n",
    "qc.p(theta, q[0])\n",
    "qc.h(q[0])\n",
    "\n",
    "state = qc.run()"
   ]
  },
  {
   "cell_type": "code",
   "execution_count": null,
   "id": "5ec5aca9",
   "metadata": {},
   "outputs": [],
   "source": [
    "from math import isclose\n",
    "theta = pi/3\n",
    "[(round(amp.real, 5) + 1j*round(amp.imag, 5)) for amp in state]\n",
    "assert(isclose(abs(state[0]), cos(theta/2)))\n",
    "assert(isclose(abs(state[1]), sin(theta/2)))"
   ]
  },
  {
   "cell_type": "markdown",
   "id": "6c0c4f82",
   "metadata": {},
   "source": [
    "## Section 5.3"
   ]
  },
  {
   "cell_type": "code",
   "execution_count": null,
   "id": "4d98d5f6",
   "metadata": {},
   "outputs": [],
   "source": [
    "quantities = [4, 2, 2, 3]\n",
    "prices = [1.2, 1.5, 2, 0.7]"
   ]
  },
  {
   "cell_type": "code",
   "execution_count": null,
   "id": "f490bb42",
   "metadata": {},
   "outputs": [],
   "source": [
    "sum([quantities[k] * prices[k] for k in range(len(quantities))])"
   ]
  },
  {
   "cell_type": "markdown",
   "id": "1238e6db",
   "metadata": {},
   "source": [
    "Listing 5.4"
   ]
  },
  {
   "cell_type": "code",
   "execution_count": null,
   "id": "ccbfea41",
   "metadata": {},
   "outputs": [],
   "source": [
    "def inner(v1, v2):\n",
    "    assert(len(v1) == len(v2))\n",
    "    return sum(z1*z2.conjugate() for z1, z2 in zip(v1, v2))"
   ]
  },
  {
   "cell_type": "markdown",
   "id": "28cf9989",
   "metadata": {},
   "source": [
    "## Section 5.4"
   ]
  },
  {
   "cell_type": "markdown",
   "id": "dd83a48f",
   "metadata": {},
   "source": [
    "#### Section 5.4.1"
   ]
  },
  {
   "cell_type": "code",
   "execution_count": null,
   "id": "a3f3f1e7",
   "metadata": {},
   "outputs": [],
   "source": [
    "N = 4\n",
    "omega = cis(2*pi/N)\n",
    "F_0 = [omega**(0*k) for k in range(N)]\n",
    "F_1 = [omega**(1*k) for k in range(N)]\n",
    "F_2 = [omega**(2*k) for k in range(N)]\n",
    "F_3 = [omega**(3*k) for k in range(N)]"
   ]
  },
  {
   "cell_type": "code",
   "execution_count": null,
   "id": "75c897df",
   "metadata": {},
   "outputs": [],
   "source": [
    "F_0"
   ]
  },
  {
   "cell_type": "code",
   "execution_count": null,
   "id": "239926c9",
   "metadata": {},
   "outputs": [],
   "source": [
    "N = 4\n",
    "F_0 = [cis(k*0*2*pi/N) for k in range(N)]\n",
    "F_1 = [cis(k*1*2*pi/N) for k in range(N)]\n",
    "F_2 = [cis(k*2*2*pi/N) for k in range(N)]\n",
    "F_3 = [cis(k*3*2*pi/N) for k in range(N)]"
   ]
  },
  {
   "cell_type": "code",
   "execution_count": null,
   "id": "1485a2ac",
   "metadata": {},
   "outputs": [],
   "source": [
    "N = 8\n",
    "frequency = 1.7\n",
    "samples = [1/sqrt(N)*cos(2 * pi * frequency * (i / N)) for i in range(N)]"
   ]
  },
  {
   "cell_type": "code",
   "execution_count": null,
   "id": "75430754",
   "metadata": {},
   "outputs": [],
   "source": [
    "F_0 = [cis(k*0*2*pi/N) for k in range(N)]\n",
    "similarity = inner(samples, F_0)\n",
    "round(similarity.real, 5) + 1j*round(similarity.imag, 5)"
   ]
  },
  {
   "cell_type": "code",
   "execution_count": null,
   "id": "38dceb83",
   "metadata": {},
   "outputs": [],
   "source": [
    "dft = [inner(samples, [cis(k*l*2*pi/N) for k in range(N)]) for l in range(8)]\n",
    "[(round(x.real, 5) + 1j*round(x.imag, 5)) for x in dft]"
   ]
  },
  {
   "cell_type": "code",
   "execution_count": null,
   "id": "b7830d42",
   "metadata": {},
   "outputs": [],
   "source": [
    "f = np.fft.fft(samples)\n",
    "f"
   ]
  },
  {
   "cell_type": "markdown",
   "id": "f76962ab",
   "metadata": {},
   "source": [
    "#### Section 5.4.2"
   ]
  },
  {
   "cell_type": "markdown",
   "id": "5b143671",
   "metadata": {},
   "source": [
    "Listing 5.5"
   ]
  },
  {
   "cell_type": "code",
   "execution_count": null,
   "id": "ce75d519",
   "metadata": {},
   "outputs": [],
   "source": [
    "def fourier_basis(N, l):\n",
    "    return [1/sqrt(N) * cis(k*l*2*pi/N) for k in range(N)]"
   ]
  },
  {
   "cell_type": "code",
   "execution_count": null,
   "id": "8f5b5819",
   "metadata": {},
   "outputs": [],
   "source": [
    "N = 8\n",
    "v = 1.7\n",
    "state = [1/sqrt(N)*cos(k*v*2*pi/N) for k in range(N)] \\\n",
    "        + [1/sqrt(N)*sin(k*v*2*pi/N) for k in range(N)]"
   ]
  },
  {
   "cell_type": "code",
   "execution_count": null,
   "id": "525835be",
   "metadata": {},
   "outputs": [],
   "source": [
    "similarity = inner(state[:N], fourier_basis(N,0))\n",
    "round(similarity.real, 5) + 1j*round(similarity.imag, 5)"
   ]
  },
  {
   "cell_type": "code",
   "execution_count": null,
   "id": "4f06720a",
   "metadata": {},
   "outputs": [],
   "source": [
    "similarity/(1/sqrt(8))"
   ]
  },
  {
   "cell_type": "code",
   "execution_count": null,
   "id": "c2f006c6",
   "metadata": {},
   "outputs": [],
   "source": [
    "iqft = [inner(state[:N], fourier_basis(N, k)) for k in range(N)] + \\\n",
    "       [inner(state[N:], fourier_basis(N, k)) for k in range(N)]"
   ]
  },
  {
   "cell_type": "markdown",
   "id": "f3beda12",
   "metadata": {},
   "source": [
    "Listing 5.6"
   ]
  },
  {
   "cell_type": "code",
   "execution_count": null,
   "id": "1176305c",
   "metadata": {},
   "outputs": [],
   "source": [
    "def icft(state):\n",
    "    N = len(state)\n",
    "    s = [state[k] for k in range(N)]\n",
    "\n",
    "    for i in range(N):\n",
    "        state[i] = inner(s, fourier_basis(N, i))"
   ]
  },
  {
   "cell_type": "markdown",
   "id": "bf5db122",
   "metadata": {},
   "source": [
    "Listing 5.7"
   ]
  },
  {
   "cell_type": "code",
   "execution_count": null,
   "id": "62938f76",
   "metadata": {},
   "outputs": [],
   "source": [
    "def cft(state):\n",
    "    N = len(state)\n",
    "    s = [state[k] for k in range(N)]\n",
    "\n",
    "    for i in range(N):\n",
    "        state[i] = inner(s, fourier_basis(N, -i))"
   ]
  },
  {
   "cell_type": "markdown",
   "id": "f2706d3b",
   "metadata": {},
   "source": [
    "## Section 5.5"
   ]
  },
  {
   "cell_type": "markdown",
   "id": "9bec6ec3",
   "metadata": {},
   "source": [
    "Listing 5.8"
   ]
  },
  {
   "cell_type": "code",
   "execution_count": null,
   "id": "436ec365",
   "metadata": {},
   "outputs": [],
   "source": [
    "def qft(self, targets, swap=True):\n",
    "    for j in range(len(targets))[::-1]:\n",
    "        self.h(targets[j])\n",
    "        for k in range(j)[::-1]:\n",
    "            self.cp(pi * 2.0 ** (k - j), targets[j], targets[k])\n",
    "\n",
    "    if swap:\n",
    "        self.mswap(targets)\n",
    "\n",
    "def iqft(self, targets, swap=True):\n",
    "    for j in range(len(targets))[::-1]:\n",
    "        self.h(targets[j])\n",
    "        for k in range(j)[::-1]:\n",
    "            self.cp(-pi * 2 ** (k - j), targets[j], targets[k])\n",
    "\n",
    "    if swap:\n",
    "        self.mswap(targets)"
   ]
  },
  {
   "cell_type": "markdown",
   "id": "53498ba2",
   "metadata": {},
   "source": [
    "#### Section 5.5.1"
   ]
  },
  {
   "cell_type": "code",
   "execution_count": null,
   "id": "75b0bbef",
   "metadata": {},
   "outputs": [],
   "source": [
    "divmod(13, 2)"
   ]
  },
  {
   "cell_type": "code",
   "execution_count": null,
   "id": "a04fa706",
   "metadata": {},
   "outputs": [],
   "source": [
    "divmod(6, 2)"
   ]
  },
  {
   "cell_type": "code",
   "execution_count": null,
   "id": "d12f3f87",
   "metadata": {},
   "outputs": [],
   "source": [
    "divmod(3, 2)"
   ]
  },
  {
   "cell_type": "code",
   "execution_count": null,
   "id": "d4e79b38",
   "metadata": {},
   "outputs": [],
   "source": [
    "divmod(1, 2)"
   ]
  }
 ],
 "metadata": {
  "kernelspec": {
   "display_name": "Python 3 (ipykernel)",
   "language": "python",
   "name": "python3"
  },
  "language_info": {
   "codemirror_mode": {
    "name": "ipython",
    "version": 3
   },
   "file_extension": ".py",
   "mimetype": "text/x-python",
   "name": "python",
   "nbconvert_exporter": "python",
   "pygments_lexer": "ipython3",
   "version": "3.9.13"
  }
 },
 "nbformat": 4,
 "nbformat_minor": 5
}
