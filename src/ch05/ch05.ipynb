{
 "cells": [
  {
   "cell_type": "code",
   "execution_count": null,
   "id": "2fc0ed44",
   "metadata": {
    "ExecuteTime": {
     "end_time": "2023-10-06T13:34:16.680508Z",
     "start_time": "2023-10-06T13:34:16.674325Z"
    }
   },
   "outputs": [],
   "source": [
    "import os\n",
    "nb_dir = os.getcwd()\n",
    "listings_dir = os.path.join(nb_dir, 'listings')\n",
    "os.chdir('..')"
   ]
  },
  {
   "cell_type": "code",
   "execution_count": null,
   "id": "78b666a0",
   "metadata": {},
   "outputs": [],
   "source": [
    "from math import sqrt, pi, cos\n",
    "N = 8\n",
    "frequency = 1.7\n",
    "samples = [1/sqrt(8)*cos(2 * pi * frequency * (t / N)) for t in range(N)]"
   ]
  },
  {
   "cell_type": "code",
   "execution_count": null,
   "id": "c1a3897f",
   "metadata": {
    "scrolled": true
   },
   "outputs": [],
   "source": [
    "%load '{listings_dir}/ch05_plot_wave'"
   ]
  },
  {
   "cell_type": "code",
   "execution_count": null,
   "id": "f3c8839c",
   "metadata": {},
   "outputs": [],
   "source": [
    "f = np.fft.fft(samples)\n",
    "f"
   ]
  },
  {
   "cell_type": "code",
   "execution_count": null,
   "id": "77180767",
   "metadata": {},
   "outputs": [],
   "source": [
    "plt.stem(np.abs(f),use_line_collection=True)"
   ]
  },
  {
   "cell_type": "code",
   "execution_count": null,
   "id": "a929d214",
   "metadata": {},
   "outputs": [],
   "source": [
    "%load '{listings_dir}/ch05_plot_components'"
   ]
  },
  {
   "cell_type": "code",
   "execution_count": null,
   "id": "8b75b0f7",
   "metadata": {},
   "outputs": [],
   "source": [
    "%load '{listings_dir}/ch05_real_valued_sinusoids'"
   ]
  },
  {
   "cell_type": "code",
   "execution_count": null,
   "id": "b94c498f",
   "metadata": {},
   "outputs": [],
   "source": [
    "%load '{listings_dir}/ch05_encode_samples'"
   ]
  },
  {
   "cell_type": "code",
   "execution_count": null,
   "id": "dd003ddf",
   "metadata": {},
   "outputs": [],
   "source": [
    "%load '{listings_dir}/ch05_cis'"
   ]
  },
  {
   "cell_type": "code",
   "execution_count": null,
   "id": "27b5bb9f",
   "metadata": {},
   "outputs": [],
   "source": [
    "%load '{listings_dir}/ch05_state_from_samples'"
   ]
  },
  {
   "cell_type": "code",
   "execution_count": null,
   "id": "fa8aa72f",
   "metadata": {},
   "outputs": [],
   "source": [
    "%load '{listings_dir}/ch05_geom'"
   ]
  },
  {
   "cell_type": "code",
   "execution_count": null,
   "id": "ba683053",
   "metadata": {},
   "outputs": [],
   "source": [
    "state = geom(3, pi/3)\n",
    "print([(round(amp.real, 5) + 1j*round(amp.imag, 5)) for amp in state])"
   ]
  },
  {
   "cell_type": "code",
   "execution_count": null,
   "id": "877fe0c2",
   "metadata": {},
   "outputs": [],
   "source": [
    "[print(\"phase of amplitude \", i, \":\", round(atan2(state[i].imag, state[i].real), 5)) for i in range(len(state))]"
   ]
  },
  {
   "cell_type": "code",
   "execution_count": null,
   "id": "73a89a9e",
   "metadata": {},
   "outputs": [],
   "source": [
    "state = geom(3, pi/6)\n",
    "print([(round(amp.real, 5) + 1j*round(amp.imag, 4)) for amp in state])"
   ]
  },
  {
   "cell_type": "code",
   "execution_count": null,
   "id": "ed65398b",
   "metadata": {},
   "outputs": [],
   "source": [
    "%load '{listings_dir}/ch05_geometric_sequence_circuit'"
   ]
  },
  {
   "cell_type": "code",
   "execution_count": null,
   "id": "43076f18",
   "metadata": {},
   "outputs": [],
   "source": [
    "N = 8\n",
    "omega = cis(2*pi/N)\n",
    "abs(omega**N)"
   ]
  },
  {
   "cell_type": "code",
   "execution_count": null,
   "id": "128edf45",
   "metadata": {},
   "outputs": [],
   "source": [
    "omega = cis(2*pi/N)\n",
    "[omega**k for k in range(N)]"
   ]
  },
  {
   "cell_type": "code",
   "execution_count": null,
   "id": "7beaaae2",
   "metadata": {},
   "outputs": [],
   "source": [
    "N = 8\n",
    "[cis(l*2*pi/N) for l in range(N)]"
   ]
  },
  {
   "cell_type": "code",
   "execution_count": null,
   "id": "43e9e93c",
   "metadata": {},
   "outputs": [],
   "source": [
    "state = geom(1, pi/3)"
   ]
  },
  {
   "cell_type": "code",
   "execution_count": null,
   "id": "8b1ecb63",
   "metadata": {},
   "outputs": [],
   "source": [
    "assert(round(atan2(state[1].imag, state[1].real), 5) == round(pi/3, 5))"
   ]
  },
  {
   "cell_type": "code",
   "execution_count": null,
   "id": "6ea5b64a",
   "metadata": {},
   "outputs": [],
   "source": [
    "%load '{listings_dir}/ch05_apply_h'"
   ]
  },
  {
   "cell_type": "code",
   "execution_count": null,
   "id": "26f18500",
   "metadata": {},
   "outputs": [],
   "source": [
    "from math import isclose\n",
    "theta = pi/3\n",
    "print([(round(amp.real, 5) + 1j*round(amp.imag, 5)) for amp in state])\n",
    "[(0.75000+0.43301j), (0.25000-0.43301j)]\n",
    "assert(isclose(abs(state[0]), cos(theta/2)))\n",
    "assert(isclose(abs(state[1]), sin(theta/2)))"
   ]
  },
  {
   "cell_type": "code",
   "execution_count": null,
   "id": "d7c5da8e",
   "metadata": {},
   "outputs": [],
   "source": [
    "quantities = [4, 2, 2, 3]\n",
    "prices = [1.2, 1.5, 2, 0.7]"
   ]
  },
  {
   "cell_type": "code",
   "execution_count": null,
   "id": "efad87c4",
   "metadata": {},
   "outputs": [],
   "source": [
    "sum([quantities[k] * prices[k] for k in range(len(quantities))])"
   ]
  },
  {
   "cell_type": "code",
   "execution_count": null,
   "id": "c5c35d9f",
   "metadata": {},
   "outputs": [],
   "source": [
    "%load '{listings_dir}/ch05_inner'"
   ]
  },
  {
   "cell_type": "code",
   "execution_count": null,
   "id": "fac136ed",
   "metadata": {},
   "outputs": [],
   "source": [
    "N = 4\n",
    "omega = cis(2*pi/N)\n",
    "F_0 = [omega**(0*k) for k in range(N)]\n",
    "F_1 = [omega**(1*k) for k in range(N)]\n",
    "F_2 = [omega**(2*k) for k in range(N)]\n",
    "F_3 = [omega**(3*k) for k in range(N)]"
   ]
  },
  {
   "cell_type": "code",
   "execution_count": null,
   "id": "d88b8f20",
   "metadata": {},
   "outputs": [],
   "source": [
    "F_0"
   ]
  },
  {
   "cell_type": "code",
   "execution_count": null,
   "id": "814084ef",
   "metadata": {},
   "outputs": [],
   "source": [
    "N = 4\n",
    "F_0 = [cis(k*0*2*pi/N) for k in range(N)]\n",
    "F_1 = [cis(k*1*2*pi/N) for k in range(N)]\n",
    "F_2 = [cis(k*2*2*pi/N) for k in range(N)]\n",
    "F_3 = [cis(k*3*2*pi/N) for k in range(N)]"
   ]
  },
  {
   "cell_type": "code",
   "execution_count": null,
   "id": "5ccd9c5d",
   "metadata": {},
   "outputs": [],
   "source": [
    "N = 8\n",
    "frequency = 1.7\n",
    "samples = [1/sqrt(N)*cos(2 * pi * frequency * (i / N)) for i in range(N)]"
   ]
  },
  {
   "cell_type": "code",
   "execution_count": null,
   "id": "1365717d",
   "metadata": {},
   "outputs": [],
   "source": [
    "F_0 = [cis(k*0*2*pi/N) for k in range(N)]\n",
    "similarity = inner(samples, F_0)\n",
    "round(similarity.real, 5) + 1j*round(similarity.imag, 5)"
   ]
  },
  {
   "cell_type": "code",
   "execution_count": null,
   "id": "d075e169",
   "metadata": {},
   "outputs": [],
   "source": [
    "dft = [inner(samples, [cis(k*l*2*pi/N) for k in range(N)]) for l in range(8)]\n",
    "print([(round(x.real, 5) + 1j*round(x.imag, 5)) for x in dft])"
   ]
  },
  {
   "cell_type": "code",
   "execution_count": null,
   "id": "d2f7f478",
   "metadata": {},
   "outputs": [],
   "source": [
    "f = np.fft.fft(samples)\n",
    "f"
   ]
  },
  {
   "cell_type": "code",
   "execution_count": null,
   "id": "67338b49",
   "metadata": {},
   "outputs": [],
   "source": [
    "%load '{listings_dir}/ch05_fourier_basis'"
   ]
  },
  {
   "cell_type": "code",
   "execution_count": null,
   "id": "6e54bc06",
   "metadata": {},
   "outputs": [],
   "source": [
    "%load '{listings_dir}/ch05_icft'"
   ]
  },
  {
   "cell_type": "code",
   "execution_count": null,
   "id": "645da217",
   "metadata": {},
   "outputs": [],
   "source": [
    "%load '{listings_dir}/ch05_bin_digit'"
   ]
  },
  {
   "cell_type": "code",
   "execution_count": null,
   "id": "a2368e3b",
   "metadata": {},
   "outputs": [],
   "source": [
    "%load '{listings_dir}/ch05_cft'"
   ]
  },
  {
   "cell_type": "code",
   "execution_count": null,
   "id": "e42212f4",
   "metadata": {},
   "outputs": [],
   "source": [
    "%load '{listings_dir}/ch05_qft_iqft'"
   ]
  },
  {
   "cell_type": "code",
   "execution_count": null,
   "id": "49fdca91",
   "metadata": {},
   "outputs": [],
   "source": [
    "%load '{listings_dir}/ch05_classical_inverse_fourier'"
   ]
  },
  {
   "cell_type": "code",
   "execution_count": null,
   "id": "47b83dd5",
   "metadata": {},
   "outputs": [],
   "source": [
    "divmod(13, 2)"
   ]
  },
  {
   "cell_type": "code",
   "execution_count": null,
   "id": "450cf480",
   "metadata": {},
   "outputs": [],
   "source": [
    "divmod(6, 2)"
   ]
  },
  {
   "cell_type": "code",
   "execution_count": null,
   "id": "42730ebc",
   "metadata": {},
   "outputs": [],
   "source": [
    "divmod(3, 2)"
   ]
  },
  {
   "cell_type": "code",
   "execution_count": null,
   "id": "fe4beb51",
   "metadata": {},
   "outputs": [],
   "source": [
    "divmod(1, 2)"
   ]
  }
 ],
 "metadata": {
  "kernelspec": {
   "display_name": "Python 3 (ipykernel)",
   "language": "python",
   "name": "python3"
  },
  "language_info": {
   "codemirror_mode": {
    "name": "ipython",
    "version": 3
   },
   "file_extension": ".py",
   "mimetype": "text/x-python",
   "name": "python",
   "nbconvert_exporter": "python",
   "pygments_lexer": "ipython3",
   "version": "3.7.11"
  }
 },
 "nbformat": 4,
 "nbformat_minor": 5
}
