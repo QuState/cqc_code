{
 "cells": [
  {
   "cell_type": "code",
   "execution_count": null,
   "id": "cd7541a4",
   "metadata": {},
   "outputs": [],
   "source": [
    "import os\n",
    "os.chdir('..')"
   ]
  },
  {
   "cell_type": "code",
   "execution_count": null,
   "id": "0711283a",
   "metadata": {},
   "outputs": [],
   "source": [
    "from sim_circuit import QuantumRegister, QuantumCircuit\n",
    "from util import all_close\n",
    "\n",
    "def geometric_sequence_circuit(n, theta):\n",
    "\n",
    "    N = 2**n\n",
    "\n",
    "    q = QuantumRegister(n)\n",
    "    qc = QuantumCircuit(q)\n",
    "\n",
    "    for j in range(n): # <1>\n",
    "        qc.h(q[j])\n",
    "        qc.p(2 ** j * theta, q[j])\n",
    "\n",
    "    assert all_close(qc.run(), [1/sqrt(N)*cis(k*theta) for k in range(N)]) # <2>"
   ]
  },
  {
   "cell_type": "code",
   "execution_count": null,
   "id": "70a7602d",
   "metadata": {},
   "outputs": [],
   "source": [
    "from math import pi\n",
    "\n",
    "def encode_frequency(n, v):\n",
    "    q = QuantumRegister(n)\n",
    "    qc = QuantumCircuit(q)\n",
    "\n",
    "    for j in range(n):\n",
    "        qc.h(q[j])\n",
    "        qc.p(2 * pi / 2 ** (n - j) * v, q[j]) # <1>\n",
    "\n",
    "    qc.report('geometric_sequence')\n",
    "\n",
    "    qc.iqft(range(n))\n",
    "\n",
    "    qc.report('iqft')\n",
    "\n",
    "    return qc"
   ]
  },
  {
   "cell_type": "code",
   "execution_count": null,
   "id": "9026d53b",
   "metadata": {},
   "outputs": [],
   "source": [
    "from util import print_state_table\n",
    "\n",
    "n = 3\n",
    "v = 4.7\n",
    "\n",
    "state = encode_frequency(n, v).run()"
   ]
  },
  {
   "cell_type": "code",
   "execution_count": null,
   "id": "155a81e7",
   "metadata": {},
   "outputs": [],
   "source": [
    "print_state_table(state)"
   ]
  },
  {
   "cell_type": "code",
   "execution_count": null,
   "id": "f5fef2bb",
   "metadata": {},
   "outputs": [],
   "source": [
    "def complex_sincd(n, v):\n",
    "    N = 2**n\n",
    "    return [prod(cos((v-k)*pi/2**(m+1)) for m in range(n))*cis((N-1)/N * (v-k)*pi) for k in range(2**n)]"
   ]
  },
  {
   "cell_type": "code",
   "execution_count": null,
   "id": "b2d3539a",
   "metadata": {},
   "outputs": [],
   "source": [
    "def complex_sincd_combined_cis(n, v):\n",
    "    N = 2**n\n",
    "    return [prod(cos((v-k)*pi/2**(m+1)) for m in range(n))*cis((N-1)/N * (v-k)*pi) for k in range(2**n)]"
   ]
  },
  {
   "cell_type": "code",
   "execution_count": null,
   "id": "3d1fe22e",
   "metadata": {},
   "outputs": [],
   "source": [
    "def complex_sincd_sum(n, v):\n",
    "    # same as value encoding state\n",
    "    N = 2**n\n",
    "    return [2/N*sum(cos((2*m+1)*(v-k)*pi/N) for m in range(N//2))*cis((N-1) * (v-k)*pi/N) for k in range(N)]\n",
    "\n",
    "\n",
    "def test_sum_form():\n",
    "    n = 3\n",
    "    v = 4.7\n",
    "    assert all_close(complex_sincd(n, v), complex_sincd_sum(n, v))"
   ]
  },
  {
   "cell_type": "code",
   "execution_count": null,
   "id": "bba2315f",
   "metadata": {},
   "outputs": [],
   "source": [
    "def recursive_complex_discrete_sinc(n, v):\n",
    "    if n == 1:\n",
    "        return [cis(v*pi/2)*cos(v*pi/2), -1j*cis(v*pi/2)*sin(v*pi/2)]\n",
    "\n",
    "    a = recursive_complex_discrete_sinc(n-1, v)\n",
    "\n",
    "    return ([a[k]*cis((v - k)*pi/2**n)*cos((v - k)*pi/2**n) for k in range(2**(n-1))] +\n",
    "            [a[k]*cis((v - k)*pi/2**n)*-1j*sin((v - k)*pi/2**n) for k in range(2**(n-1))])"
   ]
  },
  {
   "cell_type": "code",
   "execution_count": null,
   "id": "0b82bb50",
   "metadata": {},
   "outputs": [],
   "source": [
    "def geom_alt(n, v):\n",
    "    q = QuantumRegister(n)\n",
    "    qc = QuantumCircuit(q)\n",
    "\n",
    "    for j in range(n):\n",
    "        qc.h(q[j])\n",
    "        qc.p(pi * 2 ** -j * v, q[j])\n",
    "\n",
    "    return qc"
   ]
  },
  {
   "cell_type": "code",
   "execution_count": null,
   "id": "97bdd172",
   "metadata": {},
   "outputs": [],
   "source": [
    "def encode_frequency_q_alt(n, v):\n",
    "    q = QuantumRegister(n)\n",
    "    qc = QuantumCircuit(q)\n",
    "\n",
    "    for j in range(n):\n",
    "        qc.h(q[j])\n",
    "        qc.p(pi * 2 ** -j * v, q[j])\n",
    "\n",
    "    qc.report('signal')\n",
    "\n",
    "    qc.iqft(range(n)[::-1], swap=False)\n",
    "\n",
    "    qc.report('iqft')\n",
    "\n",
    "    return qc"
   ]
  },
  {
   "cell_type": "code",
   "execution_count": null,
   "id": "759a9859",
   "metadata": {},
   "outputs": [],
   "source": [
    "from util import is_close\n",
    "\n",
    "def test_discrete_sinc_by_digit():\n",
    "    n = 3\n",
    "    v = 4.7\n",
    "\n",
    "    for l in range(2**n): # <1>\n",
    "        s = bin(l)[2:].zfill(n)\n",
    "        assert(len(s) == n)\n",
    "        p = 1\n",
    "        k = 0\n",
    "        for m in range(n): # <2>\n",
    "            if s[m] == '0':\n",
    "                p *= cos((v - k)*pi/2**(m+1))**2\n",
    "            else:\n",
    "                p *= sin((v - k)*pi/2**(m+1))**2\n",
    "                k += 2**m\n",
    "\n",
    "        assert isclose(p, prod(cos((v-k)*pi/2**(j+1)) for j in range(n))**2) # <3>"
   ]
  },
  {
   "cell_type": "code",
   "execution_count": null,
   "id": "aa027651",
   "metadata": {},
   "outputs": [],
   "source": [
    "def recursive_discrete_sinc(n, v):\n",
    "    if n == 1:\n",
    "        return [cos(v*pi/2)**2, sin(v*pi/2)**2]\n",
    "\n",
    "    p = recursive_discrete_sinc(n-1, v)\n",
    "\n",
    "    return [p[k]*cos((v - k)*pi/2**n)**2 for k in range(2**(n-1))] + [p[k]*sin((v - k)*pi/2**n)**2 for k in range(2**(n-1))]"
   ]
  },
  {
   "cell_type": "code",
   "execution_count": null,
   "id": "1c424cc1",
   "metadata": {},
   "outputs": [],
   "source": [
    "def discrete_sinc_coin_flips(n, v, count=10000):\n",
    "    samples = []\n",
    "    for _ in range(count):\n",
    "        k = 0\n",
    "        for m in range(n):\n",
    "            flip = np.random.binomial(1, sin((v-k)*pi/2**(m+1))**2)\n",
    "            k += flip*2**m\n",
    "\n",
    "        samples.append(k)\n",
    "\n",
    "    return samples"
   ]
  },
  {
   "cell_type": "code",
   "execution_count": null,
   "id": "43a1f8d9",
   "metadata": {},
   "outputs": [],
   "source": [
    "def raised_cosine(n, mu):\n",
    "    N = 2 ** n\n",
    "    assert (0 <= mu < 2 ** n)\n",
    "\n",
    "    q = QuantumRegister(n)\n",
    "    qc = QuantumCircuit(q)\n",
    "\n",
    "    qc.h(q[n - 1])\n",
    "    qc.p(-pi * mu / N * 2, q[n - 1])\n",
    "\n",
    "    qc.report('fourier_coefficients')\n",
    "\n",
    "    qc.qft(q[::-1], False) # <1>\n",
    "\n",
    "    qc.report('qft')\n",
    "\n",
    "    return qc"
   ]
  },
  {
   "cell_type": "code",
   "execution_count": null,
   "id": "a5d1ed63",
   "metadata": {},
   "outputs": [],
   "source": [
    "qc = raised_cosine(3, 3.25)\n",
    "state = qc.run()"
   ]
  },
  {
   "cell_type": "code",
   "execution_count": null,
   "id": "df625685",
   "metadata": {},
   "outputs": [],
   "source": [
    "print_state_table(state)"
   ]
  },
  {
   "cell_type": "code",
   "execution_count": null,
   "id": "431ff19f",
   "metadata": {},
   "outputs": [],
   "source": [
    "from math import sqrt, cos\n",
    "from util import cis\n",
    "\n",
    "N = 8\n",
    "mu = 3.25\n",
    "a = [sqrt(2/N) * cos((k - mu)*pi/N) * cis((k-mu)*pi/N) for k in range(N)]\n",
    "assert all_close(state, a)"
   ]
  },
  {
   "cell_type": "code",
   "execution_count": null,
   "id": "94143b93",
   "metadata": {},
   "outputs": [],
   "source": [
    "s = N / 2\n",
    "p = [1 / (2 * s) * (1 + cos((x - mu) / s * pi)) for x in range(N)]\n",
    "p1 = [1 / s * cos((x - mu) / (2 * s) * pi) ** 2 for x in range(N)]\n",
    "\n",
    "probs = [2/N*(cos((k - mu)*pi/N))**2 for k in range(N)] \n",
    "\n",
    "assert all_close(p, probs)\n",
    "assert all_close(p1, probs)"
   ]
  },
  {
   "cell_type": "code",
   "execution_count": null,
   "id": "0bd2f96c",
   "metadata": {},
   "outputs": [],
   "source": [
    "from math import acos\n",
    "\n",
    "def sin_4(n):\n",
    "    theta = acos(sqrt(2 / 3))\n",
    "    q = QuantumRegister(n)\n",
    "    qc = QuantumCircuit(q)\n",
    "\n",
    "    qc.ry(2 * theta, q[n - 1])\n",
    "    qc.p(pi, q[n - 1])\n",
    "    qc.cry(pi / 2, q[n - 1], q[0])\n",
    "\n",
    "    for i in range(1, n - 1):\n",
    "        qc.cx(q[0], q[i])\n",
    "\n",
    "    qc.report('frequencies')\n",
    "\n",
    "    qc.qft(q[::-1], False)\n",
    "\n",
    "    qc.report('qft')\n",
    "\n",
    "    return qc"
   ]
  },
  {
   "cell_type": "code",
   "execution_count": null,
   "id": "08104d29",
   "metadata": {},
   "outputs": [],
   "source": [
    "n = 3           \n",
    "N = 2 ** n      \n",
    "qc = sin_4(n)   \n",
    "state = qc.run()"
   ]
  },
  {
   "cell_type": "code",
   "execution_count": null,
   "id": "e2bee256",
   "metadata": {},
   "outputs": [],
   "source": [
    "print_state_table(state)"
   ]
  },
  {
   "cell_type": "code",
   "execution_count": null,
   "id": "58c49c1b",
   "metadata": {},
   "outputs": [],
   "source": [
    "from math import sin\n",
    "\n",
    "s = [sqrt(8 / (3 * N)) * (sin(k * pi / N)) ** 2 for k in range(N)]\n",
    "assert all_close(state, s)\n",
    "p = [8 / 3 / N * (sin(k * pi / N)) ** 4 for k in range(N)]  # alternatively: 8/3/N*(cos((k - N/2)*pi/N))**4\n",
    "assert all_close([abs(state[k])**2 for k in range(N)], p)"
   ]
  },
  {
   "cell_type": "code",
   "execution_count": null,
   "id": "c8ff05a3",
   "metadata": {},
   "outputs": [],
   "source": [
    "theta = -pi/2         \n",
    "q = QuantumRegister(n)\n",
    "qc = QuantumCircuit(q)\n",
    "qc.ry(theta, q[0])    \n",
    "qc.report('state')"
   ]
  },
  {
   "cell_type": "code",
   "execution_count": null,
   "id": "7fa4d7d9",
   "metadata": {},
   "outputs": [],
   "source": [
    "s = [cos(k*pi/2 - theta/2) if k in [0, 1] else 0 for k in range(N)]\n",
    "assert all_close(qc.reports['state'][2], s)"
   ]
  },
  {
   "cell_type": "code",
   "execution_count": null,
   "id": "220756a8",
   "metadata": {},
   "outputs": [],
   "source": [
    "qc.qft(q)       \n",
    "qc.report('qft')"
   ]
  },
  {
   "cell_type": "code",
   "execution_count": null,
   "id": "aaf8bcff",
   "metadata": {},
   "outputs": [],
   "source": [
    "s = [1/sqrt(N)*cos(theta/2) + 1/sqrt(N)*sin(theta/2)*cis(k*2*pi/N) for k in range(N)]\n",
    "assert all_close(qc.reports['qft'][2], s)"
   ]
  },
  {
   "cell_type": "code",
   "execution_count": null,
   "id": "446d4eca",
   "metadata": {},
   "outputs": [],
   "source": [
    "def one_over_sine(n):\n",
    "    q = QuantumRegister(n)\n",
    "    qc = QuantumCircuit(q)\n",
    "\n",
    "    for i in range(1, n):\n",
    "        qc.h(i)\n",
    "\n",
    "    qc.x(0)\n",
    "    qc.iqft(q[::-1], swap=False)\n",
    "\n",
    "    return qc"
   ]
  },
  {
   "cell_type": "code",
   "execution_count": null,
   "id": "e5e0a152",
   "metadata": {},
   "outputs": [],
   "source": [
    "qc = one_over_sine(4)\n",
    "state = qc.run()"
   ]
  },
  {
   "cell_type": "code",
   "execution_count": null,
   "id": "b133201e",
   "metadata": {},
   "outputs": [],
   "source": [
    "print_state_table(state)"
   ]
  },
  {
   "cell_type": "code",
   "execution_count": null,
   "id": "5de9b893",
   "metadata": {},
   "outputs": [],
   "source": [
    "from math import tan\n",
    "n = 4\n",
    "N = 2**n\n",
    "\n",
    "qc = one_over_sine(n)\n",
    "state = qc.run()\n",
    "\n",
    "assert is_close(abs(state[0])**2, 1/2)\n",
    "\n",
    "for k in range(1, N):\n",
    "    if k%2 == 1:\n",
    "        assert is_close(abs(state[k])**2, (sqrt(2)/N/sin(k*pi/N))**2)\n",
    "        assert all_close([state[k]], [sqrt(2)/N*(-1 + 1j*1/tan(k*pi/N))])\n",
    "    else:\n",
    "        assert is_close(abs(state[k])**2, 0)"
   ]
  }
 ],
 "metadata": {
  "kernelspec": {
   "display_name": "Python 3 (ipykernel)",
   "language": "python",
   "name": "python3"
  },
  "language_info": {
   "codemirror_mode": {
    "name": "ipython",
    "version": 3
   },
   "file_extension": ".py",
   "mimetype": "text/x-python",
   "name": "python",
   "nbconvert_exporter": "python",
   "pygments_lexer": "ipython3",
   "version": "3.9.13"
  }
 },
 "nbformat": 4,
 "nbformat_minor": 5
}
