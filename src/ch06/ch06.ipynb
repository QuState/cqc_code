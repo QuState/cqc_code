{
 "cells": [
  {
   "cell_type": "code",
   "execution_count": null,
   "id": "cd7541a4",
   "metadata": {
    "ExecuteTime": {
     "end_time": "2023-11-02T00:21:47.451647Z",
     "start_time": "2023-11-02T00:21:46.058897Z"
    }
   },
   "outputs": [],
   "source": [
    "import os\n",
    "os.chdir('..')\n",
    "\n",
    "\n",
    "from util import CONFIG\n",
    "CONFIG.set_use_mpl_tables(True)"
   ]
  },
  {
   "cell_type": "markdown",
   "id": "4239c1ac",
   "metadata": {},
   "source": [
    "## Section 6.2"
   ]
  },
  {
   "cell_type": "markdown",
   "id": "9c2ed87e",
   "metadata": {},
   "source": [
    "Listing 6.1"
   ]
  },
  {
   "cell_type": "code",
   "execution_count": null,
   "id": "0711283a",
   "metadata": {
    "ExecuteTime": {
     "end_time": "2023-11-02T00:21:47.458595Z",
     "start_time": "2023-11-02T00:21:47.454171Z"
    }
   },
   "outputs": [],
   "source": [
    "from sim_circuit import QuantumRegister, QuantumCircuit\n",
    "\n",
    "def geometric_sequence_circuit(n, theta):\n",
    "\n",
    "    N = 2**n\n",
    "\n",
    "    q = QuantumRegister(n)\n",
    "    qc = QuantumCircuit(q)\n",
    "\n",
    "    for j in range(n): # <1>\n",
    "        qc.h(q[j])\n",
    "\n",
    "    for j in range(n): # <1>\n",
    "        qc.p(2 ** j * theta, q[j])\n",
    "\n",
    "    return qc"
   ]
  },
  {
   "cell_type": "markdown",
   "id": "37403d85",
   "metadata": {},
   "source": [
    "### Section 6.2.1"
   ]
  },
  {
   "cell_type": "markdown",
   "id": "1e1727f9",
   "metadata": {},
   "source": [
    "Listing 6.2"
   ]
  },
  {
   "cell_type": "code",
   "execution_count": null,
   "id": "70a7602d",
   "metadata": {
    "ExecuteTime": {
     "end_time": "2023-11-02T00:21:47.468222Z",
     "start_time": "2023-11-02T00:21:47.459832Z"
    }
   },
   "outputs": [],
   "source": [
    "from math import pi\n",
    "\n",
    "def encode_frequency(n, v):\n",
    "    q = QuantumRegister(n)\n",
    "    qc = QuantumCircuit(q)\n",
    "\n",
    "    for j in range(n):\n",
    "        qc.h(q[j])\n",
    "\n",
    "    for j in range(n):\n",
    "        qc.p(2 * pi / 2 ** (n - j) * v, q[j]) # <1>\n",
    "\n",
    "    qc.report('geometric_sequence')\n",
    "\n",
    "    qc.iqft(range(n))\n",
    "\n",
    "    qc.report('iqft')\n",
    "\n",
    "    return qc"
   ]
  },
  {
   "cell_type": "markdown",
   "id": "986b9246",
   "metadata": {},
   "source": [
    "### Section 6.2.2"
   ]
  },
  {
   "cell_type": "code",
   "execution_count": null,
   "id": "4d993693",
   "metadata": {
    "ExecuteTime": {
     "end_time": "2023-11-02T00:21:47.468693Z",
     "start_time": "2023-11-02T00:21:47.462936Z"
    }
   },
   "outputs": [],
   "source": [
    "n = 3\n",
    "v = 4.3\n",
    "qc = encode_frequency(n, v)\n",
    "state = qc.run()"
   ]
  },
  {
   "cell_type": "code",
   "execution_count": null,
   "id": "96260e0c",
   "metadata": {
    "ExecuteTime": {
     "end_time": "2023-11-02T00:21:47.480713Z",
     "start_time": "2023-11-02T00:21:47.468127Z"
    }
   },
   "outputs": [],
   "source": [
    "def prod(iterable):\n",
    "    p = 1\n",
    "    for n in iterable:\n",
    "        p *= n\n",
    "    return p"
   ]
  },
  {
   "cell_type": "code",
   "execution_count": null,
   "id": "f5fef2bb",
   "metadata": {
    "ExecuteTime": {
     "end_time": "2023-11-02T00:21:47.482006Z",
     "start_time": "2023-11-02T00:21:47.472165Z"
    }
   },
   "outputs": [],
   "source": [
    "from math import cos\n",
    "from util import all_close\n",
    "\n",
    "N = 2**n\n",
    "assert all_close([abs(state[k]) for k in range(N)], [\n",
    "    abs(prod(cos((v - k) * pi / 2 ** (m + 1)) for m in range(n))) for k in\n",
    "    range(N)])"
   ]
  },
  {
   "cell_type": "code",
   "execution_count": null,
   "id": "a2eea255",
   "metadata": {
    "ExecuteTime": {
     "end_time": "2023-11-02T00:21:47.495289Z",
     "start_time": "2023-11-02T00:21:47.476191Z"
    }
   },
   "outputs": [],
   "source": [
    "from util import cis\n",
    "\n",
    "def complex_sincd(n, v):\n",
    "    N = 2 ** n\n",
    "    return [prod(\n",
    "        cos((v - k) * pi / 2 ** (j + 1)) * cis((v - k) * pi / 2 ** (j + 1))\n",
    "        for j in range(n)) for k in range(2 ** n)]"
   ]
  },
  {
   "cell_type": "code",
   "execution_count": null,
   "id": "24f4d588",
   "metadata": {
    "ExecuteTime": {
     "end_time": "2023-11-02T00:21:47.499263Z",
     "start_time": "2023-11-02T00:21:47.479171Z"
    }
   },
   "outputs": [],
   "source": [
    "assert all_close(state, complex_sincd(3, 4.3))"
   ]
  },
  {
   "cell_type": "code",
   "execution_count": null,
   "id": "148ad29d",
   "metadata": {
    "ExecuteTime": {
     "end_time": "2023-11-02T00:21:47.507019Z",
     "start_time": "2023-11-02T00:21:47.482600Z"
    }
   },
   "outputs": [],
   "source": [
    "def complex_sincd_combined_cis(n, v):\n",
    "    N = 2 ** n\n",
    "    return [prod(cos((v - k) * pi / 2 ** (m + 1)) for m in range(n)) * cis(\n",
    "        (N - 1) / N * (v - k) * pi) for k in range(2 ** n)]"
   ]
  },
  {
   "cell_type": "code",
   "execution_count": null,
   "id": "e89be182",
   "metadata": {
    "ExecuteTime": {
     "end_time": "2023-11-02T00:21:47.507152Z",
     "start_time": "2023-11-02T00:21:47.485466Z"
    }
   },
   "outputs": [],
   "source": [
    "assert all_close(state, complex_sincd_combined_cis(3, 4.3))"
   ]
  },
  {
   "cell_type": "markdown",
   "id": "3a10e15e",
   "metadata": {},
   "source": [
    "### Section 6.2.3"
   ]
  },
  {
   "cell_type": "markdown",
   "id": "76b8e712",
   "metadata": {},
   "source": [
    "Listing 6.3"
   ]
  },
  {
   "cell_type": "code",
   "execution_count": null,
   "id": "0b82bb50",
   "metadata": {
    "ExecuteTime": {
     "end_time": "2023-11-02T00:21:47.507198Z",
     "start_time": "2023-11-02T00:21:47.489573Z"
    }
   },
   "outputs": [],
   "source": [
    "def geom_alt(n, v):\n",
    "    q = QuantumRegister(n)\n",
    "    qc = QuantumCircuit(q)\n",
    "\n",
    "    for j in range(n):\n",
    "        qc.h(q[j])\n",
    "\n",
    "    for j in range(n):\n",
    "        qc.p(pi * 2 ** -j * v, q[j]) # <1>\n",
    "\n",
    "    return qc"
   ]
  },
  {
   "cell_type": "markdown",
   "id": "fb1e1a9e",
   "metadata": {},
   "source": [
    "Listing 6.4"
   ]
  },
  {
   "cell_type": "code",
   "execution_count": null,
   "id": "97bdd172",
   "metadata": {
    "ExecuteTime": {
     "end_time": "2023-11-02T00:21:47.511370Z",
     "start_time": "2023-11-02T00:21:47.493380Z"
    }
   },
   "outputs": [],
   "source": [
    "def encode_frequency_q_alt(n, v):\n",
    "    q = QuantumRegister(n)\n",
    "    qc = QuantumCircuit(q)\n",
    "\n",
    "    for j in range(n):\n",
    "        qc.h(q[j])\n",
    "        qc.p(pi * 2 ** -j * v, q[j])\n",
    "\n",
    "    qc.report('signal')\n",
    "\n",
    "    qc.iqft(range(n)[::-1], swap=False)\n",
    "\n",
    "    qc.report('iqft')\n",
    "\n",
    "    return qc"
   ]
  },
  {
   "cell_type": "markdown",
   "id": "117f5f16",
   "metadata": {},
   "source": [
    "## Section 6.3"
   ]
  },
  {
   "cell_type": "code",
   "execution_count": null,
   "id": "759a9859",
   "metadata": {
    "ExecuteTime": {
     "end_time": "2023-11-02T00:21:47.520467Z",
     "start_time": "2023-11-02T00:21:47.498508Z"
    }
   },
   "outputs": [],
   "source": [
    "from util import is_close\n",
    "from math import sin\n",
    "\n",
    "def discrete_sinc_by_digit(n , v):\n",
    "\n",
    "    probs = [_ for _ in range(2**n)]\n",
    "    for l in range(2**n): # <1>\n",
    "        s = bin(l)[2:].zfill(n)\n",
    "        assert(len(s) == n)\n",
    "        p = 1\n",
    "        k = 0\n",
    "        for m in range(n): # <2>\n",
    "            if s[m] == '0':\n",
    "                p *= cos((v - k)*pi/2**(m+1))**2\n",
    "            else:\n",
    "                p *= sin((v - k)*pi/2**(m+1))**2\n",
    "                k += 2**m\n",
    "\n",
    "        probs[k] = p\n",
    "\n",
    "    return probs"
   ]
  },
  {
   "cell_type": "code",
   "execution_count": null,
   "id": "51504173",
   "metadata": {
    "ExecuteTime": {
     "end_time": "2023-11-02T00:21:47.520599Z",
     "start_time": "2023-11-02T00:21:47.504314Z"
    }
   },
   "outputs": [],
   "source": [
    "n = 3\n",
    "v = 4.7\n",
    "probs = discrete_sinc_by_digit(n, v)\n",
    "assert all_close(discrete_sinc_by_digit(n, v), [abs(a)**2 for a in complex_sincd(n, v)])"
   ]
  },
  {
   "cell_type": "code",
   "execution_count": null,
   "id": "aa027651",
   "metadata": {
    "ExecuteTime": {
     "end_time": "2023-11-02T00:21:47.534996Z",
     "start_time": "2023-11-02T00:21:47.508553Z"
    }
   },
   "outputs": [],
   "source": [
    "def recursive_discrete_sinc(n, v):\n",
    "    if n == 1:\n",
    "        return [cos(v*pi/2)**2, sin(v*pi/2)**2]\n",
    "\n",
    "    p = recursive_discrete_sinc(n-1, v)\n",
    "\n",
    "    return [p[k] * cos((v - k) * pi / 2 ** n) ** 2 for k in\n",
    "            range(2 ** (n - 1))] + [p[k] * sin((v - k) * pi / 2 ** n) ** 2\n",
    "                                    for k in range(2 ** (n - 1))]"
   ]
  },
  {
   "cell_type": "code",
   "execution_count": null,
   "id": "1c424cc1",
   "metadata": {
    "ExecuteTime": {
     "end_time": "2023-11-02T00:21:47.539788Z",
     "start_time": "2023-11-02T00:21:47.512410Z"
    }
   },
   "outputs": [],
   "source": [
    "import numpy as np\n",
    "\n",
    "def discrete_sinc_coin_flips(n, v, count=10000):\n",
    "    samples = []\n",
    "    for _ in range(count):\n",
    "        k = 0\n",
    "        for m in range(n):\n",
    "            flip = np.random.binomial(1, sin((v-k)*pi/2**(m+1))**2)\n",
    "            k += flip*2**m\n",
    "\n",
    "        samples.append(k)\n",
    "\n",
    "    return samples"
   ]
  },
  {
   "cell_type": "markdown",
   "id": "2929e345",
   "metadata": {},
   "source": [
    "## Section 6.4"
   ]
  },
  {
   "cell_type": "markdown",
   "id": "73ba6e10",
   "metadata": {},
   "source": [
    "### Section 6.4.1"
   ]
  },
  {
   "cell_type": "markdown",
   "id": "f12552b8",
   "metadata": {},
   "source": [
    "Listing 6.5"
   ]
  },
  {
   "cell_type": "code",
   "execution_count": null,
   "id": "43a1f8d9",
   "metadata": {
    "ExecuteTime": {
     "end_time": "2023-11-02T00:21:47.554019Z",
     "start_time": "2023-11-02T00:21:47.516199Z"
    }
   },
   "outputs": [],
   "source": [
    "def raised_cosine(n, mu):\n",
    "    N = 2 ** n\n",
    "    assert (0 <= mu < 2 ** n)\n",
    "\n",
    "    q = QuantumRegister(n)\n",
    "    qc = QuantumCircuit(q)\n",
    "\n",
    "    qc.h(q[n - 1])\n",
    "    qc.p(-pi * mu / N * 2, q[n - 1])\n",
    "\n",
    "    qc.report('fourier_coefficients')\n",
    "\n",
    "    qc.qft(q[::-1], False) # <1>\n",
    "\n",
    "    qc.report('qft')\n",
    "\n",
    "    return qc"
   ]
  },
  {
   "cell_type": "code",
   "execution_count": null,
   "id": "a5d1ed63",
   "metadata": {
    "ExecuteTime": {
     "end_time": "2023-11-02T00:21:47.576299Z",
     "start_time": "2023-11-02T00:21:47.519655Z"
    }
   },
   "outputs": [],
   "source": [
    "qc = raised_cosine(3, 3.25)\n",
    "state = qc.run()"
   ]
  },
  {
   "cell_type": "code",
   "execution_count": null,
   "id": "df625685",
   "metadata": {
    "ExecuteTime": {
     "end_time": "2023-11-02T00:21:47.788590Z",
     "start_time": "2023-11-02T00:21:47.521855Z"
    }
   },
   "outputs": [],
   "source": [
    "from util import show_state_table\n",
    "\n",
    "show_state_table(state)"
   ]
  },
  {
   "cell_type": "code",
   "execution_count": null,
   "id": "431ff19f",
   "metadata": {
    "ExecuteTime": {
     "end_time": "2023-11-02T00:21:47.790249Z",
     "start_time": "2023-11-02T00:21:47.785011Z"
    }
   },
   "outputs": [],
   "source": [
    "from math import sqrt\n",
    "\n",
    "N = 8\n",
    "mu = 3.25\n",
    "a = [sqrt(2/N) * cos((k - mu)*pi/N) * cis((k-mu)*pi/N) for k in range(N)]\n",
    "assert all_close(state, a)"
   ]
  },
  {
   "cell_type": "code",
   "execution_count": null,
   "id": "94143b93",
   "metadata": {
    "ExecuteTime": {
     "end_time": "2023-11-02T00:21:47.802372Z",
     "start_time": "2023-11-02T00:21:47.790134Z"
    }
   },
   "outputs": [],
   "source": [
    "s = N / 2\n",
    "p = [1 / (2 * s) * (1 + cos((x - mu) / s * pi)) for x in range(N)]\n",
    "p1 = [1 / s * cos((x - mu) / (2 * s) * pi) ** 2 for x in range(N)]\n",
    "\n",
    "probs = [2/N*(cos((k - mu)*pi/N))**2 for k in range(N)] \n",
    "\n",
    "assert all_close(p, probs)\n",
    "assert all_close(p1, probs)"
   ]
  },
  {
   "cell_type": "markdown",
   "id": "aee2811a",
   "metadata": {},
   "source": [
    "### Section 6.4.2"
   ]
  },
  {
   "cell_type": "markdown",
   "id": "bde1b887",
   "metadata": {},
   "source": [
    "Listing 6.6"
   ]
  },
  {
   "cell_type": "code",
   "execution_count": null,
   "id": "0bd2f96c",
   "metadata": {
    "ExecuteTime": {
     "end_time": "2023-11-02T00:21:47.803309Z",
     "start_time": "2023-11-02T00:21:47.794837Z"
    }
   },
   "outputs": [],
   "source": [
    "from math import acos\n",
    "\n",
    "def sin_4(n):\n",
    "    theta = acos(sqrt(2 / 3))\n",
    "    q = QuantumRegister(n)\n",
    "    qc = QuantumCircuit(q)\n",
    "\n",
    "    qc.ry(2 * theta, q[n - 1])\n",
    "    qc.p(pi, q[n - 1])\n",
    "    qc.cry(pi / 2, q[n - 1], q[0])\n",
    "\n",
    "    for i in range(1, n - 1):\n",
    "        qc.cx(q[0], q[i])\n",
    "\n",
    "    qc.report('frequencies')\n",
    "\n",
    "    qc.qft(q[::-1], False)\n",
    "\n",
    "    qc.report('qft')\n",
    "\n",
    "    return qc"
   ]
  },
  {
   "cell_type": "code",
   "execution_count": null,
   "id": "08104d29",
   "metadata": {
    "ExecuteTime": {
     "end_time": "2023-11-02T00:21:47.803357Z",
     "start_time": "2023-11-02T00:21:47.798182Z"
    }
   },
   "outputs": [],
   "source": [
    "n = 3           \n",
    "N = 2 ** n      \n",
    "qc = sin_4(n)   \n",
    "state = qc.run()"
   ]
  },
  {
   "cell_type": "code",
   "execution_count": null,
   "id": "e2bee256",
   "metadata": {
    "ExecuteTime": {
     "end_time": "2023-11-02T00:21:48.028753Z",
     "start_time": "2023-11-02T00:21:47.802538Z"
    }
   },
   "outputs": [],
   "source": [
    "show_state_table(state)"
   ]
  },
  {
   "cell_type": "code",
   "execution_count": null,
   "id": "58c49c1b",
   "metadata": {
    "ExecuteTime": {
     "end_time": "2023-11-02T00:21:48.034293Z",
     "start_time": "2023-11-02T00:21:48.027064Z"
    }
   },
   "outputs": [],
   "source": [
    "s = [sqrt(8 / (3 * N)) * (sin(k * pi / N)) ** 2 for k in range(N)]\n",
    "assert all_close(state, s)\n",
    "p = [8 / 3 / N * (sin(k * pi / N)) ** 4 for k in range(N)] # <1>\n",
    "assert all_close([abs(state[k])**2 for k in range(N)], p)"
   ]
  }
 ],
 "metadata": {
  "kernelspec": {
   "display_name": "Python 3 (ipykernel)",
   "language": "python",
   "name": "python3"
  },
  "language_info": {
   "codemirror_mode": {
    "name": "ipython",
    "version": 3
   },
   "file_extension": ".py",
   "mimetype": "text/x-python",
   "name": "python",
   "nbconvert_exporter": "python",
   "pygments_lexer": "ipython3",
   "version": "3.9.13"
  }
 },
 "nbformat": 4,
 "nbformat_minor": 5
}
