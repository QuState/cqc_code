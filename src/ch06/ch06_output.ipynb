{
 "cells": [
  {
   "cell_type": "code",
   "execution_count": 1,
   "id": "cd7541a4",
   "metadata": {},
   "outputs": [],
   "source": [
    "import os\n",
    "os.chdir('..')"
   ]
  },
  {
   "cell_type": "markdown",
   "id": "4239c1ac",
   "metadata": {},
   "source": [
    "## Section 6.2"
   ]
  },
  {
   "cell_type": "markdown",
   "id": "9c2ed87e",
   "metadata": {},
   "source": [
    "Listing 6.1"
   ]
  },
  {
   "cell_type": "code",
   "execution_count": 2,
   "id": "0711283a",
   "metadata": {},
   "outputs": [],
   "source": [
    "from sim_circuit import QuantumRegister, QuantumCircuit\n",
    "from util import all_close\n",
    "\n",
    "def geometric_sequence_circuit(n, theta):\n",
    "\n",
    "    N = 2**n\n",
    "\n",
    "    q = QuantumRegister(n)\n",
    "    qc = QuantumCircuit(q)\n",
    "\n",
    "    for j in range(n): # <1>\n",
    "        qc.h(q[j])\n",
    "\n",
    "    for j in range(n): # <1>\n",
    "        qc.p(2 ** j * theta, q[j])\n",
    "\n",
    "    assert all_close(qc.run(), [1/sqrt(N)*cis(k*theta) for k in range(N)]) # <2>"
   ]
  },
  {
   "cell_type": "markdown",
   "id": "37403d85",
   "metadata": {},
   "source": [
    "### Section 6.2.1"
   ]
  },
  {
   "cell_type": "markdown",
   "id": "1e1727f9",
   "metadata": {},
   "source": [
    "Listing 6.2"
   ]
  },
  {
   "cell_type": "code",
   "execution_count": 3,
   "id": "70a7602d",
   "metadata": {},
   "outputs": [],
   "source": [
    "from math import pi\n",
    "\n",
    "def encode_frequency(n, v):\n",
    "    q = QuantumRegister(n)\n",
    "    qc = QuantumCircuit(q)\n",
    "\n",
    "    for j in range(n):\n",
    "        qc.h(q[j])\n",
    "\n",
    "    for j in range(n):\n",
    "        qc.p(2 * pi / 2 ** (n - j) * v, q[j]) # <1>\n",
    "\n",
    "    qc.report('geometric_sequence')\n",
    "\n",
    "    qc.iqft(range(n))\n",
    "\n",
    "    qc.report('iqft')\n",
    "\n",
    "    return qc"
   ]
  },
  {
   "cell_type": "markdown",
   "id": "986b9246",
   "metadata": {},
   "source": [
    "### Section 6.2.2"
   ]
  },
  {
   "cell_type": "code",
   "execution_count": 4,
   "id": "4d993693",
   "metadata": {},
   "outputs": [],
   "source": [
    "n = 3\n",
    "v = 4.3\n",
    "qc = encode_frequency(n, v)\n",
    "state = qc.run()"
   ]
  },
  {
   "cell_type": "code",
   "execution_count": 5,
   "id": "96260e0c",
   "metadata": {},
   "outputs": [],
   "source": [
    "def prod(iterable):\n",
    "    p = 1\n",
    "    for n in iterable:\n",
    "        p *= n\n",
    "    return p"
   ]
  },
  {
   "cell_type": "code",
   "execution_count": 6,
   "id": "f5fef2bb",
   "metadata": {},
   "outputs": [],
   "source": [
    "from math import cos\n",
    "\n",
    "N = 2**n\n",
    "assert all_close([abs(state[k]) for k in range(N)], [\n",
    "    abs(prod(cos((v - k) * pi / 2 ** (m + 1)) for m in range(n))) for k in\n",
    "    range(N)])"
   ]
  },
  {
   "cell_type": "code",
   "execution_count": 7,
   "id": "a2eea255",
   "metadata": {},
   "outputs": [],
   "source": [
    "from util import cis\n",
    "\n",
    "def complex_sincd(n, v):\n",
    "    N = 2 ** n\n",
    "    return [prod(\n",
    "        cos((v - k) * pi / 2 ** (j + 1)) * cis((v - k) * pi / 2 ** (j + 1))\n",
    "        for j in range(n)) for k in range(2 ** n)]"
   ]
  },
  {
   "cell_type": "code",
   "execution_count": 8,
   "id": "24f4d588",
   "metadata": {},
   "outputs": [],
   "source": [
    "assert all_close(state, complex_sincd(3, 4.3))"
   ]
  },
  {
   "cell_type": "code",
   "execution_count": 9,
   "id": "148ad29d",
   "metadata": {},
   "outputs": [],
   "source": [
    "def complex_sincd_combined_cis(n, v):\n",
    "    N = 2 ** n\n",
    "    return [prod(cos((v - k) * pi / 2 ** (m + 1)) for m in range(n)) * cis(\n",
    "        (N - 1) / N * (v - k) * pi) for k in range(2 ** n)]"
   ]
  },
  {
   "cell_type": "code",
   "execution_count": 10,
   "id": "e89be182",
   "metadata": {},
   "outputs": [],
   "source": [
    "assert all_close(state, complex_sincd_combined_cis(3, 4.3))"
   ]
  },
  {
   "cell_type": "markdown",
   "id": "3a10e15e",
   "metadata": {},
   "source": [
    "### Section 6.2.3"
   ]
  },
  {
   "cell_type": "markdown",
   "id": "76b8e712",
   "metadata": {},
   "source": [
    "Listing 6.3"
   ]
  },
  {
   "cell_type": "code",
   "execution_count": 11,
   "id": "0b82bb50",
   "metadata": {},
   "outputs": [],
   "source": [
    "def geom_alt(n, v):\n",
    "    q = QuantumRegister(n)\n",
    "    qc = QuantumCircuit(q)\n",
    "\n",
    "    for j in range(n):\n",
    "        qc.h(q[j])\n",
    "\n",
    "    for j in range(n):\n",
    "        qc.p(pi * 2 ** -j * v, q[j]) # <1>\n",
    "\n",
    "    return qc"
   ]
  },
  {
   "cell_type": "markdown",
   "id": "fb1e1a9e",
   "metadata": {},
   "source": [
    "Listing 6.4"
   ]
  },
  {
   "cell_type": "code",
   "execution_count": 12,
   "id": "97bdd172",
   "metadata": {},
   "outputs": [],
   "source": [
    "def encode_frequency_q_alt(n, v):\n",
    "    q = QuantumRegister(n)\n",
    "    qc = QuantumCircuit(q)\n",
    "\n",
    "    for j in range(n):\n",
    "        qc.h(q[j])\n",
    "        qc.p(pi * 2 ** -j * v, q[j])\n",
    "\n",
    "    qc.report('signal')\n",
    "\n",
    "    qc.iqft(range(n)[::-1], swap=False)\n",
    "\n",
    "    qc.report('iqft')\n",
    "\n",
    "    return qc"
   ]
  },
  {
   "cell_type": "markdown",
   "id": "117f5f16",
   "metadata": {},
   "source": [
    "## Section 6.3"
   ]
  },
  {
   "cell_type": "code",
   "execution_count": 13,
   "id": "759a9859",
   "metadata": {},
   "outputs": [],
   "source": [
    "from math import sin, cos\n",
    "from util import is_close\n",
    "\n",
    "def discrete_sinc_by_digit(n , v):\n",
    "\n",
    "    probs = [_ for _ in range(2**n)]\n",
    "    for l in range(2**n): # <1>\n",
    "        s = bin(l)[2:].zfill(n)\n",
    "        assert(len(s) == n)\n",
    "        p = 1\n",
    "        k = 0\n",
    "        for m in range(n): # <2>\n",
    "            if s[m] == '0':\n",
    "                p *= cos((v - k)*pi/2**(m+1))**2\n",
    "            else:\n",
    "                p *= sin((v - k)*pi/2**(m+1))**2\n",
    "                k += 2**m\n",
    "\n",
    "        probs[k] = p\n",
    "        \n",
    "    return probs"
   ]
  },
  {
   "cell_type": "code",
   "execution_count": 14,
   "id": "c9a2a841",
   "metadata": {},
   "outputs": [],
   "source": [
    "n = 3\n",
    "v = 4.7\n",
    "\n",
    "probs = discrete_sinc_by_digit(n , v)\n",
    "for k in range(len(probs)):\n",
    "    assert is_close(probs[k], prod(cos((v-k)*pi/2**(j+1)) for j in range(n))**2)"
   ]
  },
  {
   "cell_type": "code",
   "execution_count": 15,
   "id": "aa027651",
   "metadata": {},
   "outputs": [],
   "source": [
    "def recursive_discrete_sinc(n, v):\n",
    "    if n == 1:\n",
    "        return [cos(v*pi/2)**2, sin(v*pi/2)**2]\n",
    "\n",
    "    p = recursive_discrete_sinc(n-1, v)\n",
    "\n",
    "    return [p[k] * cos((v - k) * pi / 2 ** n) ** 2 for k in\n",
    "            range(2 ** (n - 1))] + [p[k] * sin((v - k) * pi / 2 ** n) ** 2\n",
    "                                    for k in range(2 ** (n - 1))]"
   ]
  },
  {
   "cell_type": "code",
   "execution_count": 16,
   "id": "1c424cc1",
   "metadata": {},
   "outputs": [],
   "source": [
    "def discrete_sinc_coin_flips(n, v, count=10000):\n",
    "    samples = []\n",
    "    for _ in range(count):\n",
    "        k = 0\n",
    "        for m in range(n):\n",
    "            flip = np.random.binomial(1, sin((v-k)*pi/2**(m+1))**2)\n",
    "            k += flip*2**m\n",
    "\n",
    "        samples.append(k)\n",
    "\n",
    "    return samples"
   ]
  },
  {
   "cell_type": "markdown",
   "id": "2929e345",
   "metadata": {},
   "source": [
    "## Section 6.4"
   ]
  },
  {
   "cell_type": "markdown",
   "id": "73ba6e10",
   "metadata": {},
   "source": [
    "### Section 6.4.1"
   ]
  },
  {
   "cell_type": "markdown",
   "id": "f12552b8",
   "metadata": {},
   "source": [
    "Listing 6.5"
   ]
  },
  {
   "cell_type": "code",
   "execution_count": 17,
   "id": "43a1f8d9",
   "metadata": {},
   "outputs": [],
   "source": [
    "def raised_cosine(n, mu):\n",
    "    N = 2 ** n\n",
    "    assert (0 <= mu < 2 ** n)\n",
    "\n",
    "    q = QuantumRegister(n)\n",
    "    qc = QuantumCircuit(q)\n",
    "\n",
    "    qc.h(q[n - 1])\n",
    "    qc.p(-pi * mu / N * 2, q[n - 1])\n",
    "\n",
    "    qc.report('fourier_coefficients')\n",
    "\n",
    "    qc.qft(q[::-1], False) # <1>\n",
    "\n",
    "    qc.report('qft')\n",
    "\n",
    "    return qc"
   ]
  },
  {
   "cell_type": "code",
   "execution_count": 18,
   "id": "a5d1ed63",
   "metadata": {},
   "outputs": [],
   "source": [
    "qc = raised_cosine(3, 3.25)\n",
    "state = qc.run()"
   ]
  },
  {
   "cell_type": "code",
   "execution_count": 19,
   "id": "df625685",
   "metadata": {},
   "outputs": [
    {
     "name": "stdout",
     "output_type": "stream",
     "text": [
      "\n",
      "\n",
      "Outcome   Binary        Amplitude        Magnitude   Direction      Amplitude Bar         Probability\n",
      "----------------------------------------------------------------------------------------------------\n",
      "  0        000     +0.0421 - 0.1389*i     0.1451     -73.14        ##                       0.0211\n",
      "  1        001     +0.2012 - 0.2452*i     0.3172     -50.63        ######                   0.1006\n",
      "  2        010     +0.3889 - 0.2079*i     0.4410     -28.13        ########                 0.1945\n",
      "  3        011     +0.4952 - 0.0488*i     0.4976     -5.63         #########                0.2476\n",
      "  4        100     +0.4579 + 0.1389*i     0.4785     16.87         #########                0.229\n",
      "  5        101     +0.2988 + 0.2452*i     0.3865     39.37         #######                  0.1494\n",
      "  6        110     +0.1111 + 0.2079*i     0.2357     61.88         ####                     0.0556\n",
      "  7        111     +0.0048 + 0.0488*i     0.0490     84.38                                  0.0024\n"
     ]
    }
   ],
   "source": [
    "from util import print_state_table\n",
    "\n",
    "print_state_table(state)"
   ]
  },
  {
   "cell_type": "code",
   "execution_count": 20,
   "id": "431ff19f",
   "metadata": {},
   "outputs": [],
   "source": [
    "from math import sqrt, cos\n",
    "from util import cis\n",
    "\n",
    "N = 8\n",
    "mu = 3.25\n",
    "a = [sqrt(2/N) * cos((k - mu)*pi/N) * cis((k-mu)*pi/N) for k in range(N)]\n",
    "assert all_close(state, a)"
   ]
  },
  {
   "cell_type": "code",
   "execution_count": 21,
   "id": "94143b93",
   "metadata": {},
   "outputs": [],
   "source": [
    "s = N / 2\n",
    "p = [1 / (2 * s) * (1 + cos((x - mu) / s * pi)) for x in range(N)]\n",
    "p1 = [1 / s * cos((x - mu) / (2 * s) * pi) ** 2 for x in range(N)]\n",
    "\n",
    "probs = [2/N*(cos((k - mu)*pi/N))**2 for k in range(N)] \n",
    "\n",
    "assert all_close(p, probs)\n",
    "assert all_close(p1, probs)"
   ]
  },
  {
   "cell_type": "markdown",
   "id": "aee2811a",
   "metadata": {},
   "source": [
    "### Section 6.4.2"
   ]
  },
  {
   "cell_type": "markdown",
   "id": "bde1b887",
   "metadata": {},
   "source": [
    "Listing 6.6"
   ]
  },
  {
   "cell_type": "code",
   "execution_count": 22,
   "id": "0bd2f96c",
   "metadata": {},
   "outputs": [],
   "source": [
    "from math import acos\n",
    "\n",
    "def sin_4(n):\n",
    "    theta = acos(sqrt(2 / 3))\n",
    "    q = QuantumRegister(n)\n",
    "    qc = QuantumCircuit(q)\n",
    "\n",
    "    qc.ry(2 * theta, q[n - 1])\n",
    "    qc.p(pi, q[n - 1])\n",
    "    qc.cry(pi / 2, q[n - 1], q[0])\n",
    "\n",
    "    for i in range(1, n - 1):\n",
    "        qc.cx(q[0], q[i])\n",
    "\n",
    "    qc.report('frequencies')\n",
    "\n",
    "    qc.qft(q[::-1], False)\n",
    "\n",
    "    qc.report('qft')\n",
    "\n",
    "    return qc"
   ]
  },
  {
   "cell_type": "code",
   "execution_count": 23,
   "id": "08104d29",
   "metadata": {},
   "outputs": [],
   "source": [
    "n = 3           \n",
    "N = 2 ** n      \n",
    "qc = sin_4(n)   \n",
    "state = qc.run()"
   ]
  },
  {
   "cell_type": "code",
   "execution_count": 24,
   "id": "e2bee256",
   "metadata": {},
   "outputs": [
    {
     "name": "stdout",
     "output_type": "stream",
     "text": [
      "\n",
      "\n",
      "Outcome   Binary        Amplitude        Magnitude   Direction      Amplitude Bar         Probability\n",
      "----------------------------------------------------------------------------------------------------\n",
      "  0        000     +0.0000 + 0.0000*i     0.0000                                            0.0\n",
      "  1        001     +0.0846 + 0.0000*i     0.0846     0.0           #                        0.0072\n",
      "  2        010     +0.2887 + 0.0000*i     0.2887     0.0           #####                    0.0833\n",
      "  3        011     +0.4928 + 0.0000*i     0.4928     0.0           #########                0.2429\n",
      "  4        100     +0.5774 + 0.0000*i     0.5774     0.0           ###########              0.3334\n",
      "  5        101     +0.4928 + 0.0000*i     0.4928     0.0           #########                0.2429\n",
      "  6        110     +0.2887 + 0.0000*i     0.2887     0.0           #####                    0.0833\n",
      "  7        111     +0.0846 + 0.0000*i     0.0846     0.0           #                        0.0072\n"
     ]
    }
   ],
   "source": [
    "print_state_table(state)"
   ]
  },
  {
   "cell_type": "code",
   "execution_count": 25,
   "id": "58c49c1b",
   "metadata": {},
   "outputs": [],
   "source": [
    "from math import sin\n",
    "\n",
    "s = [sqrt(8 / (3 * N)) * (sin(k * pi / N)) ** 2 for k in range(N)]\n",
    "assert all_close(state, s)\n",
    "p = [8 / 3 / N * (sin(k * pi / N)) ** 4 for k in range(N)] # <1>\n",
    "assert all_close([abs(state[k])**2 for k in range(N)], p)"
   ]
  }
 ],
 "metadata": {
  "kernelspec": {
   "display_name": "Python 3 (ipykernel)",
   "language": "python",
   "name": "python3"
  },
  "language_info": {
   "codemirror_mode": {
    "name": "ipython",
    "version": 3
   },
   "file_extension": ".py",
   "mimetype": "text/x-python",
   "name": "python",
   "nbconvert_exporter": "python",
   "pygments_lexer": "ipython3",
   "version": "3.9.13"
  }
 },
 "nbformat": 4,
 "nbformat_minor": 5
}
