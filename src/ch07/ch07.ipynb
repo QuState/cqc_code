{
 "cells": [
  {
   "cell_type": "code",
   "execution_count": null,
   "metadata": {
    "ExecuteTime": {
     "end_time": "2023-11-01T18:56:09.658931Z",
     "start_time": "2023-11-01T18:56:08.331667Z"
    }
   },
   "outputs": [],
   "source": [
    "import os\n",
    "os.chdir('..')\n",
    "\n",
    "from util import CONFIG\n",
    "CONFIG.use_mpl(True)"
   ]
  },
  {
   "cell_type": "markdown",
   "metadata": {},
   "source": [
    "## Section 7.1"
   ]
  },
  {
   "cell_type": "markdown",
   "metadata": {},
   "source": [
    "Listing 7.1"
   ]
  },
  {
   "cell_type": "code",
   "execution_count": null,
   "metadata": {
    "ExecuteTime": {
     "end_time": "2023-11-01T18:56:09.666544Z",
     "start_time": "2023-11-01T18:56:09.661596Z"
    }
   },
   "outputs": [],
   "source": [
    "from sim_circuit import QuantumRegister, QuantumCircuit\n",
    "from math import pi\n",
    "\n",
    "def encode_frequency(n, v):\n",
    "    q = QuantumRegister(n)\n",
    "    qc = QuantumCircuit(q)\n",
    "\n",
    "    for j in range(n):\n",
    "        qc.h(q[j])\n",
    "\n",
    "    for j in range(n):\n",
    "        qc.p(2 * pi / 2 ** (n - j) * v, q[j]) # <1>\n",
    "\n",
    "    qc.report('geometric_sequence') # <2>\n",
    "\n",
    "    qc.iqft(range(n))\n",
    "\n",
    "    qc.report('iqft')\n",
    "\n",
    "    return qc"
   ]
  },
  {
   "cell_type": "markdown",
   "metadata": {},
   "source": [
    "Listing 7.2"
   ]
  },
  {
   "cell_type": "code",
   "execution_count": null,
   "metadata": {},
   "outputs": [],
   "source": [
    "from util import cis, prod\n",
    "\n",
    "def complex_sincd(n, v):\n",
    "    N = 2 ** n\n",
    "    return [prod(\n",
    "        cos((v - k) * pi / 2 ** (j + 1)) * cis((v - k) * pi / 2 ** (j + 1))\n",
    "        for j in range(n)) for k in range(2 ** n)]"
   ]
  },
  {
   "cell_type": "code",
   "execution_count": null,
   "metadata": {},
   "outputs": [],
   "source": [
    "n = 3\n",
    "\n",
    "qc1 = encode_frequency(n, 3)\n",
    "\n",
    "qc2 = encode_frequency(n, 3.8)"
   ]
  },
  {
   "cell_type": "code",
   "execution_count": null,
   "metadata": {},
   "outputs": [],
   "source": [
    "result = qc1.measure(shots = 10)"
   ]
  },
  {
   "cell_type": "code",
   "execution_count": null,
   "metadata": {
    "tags": []
   },
   "outputs": [],
   "source": [
    "result['counts']"
   ]
  },
  {
   "cell_type": "code",
   "execution_count": null,
   "metadata": {},
   "outputs": [],
   "source": [
    "from util import plot_bars\n",
    "\n",
    "for outcome in range(2**n):\n",
    "    result['counts'][outcome] = result['counts'].get(outcome, 0)\n",
    "    \n",
    "plot_bars(dict(sorted(result['counts'].items())), '', 'Outcomes', 'Frequency', color='grey')"
   ]
  },
  {
   "cell_type": "code",
   "execution_count": null,
   "metadata": {},
   "outputs": [],
   "source": [
    "result = qc2.measure(shots = 10)"
   ]
  },
  {
   "cell_type": "code",
   "execution_count": null,
   "metadata": {},
   "outputs": [],
   "source": [
    "result['counts']"
   ]
  },
  {
   "cell_type": "code",
   "execution_count": null,
   "metadata": {
    "ExecuteTime": {
     "end_time": "2023-11-01T18:56:10.019543Z",
     "start_time": "2023-11-01T18:56:09.938306Z"
    }
   },
   "outputs": [],
   "source": [
    "for outcome in range(2**n):\n",
    "    result['counts'][outcome] = result['counts'].get(outcome, 0)\n",
    "    \n",
    "plot_bars(dict(sorted(result['counts'].items())), '', 'Outcomes', 'Frequency', color='grey')"
   ]
  },
  {
   "cell_type": "markdown",
   "metadata": {},
   "source": [
    "#### Section 7.1.1"
   ]
  },
  {
   "cell_type": "code",
   "execution_count": null,
   "metadata": {},
   "outputs": [],
   "source": [
    "n = 3\n",
    "v = 4.76\n",
    "qc = encode_frequency(n, v)"
   ]
  },
  {
   "cell_type": "code",
   "execution_count": null,
   "metadata": {},
   "outputs": [],
   "source": [
    "from util import list_to_dict\n",
    "\n",
    "state = qc.run()\n",
    "probs = [abs(a)**2 for a in state]\n",
    "plot_bars(list_to_dict(probs, False), f'v = {v}', 'Outcomes', 'Probabilities')"
   ]
  },
  {
   "cell_type": "code",
   "execution_count": null,
   "metadata": {},
   "outputs": [],
   "source": [
    "result = qc.measure(shots = 100)\n",
    "\n",
    "result['counts']"
   ]
  },
  {
   "cell_type": "code",
   "execution_count": null,
   "metadata": {},
   "outputs": [],
   "source": [
    "n = 5\n",
    "v = 19.05\n",
    "qc = encode_frequency(n, v)"
   ]
  },
  {
   "cell_type": "code",
   "execution_count": null,
   "metadata": {},
   "outputs": [],
   "source": [
    "state = qc.run()\n",
    "probs = [abs(a)**2 for a in state]\n",
    "plot_bars(list_to_dict(probs, False), f'v = {v}', 'Outcomes', 'Probabilities')"
   ]
  },
  {
   "cell_type": "code",
   "execution_count": null,
   "metadata": {},
   "outputs": [],
   "source": [
    "result = qc.measure(shots = 100)\n",
    "\n",
    "result['counts']"
   ]
  },
  {
   "cell_type": "markdown",
   "metadata": {},
   "source": [
    "#### Section 7.1.2"
   ]
  },
  {
   "cell_type": "code",
   "execution_count": null,
   "metadata": {},
   "outputs": [],
   "source": [
    "result['counts'] = {5: 79, 4: 12, 6: 3, 7: 3, 3: 2, 2: 1}"
   ]
  },
  {
   "cell_type": "code",
   "execution_count": null,
   "metadata": {},
   "outputs": [],
   "source": [
    "from math import sqrt\n",
    "\n",
    "p_4 = result['counts'][4]/sum(result['counts'].values()) # <1>\n",
    "p_5 = result['counts'][5]/sum(result['counts'].values())\n",
    "\n",
    "decimal_estimate = sqrt(p_5)/(sqrt(p_4)+ sqrt(p_5))"
   ]
  },
  {
   "cell_type": "code",
   "execution_count": null,
   "metadata": {},
   "outputs": [],
   "source": [
    "decimal_estimate"
   ]
  },
  {
   "cell_type": "markdown",
   "metadata": {},
   "source": [
    "## Section 7.2"
   ]
  },
  {
   "cell_type": "code",
   "execution_count": null,
   "metadata": {},
   "outputs": [],
   "source": [
    "def ry_circuit(theta):\n",
    "    q = QuantumRegister(1)\n",
    "    qc = QuantumCircuit(q)\n",
    "    qc.ry(theta, q[0])\n",
    "\n",
    "    return qc"
   ]
  },
  {
   "cell_type": "code",
   "execution_count": null,
   "metadata": {},
   "outputs": [],
   "source": [
    "def ry_eigen_circuit():\n",
    "    q = QuantumRegister(1)\n",
    "    qc = QuantumCircuit(q)\n",
    "\n",
    "    qc.x(q[0])\n",
    "    qc.rx(-pi/2, q[0])\n",
    "\n",
    "    return qc"
   ]
  },
  {
   "cell_type": "code",
   "execution_count": null,
   "metadata": {},
   "outputs": [],
   "source": [
    "from util import print_state_table\n",
    "\n",
    "qc = ry_eigen_circuit()\n",
    "state = qc.run()\n",
    "\n",
    "print_state_table(state)"
   ]
  },
  {
   "cell_type": "code",
   "execution_count": null,
   "metadata": {},
   "outputs": [],
   "source": [
    "from util import all_close\n",
    "\n",
    "qc = ry_eigen_circuit()\n",
    "state = qc.run()\n",
    "\n",
    "assert all_close(state, [1j/sqrt(2), 1/sqrt(2)])"
   ]
  },
  {
   "cell_type": "code",
   "execution_count": null,
   "metadata": {},
   "outputs": [],
   "source": [
    "q = QuantumRegister(1)\n",
    "qc = QuantumCircuit(q)\n",
    "\n",
    "qc.x(q[0])\n",
    "qc.rx(-pi/2, q[0])\n",
    "\n",
    "theta = pi/6\n",
    "\n",
    "qc.ry(2*theta, q[0])\n",
    "\n",
    "state = qc.run()"
   ]
  },
  {
   "cell_type": "code",
   "execution_count": null,
   "metadata": {
    "scrolled": true
   },
   "outputs": [],
   "source": [
    "print_state_table(state)"
   ]
  },
  {
   "cell_type": "code",
   "execution_count": null,
   "metadata": {},
   "outputs": [],
   "source": [
    "q = QuantumRegister(1)\n",
    "qc = QuantumCircuit(q)\n",
    "\n",
    "qc.x(q[0])\n",
    "qc.rx(-pi/2, q[0])\n",
    "\n",
    "theta = pi/6\n",
    "\n",
    "qc.ry(2*theta, q[0]) # <1>\n",
    "qc.ry(2*theta, q[0]) # <1>\n",
    "\n",
    "state = qc.run()"
   ]
  },
  {
   "cell_type": "code",
   "execution_count": null,
   "metadata": {},
   "outputs": [],
   "source": [
    "print_state_table(state)"
   ]
  },
  {
   "cell_type": "markdown",
   "metadata": {},
   "source": [
    "### Section 7.3"
   ]
  },
  {
   "cell_type": "code",
   "execution_count": null,
   "metadata": {},
   "outputs": [],
   "source": [
    "n = 3\n",
    "q = QuantumRegister(n)\n",
    "a = QuantumRegister(1)\n",
    "qc = QuantumCircuit(q, a)"
   ]
  },
  {
   "cell_type": "code",
   "execution_count": null,
   "metadata": {},
   "outputs": [],
   "source": [
    "qc.x(a[0])\n",
    "qc.rx(-pi/2, a[0])"
   ]
  },
  {
   "cell_type": "code",
   "execution_count": null,
   "metadata": {},
   "outputs": [],
   "source": [
    "for i in range(n):\n",
    "    qc.h(q[i])\n",
    "\n",
    "theta = 4.7*2*pi/2**n\n",
    "\n",
    "for i in range(n):\n",
    "    for _ in range(2**i):\n",
    "        qc.cry(2*theta, q[i], a[0])  # <1> "
   ]
  },
  {
   "cell_type": "code",
   "execution_count": null,
   "metadata": {},
   "outputs": [],
   "source": [
    "qc.rx(pi/2, a[0])\n",
    "qc.x(a[0])"
   ]
  },
  {
   "cell_type": "code",
   "execution_count": null,
   "metadata": {},
   "outputs": [],
   "source": [
    "qc.iqft(q)"
   ]
  },
  {
   "cell_type": "code",
   "execution_count": null,
   "metadata": {},
   "outputs": [],
   "source": [
    "from util import all_close\n",
    "from math import cos\n",
    "\n",
    "state = qc.run()\n",
    "\n",
    "n = 3\n",
    "theta = 4.7*2*pi/2**n\n",
    "s = complex_sincd(n, theta/(2*pi)*2**n)\n",
    "assert all_close(state[:2**n], s)"
   ]
  },
  {
   "cell_type": "markdown",
   "metadata": {},
   "source": [
    "### Section 7.4"
   ]
  },
  {
   "cell_type": "code",
   "execution_count": null,
   "metadata": {},
   "outputs": [],
   "source": [
    "def ry_phase_encoding_from_eigenstate(n, theta):\n",
    "    \n",
    "    q = QuantumRegister(n)\n",
    "    a = QuantumRegister(1)\n",
    "    qc = QuantumCircuit(q, a)\n",
    "\n",
    "    qc.append(ry_eigen_circuit(), a)\n",
    "    qc.report('eigenstate')\n",
    "\n",
    "    for i in range(n):\n",
    "        qc.h(q[i])\n",
    "\n",
    "    for i in range(n):\n",
    "        for _ in range(2**i):\n",
    "            qc.c_append(ry_circuit(2*theta), q[i], a)\n",
    "            \n",
    "    qc.report('geometric_sequence_superposition')\n",
    "    \n",
    "    qc.append(ry_eigen_circuit().inverse(), a)\n",
    "\n",
    "    qc.report('geometric_sequence')\n",
    "\n",
    "    qc.iqft(q)\n",
    "    qc.report('estimate')\n",
    "\n",
    "    return qc"
   ]
  },
  {
   "cell_type": "code",
   "execution_count": null,
   "metadata": {},
   "outputs": [],
   "source": [
    "n = 3\n",
    "theta = 4.7*2*pi/2**n\n",
    "qc = ry_phase_encoding_from_eigenstate(n, theta)"
   ]
  },
  {
   "cell_type": "code",
   "execution_count": null,
   "metadata": {},
   "outputs": [],
   "source": [
    "from util_qiskit import hume_to_qiskit\n",
    "\n",
    "qc_qiskit = hume_to_qiskit(qc.regs, qc.reports['eigenstate'][1])\n",
    "print(qc_qiskit)"
   ]
  },
  {
   "cell_type": "code",
   "execution_count": null,
   "metadata": {},
   "outputs": [],
   "source": [
    "print_state_table(qc.reports['eigenstate'][2])"
   ]
  },
  {
   "cell_type": "code",
   "execution_count": null,
   "metadata": {},
   "outputs": [],
   "source": [
    "qc_qiskit = hume_to_qiskit(qc.regs, qc.reports['geometric_sequence_superposition'][1])\n",
    "print(qc_qiskit)"
   ]
  },
  {
   "cell_type": "code",
   "execution_count": null,
   "metadata": {
    "scrolled": true
   },
   "outputs": [],
   "source": [
    "print_state_table(qc.reports['geometric_sequence_superposition'][2])"
   ]
  },
  {
   "cell_type": "code",
   "execution_count": null,
   "metadata": {},
   "outputs": [],
   "source": [
    "print_state_table(qc.reports['geometric_sequence'][2])"
   ]
  },
  {
   "cell_type": "code",
   "execution_count": null,
   "metadata": {},
   "outputs": [],
   "source": [
    "qc_qiskit = hume_to_qiskit(qc.regs, qc.reports['estimate'][1])\n",
    "print(qc_qiskit)"
   ]
  },
  {
   "cell_type": "code",
   "execution_count": null,
   "metadata": {},
   "outputs": [],
   "source": [
    "print_state_table(qc.reports['estimate'][2])"
   ]
  },
  {
   "cell_type": "markdown",
   "metadata": {},
   "source": [
    "### Section 7.5"
   ]
  },
  {
   "cell_type": "markdown",
   "metadata": {},
   "source": [
    "Listing 7.4"
   ]
  },
  {
   "cell_type": "code",
   "execution_count": null,
   "metadata": {},
   "outputs": [],
   "source": [
    "def phase_estimation_circuit(n, circuit, eigen_circuit=None):\n",
    "    q = QuantumRegister(n)\n",
    "    a = QuantumRegister(sum(circuit.regs))\n",
    "    qc = QuantumCircuit(q, a) # <1>\n",
    "\n",
    "    if eigen_circuit is not None:\n",
    "        qc.append(eigen_circuit, a)\n",
    "        qc.report('eigenstate')\n",
    "\n",
    "    for i in range(n):\n",
    "        qc.h(q[i])\n",
    "\n",
    "    for i in range(n):\n",
    "        for _ in range(2**i):\n",
    "            qc.c_append(circuit, q[i], a)\n",
    "\n",
    "    qc.report('geometric_sequence_superposition')\n",
    "\n",
    "    if eigen_circuit is not None:\n",
    "        qc.append(eigen_circuit.inverse(), a)\n",
    "        qc.report('geometric_sequence')\n",
    "\n",
    "    qc.iqft(q)\n",
    "    qc.report('estimate')\n",
    "\n",
    "    return qc"
   ]
  },
  {
   "cell_type": "code",
   "execution_count": null,
   "metadata": {},
   "outputs": [],
   "source": [
    "n = 3\n",
    "N = 2**n\n",
    "theta = 4.7*2*pi/N\n",
    "\n",
    "qc = phase_estimation_circuit(n, ry_circuit(2*theta), ry_eigen_circuit())"
   ]
  },
  {
   "cell_type": "code",
   "execution_count": null,
   "metadata": {},
   "outputs": [],
   "source": [
    "eig = qc.reports['eigenstate'][2]\n",
    "assert all_close(eig, [1j/sqrt(2) if k == 0 else 0 for k in range(N)] +\n",
    "    [1/sqrt(2) if k == 0 else 0 for k in range(N)])\n",
    "\n",
    "geom = qc.reports['geometric_sequence'][2]\n",
    "g = [1/sqrt(N)*cis(k*theta) for k in range(N)]\n",
    "assert all_close(geom[:N], g)\n",
    "\n",
    "estimate = qc.reports['estimate'][2]\n",
    "s = complex_sincd(n, theta/(2*pi)*N)\n",
    "assert all_close(estimate, s + [0 for _ in range(N)])"
   ]
  },
  {
   "cell_type": "markdown",
   "metadata": {},
   "source": [
    "### Section 7.6"
   ]
  },
  {
   "cell_type": "code",
   "execution_count": null,
   "metadata": {
    "ExecuteTime": {
     "end_time": "2023-11-01T18:56:10.025633Z",
     "start_time": "2023-11-01T18:56:10.021756Z"
    }
   },
   "outputs": [],
   "source": [
    "def phase_estimation_circuit(n, circuit, eigen_circuit=None, swap=True):\n",
    "    q = QuantumRegister(n)\n",
    "    a = QuantumRegister(sum(circuit.regs))\n",
    "    qc = QuantumCircuit(q, a) # a is last (at the bottom)\n",
    "\n",
    "    if eigen_circuit is not None:\n",
    "        qc.append(eigen_circuit, a)\n",
    "    qc.report('eigenstate')\n",
    "\n",
    "    for i in range(n):\n",
    "        qc.h(q[i])\n",
    "\n",
    "    for i in range(n):\n",
    "        for _ in range(2**i):\n",
    "            if swap:\n",
    "                qc.c_append(circuit, q[i], a)\n",
    "            else:\n",
    "                qc.c_append(circuit, q[n-1-i], a) # <1>\n",
    "                \n",
    "    qc.report('geometric_sequence_superposition')\n",
    "\n",
    "    if eigen_circuit is not None:\n",
    "        qc.append(eigen_circuit.inverse(), a)\n",
    "\n",
    "    qc.report('geometric_sequence')\n",
    "\n",
    "    qc.iqft(q if swap else q[::-1], swap)\n",
    "    qc.report('estimate')\n",
    "\n",
    "    return qc"
   ]
  },
  {
   "cell_type": "code",
   "execution_count": null,
   "metadata": {},
   "outputs": [],
   "source": [
    "n = 3\n",
    "N = 2**n\n",
    "theta = 4.7*2*pi/N\n",
    "swap = False\n",
    "\n",
    "qc = phase_estimation_circuit(n, ry_circuit(2*theta), ry_eigen_circuit(), swap)"
   ]
  },
  {
   "cell_type": "code",
   "execution_count": null,
   "metadata": {},
   "outputs": [],
   "source": [
    "state = qc.run()\n",
    "assert all_close(state, s + [0 for _ in range(N)])"
   ]
  },
  {
   "cell_type": "code",
   "execution_count": null,
   "metadata": {},
   "outputs": [],
   "source": [
    "from util_qiskit import show_reports\n",
    "show_reports(qc)"
   ]
  },
  {
   "cell_type": "code",
   "execution_count": null,
   "metadata": {},
   "outputs": [],
   "source": [
    "from util import reverse_index_state\n",
    "\n",
    "geom = qc.reports['geometric_sequence'][2]\n",
    "g = [1/sqrt(N)*cis(k*theta) for k in range(N)]\n",
    "assert all_close(geom[:N], g if swap else reverse_index_state(g)) # <1>"
   ]
  },
  {
   "cell_type": "code",
   "execution_count": null,
   "metadata": {},
   "outputs": [],
   "source": [
    "estimate = qc.reports['estimate'][2]\n",
    "s = complex_sincd(n, theta/(2*pi)*N)\n",
    "assert all_close(estimate, s + [0 for _ in range(N)])"
   ]
  },
  {
   "cell_type": "code",
   "execution_count": null,
   "metadata": {
    "ExecuteTime": {
     "end_time": "2023-11-01T18:56:10.069425Z",
     "start_time": "2023-11-01T18:56:10.065754Z"
    }
   },
   "outputs": [],
   "source": [
    "from random import uniform\n",
    "\n",
    "def test_ry_phase_estimation():\n",
    "    n = 3\n",
    "    N = 2**n\n",
    "\n",
    "    random_thetas = [uniform(-pi, pi) for _ in range(10)]\n",
    "\n",
    "    for theta in random_thetas:\n",
    "        for swap in [True, False]:\n",
    "            qc = phase_estimation_circuit(n, ry_circuit(theta), ry_eigen_circuit(), swap)\n",
    "\n",
    "            eig = qc.reports['eigenstate'][2]\n",
    "            assert all_close(eig, [1j/sqrt(2) if k == 0 else 0 for k in range(N)] +\n",
    "                             [1/sqrt(2) if k == 0 else 0 for k in range(N)])\n",
    "\n",
    "            geom = qc.reports['geometric_sequence'][2]\n",
    "            g = [1/sqrt(N)*cis(k*theta/2) for k in range(N)]\n",
    "            assert all_close(geom[:N], g if swap else reverse_index_state(g))\n",
    "\n",
    "            estimate = qc.reports['estimate'][2]\n",
    "            s = complex_sincd(n, theta/2/(2*pi)*N)\n",
    "            assert all_close(estimate[:N], s)"
   ]
  },
  {
   "cell_type": "code",
   "execution_count": null,
   "metadata": {
    "ExecuteTime": {
     "end_time": "2023-11-01T18:56:10.075553Z",
     "start_time": "2023-11-01T18:56:10.073137Z"
    }
   },
   "outputs": [],
   "source": [
    "test_ry_phase_estimation()"
   ]
  },
  {
   "cell_type": "markdown",
   "metadata": {},
   "source": [
    "### Additional tests"
   ]
  },
  {
   "cell_type": "code",
   "execution_count": null,
   "metadata": {},
   "outputs": [],
   "source": [
    "from util_qiskit import same_as_qiskit\n",
    "\n",
    "for n in range(10):\n",
    "    for eigen in [True, False]:\n",
    "        for swap in [True, False]:\n",
    "            qc = phase_estimation_circuit(n, ry_circuit(theta), ry_eigen_circuit() if eigen else None, swap)\n",
    "            assert same_as_qiskit(qc)"
   ]
  },
  {
   "cell_type": "code",
   "execution_count": null,
   "metadata": {
    "ExecuteTime": {
     "end_time": "2023-11-01T18:56:10.084395Z",
     "start_time": "2023-11-01T18:56:10.082338Z"
    }
   },
   "outputs": [],
   "source": [
    "from math import sin\n",
    "from util import rev, inner\n",
    "from algo import fourier_basis\n",
    "\n",
    "def test_ry_phase_estimation_no_eigen():\n",
    "    n = 3\n",
    "    N = 2**n\n",
    "\n",
    "    random_thetas = [uniform(-pi, pi) for _ in range(10)]\n",
    "\n",
    "    for theta in random_thetas:\n",
    "        for swap in [True, False]:\n",
    "            qc = phase_estimation_circuit(n, ry_circuit(theta), None, swap)\n",
    "            geom = qc.reports['geometric_sequence'][2]\n",
    "            if swap:\n",
    "                g = [1/sqrt(N)*cos(k*theta/2) for k in range(N)] + [1/sqrt(N)*sin(k*theta/2) for k in range(N)]\n",
    "            else:\n",
    "                g = [1/sqrt(N)*cos(rev(n, k)*theta/2) for k in range(N)] + [1/sqrt(N)*sin(rev(n, k)*theta/2) for k in range(N)]\n",
    "\n",
    "            # print(g)\n",
    "            assert all_close(geom, g)\n",
    "\n",
    "            e = qc.reports['estimate'][2]\n",
    "            # tabulate_state(e)\n",
    "\n",
    "            g = [1/sqrt(N)*cos(k*theta/2) for k in range(N)] + [1/sqrt(N)*sin(k*theta/2) for k in range(N)]\n",
    "            f = ([inner(g[:N], fourier_basis(N, k)) for k in range(N)] +\n",
    "                 [inner(g[N:], fourier_basis(N, k)) for k in range(N)])\n",
    "            # fourier_basis(N, k)) = [sqrt(1/N) * cis(j*k*2*pi/N) for j in range(N)]\n",
    "            # print(f)\n",
    "            assert all_close(e, f)\n",
    "\n",
    "            v = 2**(n-2)*theta/pi\n",
    "\n",
    "            c = complex_sincd(n, v)\n",
    "            assert all_close(c, [e[k] + 1j*e[k+N] for k in range(N)])\n",
    "\n",
    "            d = complex_sincd(n, N-v)\n",
    "            assert all_close(e, [(c[k] + d[k])/2 for k in range(N)] + [-1j*(c[k] - d[k])/2 for k in range(N)])"
   ]
  },
  {
   "cell_type": "code",
   "execution_count": null,
   "metadata": {
    "ExecuteTime": {
     "end_time": "2023-11-01T18:56:10.097916Z",
     "start_time": "2023-11-01T18:56:10.094723Z"
    }
   },
   "outputs": [],
   "source": [
    "test_ry_phase_estimation_no_eigen()"
   ]
  }
 ],
 "metadata": {
  "kernelspec": {
   "display_name": "Python 3 (ipykernel)",
   "language": "python",
   "name": "python3"
  },
  "language_info": {
   "codemirror_mode": {
    "name": "ipython",
    "version": 3
   },
   "file_extension": ".py",
   "mimetype": "text/x-python",
   "name": "python",
   "nbconvert_exporter": "python",
   "pygments_lexer": "ipython3",
   "version": "3.9.13"
  }
 },
 "nbformat": 4,
 "nbformat_minor": 4
}
