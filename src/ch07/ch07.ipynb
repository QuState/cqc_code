{
 "cells": [
  {
   "cell_type": "code",
   "execution_count": 1,
   "metadata": {
    "ExecuteTime": {
     "end_time": "2023-11-15T16:52:11.139244Z",
     "start_time": "2023-11-15T16:52:10.369499Z"
    }
   },
   "outputs": [],
   "source": [
    "import os\n",
    "os.chdir('..')\n",
    "\n",
    "from util import CONFIG\n",
    "CONFIG.set_use_mpl_tables(True)"
   ]
  },
  {
   "cell_type": "markdown",
   "metadata": {},
   "source": [
    "## Section 7.1"
   ]
  },
  {
   "cell_type": "markdown",
   "metadata": {},
   "source": [
    "Listing 7.1"
   ]
  },
  {
   "cell_type": "code",
   "execution_count": 2,
   "metadata": {
    "ExecuteTime": {
     "end_time": "2023-11-15T16:52:11.139533Z",
     "start_time": "2023-11-15T16:52:10.498725Z"
    }
   },
   "outputs": [],
   "source": [
    "from sim_circuit import QuantumRegister, QuantumCircuit\n",
    "from math import pi\n",
    "\n",
    "def encode_frequency(n, v):\n",
    "    q = QuantumRegister(n)\n",
    "    qc = QuantumCircuit(q)\n",
    "\n",
    "    for j in range(n):\n",
    "        qc.h(q[j])\n",
    "\n",
    "    for j in range(n):\n",
    "        qc.p(2 * pi / 2 ** (n - j) * v, q[j]) # <1>\n",
    "\n",
    "    qc.report('geometric_sequence') # <2>\n",
    "\n",
    "    qc.iqft(range(n))\n",
    "\n",
    "    qc.report('iqft')\n",
    "\n",
    "    return qc"
   ]
  },
  {
   "cell_type": "markdown",
   "metadata": {},
   "source": [
    "Listing 7.2"
   ]
  },
  {
   "cell_type": "code",
   "execution_count": 3,
   "metadata": {
    "ExecuteTime": {
     "start_time": "2023-11-15T16:52:10.523444Z"
    }
   },
   "outputs": [],
   "source": [
    "from util import cis, prod\n",
    "\n",
    "def complex_sincd(n, v):\n",
    "    N = 2 ** n\n",
    "    return [prod(\n",
    "        cos((v - k) * pi / 2 ** (j + 1)) * cis((v - k) * pi / 2 ** (j + 1))\n",
    "        for j in range(n)) for k in range(2 ** n)]"
   ]
  },
  {
   "cell_type": "code",
   "execution_count": 4,
   "metadata": {
    "ExecuteTime": {
     "start_time": "2023-11-15T16:52:10.524904Z"
    }
   },
   "outputs": [],
   "source": [
    "n = 3\n",
    "\n",
    "qc1 = encode_frequency(n, 3)\n",
    "\n",
    "qc2 = encode_frequency(n, 3.8)"
   ]
  },
  {
   "cell_type": "code",
   "execution_count": 5,
   "metadata": {
    "ExecuteTime": {
     "start_time": "2023-11-15T16:52:10.526892Z"
    }
   },
   "outputs": [],
   "source": [
    "result = qc1.measure(shots = 10)"
   ]
  },
  {
   "cell_type": "code",
   "execution_count": 6,
   "metadata": {
    "ExecuteTime": {
     "start_time": "2023-11-15T16:52:10.528625Z"
    }
   },
   "outputs": [
    {
     "data": {
      "text/plain": [
       "{3: 10}"
      ]
     },
     "execution_count": 6,
     "metadata": {},
     "output_type": "execute_result"
    }
   ],
   "source": [
    "result['counts']"
   ]
  },
  {
   "cell_type": "code",
   "execution_count": 7,
   "metadata": {
    "ExecuteTime": {
     "start_time": "2023-11-15T16:52:10.530310Z"
    }
   },
   "outputs": [
    {
     "data": {
      "image/png": "[encoded data removed]",
      "text/plain": [
       "<Figure size 432x288 with 1 Axes>"
      ]
     },
     "metadata": {
      "needs_background": "light"
     },
     "output_type": "display_data"
    }
   ],
   "source": [
    "from util import plot_bars\n",
    "\n",
    "for outcome in range(2**n):\n",
    "    result['counts'][outcome] = result['counts'].get(outcome, 0)\n",
    "    \n",
    "plot_bars(dict(sorted(result['counts'].items())), '', 'Outcomes', 'Frequency', color='grey')"
   ]
  },
  {
   "cell_type": "code",
   "execution_count": 8,
   "metadata": {
    "ExecuteTime": {
     "start_time": "2023-11-15T16:52:10.532355Z"
    }
   },
   "outputs": [],
   "source": [
    "result = qc2.measure(shots = 10)"
   ]
  },
  {
   "cell_type": "code",
   "execution_count": 9,
   "metadata": {
    "ExecuteTime": {
     "start_time": "2023-11-15T16:52:10.534098Z"
    }
   },
   "outputs": [
    {
     "data": {
      "text/plain": [
       "{4: 9, 3: 1}"
      ]
     },
     "execution_count": 9,
     "metadata": {},
     "output_type": "execute_result"
    }
   ],
   "source": [
    "result['counts']"
   ]
  },
  {
   "cell_type": "code",
   "execution_count": 10,
   "metadata": {
    "ExecuteTime": {
     "start_time": "2023-11-15T16:52:10.535788Z"
    }
   },
   "outputs": [
    {
     "data": {
      "image/png": "[encoded data removed]",
      "text/plain": [
       "<Figure size 432x288 with 1 Axes>"
      ]
     },
     "metadata": {
      "needs_background": "light"
     },
     "output_type": "display_data"
    }
   ],
   "source": [
    "for outcome in range(2**n):\n",
    "    result['counts'][outcome] = result['counts'].get(outcome, 0)\n",
    "    \n",
    "plot_bars(dict(sorted(result['counts'].items())), '', 'Outcomes', 'Frequency', color='grey')"
   ]
  },
  {
   "cell_type": "markdown",
   "metadata": {},
   "source": [
    "#### Section 7.1.1"
   ]
  },
  {
   "cell_type": "code",
   "execution_count": 11,
   "metadata": {
    "ExecuteTime": {
     "start_time": "2023-11-15T16:52:10.537334Z"
    }
   },
   "outputs": [],
   "source": [
    "n = 3\n",
    "v = 4.76\n",
    "qc = encode_frequency(n, v)"
   ]
  },
  {
   "cell_type": "code",
   "execution_count": 12,
   "metadata": {
    "ExecuteTime": {
     "start_time": "2023-11-15T16:52:10.538958Z"
    }
   },
   "outputs": [
    {
     "data": {
      "image/png": "[encoded data removed]",
      "text/plain": [
       "<Figure size 432x288 with 1 Axes>"
      ]
     },
     "metadata": {
      "needs_background": "light"
     },
     "output_type": "display_data"
    }
   ],
   "source": [
    "from util import list_to_dict\n",
    "\n",
    "state = qc.run()\n",
    "probs = [abs(a)**2 for a in state]\n",
    "plot_bars(list_to_dict(probs, False), f'v = {v}', 'Outcomes', 'Probabilities')"
   ]
  },
  {
   "cell_type": "code",
   "execution_count": 13,
   "metadata": {
    "ExecuteTime": {
     "start_time": "2023-11-15T16:52:10.540815Z"
    }
   },
   "outputs": [
    {
     "data": {
      "text/plain": [
       "{5: 85, 3: 2, 6: 2, 4: 7, 2: 2, 7: 1, 0: 1}"
      ]
     },
     "execution_count": 13,
     "metadata": {},
     "output_type": "execute_result"
    }
   ],
   "source": [
    "result = qc.measure(shots = 100)\n",
    "\n",
    "result['counts']"
   ]
  },
  {
   "cell_type": "code",
   "execution_count": 14,
   "metadata": {
    "ExecuteTime": {
     "start_time": "2023-11-15T16:52:10.542329Z"
    }
   },
   "outputs": [],
   "source": [
    "n = 5\n",
    "v = 19.05\n",
    "qc = encode_frequency(n, v)"
   ]
  },
  {
   "cell_type": "code",
   "execution_count": 15,
   "metadata": {
    "ExecuteTime": {
     "start_time": "2023-11-15T16:52:10.543953Z"
    }
   },
   "outputs": [
    {
     "data": {
      "image/png": "[encoded data removed]",
      "text/plain": [
       "<Figure size 432x288 with 1 Axes>"
      ]
     },
     "metadata": {
      "needs_background": "light"
     },
     "output_type": "display_data"
    }
   ],
   "source": [
    "state = qc.run()\n",
    "probs = [abs(a)**2 for a in state]\n",
    "plot_bars(list_to_dict(probs, False), f'v = {v}', 'Outcomes', 'Probabilities')"
   ]
  },
  {
   "cell_type": "code",
   "execution_count": 16,
   "metadata": {
    "ExecuteTime": {
     "start_time": "2023-11-15T16:52:10.545546Z"
    }
   },
   "outputs": [
    {
     "data": {
      "text/plain": [
       "{19: 98, 20: 1, 17: 1}"
      ]
     },
     "execution_count": 16,
     "metadata": {},
     "output_type": "execute_result"
    }
   ],
   "source": [
    "result = qc.measure(shots = 100)\n",
    "\n",
    "result['counts']"
   ]
  },
  {
   "cell_type": "markdown",
   "metadata": {},
   "source": [
    "#### Section 7.1.2"
   ]
  },
  {
   "cell_type": "code",
   "execution_count": 17,
   "metadata": {
    "ExecuteTime": {
     "start_time": "2023-11-15T16:52:10.547230Z"
    }
   },
   "outputs": [],
   "source": [
    "result['counts'] = {5: 79, 4: 12, 6: 3, 7: 3, 3: 2, 2: 1}"
   ]
  },
  {
   "cell_type": "code",
   "execution_count": 18,
   "metadata": {
    "ExecuteTime": {
     "start_time": "2023-11-15T16:52:10.549053Z"
    }
   },
   "outputs": [],
   "source": [
    "from math import sqrt\n",
    "\n",
    "p_4 = result['counts'][4]/sum(result['counts'].values()) # <1>\n",
    "p_5 = result['counts'][5]/sum(result['counts'].values())\n",
    "\n",
    "decimal_estimate = sqrt(p_5)/(sqrt(p_4)+ sqrt(p_5))"
   ]
  },
  {
   "cell_type": "code",
   "execution_count": 19,
   "metadata": {
    "ExecuteTime": {
     "start_time": "2023-11-15T16:52:10.551039Z"
    }
   },
   "outputs": [
    {
     "data": {
      "text/plain": [
       "0.7195580800495327"
      ]
     },
     "execution_count": 19,
     "metadata": {},
     "output_type": "execute_result"
    }
   ],
   "source": [
    "decimal_estimate"
   ]
  },
  {
   "cell_type": "markdown",
   "metadata": {},
   "source": [
    "## Section 7.2"
   ]
  },
  {
   "cell_type": "code",
   "execution_count": 20,
   "metadata": {
    "ExecuteTime": {
     "start_time": "2023-11-15T16:52:10.552727Z"
    }
   },
   "outputs": [],
   "source": [
    "def ry_circuit(theta):\n",
    "    q = QuantumRegister(1)\n",
    "    qc = QuantumCircuit(q)\n",
    "    qc.ry(theta, q[0])\n",
    "\n",
    "    return qc"
   ]
  },
  {
   "cell_type": "code",
   "execution_count": 21,
   "metadata": {
    "ExecuteTime": {
     "start_time": "2023-11-15T16:52:10.554547Z"
    }
   },
   "outputs": [],
   "source": [
    "def ry_eigen_circuit():\n",
    "    q = QuantumRegister(1)\n",
    "    qc = QuantumCircuit(q)\n",
    "\n",
    "    qc.x(q[0])\n",
    "    qc.rx(-pi/2, q[0])\n",
    "\n",
    "    return qc"
   ]
  },
  {
   "cell_type": "code",
   "execution_count": 22,
   "metadata": {
    "ExecuteTime": {
     "start_time": "2023-11-15T16:52:10.556342Z"
    }
   },
   "outputs": [
    {
     "name": "stdout",
     "output_type": "stream",
     "text": [
      "\n",
      "Outcome  Binary  Amplitude           Magnitude  Direction  Amplitude Bar             Probability\n",
      "------------------------------------------------------------------------------------------------\n",
      "0        0       0.0000 + i0.7071    0.7071       90.00°   \u001b[38;2;152;184;0m████████████████        \u001b[39m  0.5   \n",
      "1        1       0.7071 + i0.0000    0.7071        0.00°   \u001b[38;2;246;54;26m████████████████        \u001b[39m  0.5   \n",
      "\n"
     ]
    }
   ],
   "source": [
    "from util import print_state_table\n",
    "\n",
    "qc = ry_eigen_circuit()\n",
    "state = qc.run()\n",
    "\n",
    "print_state_table(state)"
   ]
  },
  {
   "cell_type": "code",
   "execution_count": 23,
   "metadata": {
    "ExecuteTime": {
     "start_time": "2023-11-15T16:52:10.558181Z"
    }
   },
   "outputs": [],
   "source": [
    "from util import all_close\n",
    "\n",
    "qc = ry_eigen_circuit()\n",
    "state = qc.run()\n",
    "\n",
    "assert all_close(state, [1j/sqrt(2), 1/sqrt(2)])"
   ]
  },
  {
   "cell_type": "code",
   "execution_count": 24,
   "metadata": {
    "ExecuteTime": {
     "start_time": "2023-11-15T16:52:10.560066Z"
    }
   },
   "outputs": [],
   "source": [
    "q = QuantumRegister(1)\n",
    "qc = QuantumCircuit(q)\n",
    "\n",
    "qc.x(q[0])\n",
    "qc.rx(-pi/2, q[0])\n",
    "\n",
    "theta = pi/6\n",
    "\n",
    "qc.ry(2*theta, q[0])\n",
    "\n",
    "state = qc.run()"
   ]
  },
  {
   "cell_type": "code",
   "execution_count": 25,
   "metadata": {
    "ExecuteTime": {
     "start_time": "2023-11-15T16:52:10.562254Z"
    },
    "scrolled": true
   },
   "outputs": [
    {
     "name": "stdout",
     "output_type": "stream",
     "text": [
      "\n",
      "Outcome  Binary  Amplitude           Magnitude  Direction  Amplitude Bar             Probability\n",
      "------------------------------------------------------------------------------------------------\n",
      "0        0      -0.3536 + i0.6124    0.7071      120.00°   \u001b[38;2;56;153;33m████████████████        \u001b[39m  0.5   \n",
      "1        1       0.6124 + i0.3536    0.7071       30.00°   \u001b[38;2;254;137;0m████████████████        \u001b[39m  0.5   \n",
      "\n"
     ]
    }
   ],
   "source": [
    "print_state_table(state)"
   ]
  },
  {
   "cell_type": "code",
   "execution_count": 26,
   "metadata": {
    "ExecuteTime": {
     "start_time": "2023-11-15T16:52:10.564354Z"
    }
   },
   "outputs": [],
   "source": [
    "q = QuantumRegister(1)\n",
    "qc = QuantumCircuit(q)\n",
    "\n",
    "qc.x(q[0])\n",
    "qc.rx(-pi/2, q[0])\n",
    "\n",
    "theta = pi/6\n",
    "\n",
    "qc.ry(2*theta, q[0]) # <1>\n",
    "qc.ry(2*theta, q[0]) # <1>\n",
    "\n",
    "state = qc.run()"
   ]
  },
  {
   "cell_type": "code",
   "execution_count": 27,
   "metadata": {
    "ExecuteTime": {
     "start_time": "2023-11-15T16:52:10.566111Z"
    }
   },
   "outputs": [
    {
     "name": "stdout",
     "output_type": "stream",
     "text": [
      "\n",
      "Outcome  Binary  Amplitude           Magnitude  Direction  Amplitude Bar             Probability\n",
      "------------------------------------------------------------------------------------------------\n",
      "0        0      -0.6124 + i0.3536    0.7071      150.00°   \u001b[38;2;49;191;130m████████████████        \u001b[39m  0.5   \n",
      "1        1       0.3536 + i0.6124    0.7071       60.00°   \u001b[38;2;244;206;0m████████████████        \u001b[39m  0.5   \n",
      "\n"
     ]
    }
   ],
   "source": [
    "print_state_table(state)"
   ]
  },
  {
   "cell_type": "markdown",
   "metadata": {},
   "source": [
    "### Section 7.3"
   ]
  },
  {
   "cell_type": "code",
   "execution_count": 28,
   "metadata": {
    "ExecuteTime": {
     "start_time": "2023-11-15T16:52:10.567517Z"
    }
   },
   "outputs": [],
   "source": [
    "n = 3\n",
    "q = QuantumRegister(n)\n",
    "a = QuantumRegister(1)\n",
    "qc = QuantumCircuit(q, a)"
   ]
  },
  {
   "cell_type": "code",
   "execution_count": 29,
   "metadata": {
    "ExecuteTime": {
     "start_time": "2023-11-15T16:52:10.569193Z"
    }
   },
   "outputs": [],
   "source": [
    "qc.x(a[0])\n",
    "qc.rx(-pi/2, a[0])"
   ]
  },
  {
   "cell_type": "code",
   "execution_count": 30,
   "metadata": {
    "ExecuteTime": {
     "start_time": "2023-11-15T16:52:10.570296Z"
    }
   },
   "outputs": [],
   "source": [
    "for i in range(n):\n",
    "    qc.h(q[i])\n",
    "\n",
    "theta = 4.7*2*pi/2**n\n",
    "\n",
    "for i in range(n):\n",
    "    for _ in range(2**i):\n",
    "        qc.cry(2*theta, q[i], a[0])  # <1> "
   ]
  },
  {
   "cell_type": "code",
   "execution_count": 31,
   "metadata": {
    "ExecuteTime": {
     "start_time": "2023-11-15T16:52:10.571353Z"
    }
   },
   "outputs": [],
   "source": [
    "qc.rx(pi/2, a[0])\n",
    "qc.x(a[0])"
   ]
  },
  {
   "cell_type": "code",
   "execution_count": 32,
   "metadata": {
    "ExecuteTime": {
     "start_time": "2023-11-15T16:52:10.572522Z"
    }
   },
   "outputs": [],
   "source": [
    "qc.iqft(q)"
   ]
  },
  {
   "cell_type": "code",
   "execution_count": 33,
   "metadata": {
    "ExecuteTime": {
     "start_time": "2023-11-15T16:52:10.573694Z"
    }
   },
   "outputs": [],
   "source": [
    "from util import all_close\n",
    "from math import cos\n",
    "\n",
    "state = qc.run()\n",
    "\n",
    "n = 3\n",
    "theta = 4.7*2*pi/2**n\n",
    "s = complex_sincd(n, theta/(2*pi)*2**n)\n",
    "assert all_close(state[:2**n], s)"
   ]
  },
  {
   "cell_type": "markdown",
   "metadata": {},
   "source": [
    "### Section 7.4"
   ]
  },
  {
   "cell_type": "code",
   "execution_count": 34,
   "metadata": {
    "ExecuteTime": {
     "start_time": "2023-11-15T16:52:10.574589Z"
    }
   },
   "outputs": [],
   "source": [
    "def ry_phase_encoding_from_eigenstate(n, theta):\n",
    "    \n",
    "    q = QuantumRegister(n)\n",
    "    a = QuantumRegister(1)\n",
    "    qc = QuantumCircuit(q, a)\n",
    "\n",
    "    qc.append(ry_eigen_circuit(), a)\n",
    "    qc.report('eigenstate')\n",
    "\n",
    "    for i in range(n):\n",
    "        qc.h(q[i])\n",
    "\n",
    "    for i in range(n):\n",
    "        for _ in range(2**i):\n",
    "            qc.c_append(ry_circuit(2*theta), q[i], a)\n",
    "            \n",
    "    qc.report('geometric_sequence_superposition')\n",
    "    \n",
    "    qc.append(ry_eigen_circuit().inverse(), a)\n",
    "\n",
    "    qc.report('geometric_sequence')\n",
    "\n",
    "    qc.iqft(q)\n",
    "    qc.report('estimate')\n",
    "\n",
    "    return qc"
   ]
  },
  {
   "cell_type": "code",
   "execution_count": 35,
   "metadata": {
    "ExecuteTime": {
     "start_time": "2023-11-15T16:52:10.575593Z"
    }
   },
   "outputs": [],
   "source": [
    "n = 3\n",
    "theta = 4.7*2*pi/2**n\n",
    "qc = ry_phase_encoding_from_eigenstate(n, theta)"
   ]
  },
  {
   "cell_type": "code",
   "execution_count": 36,
   "metadata": {
    "ExecuteTime": {
     "start_time": "2023-11-15T16:52:10.576687Z"
    }
   },
   "outputs": [
    {
     "name": "stdout",
     "output_type": "stream",
     "text": [
      "                       \n",
      "q0_0: ─────────────────\n",
      "                       \n",
      "q0_1: ─────────────────\n",
      "                       \n",
      "q0_2: ─────────────────\n",
      "      ┌───┐┌──────────┐\n",
      "  q1: ┤ X ├┤ Rx(-π/2) ├\n",
      "      └───┘└──────────┘\n"
     ]
    }
   ],
   "source": [
    "from util_qiskit import hume_to_qiskit\n",
    "\n",
    "qc_qiskit = hume_to_qiskit(qc.regs, qc.reports['eigenstate'][1])\n",
    "print(qc_qiskit)"
   ]
  },
  {
   "cell_type": "code",
   "execution_count": 37,
   "metadata": {
    "ExecuteTime": {
     "start_time": "2023-11-15T16:52:10.577846Z"
    }
   },
   "outputs": [
    {
     "name": "stdout",
     "output_type": "stream",
     "text": [
      "\n",
      "Outcome  Binary  Amplitude           Magnitude  Direction  Amplitude Bar             Probability\n",
      "------------------------------------------------------------------------------------------------\n",
      "0        0000    0.0000 + i0.7071    0.7071       90.00°   \u001b[38;2;152;184;0m████████████████        \u001b[39m  0.5   \n",
      "1        0001    0.0000 + i0.0000    0.0                   \u001b[38;2;246;54;26m                        \u001b[39m  0.0   \n",
      "2        0010    0.0000 + i0.0000    0.0                   \u001b[38;2;246;54;26m                        \u001b[39m  0.0   \n",
      "3        0011    0.0000 + i0.0000    0.0                   \u001b[38;2;246;54;26m                        \u001b[39m  0.0   \n",
      "4        0100    0.0000 + i0.0000    0.0                   \u001b[38;2;246;54;26m                        \u001b[39m  0.0   \n",
      "5        0101    0.0000 + i0.0000    0.0                   \u001b[38;2;246;54;26m                        \u001b[39m  0.0   \n",
      "6        0110    0.0000 + i0.0000    0.0                   \u001b[38;2;246;54;26m                        \u001b[39m  0.0   \n",
      "7        0111    0.0000 + i0.0000    0.0                   \u001b[38;2;246;54;26m                        \u001b[39m  0.0   \n",
      "8        1000    0.7071 + i0.0000    0.7071        0.00°   \u001b[38;2;246;54;26m████████████████        \u001b[39m  0.5   \n",
      "9        1001    0.0000 + i0.0000    0.0                   \u001b[38;2;246;54;26m                        \u001b[39m  0.0   \n",
      "10       1010    0.0000 + i0.0000    0.0                   \u001b[38;2;246;54;26m                        \u001b[39m  0.0   \n",
      "11       1011    0.0000 + i0.0000    0.0                   \u001b[38;2;246;54;26m                        \u001b[39m  0.0   \n",
      "12       1100    0.0000 + i0.0000    0.0                   \u001b[38;2;246;54;26m                        \u001b[39m  0.0   \n",
      "13       1101    0.0000 + i0.0000    0.0                   \u001b[38;2;246;54;26m                        \u001b[39m  0.0   \n",
      "14       1110    0.0000 + i0.0000    0.0                   \u001b[38;2;246;54;26m                        \u001b[39m  0.0   \n",
      "15       1111    0.0000 + i0.0000    0.0                   \u001b[38;2;246;54;26m                        \u001b[39m  0.0   \n",
      "\n"
     ]
    }
   ],
   "source": [
    "print_state_table(qc.reports['eigenstate'][2])"
   ]
  },
  {
   "cell_type": "code",
   "execution_count": 38,
   "metadata": {
    "ExecuteTime": {
     "start_time": "2023-11-15T16:52:10.579095Z"
    }
   },
   "outputs": [
    {
     "name": "stdout",
     "output_type": "stream",
     "text": [
      "      ┌───┐                                                        »\n",
      "q2_0: ┤ H ├──────■─────────────────────────────────────────────────»\n",
      "      ├───┤      │                                                 »\n",
      "q2_1: ┤ H ├──────┼─────────────■─────────────■─────────────────────»\n",
      "      ├───┤      │             │             │                     »\n",
      "q2_2: ┤ H ├──────┼─────────────┼─────────────┼─────────────■───────»\n",
      "      └───┘┌─────┴──────┐┌─────┴──────┐┌─────┴──────┐┌─────┴──────┐»\n",
      "  q3: ─────┤ Ry(7.3827) ├┤ Ry(7.3827) ├┤ Ry(7.3827) ├┤ Ry(7.3827) ├»\n",
      "           └────────────┘└────────────┘└────────────┘└────────────┘»\n",
      "«                                                \n",
      "«q2_0: ──────────────────────────────────────────\n",
      "«                                                \n",
      "«q2_1: ──────────────────────────────────────────\n",
      "«                                                \n",
      "«q2_2: ──────■─────────────■─────────────■───────\n",
      "«      ┌─────┴──────┐┌─────┴──────┐┌─────┴──────┐\n",
      "«  q3: ┤ Ry(7.3827) ├┤ Ry(7.3827) ├┤ Ry(7.3827) ├\n",
      "«      └────────────┘└────────────┘└────────────┘\n"
     ]
    }
   ],
   "source": [
    "qc_qiskit = hume_to_qiskit(qc.regs, qc.reports['geometric_sequence_superposition'][1])\n",
    "print(qc_qiskit)"
   ]
  },
  {
   "cell_type": "code",
   "execution_count": 39,
   "metadata": {
    "ExecuteTime": {
     "start_time": "2023-11-15T16:52:10.580343Z"
    },
    "scrolled": true
   },
   "outputs": [
    {
     "name": "stdout",
     "output_type": "stream",
     "text": [
      "\n",
      "Outcome  Binary  Amplitude           Magnitude  Direction  Amplitude Bar             Probability\n",
      "------------------------------------------------------------------------------------------------\n",
      "0        0000    0.0000 + i0.2500    0.25         90.00°   \u001b[38;2;152;184;0m█████                   \u001b[39m  0.0625\n",
      "1        0001    0.1306 - i0.2132    0.25        -58.49°   \u001b[38;2;254;188;230m█████                   \u001b[39m  0.0625\n",
      "2        0010   -0.2228 + i0.1135    0.25        153.00°   \u001b[38;2;50;196;140m█████                   \u001b[39m  0.0625\n",
      "3        0011    0.2492 + i0.0196    0.25          4.50°   \u001b[38;2;246;60;18m█████                   \u001b[39m  0.0625\n",
      "4        0100   -0.2023 - i0.1469    0.25       -144.99°   \u001b[38;2;46;168;255m█████                   \u001b[39m  0.0625\n",
      "5        0101    0.0957 + i0.2310    0.25         67.50°   \u001b[38;2;229;209;0m█████                   \u001b[39m  0.0625\n",
      "6        0110    0.0391 - i0.2469    0.25        -81.00°   \u001b[38;2;199;174;255m█████                   \u001b[39m  0.0625\n",
      "7        0111   -0.1624 + i0.1901    0.25        130.51°   \u001b[38;2;43;159;62m█████                   \u001b[39m  0.0625\n",
      "8        1000    0.2500 + i0.0000    0.25          0.00°   \u001b[38;2;246;54;26m█████                   \u001b[39m  0.0625\n",
      "9        1001   -0.2132 - i0.1306    0.25       -148.49°   \u001b[38;2;48;178;255m█████                   \u001b[39m  0.0625\n",
      "10       1010    0.1135 + i0.2228    0.25         63.00°   \u001b[38;2;239;208;0m█████                   \u001b[39m  0.0625\n",
      "11       1011    0.0196 - i0.2492    0.25        -85.50°   \u001b[38;2;187;167;255m█████                   \u001b[39m  0.0625\n",
      "12       1100   -0.1469 + i0.2023    0.25        125.99°   \u001b[38;2;46;155;49m█████                   \u001b[39m  0.0625\n",
      "13       1101    0.2310 - i0.0957    0.25        -22.50°   \u001b[38;2;255;100;94m█████                   \u001b[39m  0.0625\n",
      "14       1110   -0.2469 - i0.0391    0.25       -171.00°   \u001b[38;2;40;224;248m█████                   \u001b[39m  0.0625\n",
      "15       1111    0.1901 + i0.1624    0.25         40.51°   \u001b[38;2;255;164;0m█████                   \u001b[39m  0.0625\n",
      "\n"
     ]
    }
   ],
   "source": [
    "print_state_table(qc.reports['geometric_sequence_superposition'][2])"
   ]
  },
  {
   "cell_type": "code",
   "execution_count": 40,
   "metadata": {
    "ExecuteTime": {
     "start_time": "2023-11-15T16:52:10.581294Z"
    }
   },
   "outputs": [
    {
     "name": "stdout",
     "output_type": "stream",
     "text": [
      "\n",
      "Outcome  Binary  Amplitude           Magnitude  Direction  Amplitude Bar             Probability\n",
      "------------------------------------------------------------------------------------------------\n",
      "0        0000    0.3536 + i0.0000    0.3536        0.00°   \u001b[38;2;246;54;26m████████                \u001b[39m  0.125 \n",
      "1        0001   -0.3015 - i0.1847    0.3536     -148.49°   \u001b[38;2;48;178;255m████████                \u001b[39m  0.125 \n",
      "2        0010    0.1605 + i0.3150    0.3536       63.00°   \u001b[38;2;239;208;0m████████                \u001b[39m  0.125 \n",
      "3        0011    0.0277 - i0.3525    0.3536      -85.49°   \u001b[38;2;187;167;255m████████                \u001b[39m  0.125 \n",
      "4        0100   -0.2078 + i0.2860    0.3536      126.00°   \u001b[38;2;46;155;49m████████                \u001b[39m  0.125 \n",
      "5        0101    0.3266 - i0.1353    0.3536      -22.50°   \u001b[38;2;255;100;94m████████                \u001b[39m  0.125 \n",
      "6        0110   -0.3492 - i0.0553    0.3536     -171.00°   \u001b[38;2;40;224;248m████████                \u001b[39m  0.125 \n",
      "7        0111    0.2688 + i0.2296    0.3536       40.50°   \u001b[38;2;255;164;0m████████                \u001b[39m  0.125 \n",
      "8        1000    0.0000 + i0.0000    0.0                   \u001b[38;2;246;54;26m                        \u001b[39m  0.0   \n",
      "9        1001    0.0000 + i0.0000    0.0                   \u001b[38;2;246;54;26m                        \u001b[39m  0.0   \n",
      "10       1010    0.0000 + i0.0000    0.0                   \u001b[38;2;37;232;234m                        \u001b[39m  0.0   \n",
      "11       1011    0.0000 + i0.0000    0.0                   \u001b[38;2;246;58;20m                        \u001b[39m  0.0   \n",
      "12       1100    0.0000 + i0.0000    0.0                   \u001b[38;2;37;232;234m                        \u001b[39m  0.0   \n",
      "13       1101    0.0000 + i0.0000    0.0                   \u001b[38;2;255;132;136m                        \u001b[39m  0.0   \n",
      "14       1110    0.0000 + i0.0000    0.0                   \u001b[38;2;109;166;4m                        \u001b[39m  0.0   \n",
      "15       1111    0.0000 + i0.0000    0.0                   \u001b[38;2;37;232;234m                        \u001b[39m  0.0   \n",
      "\n"
     ]
    }
   ],
   "source": [
    "print_state_table(qc.reports['geometric_sequence'][2])"
   ]
  },
  {
   "cell_type": "code",
   "execution_count": 41,
   "metadata": {
    "ExecuteTime": {
     "start_time": "2023-11-15T16:52:10.582200Z"
    }
   },
   "outputs": [
    {
     "name": "stdout",
     "output_type": "stream",
     "text": [
      "                                              ┌───┐   \n",
      "q4_0: ────────────────■──────────────■────────┤ H ├─X─\n",
      "                      │        ┌───┐ │P(-π/2) └───┘ │ \n",
      "q4_1: ──────■─────────┼────────┤ H ├─■──────────────┼─\n",
      "      ┌───┐ │P(-π/2)  │P(-π/4) └───┘                │ \n",
      "q4_2: ┤ H ├─■─────────■─────────────────────────────X─\n",
      "      └───┘                                           \n",
      "  q5: ────────────────────────────────────────────────\n",
      "                                                      \n"
     ]
    }
   ],
   "source": [
    "qc_qiskit = hume_to_qiskit(qc.regs, qc.reports['estimate'][1])\n",
    "print(qc_qiskit)"
   ]
  },
  {
   "cell_type": "code",
   "execution_count": 42,
   "metadata": {
    "ExecuteTime": {
     "start_time": "2023-11-15T16:52:10.583120Z"
    }
   },
   "outputs": [
    {
     "name": "stdout",
     "output_type": "stream",
     "text": [
      "\n",
      "Outcome  Binary  Amplitude           Magnitude  Direction  Amplitude Bar             Probability\n",
      "------------------------------------------------------------------------------------------------\n",
      "0        0000    0.0986 + i0.0364    0.1051       20.26°   \u001b[38;2;251;107;2m██                      \u001b[39m  0.011 \n",
      "1        0001    0.0748 + i0.0691    0.1018       42.73°   \u001b[38;2;255;172;0m██                      \u001b[39m  0.0104\n",
      "2        0010    0.0485 + i0.1053    0.1159       65.27°   \u001b[38;2;232;209;0m██                      \u001b[39m  0.0134\n",
      "3        0011    0.0064 + i0.1632    0.1633       87.75°   \u001b[38;2;162;188;0m███                     \u001b[39m  0.0267\n",
      "4        0100   -0.1289 + i0.3495    0.3726      110.24°   \u001b[38;2;85;158;13m████████                \u001b[39m  0.1388\n",
      "5        0101    0.5840 - i0.6318    0.8604      -47.75°   \u001b[38;2;255;168;191m████████████████████    \u001b[39m  0.7403\n",
      "6        0110    0.1880 - i0.0866    0.207       -24.27°   \u001b[38;2;255;108;104m████                    \u001b[39m  0.0428\n",
      "7        0111    0.1287 - i0.0051    0.1288       -2.73°   \u001b[38;2;247;53;32m███                     \u001b[39m  0.0166\n",
      "8        1000    0.0000 + i0.0000    0.0                   \u001b[38;2;40;229;215m                        \u001b[39m  0.0   \n",
      "9        1001    0.0000 + i0.0000    0.0                   \u001b[38;2;251;107;2m                        \u001b[39m  0.0   \n",
      "10       1010    0.0000 + i0.0000    0.0                   \u001b[38;2;57;129;255m                        \u001b[39m  0.0   \n",
      "11       1011    0.0000 + i0.0000    0.0                   \u001b[38;2;255;132;136m                        \u001b[39m  0.0   \n",
      "12       1100    0.0000 + i0.0000    0.0                   \u001b[38;2;44;222;196m                        \u001b[39m  0.0   \n",
      "13       1101    0.0000 + i0.0000    0.0                   \u001b[38;2;255;175;0m                        \u001b[39m  0.0   \n",
      "14       1110    0.0000 + i0.0000    0.0                   \u001b[38;2;221;208;0m                        \u001b[39m  0.0   \n",
      "15       1111    0.0000 + i0.0000    0.0                   \u001b[38;2;255;172;0m                        \u001b[39m  0.0   \n",
      "\n"
     ]
    }
   ],
   "source": [
    "print_state_table(qc.reports['estimate'][2])"
   ]
  },
  {
   "cell_type": "markdown",
   "metadata": {},
   "source": [
    "### Section 7.5"
   ]
  },
  {
   "cell_type": "markdown",
   "metadata": {},
   "source": [
    "Listing 7.4"
   ]
  },
  {
   "cell_type": "code",
   "execution_count": 43,
   "metadata": {
    "ExecuteTime": {
     "start_time": "2023-11-15T16:52:10.584017Z"
    }
   },
   "outputs": [],
   "source": [
    "def phase_estimation_circuit(n, circuit, eigen_circuit=None):\n",
    "    q = QuantumRegister(n)\n",
    "    a = QuantumRegister(sum(circuit.regs))\n",
    "    qc = QuantumCircuit(q, a) # <1>\n",
    "\n",
    "    if eigen_circuit is not None:\n",
    "        qc.append(eigen_circuit, a)\n",
    "        qc.report('eigenstate')\n",
    "\n",
    "    for i in range(n):\n",
    "        qc.h(q[i])\n",
    "\n",
    "    for i in range(n):\n",
    "        for _ in range(2**i):\n",
    "            qc.c_append(circuit, q[i], a)\n",
    "\n",
    "    qc.report('geometric_sequence_superposition')\n",
    "\n",
    "    if eigen_circuit is not None:\n",
    "        qc.append(eigen_circuit.inverse(), a)\n",
    "        qc.report('geometric_sequence')\n",
    "\n",
    "    qc.iqft(q)\n",
    "    qc.report('estimate')\n",
    "\n",
    "    return qc"
   ]
  },
  {
   "cell_type": "code",
   "execution_count": 44,
   "metadata": {
    "ExecuteTime": {
     "start_time": "2023-11-15T16:52:10.584957Z"
    }
   },
   "outputs": [],
   "source": [
    "n = 3\n",
    "N = 2**n\n",
    "theta = 4.7*2*pi/N\n",
    "\n",
    "qc = phase_estimation_circuit(n, ry_circuit(2*theta), ry_eigen_circuit())"
   ]
  },
  {
   "cell_type": "code",
   "execution_count": 45,
   "metadata": {
    "ExecuteTime": {
     "start_time": "2023-11-15T16:52:10.585865Z"
    }
   },
   "outputs": [],
   "source": [
    "eig = qc.reports['eigenstate'][2]\n",
    "assert all_close(eig, [1j/sqrt(2) if k == 0 else 0 for k in range(N)] +\n",
    "    [1/sqrt(2) if k == 0 else 0 for k in range(N)])\n",
    "\n",
    "geom = qc.reports['geometric_sequence'][2]\n",
    "g = [1/sqrt(N)*cis(k*theta) for k in range(N)]\n",
    "assert all_close(geom[:N], g)\n",
    "\n",
    "estimate = qc.reports['estimate'][2]\n",
    "s = complex_sincd(n, theta/(2*pi)*N)\n",
    "assert all_close(estimate, s + [0 for _ in range(N)])"
   ]
  },
  {
   "cell_type": "markdown",
   "metadata": {},
   "source": [
    "### Section 7.6"
   ]
  },
  {
   "cell_type": "code",
   "execution_count": 46,
   "metadata": {
    "ExecuteTime": {
     "start_time": "2023-11-15T16:52:10.586846Z"
    }
   },
   "outputs": [],
   "source": [
    "def phase_estimation_circuit(n, circuit, eigen_circuit=None, swap=True):\n",
    "    q = QuantumRegister(n)\n",
    "    a = QuantumRegister(sum(circuit.regs))\n",
    "    qc = QuantumCircuit(q, a) # a is last (at the bottom)\n",
    "\n",
    "    if eigen_circuit is not None:\n",
    "        qc.append(eigen_circuit, a)\n",
    "    qc.report('eigenstate')\n",
    "\n",
    "    for i in range(n):\n",
    "        qc.h(q[i])\n",
    "\n",
    "    for i in range(n):\n",
    "        for _ in range(2**i):\n",
    "            if swap:\n",
    "                qc.c_append(circuit, q[i], a)\n",
    "            else:\n",
    "                qc.c_append(circuit, q[n-1-i], a) # <1>\n",
    "                \n",
    "    qc.report('geometric_sequence_superposition')\n",
    "\n",
    "    if eigen_circuit is not None:\n",
    "        qc.append(eigen_circuit.inverse(), a)\n",
    "\n",
    "    qc.report('geometric_sequence')\n",
    "\n",
    "    qc.iqft(q if swap else q[::-1], swap)\n",
    "    qc.report('estimate')\n",
    "\n",
    "    return qc"
   ]
  },
  {
   "cell_type": "code",
   "execution_count": 47,
   "metadata": {
    "ExecuteTime": {
     "start_time": "2023-11-15T16:52:10.588067Z"
    }
   },
   "outputs": [],
   "source": [
    "n = 3\n",
    "N = 2**n\n",
    "theta = 4.7*2*pi/N\n",
    "swap = False\n",
    "\n",
    "qc = phase_estimation_circuit(n, ry_circuit(2*theta), ry_eigen_circuit(), swap)"
   ]
  },
  {
   "cell_type": "code",
   "execution_count": 48,
   "metadata": {
    "ExecuteTime": {
     "start_time": "2023-11-15T16:52:10.589402Z"
    }
   },
   "outputs": [],
   "source": [
    "state = qc.run()\n",
    "assert all_close(state, s + [0 for _ in range(N)])"
   ]
  },
  {
   "cell_type": "code",
   "execution_count": 49,
   "metadata": {
    "ExecuteTime": {
     "start_time": "2023-11-15T16:52:10.590421Z"
    }
   },
   "outputs": [
    {
     "name": "stdout",
     "output_type": "stream",
     "text": [
      "\n",
      "\n",
      "--------------------------------------------------\n",
      "1. eigenstate\n",
      "--------------------------------------------------\n",
      "                       \n",
      "q6_0: ─────────────────\n",
      "                       \n",
      "q6_1: ─────────────────\n",
      "                       \n",
      "q6_2: ─────────────────\n",
      "      ┌───┐┌──────────┐\n",
      "  q7: ┤ X ├┤ Rx(-π/2) ├\n",
      "      └───┘└──────────┘\n",
      "\n",
      "Outcome  Binary  Amplitude           Magnitude  Direction  Amplitude Bar             Probability\n",
      "------------------------------------------------------------------------------------------------\n",
      "0        0000    0.0000 + i0.7071    0.7071       90.00°   \u001b[38;2;152;184;0m████████████████        \u001b[39m  0.5   \n",
      "1        0001    0.0000 + i0.0000    0.0                   \u001b[38;2;246;54;26m                        \u001b[39m  0.0   \n",
      "2        0010    0.0000 + i0.0000    0.0                   \u001b[38;2;246;54;26m                        \u001b[39m  0.0   \n",
      "3        0011    0.0000 + i0.0000    0.0                   \u001b[38;2;246;54;26m                        \u001b[39m  0.0   \n",
      "4        0100    0.0000 + i0.0000    0.0                   \u001b[38;2;246;54;26m                        \u001b[39m  0.0   \n",
      "5        0101    0.0000 + i0.0000    0.0                   \u001b[38;2;246;54;26m                        \u001b[39m  0.0   \n",
      "6        0110    0.0000 + i0.0000    0.0                   \u001b[38;2;246;54;26m                        \u001b[39m  0.0   \n",
      "7        0111    0.0000 + i0.0000    0.0                   \u001b[38;2;246;54;26m                        \u001b[39m  0.0   \n",
      "8        1000    0.7071 + i0.0000    0.7071        0.00°   \u001b[38;2;246;54;26m████████████████        \u001b[39m  0.5   \n",
      "9        1001    0.0000 + i0.0000    0.0                   \u001b[38;2;246;54;26m                        \u001b[39m  0.0   \n",
      "10       1010    0.0000 + i0.0000    0.0                   \u001b[38;2;246;54;26m                        \u001b[39m  0.0   \n",
      "11       1011    0.0000 + i0.0000    0.0                   \u001b[38;2;246;54;26m                        \u001b[39m  0.0   \n",
      "12       1100    0.0000 + i0.0000    0.0                   \u001b[38;2;246;54;26m                        \u001b[39m  0.0   \n",
      "13       1101    0.0000 + i0.0000    0.0                   \u001b[38;2;246;54;26m                        \u001b[39m  0.0   \n",
      "14       1110    0.0000 + i0.0000    0.0                   \u001b[38;2;246;54;26m                        \u001b[39m  0.0   \n",
      "15       1111    0.0000 + i0.0000    0.0                   \u001b[38;2;246;54;26m                        \u001b[39m  0.0   \n",
      "\n",
      "\n",
      "\n",
      "\n",
      "--------------------------------------------------\n",
      "2. geometric_sequence_superposition\n",
      "--------------------------------------------------\n",
      "      ┌───┐                                                        »\n",
      "q8_0: ┤ H ├────────────────────────────────────────────────■───────»\n",
      "      ├───┤                                                │       »\n",
      "q8_1: ┤ H ├────────────────────■─────────────■─────────────┼───────»\n",
      "      ├───┤                    │             │             │       »\n",
      "q8_2: ┤ H ├──────■─────────────┼─────────────┼─────────────┼───────»\n",
      "      └───┘┌─────┴──────┐┌─────┴──────┐┌─────┴──────┐┌─────┴──────┐»\n",
      "  q9: ─────┤ Ry(7.3827) ├┤ Ry(7.3827) ├┤ Ry(7.3827) ├┤ Ry(7.3827) ├»\n",
      "           └────────────┘└────────────┘└────────────┘└────────────┘»\n",
      "«                                                \n",
      "«q8_0: ──────■─────────────■─────────────■───────\n",
      "«            │             │             │       \n",
      "«q8_1: ──────┼─────────────┼─────────────┼───────\n",
      "«            │             │             │       \n",
      "«q8_2: ──────┼─────────────┼─────────────┼───────\n",
      "«      ┌─────┴──────┐┌─────┴──────┐┌─────┴──────┐\n",
      "«  q9: ┤ Ry(7.3827) ├┤ Ry(7.3827) ├┤ Ry(7.3827) ├\n",
      "«      └────────────┘└────────────┘└────────────┘\n",
      "\n",
      "Outcome  Binary  Amplitude           Magnitude  Direction  Amplitude Bar             Probability\n",
      "------------------------------------------------------------------------------------------------\n",
      "0        0000    0.0000 + i0.2500    0.25         90.00°   \u001b[38;2;152;184;0m█████                   \u001b[39m  0.0625\n",
      "1        0001   -0.2023 - i0.1469    0.25       -144.99°   \u001b[38;2;46;168;255m█████                   \u001b[39m  0.0625\n",
      "2        0010   -0.2228 + i0.1135    0.25        153.00°   \u001b[38;2;50;196;140m█████                   \u001b[39m  0.0625\n",
      "3        0011    0.0391 - i0.2469    0.25        -81.00°   \u001b[38;2;199;174;255m█████                   \u001b[39m  0.0625\n",
      "4        0100    0.1306 - i0.2132    0.25        -58.49°   \u001b[38;2;254;188;230m█████                   \u001b[39m  0.0625\n",
      "5        0101    0.0957 + i0.2310    0.25         67.50°   \u001b[38;2;229;209;0m█████                   \u001b[39m  0.0625\n",
      "6        0110    0.2492 + i0.0196    0.25          4.50°   \u001b[38;2;246;60;18m█████                   \u001b[39m  0.0625\n",
      "7        0111   -0.1624 + i0.1901    0.25        130.51°   \u001b[38;2;43;159;62m█████                   \u001b[39m  0.0625\n",
      "8        1000    0.2500 + i0.0000    0.25          0.00°   \u001b[38;2;246;54;26m█████                   \u001b[39m  0.0625\n",
      "9        1001   -0.1469 + i0.2023    0.25        125.99°   \u001b[38;2;46;155;49m█████                   \u001b[39m  0.0625\n",
      "10       1010    0.1135 + i0.2228    0.25         63.00°   \u001b[38;2;239;208;0m█████                   \u001b[39m  0.0625\n",
      "11       1011   -0.2469 - i0.0391    0.25       -171.00°   \u001b[38;2;40;224;248m█████                   \u001b[39m  0.0625\n",
      "12       1100   -0.2132 - i0.1306    0.25       -148.49°   \u001b[38;2;48;178;255m█████                   \u001b[39m  0.0625\n",
      "13       1101    0.2310 - i0.0957    0.25        -22.50°   \u001b[38;2;255;100;94m█████                   \u001b[39m  0.0625\n",
      "14       1110    0.0196 - i0.2492    0.25        -85.50°   \u001b[38;2;187;167;255m█████                   \u001b[39m  0.0625\n",
      "15       1111    0.1901 + i0.1624    0.25         40.51°   \u001b[38;2;255;164;0m█████                   \u001b[39m  0.0625\n",
      "\n",
      "\n",
      "\n",
      "\n",
      "--------------------------------------------------\n",
      "3. geometric_sequence\n",
      "--------------------------------------------------\n",
      "                       \n",
      "q10_0: ────────────────\n",
      "                       \n",
      "q10_1: ────────────────\n",
      "                       \n",
      "q10_2: ────────────────\n",
      "       ┌─────────┐┌───┐\n",
      "  q11: ┤ Rx(π/2) ├┤ X ├\n",
      "       └─────────┘└───┘\n",
      "\n",
      "Outcome  Binary  Amplitude           Magnitude  Direction  Amplitude Bar             Probability\n",
      "------------------------------------------------------------------------------------------------\n",
      "0        0000    0.3536 + i0.0000    0.3536        0.00°   \u001b[38;2;246;54;26m████████                \u001b[39m  0.125 \n",
      "1        0001   -0.2078 + i0.2860    0.3536      126.00°   \u001b[38;2;46;155;49m████████                \u001b[39m  0.125 \n",
      "2        0010    0.1605 + i0.3150    0.3536       63.00°   \u001b[38;2;239;208;0m████████                \u001b[39m  0.125 \n",
      "3        0011   -0.3492 - i0.0553    0.3536     -171.00°   \u001b[38;2;40;224;248m████████                \u001b[39m  0.125 \n",
      "4        0100   -0.3015 - i0.1847    0.3536     -148.49°   \u001b[38;2;48;178;255m████████                \u001b[39m  0.125 \n",
      "5        0101    0.3266 - i0.1353    0.3536      -22.50°   \u001b[38;2;255;100;94m████████                \u001b[39m  0.125 \n",
      "6        0110    0.0277 - i0.3525    0.3536      -85.49°   \u001b[38;2;187;167;255m████████                \u001b[39m  0.125 \n",
      "7        0111    0.2688 + i0.2296    0.3536       40.50°   \u001b[38;2;255;164;0m████████                \u001b[39m  0.125 \n",
      "8        1000    0.0000 + i0.0000    0.0                   \u001b[38;2;246;54;26m                        \u001b[39m  0.0   \n",
      "9        1001    0.0000 + i0.0000    0.0                   \u001b[38;2;37;232;234m                        \u001b[39m  0.0   \n",
      "10       1010    0.0000 + i0.0000    0.0                   \u001b[38;2;37;232;234m                        \u001b[39m  0.0   \n",
      "11       1011    0.0000 + i0.0000    0.0                   \u001b[38;2;109;166;4m                        \u001b[39m  0.0   \n",
      "12       1100    0.0000 + i0.0000    0.0                   \u001b[38;2;246;54;26m                        \u001b[39m  0.0   \n",
      "13       1101    0.0000 + i0.0000    0.0                   \u001b[38;2;255;132;136m                        \u001b[39m  0.0   \n",
      "14       1110    0.0000 + i0.0000    0.0                   \u001b[38;2;246;58;20m                        \u001b[39m  0.0   \n",
      "15       1111    0.0000 + i0.0000    0.0                   \u001b[38;2;37;232;234m                        \u001b[39m  0.0   \n",
      "\n",
      "\n",
      "\n",
      "\n",
      "--------------------------------------------------\n",
      "4. estimate\n",
      "--------------------------------------------------\n",
      "       ┌───┐                                        \n",
      "q12_0: ┤ H ├─■─────────■────────────────────────────\n",
      "       └───┘ │P(-π/2)  │        ┌───┐               \n",
      "q12_1: ──────■─────────┼────────┤ H ├─■─────────────\n",
      "                       │P(-π/4) └───┘ │P(-π/2) ┌───┐\n",
      "q12_2: ────────────────■──────────────■────────┤ H ├\n",
      "                                               └───┘\n",
      "  q13: ─────────────────────────────────────────────\n",
      "                                                    \n",
      "\n",
      "Outcome  Binary  Amplitude           Magnitude  Direction  Amplitude Bar             Probability\n",
      "------------------------------------------------------------------------------------------------\n",
      "0        0000    0.0986 + i0.0364    0.1051       20.26°   \u001b[38;2;251;107;2m██                      \u001b[39m  0.011 \n",
      "1        0001    0.0748 + i0.0691    0.1018       42.73°   \u001b[38;2;255;172;0m██                      \u001b[39m  0.0104\n",
      "2        0010    0.0485 + i0.1053    0.1159       65.27°   \u001b[38;2;232;209;0m██                      \u001b[39m  0.0134\n",
      "3        0011    0.0064 + i0.1632    0.1633       87.75°   \u001b[38;2;162;188;0m███                     \u001b[39m  0.0267\n",
      "4        0100   -0.1289 + i0.3495    0.3726      110.24°   \u001b[38;2;85;158;13m████████                \u001b[39m  0.1388\n",
      "5        0101    0.5840 - i0.6318    0.8604      -47.75°   \u001b[38;2;255;168;191m████████████████████    \u001b[39m  0.7403\n",
      "6        0110    0.1880 - i0.0866    0.207       -24.27°   \u001b[38;2;255;108;104m████                    \u001b[39m  0.0428\n",
      "7        0111    0.1287 - i0.0051    0.1288       -2.73°   \u001b[38;2;247;53;32m███                     \u001b[39m  0.0166\n",
      "8        1000    0.0000 + i0.0000    0.0                   \u001b[38;2;40;229;215m                        \u001b[39m  0.0   \n",
      "9        1001    0.0000 + i0.0000    0.0                   \u001b[38;2;251;107;2m                        \u001b[39m  0.0   \n",
      "10       1010    0.0000 + i0.0000    0.0                   \u001b[38;2;57;129;255m                        \u001b[39m  0.0   \n",
      "11       1011    0.0000 + i0.0000    0.0                   \u001b[38;2;255;132;136m                        \u001b[39m  0.0   \n",
      "12       1100    0.0000 + i0.0000    0.0                   \u001b[38;2;44;222;196m                        \u001b[39m  0.0   \n",
      "13       1101    0.0000 + i0.0000    0.0                   \u001b[38;2;255;175;0m                        \u001b[39m  0.0   \n",
      "14       1110    0.0000 + i0.0000    0.0                   \u001b[38;2;221;208;0m                        \u001b[39m  0.0   \n",
      "15       1111    0.0000 + i0.0000    0.0                   \u001b[38;2;255;172;0m                        \u001b[39m  0.0   \n",
      "\n",
      "\n"
     ]
    }
   ],
   "source": [
    "from util_qiskit import show_reports\n",
    "show_reports(qc)"
   ]
  },
  {
   "cell_type": "code",
   "execution_count": 50,
   "metadata": {
    "ExecuteTime": {
     "start_time": "2023-11-15T16:52:10.591499Z"
    }
   },
   "outputs": [],
   "source": [
    "from util import reverse_index_state\n",
    "\n",
    "geom = qc.reports['geometric_sequence'][2]\n",
    "g = [1/sqrt(N)*cis(k*theta) for k in range(N)]\n",
    "assert all_close(geom[:N], g if swap else reverse_index_state(g)) # <1>"
   ]
  },
  {
   "cell_type": "code",
   "execution_count": 51,
   "metadata": {
    "ExecuteTime": {
     "start_time": "2023-11-15T16:52:10.592468Z"
    }
   },
   "outputs": [],
   "source": [
    "estimate = qc.reports['estimate'][2]\n",
    "s = complex_sincd(n, theta/(2*pi)*N)\n",
    "assert all_close(estimate, s + [0 for _ in range(N)])"
   ]
  },
  {
   "cell_type": "code",
   "execution_count": 52,
   "metadata": {
    "ExecuteTime": {
     "start_time": "2023-11-15T16:52:10.593355Z"
    }
   },
   "outputs": [],
   "source": [
    "from random import uniform\n",
    "\n",
    "def test_ry_phase_estimation():\n",
    "    n = 3\n",
    "    N = 2**n\n",
    "\n",
    "    random_thetas = [uniform(-pi, pi) for _ in range(10)]\n",
    "\n",
    "    for theta in random_thetas:\n",
    "        for swap in [True, False]:\n",
    "            qc = phase_estimation_circuit(n, ry_circuit(theta), ry_eigen_circuit(), swap)\n",
    "\n",
    "            eig = qc.reports['eigenstate'][2]\n",
    "            assert all_close(eig, [1j/sqrt(2) if k == 0 else 0 for k in range(N)] +\n",
    "                             [1/sqrt(2) if k == 0 else 0 for k in range(N)])\n",
    "\n",
    "            geom = qc.reports['geometric_sequence'][2]\n",
    "            g = [1/sqrt(N)*cis(k*theta/2) for k in range(N)]\n",
    "            assert all_close(geom[:N], g if swap else reverse_index_state(g))\n",
    "\n",
    "            estimate = qc.reports['estimate'][2]\n",
    "            s = complex_sincd(n, theta/2/(2*pi)*N)\n",
    "            assert all_close(estimate[:N], s)"
   ]
  },
  {
   "cell_type": "code",
   "execution_count": 53,
   "metadata": {
    "ExecuteTime": {
     "start_time": "2023-11-15T16:52:10.594281Z"
    }
   },
   "outputs": [],
   "source": [
    "test_ry_phase_estimation()"
   ]
  },
  {
   "cell_type": "markdown",
   "metadata": {},
   "source": [
    "### Additional tests"
   ]
  },
  {
   "cell_type": "code",
   "execution_count": 54,
   "metadata": {
    "ExecuteTime": {
     "start_time": "2023-11-15T16:52:10.595218Z"
    }
   },
   "outputs": [],
   "source": [
    "from util_qiskit import same_as_qiskit\n",
    "\n",
    "for n in range(10):\n",
    "    for eigen in [True, False]:\n",
    "        for swap in [True, False]:\n",
    "            qc = phase_estimation_circuit(n, ry_circuit(theta), ry_eigen_circuit() if eigen else None, swap)\n",
    "            assert same_as_qiskit(qc)"
   ]
  },
  {
   "cell_type": "code",
   "execution_count": 55,
   "metadata": {
    "ExecuteTime": {
     "start_time": "2023-11-15T16:52:10.596150Z"
    }
   },
   "outputs": [],
   "source": [
    "from math import sin\n",
    "from util import rev, inner\n",
    "from algo import fourier_basis\n",
    "\n",
    "def test_ry_phase_estimation_no_eigen():\n",
    "    n = 3\n",
    "    N = 2**n\n",
    "\n",
    "    random_thetas = [uniform(-pi, pi) for _ in range(10)]\n",
    "\n",
    "    for theta in random_thetas:\n",
    "        for swap in [True, False]:\n",
    "            qc = phase_estimation_circuit(n, ry_circuit(theta), None, swap)\n",
    "            geom = qc.reports['geometric_sequence'][2]\n",
    "            if swap:\n",
    "                g = [1/sqrt(N)*cos(k*theta/2) for k in range(N)] + [1/sqrt(N)*sin(k*theta/2) for k in range(N)]\n",
    "            else:\n",
    "                g = [1/sqrt(N)*cos(rev(n, k)*theta/2) for k in range(N)] + [1/sqrt(N)*sin(rev(n, k)*theta/2) for k in range(N)]\n",
    "\n",
    "            # print(g)\n",
    "            assert all_close(geom, g)\n",
    "\n",
    "            e = qc.reports['estimate'][2]\n",
    "            # tabulate_state(e)\n",
    "\n",
    "            g = [1/sqrt(N)*cos(k*theta/2) for k in range(N)] + [1/sqrt(N)*sin(k*theta/2) for k in range(N)]\n",
    "            f = ([inner(g[:N], fourier_basis(N, k)) for k in range(N)] +\n",
    "                 [inner(g[N:], fourier_basis(N, k)) for k in range(N)])\n",
    "            # fourier_basis(N, k)) = [sqrt(1/N) * cis(j*k*2*pi/N) for j in range(N)]\n",
    "            # print(f)\n",
    "            assert all_close(e, f)\n",
    "\n",
    "            v = 2**(n-2)*theta/pi\n",
    "\n",
    "            c = complex_sincd(n, v)\n",
    "            assert all_close(c, [e[k] + 1j*e[k+N] for k in range(N)])\n",
    "\n",
    "            d = complex_sincd(n, N-v)\n",
    "            assert all_close(e, [(c[k] + d[k])/2 for k in range(N)] + [-1j*(c[k] - d[k])/2 for k in range(N)])"
   ]
  },
  {
   "cell_type": "code",
   "execution_count": 56,
   "metadata": {
    "ExecuteTime": {
     "start_time": "2023-11-15T16:52:10.597162Z"
    }
   },
   "outputs": [],
   "source": [
    "test_ry_phase_estimation_no_eigen()"
   ]
  }
 ],
 "metadata": {
  "kernelspec": {
   "display_name": "Python 3 (ipykernel)",
   "language": "python",
   "name": "python3"
  },
  "language_info": {
   "codemirror_mode": {
    "name": "ipython",
    "version": 3
   },
   "file_extension": ".py",
   "mimetype": "text/x-python",
   "name": "python",
   "nbconvert_exporter": "python",
   "pygments_lexer": "ipython3",
   "version": "3.7.11"
  }
 },
 "nbformat": 4,
 "nbformat_minor": 4
}
