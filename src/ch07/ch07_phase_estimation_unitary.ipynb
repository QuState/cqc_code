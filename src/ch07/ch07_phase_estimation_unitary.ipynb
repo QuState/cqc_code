{
 "cells": [
  {
   "cell_type": "code",
   "execution_count": 1,
   "id": "d66a9d07",
   "metadata": {},
   "outputs": [],
   "source": [
    "import os\n",
    "os.chdir('..')\n",
    "\n",
    "from util import CONFIG\n",
    "CONFIG.set_use_mpl_tables(True)"
   ]
  },
  {
   "cell_type": "code",
   "execution_count": 2,
   "id": "f0857bc2",
   "metadata": {},
   "outputs": [],
   "source": [
    "from math import log2\n",
    "import numpy as np\n",
    "\n",
    "from sim_circuit import QuantumRegister, QuantumCircuit\n",
    "\n",
    "\n",
    "def phase_estimation_unitary(n, U, swap=True):\n",
    "    assert(U.shape[0] == U.shape[1])\n",
    "    m = int(log2(U.shape[0]))\n",
    "\n",
    "    eigvals, eigvecs = np.linalg.eig(U)\n",
    "\n",
    "    q = QuantumRegister(n)\n",
    "    a = QuantumRegister(m)\n",
    "    qc = QuantumCircuit(q, a) # ancilla is last\n",
    "\n",
    "    qc.append_u(eigvecs, a)\n",
    "    qc.report('eigenstate')\n",
    "\n",
    "    for i in range(n):\n",
    "        qc.h(q[i])\n",
    "\n",
    "    for i in range(n):\n",
    "        if swap:\n",
    "            for _ in range(2**i):\n",
    "                qc.c_append_u(U, q[i], a)\n",
    "        else:\n",
    "            # qubit reversal\n",
    "            for _ in range(2**i):\n",
    "                qc.c_append_u(U, q[n-1-i], a)\n",
    "            # decreasing powers of 2\n",
    "            # for _ in range(2**(n-1-i)):\n",
    "            #     qc.c_append_u(U, q[i], a)\n",
    "\n",
    "    qc.report('geometric_sequence_superposition')\n",
    "\n",
    "    qc.append_u(np.conj(eigvecs.transpose()), a)\n",
    "\n",
    "    qc.report('geometric_sequence')\n",
    "\n",
    "    qc.iqft(q if swap else q[::-1], swap)\n",
    "    qc.report('estimate')\n",
    "\n",
    "    return qc"
   ]
  },
  {
   "cell_type": "code",
   "execution_count": 3,
   "id": "931a99ca",
   "metadata": {},
   "outputs": [],
   "source": [
    "import scipy.stats\n",
    "    \n",
    "n = 3\n",
    "m = 2\n",
    "    \n",
    "U = scipy.stats.unitary_group.rvs(2**m)\n",
    "qc = phase_estimation_unitary(n, U, swap=True)"
   ]
  },
  {
   "cell_type": "code",
   "execution_count": 4,
   "id": "665569bf",
   "metadata": {},
   "outputs": [
    {
     "name": "stdout",
     "output_type": "stream",
     "text": [
      "\n",
      "frequency from eigenvalue 3.5469209067643117\n"
     ]
    }
   ],
   "source": [
    "from math import pi\n",
    "\n",
    "eigvals, _ = np.linalg.eig(U)\n",
    "theta = np.angle(eigvals[0])\n",
    "if theta < 0:\n",
    "    theta += 2*pi\n",
    "\n",
    "v = theta/pi*2**(n-1)\n",
    "print('\\nfrequency from eigenvalue', v)"
   ]
  },
  {
   "cell_type": "code",
   "execution_count": 5,
   "id": "458e88f0",
   "metadata": {},
   "outputs": [
    {
     "name": "stdout",
     "output_type": "stream",
     "text": [
      "\n",
      "Outcome  Binary  Amplitude           Magnitude  Direction  Amplitude Bar             Probability\n",
      "------------------------------------------------------------------------------------------------\n",
      "0        00000   0.1190 + i0.0402    0.1256       18.67°   \u001b[38;2;250;102;3m███                     \u001b[39m  0.0158\n",
      "1        00001   0.1106 + i0.0967    0.1469       41.16°   \u001b[38;2;255;168;0m███                     \u001b[39m  0.0216\n",
      "2        00010   0.0962 + i0.1941    0.2166       63.64°   \u001b[38;2;235;209;0m█████                   \u001b[39m  0.0469\n",
      "3        00011   0.0391 + i0.5788    0.5801       86.14°   \u001b[38;2;167;189;0m█████████████           \u001b[39m  0.3366\n",
      "4        00100   0.2233 - i0.6620    0.6986      -71.64°   \u001b[38;2;227;187;254m████████████████        \u001b[39m  0.4881\n",
      "5        00101   0.1506 - i0.1724    0.2289      -48.14°   \u001b[38;2;255;171;196m█████                   \u001b[39m  0.0524\n",
      "6        00110   0.1349 - i0.0669    0.1506      -26.62°   \u001b[38;2;255;112;109m███                     \u001b[39m  0.0227\n",
      "7        00111   0.1263 - i0.0085    0.1266       -3.15°   \u001b[38;2;247;54;35m███                     \u001b[39m  0.016 \n",
      "8        01000   0.0000 + i0.0000    0.0                   \u001b[38;2;249;61;47m                        \u001b[39m  0.0   \n",
      "9        01001   0.0000 + i0.0000    0.0                   \u001b[38;2;253;128;0m                        \u001b[39m  0.0   \n",
      "10       01010   0.0000 + i0.0000    0.0                   \u001b[38;2;43;161;66m                        \u001b[39m  0.0   \n",
      "11       01011   0.0000 + i0.0000    0.0                   \u001b[38;2;59;153;30m                        \u001b[39m  0.0   \n",
      "12       01100   0.0000 + i0.0000    0.0                   \u001b[38;2;255;88;79m                        \u001b[39m  0.0   \n",
      "13       01101   0.0000 + i0.0000    0.0                   \u001b[38;2;253;128;0m                        \u001b[39m  0.0   \n",
      "14       01110   0.0000 + i0.0000    0.0                   \u001b[38;2;249;93;4m                        \u001b[39m  0.0   \n",
      "15       01111   0.0000 + i0.0000    0.0                   \u001b[38;2;203;176;255m                        \u001b[39m  0.0   \n",
      "16       10000   0.0000 + i0.0000    0.0                   \u001b[38;2;39;226;246m                        \u001b[39m  0.0   \n",
      "17       10001   0.0000 + i0.0000    0.0                   \u001b[38;2;190;199;0m                        \u001b[39m  0.0   \n",
      "18       10010   0.0000 + i0.0000    0.0                   \u001b[38;2;46;176;100m                        \u001b[39m  0.0   \n",
      "19       10011   0.0000 + i0.0000    0.0                   \u001b[38;2;39;147;255m                        \u001b[39m  0.0   \n",
      "20       10100   0.0000 + i0.0000    0.0                   \u001b[38;2;104;164;5m                        \u001b[39m  0.0   \n",
      "21       10101   0.0000 + i0.0000    0.0                   \u001b[38;2;43;165;76m                        \u001b[39m  0.0   \n",
      "22       10110   0.0000 + i0.0000    0.0                   \u001b[38;2;49;211;171m                        \u001b[39m  0.0   \n",
      "23       10111   0.0000 + i0.0000    0.0                   \u001b[38;2;37;232;234m                        \u001b[39m  0.0   \n",
      "24       11000   0.0000 + i0.0000    0.0                   \u001b[38;2;246;54;26m                        \u001b[39m  0.0   \n",
      "25       11001   0.0000 + i0.0000    0.0                   \u001b[38;2;254;141;0m                        \u001b[39m  0.0   \n",
      "26       11010   0.0000 + i0.0000    0.0                   \u001b[38;2;41;137;255m                        \u001b[39m  0.0   \n",
      "27       11011   0.0000 + i0.0000    0.0                   \u001b[38;2;195;200;0m                        \u001b[39m  0.0   \n",
      "28       11100   0.0000 + i0.0000    0.0                   \u001b[38;2;178;163;255m                        \u001b[39m  0.0   \n",
      "29       11101   0.0000 + i0.0000    0.0                   \u001b[38;2;240;191;247m                        \u001b[39m  0.0   \n",
      "30       11110   0.0000 + i0.0000    0.0                   \u001b[38;2;255;168;191m                        \u001b[39m  0.0   \n",
      "31       11111   0.0000 + i0.0000    0.0                   \u001b[38;2;255;104;99m                        \u001b[39m  0.0   \n",
      "\n"
     ]
    }
   ],
   "source": [
    "from util import print_state_table\n",
    "\n",
    "state = qc.run()\n",
    "print_state_table(qc.run())"
   ]
  },
  {
   "cell_type": "code",
   "execution_count": 6,
   "id": "0596ba35",
   "metadata": {},
   "outputs": [
    {
     "data": {
      "text/plain": [
       "[(4, 496), (3, 337), (5, 43), (2, 40), (1, 33), (6, 21), (7, 15), (0, 15)]"
      ]
     },
     "execution_count": 6,
     "metadata": {},
     "output_type": "execute_result"
    }
   ],
   "source": [
    "result = qc.measure(shots = 1000)\n",
    "\n",
    "sorted_counts = sorted(result['counts'].items(), key = lambda item: item[1], reverse=True)\n",
    "sorted_counts"
   ]
  },
  {
   "cell_type": "code",
   "execution_count": 7,
   "id": "78b0424c",
   "metadata": {
    "scrolled": true
   },
   "outputs": [
    {
     "name": "stdout",
     "output_type": "stream",
     "text": [
      "\n",
      "frequency from eigenvalue 3.5469209067643117 \n",
      "frequency from measurement 3.548161837273175 \n",
      "error 0.0012409305088634248\n"
     ]
    }
   ],
   "source": [
    "from math import sqrt \n",
    "\n",
    "top_two = sorted(sorted_counts[:2])\n",
    "\n",
    "p_below, p_above = top_two[0][1], top_two[1][1]\n",
    "\n",
    "decimal_estimate = sqrt(p_above)/(sqrt(p_below)+ sqrt(p_above))\n",
    "\n",
    "estimate = top_two[0][0] + decimal_estimate\n",
    "print('\\nfrequency from eigenvalue', v, '\\nfrequency from measurement', estimate, '\\nerror', abs(v - estimate))"
   ]
  },
  {
   "cell_type": "code",
   "execution_count": 8,
   "id": "24cd4852",
   "metadata": {},
   "outputs": [],
   "source": [
    "from util import all_close, cis, prod\n",
    "from math import cos\n",
    "\n",
    "def complex_sincd(n, v):\n",
    "    N = 2 ** n\n",
    "    return [prod(\n",
    "        cos((v - k) * pi / 2 ** (j + 1)) * cis((v - k) * pi / 2 ** (j + 1))\n",
    "        for j in range(n)) for k in range(2 ** n)]\n",
    "\n",
    "\n",
    "assert all_close(state, complex_sincd(n, v))"
   ]
  },
  {
   "cell_type": "code",
   "execution_count": 9,
   "id": "4a50c2e1",
   "metadata": {},
   "outputs": [],
   "source": [
    "def test_unitary_inverse():\n",
    "    n = 3\n",
    "    m = 2\n",
    "    \n",
    "    U = scipy.stats.unitary_group.rvs(2**m)\n",
    "    qc = phase_estimation_unitary(n, U, swap=True)\n",
    "    qci = qc.inverse()\n",
    "\n",
    "    qc.append(qci, QuantumRegister(m+n))\n",
    "    state = qc.run()\n",
    "    tabulate_state(state)\n",
    "\n",
    "    assert all_close(state, init_state(m+n))"
   ]
  }
 ],
 "metadata": {
  "kernelspec": {
   "display_name": "Python 3 (ipykernel)",
   "language": "python",
   "name": "python3"
  },
  "language_info": {
   "codemirror_mode": {
    "name": "ipython",
    "version": 3
   },
   "file_extension": ".py",
   "mimetype": "text/x-python",
   "name": "python",
   "nbconvert_exporter": "python",
   "pygments_lexer": "ipython3",
   "version": "3.9.13"
  }
 },
 "nbformat": 4,
 "nbformat_minor": 5
}
