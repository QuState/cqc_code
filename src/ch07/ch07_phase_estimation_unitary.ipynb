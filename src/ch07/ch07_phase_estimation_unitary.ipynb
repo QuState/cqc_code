{
 "cells": [
  {
   "cell_type": "code",
   "execution_count": 1,
   "id": "d66a9d07",
   "metadata": {
    "ExecuteTime": {
     "end_time": "2023-11-15T22:58:58.501227Z",
     "start_time": "2023-11-15T22:58:57.172414Z"
    }
   },
   "outputs": [],
   "source": [
    "import os\n",
    "os.chdir('..')\n",
    "\n",
    "from util import CONFIG\n",
    "CONFIG.set_use_mpl_tables(True)"
   ]
  },
  {
   "cell_type": "code",
   "execution_count": 2,
   "id": "f0857bc2",
   "metadata": {
    "ExecuteTime": {
     "end_time": "2023-11-15T22:58:58.505799Z",
     "start_time": "2023-11-15T22:58:58.501800Z"
    }
   },
   "outputs": [],
   "source": [
    "from math import log2\n",
    "import numpy as np\n",
    "\n",
    "from sim_circuit import QuantumRegister, QuantumCircuit\n",
    "\n",
    "\n",
    "def phase_estimation_unitary(n, U, swap=True):\n",
    "    assert(U.shape[0] == U.shape[1])\n",
    "    m = int(log2(U.shape[0]))\n",
    "\n",
    "    eigvals, eigvecs = np.linalg.eig(U)\n",
    "\n",
    "    q = QuantumRegister(n)\n",
    "    a = QuantumRegister(m)\n",
    "    qc = QuantumCircuit(q, a) # ancilla is last\n",
    "\n",
    "    qc.append_u(eigvecs, a)\n",
    "    qc.report('eigenstate')\n",
    "\n",
    "    for i in range(n):\n",
    "        qc.h(q[i])\n",
    "\n",
    "    for i in range(n):\n",
    "        if swap:\n",
    "            for _ in range(2**i):\n",
    "                qc.c_append_u(U, q[i], a)\n",
    "        else:\n",
    "            # qubit reversal\n",
    "            for _ in range(2**i):\n",
    "                qc.c_append_u(U, q[n-1-i], a)\n",
    "            # decreasing powers of 2\n",
    "            # for _ in range(2**(n-1-i)):\n",
    "            #     qc.c_append_u(U, q[i], a)\n",
    "\n",
    "    qc.report('geometric_sequence_superposition')\n",
    "\n",
    "    qc.append_u(np.conj(eigvecs.transpose()), a)\n",
    "\n",
    "    qc.report('geometric_sequence')\n",
    "\n",
    "    qc.iqft(q if swap else q[::-1], swap)\n",
    "    qc.report('estimate')\n",
    "\n",
    "    return qc"
   ]
  },
  {
   "cell_type": "code",
   "execution_count": 3,
   "id": "931a99ca",
   "metadata": {
    "ExecuteTime": {
     "start_time": "2023-11-15T22:58:58.503636Z"
    }
   },
   "outputs": [],
   "source": [
    "    import scipy.stats\n",
    "    \n",
    "    n=3\n",
    "    m = 2\n",
    "    \n",
    "    U = scipy.stats.unitary_group.rvs(2**m)\n",
    "    qc = phase_estimation_unitary(n, U, swap=True)"
   ]
  },
  {
   "cell_type": "code",
   "execution_count": 4,
   "id": "a78bc221",
   "metadata": {},
   "outputs": [
    {
     "name": "stdout",
     "output_type": "stream",
     "text": [
      "\n",
      "frequency from eigenvalue 3.233494306415035\n"
     ]
    }
   ],
   "source": [
    "from math import pi\n",
    "\n",
    "eigvals, _ = np.linalg.eig(U)\n",
    "theta = np.angle(eigvals[0])\n",
    "if theta < 0:\n",
    "    theta += 2*pi\n",
    "\n",
    "v = theta/pi*2**(n-1)\n",
    "print('\\nfrequency from eigenvalue', v)"
   ]
  },
  {
   "cell_type": "code",
   "execution_count": 5,
   "id": "458e88f0",
   "metadata": {
    "ExecuteTime": {
     "start_time": "2023-11-15T22:58:58.505730Z"
    }
   },
   "outputs": [
    {
     "name": "stdout",
     "output_type": "stream",
     "text": [
      "\n",
      "Outcome  Binary  Amplitude           Magnitude  Direction  Amplitude Bar             Probability\n",
      "------------------------------------------------------------------------------------------------\n",
      "0        00000   0.0753 - i0.0448    0.0876      -30.25°   \u001b[38;2;255;124;125m██                      \u001b[39m  0.0077\n",
      "1        00001   0.1077 - i0.0156    0.1088       -8.76°   \u001b[38;2;249;61;47m██                      \u001b[39m  0.0118\n",
      "2        00010   0.1742 + i0.0443    0.1797       14.27°   \u001b[38;2;248;89;5m████                    \u001b[39m  0.0323\n",
      "3        00011   0.7321 + i0.5472    0.914        36.78°   \u001b[38;2;255;156;0m█████████████████████   \u001b[39m  0.8354\n",
      "4        00100  -0.1442 - i0.2427    0.2823     -120.28°   \u001b[38;2;61;128;255m██████                  \u001b[39m  0.0797\n",
      "5        00101  -0.0187 - i0.1295    0.1309      -98.78°   \u001b[38;2;147;147;255m███                     \u001b[39m  0.0171\n",
      "6        00110   0.0233 - i0.0916    0.0946      -75.27°   \u001b[38;2;215;182;255m██                      \u001b[39m  0.0089\n",
      "7        00111   0.0503 - i0.0673    0.084       -53.77°   \u001b[38;2;255;180;212m██                      \u001b[39m  0.0071\n",
      "8        01000   0.0000 + i0.0000    0.0                   \u001b[38;2;237;190;249m                        \u001b[39m  0.0   \n",
      "9        01001   0.0000 + i0.0000    0.0                   \u001b[38;2;255;108;104m                        \u001b[39m  0.0   \n",
      "10       01010   0.0000 + i0.0000    0.0                   \u001b[38;2;247;76;10m                        \u001b[39m  0.0   \n",
      "11       01011   0.0000 + i0.0000    0.0                   \u001b[38;2;255;145;0m                        \u001b[39m  0.0   \n",
      "12       01100   0.0000 + i0.0000    0.0                   \u001b[38;2;66;128;255m                        \u001b[39m  0.0   \n",
      "13       01101   0.0000 + i0.0000    0.0                   \u001b[38;2;151;149;255m                        \u001b[39m  0.0   \n",
      "14       01110   0.0000 + i0.0000    0.0                   \u001b[38;2;42;163;71m                        \u001b[39m  0.0   \n",
      "15       01111   0.0000 + i0.0000    0.0                   \u001b[38;2;255;180;212m                        \u001b[39m  0.0   \n",
      "16       10000   0.0000 + i0.0000    0.0                   \u001b[38;2;110;133;255m                        \u001b[39m  0.0   \n",
      "17       10001   0.0000 + i0.0000    0.0                   \u001b[38;2;56;153;33m                        \u001b[39m  0.0   \n",
      "18       10010   0.0000 + i0.0000    0.0                   \u001b[38;2;225;209;0m                        \u001b[39m  0.0   \n",
      "19       10011   0.0000 + i0.0000    0.0                   \u001b[38;2;85;158;13m                        \u001b[39m  0.0   \n",
      "20       10100   0.0000 + i0.0000    0.0                   \u001b[38;2;255;165;185m                        \u001b[39m  0.0   \n",
      "21       10101   0.0000 + i0.0000    0.0                   \u001b[38;2;255;104;99m                        \u001b[39m  0.0   \n",
      "22       10110   0.0000 + i0.0000    0.0                   \u001b[38;2;255;180;212m                        \u001b[39m  0.0   \n",
      "23       10111   0.0000 + i0.0000    0.0                   \u001b[38;2;250;98;3m                        \u001b[39m  0.0   \n",
      "24       11000   0.0000 + i0.0000    0.0                   \u001b[38;2;46;209;254m                        \u001b[39m  0.0   \n",
      "25       11001   0.0000 + i0.0000    0.0                   \u001b[38;2;44;214;252m                        \u001b[39m  0.0   \n",
      "26       11010   0.0000 + i0.0000    0.0                   \u001b[38;2;41;228;210m                        \u001b[39m  0.0   \n",
      "27       11011   0.0000 + i0.0000    0.0                   \u001b[38;2;48;213;176m                        \u001b[39m  0.0   \n",
      "28       11100   0.0000 + i0.0000    0.0                   \u001b[38;2;227;187;254m                        \u001b[39m  0.0   \n",
      "29       11101   0.0000 + i0.0000    0.0                   \u001b[38;2;240;191;247m                        \u001b[39m  0.0   \n",
      "30       11110   0.0000 + i0.0000    0.0                   \u001b[38;2;255;147;158m                        \u001b[39m  0.0   \n",
      "31       11111   0.0000 + i0.0000    0.0                   \u001b[38;2;255;112;109m                        \u001b[39m  0.0   \n",
      "\n"
     ]
    }
   ],
   "source": [
    "from util import print_state_table\n",
    "\n",
    "state = qc.run()\n",
    "print_state_table(state)"
   ]
  },
  {
   "cell_type": "code",
   "execution_count": 6,
   "id": "2a5b2bc5",
   "metadata": {},
   "outputs": [],
   "source": [
    "from util import all_close, cis, prod\n",
    "from math import cos\n",
    "\n",
    "def complex_sincd(n, v):\n",
    "    N = 2 ** n\n",
    "    return [prod(\n",
    "        cos((v - k) * pi / 2 ** (j + 1)) * cis((v - k) * pi / 2 ** (j + 1))\n",
    "        for j in range(n)) for k in range(2 ** n)]\n",
    "\n",
    "\n",
    "assert all_close(state, complex_sincd(n, v))"
   ]
  },
  {
   "cell_type": "code",
   "execution_count": 7,
   "id": "4a695bb1",
   "metadata": {},
   "outputs": [],
   "source": [
    "def test_unitary_inverse():\n",
    "    n = 3\n",
    "    m = 2\n",
    "    \n",
    "    U = scipy.stats.unitary_group.rvs(2**m)\n",
    "    qc = phase_estimation_unitary(n, U, swap=True)\n",
    "    qci = qc.inverse()\n",
    "\n",
    "    qc.append(qci, QuantumRegister(m+n))\n",
    "    state = qc.run()\n",
    "    tabulate_state(state)\n",
    "\n",
    "    assert all_close(state, init_state(m+n))"
   ]
  }
 ],
 "metadata": {
  "kernelspec": {
   "display_name": "Python 3 (ipykernel)",
   "language": "python",
   "name": "python3"
  },
  "language_info": {
   "codemirror_mode": {
    "name": "ipython",
    "version": 3
   },
   "file_extension": ".py",
   "mimetype": "text/x-python",
   "name": "python",
   "nbconvert_exporter": "python",
   "pygments_lexer": "ipython3",
   "version": "3.7.11"
  }
 },
 "nbformat": 4,
 "nbformat_minor": 5
}
