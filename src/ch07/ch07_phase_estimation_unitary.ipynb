{
 "cells": [
  {
   "cell_type": "code",
   "execution_count": 1,
   "id": "d66a9d07",
   "metadata": {
    "ExecuteTime": {
     "end_time": "2023-11-15T22:58:58.501227Z",
     "start_time": "2023-11-15T22:58:57.172414Z"
    }
   },
   "outputs": [],
   "source": [
    "import os\n",
    "os.chdir('..')\n",
    "\n",
    "from util import CONFIG\n",
    "CONFIG.set_use_mpl_tables(True)"
   ]
  },
  {
   "cell_type": "code",
   "execution_count": 2,
   "id": "f0857bc2",
   "metadata": {
    "ExecuteTime": {
     "end_time": "2023-11-15T22:58:58.505799Z",
     "start_time": "2023-11-15T22:58:58.501800Z"
    }
   },
   "outputs": [],
   "source": [
    "from math import log2\n",
    "import numpy as np\n",
    "\n",
    "from sim_circuit import QuantumRegister, QuantumCircuit\n",
    "\n",
    "\n",
    "def phase_estimation_unitary(n, U, swap=True):\n",
    "    assert(U.shape[0] == U.shape[1])\n",
    "    m = int(log2(U.shape[0]))\n",
    "\n",
    "    eigvals, eigvecs = np.linalg.eig(U)\n",
    "\n",
    "    q = QuantumRegister(n)\n",
    "    a = QuantumRegister(m)\n",
    "    qc = QuantumCircuit(q, a) # ancilla is last\n",
    "\n",
    "    qc.append_u(eigvecs, a)\n",
    "    qc.report('eigenstate')\n",
    "\n",
    "    for i in range(n):\n",
    "        qc.h(q[i])\n",
    "\n",
    "    for i in range(n):\n",
    "        if swap:\n",
    "            for _ in range(2**i):\n",
    "                qc.c_append_u(U, q[i], a)\n",
    "        else:\n",
    "            # qubit reversal\n",
    "            for _ in range(2**i):\n",
    "                qc.c_append_u(U, q[n-1-i], a)\n",
    "            # decreasing powers of 2\n",
    "            # for _ in range(2**(n-1-i)):\n",
    "            #     qc.c_append_u(U, q[i], a)\n",
    "\n",
    "    qc.report('geometric_sequence_superposition')\n",
    "\n",
    "    qc.append_u(np.conj(eigvecs.transpose()), a)\n",
    "\n",
    "    qc.report('geometric_sequence')\n",
    "\n",
    "    qc.iqft(q if swap else q[::-1], swap)\n",
    "    qc.report('estimate')\n",
    "\n",
    "    return qc"
   ]
  },
  {
   "cell_type": "code",
   "execution_count": 3,
   "id": "931a99ca",
   "metadata": {
    "ExecuteTime": {
     "start_time": "2023-11-15T22:58:58.503636Z"
    }
   },
   "outputs": [],
   "source": [
    "    import scipy.stats\n",
    "    \n",
    "    n=3\n",
    "    m = 2\n",
    "    \n",
    "    U = scipy.stats.unitary_group.rvs(2**m)\n",
    "    qc = phase_estimation_unitary(n, U, swap=True)"
   ]
  },
  {
   "cell_type": "code",
   "execution_count": 4,
   "id": "458e88f0",
   "metadata": {
    "ExecuteTime": {
     "start_time": "2023-11-15T22:58:58.505730Z"
    }
   },
   "outputs": [
    {
     "name": "stdout",
     "output_type": "stream",
     "text": [
      "\n",
      "Outcome  Binary  Amplitude           Magnitude  Direction  Amplitude Bar             Probability\n",
      "------------------------------------------------------------------------------------------------\n",
      "0        00000   0.0333 - i0.0372    0.0499      -48.83°   \u001b[38;2;255;171;196m█                       \u001b[39m  0.0025\n",
      "1        00001   0.0572 - i0.0275    0.0635      -25.32°   \u001b[38;2;255;112;109m█                       \u001b[39m  0.004 \n",
      "2        00010   0.1099 - i0.0061    0.1101       -3.82°   \u001b[38;2;247;54;35m██                      \u001b[39m  0.0121\n",
      "3        00011   0.9209 + i0.3228    0.9758       19.32°   \u001b[38;2;250;102;3m███████████████████████ \u001b[39m  0.9522\n",
      "4        00100  -0.1037 - i0.0927    0.1391     -138.79°   \u001b[38;2;42;156;255m███                     \u001b[39m  0.0193\n",
      "5        00101  -0.0303 - i0.0630    0.0699     -115.31°   \u001b[38;2;77;128;255m█                       \u001b[39m  0.0049\n",
      "6        00110  -0.0029 - i0.0519    0.0519      -93.80°   \u001b[38;2;161;153;255m█                       \u001b[39m  0.0027\n",
      "7        00111   0.0156 - i0.0444    0.047       -70.36°   \u001b[38;2;227;187;254m█                       \u001b[39m  0.0022\n",
      "8        01000   0.0000 + i0.0000    0.0                   \u001b[38;2;43;167;81m                        \u001b[39m  0.0   \n",
      "9        01001   0.0000 + i0.0000    0.0                   \u001b[38;2;50;204;156m                        \u001b[39m  0.0   \n",
      "10       01010   0.0000 + i0.0000    0.0                   \u001b[38;2;48;203;255m                        \u001b[39m  0.0   \n",
      "11       01011   0.0000 + i0.0000    0.0                   \u001b[38;2;88;129;255m                        \u001b[39m  0.0   \n",
      "12       01100   0.0000 + i0.0000    0.0                   \u001b[38;2;45;212;253m                        \u001b[39m  0.0   \n",
      "13       01101   0.0000 + i0.0000    0.0                   \u001b[38;2;110;133;255m                        \u001b[39m  0.0   \n",
      "14       01110   0.0000 + i0.0000    0.0                   \u001b[38;2;157;186;0m                        \u001b[39m  0.0   \n",
      "15       01111   0.0000 + i0.0000    0.0                   \u001b[38;2;80;157;15m                        \u001b[39m  0.0   \n",
      "16       10000   0.0000 + i0.0000    0.0                   \u001b[38;2;49;206;161m                        \u001b[39m  0.0   \n",
      "17       10001   0.0000 + i0.0000    0.0                   \u001b[38;2;247;53;32m                        \u001b[39m  0.0   \n",
      "18       10010   0.0000 + i0.0000    0.0                   \u001b[38;2;255;156;0m                        \u001b[39m  0.0   \n",
      "19       10011   0.0000 + i0.0000    0.0                   \u001b[38;2;42;226;206m                        \u001b[39m  0.0   \n",
      "20       10100   0.0000 + i0.0000    0.0                   \u001b[38;2;255;189;0m                        \u001b[39m  0.0   \n",
      "21       10101   0.0000 + i0.0000    0.0                   \u001b[38;2;225;209;0m                        \u001b[39m  0.0   \n",
      "22       10110   0.0000 + i0.0000    0.0                   \u001b[38;2;128;174;1m                        \u001b[39m  0.0   \n",
      "23       10111   0.0000 + i0.0000    0.0                   \u001b[38;2;48;154;45m                        \u001b[39m  0.0   \n",
      "24       11000   0.0000 + i0.0000    0.0                   \u001b[38;2;255;100;94m                        \u001b[39m  0.0   \n",
      "25       11001   0.0000 + i0.0000    0.0                   \u001b[38;2;39;230;219m                        \u001b[39m  0.0   \n",
      "26       11010   0.0000 + i0.0000    0.0                   \u001b[38;2;48;197;255m                        \u001b[39m  0.0   \n",
      "27       11011   0.0000 + i0.0000    0.0                   \u001b[38;2;246;54;26m                        \u001b[39m  0.0   \n",
      "28       11100   0.0000 + i0.0000    0.0                   \u001b[38;2;46;168;255m                        \u001b[39m  0.0   \n",
      "29       11101   0.0000 + i0.0000    0.0                   \u001b[38;2;246;60;18m                        \u001b[39m  0.0   \n",
      "30       11110   0.0000 + i0.0000    0.0                   \u001b[38;2;183;165;255m                        \u001b[39m  0.0   \n",
      "31       11111   0.0000 + i0.0000    0.0                   \u001b[38;2;247;190;241m                        \u001b[39m  0.0   \n",
      "\n"
     ]
    }
   ],
   "source": [
    "from util import print_state_table\n",
    "\n",
    "print_state_table(qc.run())"
   ]
  }
 ],
 "metadata": {
  "kernelspec": {
   "display_name": "Python 3 (ipykernel)",
   "language": "python",
   "name": "python3"
  },
  "language_info": {
   "codemirror_mode": {
    "name": "ipython",
    "version": 3
   },
   "file_extension": ".py",
   "mimetype": "text/x-python",
   "name": "python",
   "nbconvert_exporter": "python",
   "pygments_lexer": "ipython3",
   "version": "3.7.11"
  }
 },
 "nbformat": 4,
 "nbformat_minor": 5
}
