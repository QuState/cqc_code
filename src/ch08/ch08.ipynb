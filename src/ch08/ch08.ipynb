{
 "cells": [
  {
   "cell_type": "code",
   "execution_count": null,
   "id": "27ceefe4",
   "metadata": {
    "ExecuteTime": {
     "end_time": "2023-12-09T00:20:27.861658Z",
     "start_time": "2023-12-09T00:20:26.414126Z"
    }
   },
   "outputs": [],
   "source": [
    "import os\n",
    "os.chdir('..')\n",
    "\n",
    "from util import CONFIG\n",
    "CONFIG.set_use_mpl_tables(True)"
   ]
  },
  {
   "cell_type": "markdown",
   "id": "2f1d8f87-76e6-4f54-91a3-2e2e116f3a08",
   "metadata": {},
   "source": [
    "## Section 8.1"
   ]
  },
  {
   "cell_type": "markdown",
   "id": "82d69d54-033c-4c56-8173-899995d5e870",
   "metadata": {},
   "source": [
    "#### Section 8.1.1"
   ]
  },
  {
   "cell_type": "code",
   "execution_count": null,
   "id": "e1c31d38ec91387",
   "metadata": {
    "ExecuteTime": {
     "end_time": "2023-12-09T00:20:27.867614Z",
     "start_time": "2023-12-09T00:20:27.865162Z"
    }
   },
   "outputs": [],
   "source": [
    "predicate = lambda k: True if k == 3 else False"
   ]
  },
  {
   "cell_type": "code",
   "execution_count": null,
   "id": "31a0aa3ac2112f72",
   "metadata": {
    "ExecuteTime": {
     "end_time": "2023-12-09T00:20:27.875053Z",
     "start_time": "2023-12-09T00:20:27.869425Z"
    }
   },
   "outputs": [],
   "source": [
    "n = 3\n",
    "print(f'\\nGood outcomes: {[k for k in range(2**n) if predicate(k)]}')"
   ]
  },
  {
   "cell_type": "code",
   "execution_count": null,
   "id": "acd5b3184e84088d",
   "metadata": {
    "ExecuteTime": {
     "end_time": "2023-12-09T00:20:27.878012Z",
     "start_time": "2023-12-09T00:20:27.875190Z"
    }
   },
   "outputs": [],
   "source": [
    "def c_phase_oracle(state, predicate):\n",
    "    for item in range(len(state)):\n",
    "        if predicate(item):\n",
    "            state[item] *= -1"
   ]
  },
  {
   "cell_type": "code",
   "execution_count": null,
   "id": "33c7e0a663291e7f",
   "metadata": {
    "ExecuteTime": {
     "end_time": "2023-12-09T00:20:27.898647Z",
     "start_time": "2023-12-09T00:20:27.880799Z"
    }
   },
   "outputs": [],
   "source": [
    "from math import sqrt\n",
    "\n",
    "n = 3\n",
    "state = [1/sqrt(2**n) for _ in range(2**n)]"
   ]
  },
  {
   "cell_type": "code",
   "execution_count": null,
   "id": "6c6af93f831e184f",
   "metadata": {
    "ExecuteTime": {
     "end_time": "2023-12-09T00:20:27.900250Z",
     "start_time": "2023-12-09T00:20:27.885075Z"
    }
   },
   "outputs": [],
   "source": [
    "from util import print_state_table\n",
    "\n",
    "print_state_table(state)"
   ]
  },
  {
   "cell_type": "code",
   "execution_count": null,
   "id": "dbd1990f261100b2",
   "metadata": {
    "ExecuteTime": {
     "end_time": "2023-12-09T00:20:27.901613Z",
     "start_time": "2023-12-09T00:20:27.890542Z"
    }
   },
   "outputs": [],
   "source": [
    "c_phase_oracle(state, predicate)"
   ]
  },
  {
   "cell_type": "code",
   "execution_count": null,
   "id": "36574196f3d2b5e5",
   "metadata": {
    "ExecuteTime": {
     "end_time": "2023-12-09T00:20:27.902518Z",
     "start_time": "2023-12-09T00:20:27.895307Z"
    }
   },
   "outputs": [],
   "source": [
    "print('\\nState after oracle is applied, changing the direction of good outcomes')\n",
    "print_state_table(state)"
   ]
  },
  {
   "cell_type": "markdown",
   "id": "a806a998-67c5-4168-b9f6-0af6e114a350",
   "metadata": {},
   "source": [
    "#### Section 8.1.2"
   ]
  },
  {
   "cell_type": "code",
   "execution_count": null,
   "id": "5cd606f6",
   "metadata": {
    "ExecuteTime": {
     "end_time": "2023-12-09T00:20:27.910016Z",
     "start_time": "2023-12-09T00:20:27.899427Z"
    }
   },
   "outputs": [],
   "source": [
    "def c_bit_oracle(state, predicate):\n",
    "    N = len(state)\n",
    "    state = state + [0 for _ in range(N)]\n",
    "    for item in range(N):\n",
    "        if predicate(item):\n",
    "            state[N + item] = state[item]\n",
    "            state[item] = 0\n",
    "    return state"
   ]
  },
  {
   "cell_type": "code",
   "execution_count": null,
   "id": "076f89a9-5ba8-4c6a-8cae-2045e0ae0c08",
   "metadata": {
    "ExecuteTime": {
     "end_time": "2023-12-09T00:20:27.916930Z",
     "start_time": "2023-12-09T00:20:27.902628Z"
    }
   },
   "outputs": [],
   "source": [
    "predicate = lambda k: True if k == 3 else False\n",
    "\n",
    "n = 3\n",
    "state = [1/sqrt(2**n) for _ in range(2**n)]\n",
    "\n",
    "tag_state = c_bit_oracle(state, predicate)"
   ]
  },
  {
   "cell_type": "code",
   "execution_count": null,
   "id": "b9043356-5dbf-4057-8160-dcebed523606",
   "metadata": {
    "ExecuteTime": {
     "end_time": "2023-12-09T00:20:27.941865Z",
     "start_time": "2023-12-09T00:20:27.905585Z"
    }
   },
   "outputs": [],
   "source": [
    "print_state_table(tag_state)"
   ]
  },
  {
   "cell_type": "code",
   "execution_count": null,
   "id": "b6b22387",
   "metadata": {
    "ExecuteTime": {
     "end_time": "2023-12-09T00:20:27.943794Z",
     "start_time": "2023-12-09T00:20:27.916944Z"
    }
   },
   "outputs": [],
   "source": [
    "from util import generate_state\n",
    "\n",
    "n = 3\n",
    "state = generate_state(n, seed=777)\n",
    "print_state_table(state)"
   ]
  },
  {
   "cell_type": "code",
   "execution_count": null,
   "id": "0cd23f5a",
   "metadata": {
    "ExecuteTime": {
     "end_time": "2023-12-09T00:20:27.944809Z",
     "start_time": "2023-12-09T00:20:27.920094Z"
    }
   },
   "outputs": [],
   "source": [
    "state = c_bit_oracle(state, predicate)\n",
    "print_state_table(state)"
   ]
  },
  {
   "cell_type": "markdown",
   "id": "01f22110-8efc-411f-a0da-626d138a0bf9",
   "metadata": {},
   "source": [
    "## Section 8.2"
   ]
  },
  {
   "cell_type": "markdown",
   "id": "efd2d3e4-c6f2-4318-b146-f482f2770632",
   "metadata": {},
   "source": [
    "#### Section 8.2.1"
   ]
  },
  {
   "cell_type": "code",
   "execution_count": null,
   "id": "fdd5a91db4116142",
   "metadata": {
    "ExecuteTime": {
     "end_time": "2023-12-09T00:20:27.945903Z",
     "start_time": "2023-12-09T00:20:27.928865Z"
    }
   },
   "outputs": [],
   "source": [
    "from math import pi\n",
    "from sim_circuit import QuantumRegister, QuantumCircuit \n",
    "\n",
    "    \n",
    "def is_bit_not_set(m, k):\n",
    "    return not (m & (1 << k))\n",
    "\n",
    "def phase_oracle_match(n, items):\n",
    "    q = QuantumRegister(n)\n",
    "    qc = QuantumCircuit(q)\n",
    "\n",
    "    for m in items:\n",
    "        for i in range(n):\n",
    "            if is_bit_not_set(m, i):\n",
    "                qc.x(q[i])\n",
    "\n",
    "        qc.mcp(pi, [q[i] for i in range(len(q) - 1)], q[len(q) - 1])\n",
    "\n",
    "        for i in range(n):\n",
    "            if is_bit_not_set(m, i):\n",
    "                qc.x(q[i])\n",
    "    return qc"
   ]
  },
  {
   "cell_type": "code",
   "execution_count": null,
   "id": "7c64000b-6958-45a3-b580-375e45f4cf3a",
   "metadata": {
    "ExecuteTime": {
     "end_time": "2023-12-09T00:20:27.952070Z",
     "start_time": "2023-12-09T00:20:27.939550Z"
    }
   },
   "outputs": [],
   "source": [
    "n = 3\n",
    "items = [3]\n",
    "\n",
    "oracle_circuit = phase_oracle_match(n, items)"
   ]
  },
  {
   "cell_type": "code",
   "execution_count": null,
   "id": "db64ca55-7ea3-4a99-8ce8-9b443a0465e9",
   "metadata": {
    "ExecuteTime": {
     "end_time": "2023-12-09T00:20:28.182379Z",
     "start_time": "2023-12-09T00:20:27.942581Z"
    }
   },
   "outputs": [],
   "source": [
    "from util_qiskit import print_circuit\n",
    "\n",
    "print_circuit(oracle_circuit)"
   ]
  },
  {
   "cell_type": "code",
   "execution_count": null,
   "id": "96da22f9-b4e7-40d4-828f-b9737f2c490a",
   "metadata": {
    "ExecuteTime": {
     "end_time": "2023-12-09T00:20:28.187213Z",
     "start_time": "2023-12-09T00:20:28.183766Z"
    }
   },
   "outputs": [],
   "source": [
    "q = QuantumRegister(n)\n",
    "qc = QuantumCircuit(q)\n",
    "\n",
    "for i in range(n):\n",
    "    qc.h(q[i])"
   ]
  },
  {
   "cell_type": "code",
   "execution_count": null,
   "id": "ff50dbb4-11ee-4686-9f68-a19d4ab0a4c5",
   "metadata": {
    "ExecuteTime": {
     "end_time": "2023-12-09T00:20:28.189457Z",
     "start_time": "2023-12-09T00:20:28.187024Z"
    }
   },
   "outputs": [],
   "source": [
    "qc.append(oracle_circuit, QuantumRegister(n))"
   ]
  },
  {
   "cell_type": "code",
   "execution_count": null,
   "id": "702a457d-2c8c-4372-b437-98ce3e1d5f1e",
   "metadata": {
    "ExecuteTime": {
     "end_time": "2023-12-09T00:20:28.195343Z",
     "start_time": "2023-12-09T00:20:28.190874Z"
    }
   },
   "outputs": [],
   "source": [
    "print_state_table(qc.run())"
   ]
  },
  {
   "cell_type": "code",
   "execution_count": null,
   "id": "54463c9a-a7a4-48ee-ad83-3ab1274b38e7",
   "metadata": {
    "ExecuteTime": {
     "end_time": "2023-12-09T00:20:28.199974Z",
     "start_time": "2023-12-09T00:20:28.195650Z"
    }
   },
   "outputs": [],
   "source": [
    "n = 3\n",
    "items = [1, 3, 5]\n",
    "\n",
    "oracle_circuit = phase_oracle_match(n, items)"
   ]
  },
  {
   "cell_type": "code",
   "execution_count": null,
   "id": "d1ae3c75-bf5b-49c7-bfa6-27e205bfc6de",
   "metadata": {
    "ExecuteTime": {
     "end_time": "2023-12-09T00:20:28.216868Z",
     "start_time": "2023-12-09T00:20:28.199206Z"
    }
   },
   "outputs": [],
   "source": [
    "print_circuit(oracle_circuit)"
   ]
  },
  {
   "cell_type": "code",
   "execution_count": null,
   "id": "fdf70adc-ebe8-4427-ab09-0dcf09680e22",
   "metadata": {
    "ExecuteTime": {
     "end_time": "2023-12-09T00:20:28.217801Z",
     "start_time": "2023-12-09T00:20:28.204820Z"
    }
   },
   "outputs": [],
   "source": [
    "q = QuantumRegister(n)\n",
    "qc = QuantumCircuit(q)\n",
    "\n",
    "for i in range(n):\n",
    "    qc.h(q[i])\n",
    "    \n",
    "qc.append(oracle_circuit, QuantumRegister(n))    "
   ]
  },
  {
   "cell_type": "code",
   "execution_count": null,
   "id": "dfb8148c95306bbf",
   "metadata": {
    "ExecuteTime": {
     "end_time": "2023-12-09T00:20:28.219333Z",
     "start_time": "2023-12-09T00:20:28.210161Z"
    }
   },
   "outputs": [],
   "source": [
    "n = 3\n",
    "\n",
    "rs = generate_state(n, seed=777)\n",
    "print_state_table(rs)"
   ]
  },
  {
   "cell_type": "code",
   "execution_count": null,
   "id": "beedf6e14f0ec419",
   "metadata": {
    "ExecuteTime": {
     "end_time": "2023-12-09T00:20:28.226746Z",
     "start_time": "2023-12-09T00:20:28.215193Z"
    }
   },
   "outputs": [],
   "source": [
    "q = QuantumRegister(n)\n",
    "qc = QuantumCircuit(q)\n",
    "\n",
    "qc.initialize(rs)\n",
    "qc.append(oracle_circuit, QuantumRegister(n))\n",
    "\n",
    "state = qc.run()\n",
    "print_state_table(state)"
   ]
  },
  {
   "cell_type": "markdown",
   "id": "6613d149-bfe3-4ecf-b97e-f2a6b4a362c4",
   "metadata": {},
   "source": [
    "#### Section 8.2.2"
   ]
  },
  {
   "cell_type": "code",
   "execution_count": null,
   "id": "956dd3d3",
   "metadata": {
    "ExecuteTime": {
     "end_time": "2023-12-09T00:20:28.230294Z",
     "start_time": "2023-12-09T00:20:28.220577Z"
    }
   },
   "outputs": [],
   "source": [
    "def bit_oracle_match(n, items):\n",
    "    q = QuantumRegister(n)\n",
    "    a = QuantumRegister(1)\n",
    "    qc = QuantumCircuit(q, a)\n",
    "\n",
    "    for m in items:\n",
    "        for i in range(n):\n",
    "            if is_bit_not_set(m, i):\n",
    "                qc.x(q[i])\n",
    "\n",
    "        qc.mcx([q[i] for i in range(len(q))], a[0])\n",
    "\n",
    "        for i in range(n):\n",
    "            if is_bit_not_set(m, i):\n",
    "                qc.x(q[i])\n",
    "    return qc"
   ]
  },
  {
   "cell_type": "code",
   "execution_count": null,
   "id": "4ec9976c",
   "metadata": {
    "ExecuteTime": {
     "end_time": "2023-12-09T00:20:28.269248Z",
     "start_time": "2023-12-09T00:20:28.229628Z"
    }
   },
   "outputs": [],
   "source": [
    "n = 3\n",
    "items = [3]\n",
    "\n",
    "oracle_circuit = bit_oracle_match(n, items)\n",
    "\n",
    "# print_circuit(oracle_circuit)\n",
    "from util_qiskit import draw_circuit\n",
    "\n",
    "draw_circuit(oracle_circuit)"
   ]
  },
  {
   "cell_type": "code",
   "execution_count": null,
   "id": "5955a727-d4e8-4bc6-b8d3-a46fb00577e3",
   "metadata": {
    "ExecuteTime": {
     "end_time": "2023-12-09T00:20:28.270528Z",
     "start_time": "2023-12-09T00:20:28.234133Z"
    }
   },
   "outputs": [],
   "source": [
    "q = QuantumRegister(n)\n",
    "a = QuantumRegister(1)\n",
    "qc = QuantumCircuit(q, a)\n",
    "\n",
    "for i in range(n):\n",
    "    qc.h(q[i])\n",
    "\n",
    "qc.append(oracle_circuit, QuantumRegister(n+1))"
   ]
  },
  {
   "cell_type": "code",
   "execution_count": null,
   "id": "0811ac1a-4ad7-496c-8c12-4fc1c3139918",
   "metadata": {
    "ExecuteTime": {
     "end_time": "2023-12-09T00:20:28.271543Z",
     "start_time": "2023-12-09T00:20:28.240590Z"
    }
   },
   "outputs": [],
   "source": [
    "print_state_table(qc.run())"
   ]
  },
  {
   "cell_type": "code",
   "execution_count": null,
   "id": "59214499-6456-4c5a-9907-86e8b07f9c12",
   "metadata": {
    "ExecuteTime": {
     "end_time": "2023-12-09T00:20:28.272370Z",
     "start_time": "2023-12-09T00:20:28.245165Z"
    }
   },
   "outputs": [],
   "source": [
    "n = 3\n",
    "items = [1, 3, 5]\n",
    "\n",
    "oracle_circuit = bit_oracle_match(n, items)\n",
    "\n",
    "q = QuantumRegister(n)\n",
    "a = QuantumRegister(1)\n",
    "qc = QuantumCircuit(q, a)\n",
    "\n",
    "for i in range(n):\n",
    "    qc.h(q[i])\n",
    "\n",
    "qc.append(oracle_circuit, QuantumRegister(n+1))"
   ]
  },
  {
   "cell_type": "code",
   "execution_count": null,
   "id": "6635a540-2a32-4bce-bdc1-206509eedad4",
   "metadata": {
    "ExecuteTime": {
     "end_time": "2023-12-09T00:20:28.273121Z",
     "start_time": "2023-12-09T00:20:28.250952Z"
    }
   },
   "outputs": [],
   "source": [
    "print_state_table(qc.run())"
   ]
  },
  {
   "cell_type": "markdown",
   "id": "bf528e66-2a70-4b5a-b22d-2a4f0028680d",
   "metadata": {},
   "source": [
    "## Section 8.3"
   ]
  },
  {
   "cell_type": "code",
   "execution_count": null,
   "id": "c7911ba8",
   "metadata": {
    "ExecuteTime": {
     "end_time": "2023-12-09T00:20:28.338887Z",
     "start_time": "2023-12-09T00:20:28.254802Z"
    }
   },
   "outputs": [],
   "source": [
    "def phase_to_bit_oracle(oracle_circuit):\n",
    "    n = sum(oracle_circuit.regs)\n",
    "    q = QuantumRegister(n)\n",
    "    a = QuantumRegister(1)\n",
    "    qc = QuantumCircuit(q, a)\n",
    "    qc.h(a[0])\n",
    "    qc.c_append(oracle_circuit, a[0], q)\n",
    "    qc.h(a[0])\n",
    "\n",
    "    return qc"
   ]
  },
  {
   "cell_type": "code",
   "execution_count": null,
   "id": "0a45a1b6-a475-4c1f-94a6-6e72df0569e3",
   "metadata": {
    "ExecuteTime": {
     "end_time": "2023-12-09T00:20:28.340964Z",
     "start_time": "2023-12-09T00:20:28.258334Z"
    }
   },
   "outputs": [],
   "source": [
    "n = 3\n",
    "items = [1, 3, 5]\n",
    "oracle_circuit = phase_oracle_match(n, items)"
   ]
  },
  {
   "cell_type": "code",
   "execution_count": null,
   "id": "41cfdf35",
   "metadata": {
    "ExecuteTime": {
     "end_time": "2023-12-09T00:20:28.341849Z",
     "start_time": "2023-12-09T00:20:28.260715Z"
    }
   },
   "outputs": [],
   "source": [
    "print_circuit(oracle_circuit)"
   ]
  },
  {
   "cell_type": "code",
   "execution_count": null,
   "id": "f77f0aa3",
   "metadata": {
    "ExecuteTime": {
     "end_time": "2023-12-09T00:20:28.350771Z",
     "start_time": "2023-12-09T00:20:28.269468Z"
    }
   },
   "outputs": [],
   "source": [
    "state = generate_state(n, seed=777) + [0 for _ in range(2**n)]\n",
    "print_state_table(state)"
   ]
  },
  {
   "cell_type": "code",
   "execution_count": null,
   "id": "df670bf3-5fe0-48f9-a9c7-31398759c2e8",
   "metadata": {
    "ExecuteTime": {
     "end_time": "2023-12-09T00:20:28.353670Z",
     "start_time": "2023-12-09T00:20:28.273618Z"
    }
   },
   "outputs": [],
   "source": [
    "q = QuantumRegister(n)\n",
    "a = QuantumRegister(1)\n",
    "\n",
    "qc = QuantumCircuit(q, a)\n",
    "qc.initialize(state.copy())\n",
    "\n",
    "qc.append(phase_to_bit_oracle(oracle_circuit), QuantumRegister(n+1))"
   ]
  },
  {
   "cell_type": "code",
   "execution_count": null,
   "id": "b22d4d55-1ab5-41ea-9654-31c34b72e011",
   "metadata": {
    "ExecuteTime": {
     "end_time": "2023-12-09T00:20:28.357561Z",
     "start_time": "2023-12-09T00:20:28.290411Z"
    }
   },
   "outputs": [],
   "source": [
    "print_state_table(qc.run())"
   ]
  },
  {
   "cell_type": "markdown",
   "id": "d94a4bd7-e439-4b38-9142-b11295dc3a0d",
   "metadata": {},
   "source": [
    "#### Section 8.3.2"
   ]
  },
  {
   "cell_type": "code",
   "execution_count": null,
   "id": "8a29f35f",
   "metadata": {
    "ExecuteTime": {
     "end_time": "2023-12-09T00:20:28.358482Z",
     "start_time": "2023-12-09T00:20:28.290717Z"
    }
   },
   "outputs": [],
   "source": [
    "def bit_to_phase_oracle(oracle_circuit):\n",
    "    n = sum(oracle_circuit.regs)\n",
    "    q = QuantumRegister(n)\n",
    "    qc = QuantumCircuit(q)\n",
    "    qc.append(oracle_circuit, q)\n",
    "    qc.p(pi, q[len(q)-1])\n",
    "    qc.append(oracle_circuit, q)\n",
    "\n",
    "    return qc"
   ]
  },
  {
   "cell_type": "code",
   "execution_count": null,
   "id": "8e0193ac-d916-4ed9-8814-07fb20fb3ff8",
   "metadata": {
    "ExecuteTime": {
     "end_time": "2023-12-09T00:20:28.359277Z",
     "start_time": "2023-12-09T00:20:28.290760Z"
    }
   },
   "outputs": [],
   "source": [
    "n = 3\n",
    "items = [1, 3, 5]\n",
    "oracle_circuit = bit_oracle_match(n, items)"
   ]
  },
  {
   "cell_type": "code",
   "execution_count": null,
   "id": "bab647a0-fc35-4634-913f-100d65ab368f",
   "metadata": {
    "ExecuteTime": {
     "end_time": "2023-12-09T00:20:28.360119Z",
     "start_time": "2023-12-09T00:20:28.290922Z"
    }
   },
   "outputs": [],
   "source": [
    "print_circuit(oracle_circuit)"
   ]
  },
  {
   "cell_type": "code",
   "execution_count": null,
   "id": "199f3ec9",
   "metadata": {
    "ExecuteTime": {
     "end_time": "2023-12-09T00:20:28.393484Z",
     "start_time": "2023-12-09T00:20:28.297052Z"
    }
   },
   "outputs": [],
   "source": [
    "draw_circuit(oracle_circuit)"
   ]
  },
  {
   "cell_type": "code",
   "execution_count": null,
   "id": "0a4058fa",
   "metadata": {
    "ExecuteTime": {
     "end_time": "2023-12-09T00:20:28.394566Z",
     "start_time": "2023-12-09T00:20:28.307Z"
    }
   },
   "outputs": [],
   "source": [
    "n = 3\n",
    "items = [1, 3, 5]\n",
    "oracle_circuit = bit_oracle_match(n, items)\n",
    "\n",
    "state = generate_state(n, seed=777) + [0 for _ in range(2**n)]\n",
    "\n",
    "q = QuantumRegister(n)\n",
    "a = QuantumRegister(1)\n",
    "\n",
    "qc = QuantumCircuit(q, a)\n",
    "qc.initialize(state.copy())\n",
    "\n",
    "qc.append(bit_to_phase_oracle(oracle_circuit), QuantumRegister(n+1))"
   ]
  },
  {
   "cell_type": "code",
   "execution_count": null,
   "id": "61b2d789-4a69-404f-a3ba-1468dce00d4c",
   "metadata": {
    "ExecuteTime": {
     "end_time": "2023-12-09T00:20:28.395968Z",
     "start_time": "2023-12-09T00:20:28.312670Z"
    }
   },
   "outputs": [],
   "source": [
    "print_state_table(qc.run())"
   ]
  },
  {
   "cell_type": "markdown",
   "id": "0f819fd8-6081-47b1-88ac-a2080e30f80f",
   "metadata": {},
   "source": [
    "## Section 8.4"
   ]
  },
  {
   "cell_type": "code",
   "execution_count": null,
   "id": "244ab812-2f2b-41c2-b16e-b1aacacb3782",
   "metadata": {
    "ExecuteTime": {
     "end_time": "2023-12-09T00:20:28.397013Z",
     "start_time": "2023-12-09T00:20:28.316188Z"
    }
   },
   "outputs": [],
   "source": [
    "def recursive_fib(n):\n",
    "    if n <= 1:\n",
    "        return n\n",
    "    else:\n",
    "        return recursive_fib(n - 1) + recursive_fib(n - 2)"
   ]
  },
  {
   "cell_type": "code",
   "execution_count": null,
   "id": "32563f55-aa82-4c19-8fec-8b928ad744a6",
   "metadata": {
    "ExecuteTime": {
     "end_time": "2023-12-09T00:20:28.404304Z",
     "start_time": "2023-12-09T00:20:28.319779Z"
    }
   },
   "outputs": [],
   "source": [
    "[recursive_fib(n) for n in range(10)]"
   ]
  },
  {
   "cell_type": "code",
   "execution_count": null,
   "id": "4656cadb",
   "metadata": {
    "ExecuteTime": {
     "end_time": "2023-12-09T00:20:28.405285Z",
     "start_time": "2023-12-09T00:20:28.324268Z"
    }
   },
   "outputs": [],
   "source": [
    "from math import asin\n",
    "\n",
    "def fib_circuit(n):\n",
    "    theta = 2*asin((sqrt(5) - 1)/2)\n",
    "\n",
    "    q = QuantumRegister(n)\n",
    "    qc = QuantumCircuit(q)\n",
    "\n",
    "    for i in range(n):\n",
    "        qc.ry(theta, q[i])\n",
    "\n",
    "    for i in range(n - 1):\n",
    "        qc.cry(-theta, q[i], q[i + 1])\n",
    "\n",
    "    return qc"
   ]
  },
  {
   "cell_type": "code",
   "execution_count": null,
   "id": "db819d1e-6771-4c18-9225-ad31670c7cca",
   "metadata": {
    "ExecuteTime": {
     "end_time": "2023-12-09T00:20:28.406069Z",
     "start_time": "2023-12-09T00:20:28.326898Z"
    }
   },
   "outputs": [],
   "source": [
    "qc = fib_circuit(1)\n",
    "state = qc.run()"
   ]
  },
  {
   "cell_type": "code",
   "execution_count": null,
   "id": "3c8af13f-1be5-48fb-8418-60fd9f60b598",
   "metadata": {
    "ExecuteTime": {
     "end_time": "2023-12-09T00:20:28.406896Z",
     "start_time": "2023-12-09T00:20:28.330322Z"
    }
   },
   "outputs": [],
   "source": [
    "print_state_table(state)"
   ]
  },
  {
   "cell_type": "code",
   "execution_count": null,
   "id": "1a6fd045-a4b3-4a1f-b4f3-11e61a6ef3b5",
   "metadata": {
    "ExecuteTime": {
     "end_time": "2023-12-09T00:20:28.407640Z",
     "start_time": "2023-12-09T00:20:28.333323Z"
    }
   },
   "outputs": [],
   "source": [
    "qc = fib_circuit(2)\n",
    "state = qc.run()"
   ]
  },
  {
   "cell_type": "code",
   "execution_count": null,
   "id": "08d19538-15c4-462e-81c0-cc30bab12897",
   "metadata": {
    "ExecuteTime": {
     "end_time": "2023-12-09T00:20:28.409364Z",
     "start_time": "2023-12-09T00:20:28.337531Z"
    }
   },
   "outputs": [],
   "source": [
    "print_state_table(state)"
   ]
  },
  {
   "cell_type": "code",
   "execution_count": null,
   "id": "d53811dc-a37b-4d3f-97cd-06c612bfe001",
   "metadata": {
    "ExecuteTime": {
     "end_time": "2023-12-09T00:20:28.416294Z",
     "start_time": "2023-12-09T00:20:28.341572Z"
    }
   },
   "outputs": [],
   "source": [
    "from util import is_close\n",
    "\n",
    "qc = fib_circuit(2)\n",
    "state = qc.run()\n",
    "\n",
    "assert is_close(abs(state[0])**2/abs(state[2])**2, (1+sqrt(5))/2)\n",
    "assert is_close(abs(state[1])**2/abs(state[2])**2, (1+sqrt(5))/2)"
   ]
  },
  {
   "cell_type": "code",
   "execution_count": null,
   "id": "aad8cf21-4fec-44b9-8130-5a77a18936e7",
   "metadata": {
    "ExecuteTime": {
     "end_time": "2023-12-09T00:20:28.417109Z",
     "start_time": "2023-12-09T00:20:28.344599Z"
    }
   },
   "outputs": [],
   "source": [
    "qc = fib_circuit(3)\n",
    "state = qc.run()"
   ]
  },
  {
   "cell_type": "code",
   "execution_count": null,
   "id": "a77725d2-4883-4ed8-a2bd-720ab334efeb",
   "metadata": {
    "ExecuteTime": {
     "end_time": "2023-12-09T00:20:28.422979Z",
     "start_time": "2023-12-09T00:20:28.350660Z"
    }
   },
   "outputs": [],
   "source": [
    "print_state_table(state)"
   ]
  }
 ],
 "metadata": {
  "kernelspec": {
   "display_name": "Python 3 (ipykernel)",
   "language": "python",
   "name": "python3"
  },
  "language_info": {
   "codemirror_mode": {
    "name": "ipython",
    "version": 3
   },
   "file_extension": ".py",
   "mimetype": "text/x-python",
   "name": "python",
   "nbconvert_exporter": "python",
   "pygments_lexer": "ipython3",
   "version": "3.9.13"
  }
 },
 "nbformat": 4,
 "nbformat_minor": 5
}
