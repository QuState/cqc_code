{
 "cells": [
  {
   "cell_type": "code",
   "execution_count": null,
   "id": "27ceefe4",
   "metadata": {},
   "outputs": [],
   "source": [
    "import os\n",
    "os.chdir('..')\n",
    "\n",
    "from util import CONFIG\n",
    "CONFIG.set_use_mpl_tables(True)"
   ]
  },
  {
   "cell_type": "markdown",
   "id": "2f1d8f87-76e6-4f54-91a3-2e2e116f3a08",
   "metadata": {},
   "source": [
    "## Section 8.1"
   ]
  },
  {
   "cell_type": "markdown",
   "id": "82d69d54-033c-4c56-8173-899995d5e870",
   "metadata": {},
   "source": [
    "#### Section 8.1.1"
   ]
  },
  {
   "cell_type": "code",
   "execution_count": null,
   "id": "e1c31d38ec91387",
   "metadata": {},
   "outputs": [],
   "source": [
    "predicate = lambda k: True if k == 3 else False"
   ]
  },
  {
   "cell_type": "code",
   "execution_count": null,
   "id": "31a0aa3ac2112f72",
   "metadata": {},
   "outputs": [],
   "source": [
    "n = 3\n",
    "print(f'\\nGood outcomes: {[k for k in range(2**n) if predicate(k)]}')"
   ]
  },
  {
   "cell_type": "code",
   "execution_count": null,
   "id": "acd5b3184e84088d",
   "metadata": {},
   "outputs": [],
   "source": [
    "def c_phase_oracle(state, predicate):\n",
    "    for item in range(len(state)):\n",
    "        if predicate(item):\n",
    "            state[item] *= -1"
   ]
  },
  {
   "cell_type": "code",
   "execution_count": null,
   "id": "33c7e0a663291e7f",
   "metadata": {},
   "outputs": [],
   "source": [
    "from math import sqrt\n",
    "\n",
    "n = 3\n",
    "state = [1/sqrt(2**n) for _ in range(2**n)]"
   ]
  },
  {
   "cell_type": "code",
   "execution_count": null,
   "id": "6c6af93f831e184f",
   "metadata": {},
   "outputs": [],
   "source": [
    "from util import print_state_table\n",
    "\n",
    "print_state_table(state)"
   ]
  },
  {
   "cell_type": "code",
   "execution_count": null,
   "id": "dbd1990f261100b2",
   "metadata": {},
   "outputs": [],
   "source": [
    "c_phase_oracle(state, predicate)"
   ]
  },
  {
   "cell_type": "code",
   "execution_count": null,
   "id": "36574196f3d2b5e5",
   "metadata": {},
   "outputs": [],
   "source": [
    "print('\\nState after oracle is applied, changing the direction of good outcomes')\n",
    "print_state_table(state)"
   ]
  },
  {
   "cell_type": "markdown",
   "id": "a806a998-67c5-4168-b9f6-0af6e114a350",
   "metadata": {},
   "source": [
    "#### Section 8.1.2"
   ]
  },
  {
   "cell_type": "code",
   "execution_count": null,
   "id": "5cd606f6",
   "metadata": {},
   "outputs": [],
   "source": [
    "def c_bit_oracle(state, predicate):\n",
    "    N = len(state)\n",
    "    state = state + [0 for _ in range(N)]\n",
    "    for item in range(N):\n",
    "        if predicate(item):\n",
    "            state[N + item] = state[item]\n",
    "            state[item] = 0\n",
    "    return state"
   ]
  },
  {
   "cell_type": "code",
   "execution_count": null,
   "id": "076f89a9-5ba8-4c6a-8cae-2045e0ae0c08",
   "metadata": {},
   "outputs": [],
   "source": [
    "predicate = lambda k: True if k == 3 else False\n",
    "\n",
    "n = 3\n",
    "state = [1/sqrt(2**n) for _ in range(2**n)]\n",
    "\n",
    "tag_state = c_bit_oracle(state, predicate)"
   ]
  },
  {
   "cell_type": "code",
   "execution_count": null,
   "id": "b9043356-5dbf-4057-8160-dcebed523606",
   "metadata": {},
   "outputs": [],
   "source": [
    "print_state_table(tag_state)"
   ]
  },
  {
   "cell_type": "code",
   "execution_count": null,
   "id": "b6b22387",
   "metadata": {},
   "outputs": [],
   "source": [
    "from util import generate_state\n",
    "\n",
    "n = 3\n",
    "state = generate_state(n, seed=777)\n",
    "print_state_table(state)"
   ]
  },
  {
   "cell_type": "code",
   "execution_count": null,
   "id": "0cd23f5a",
   "metadata": {},
   "outputs": [],
   "source": [
    "state = c_bit_oracle(state, predicate)\n",
    "print_state_table(state)"
   ]
  },
  {
   "cell_type": "markdown",
   "id": "01f22110-8efc-411f-a0da-626d138a0bf9",
   "metadata": {},
   "source": [
    "## Section 8.2"
   ]
  },
  {
   "cell_type": "markdown",
   "id": "efd2d3e4-c6f2-4318-b146-f482f2770632",
   "metadata": {},
   "source": [
    "#### Section 8.2.1"
   ]
  },
  {
   "cell_type": "code",
   "execution_count": null,
   "id": "fdd5a91db4116142",
   "metadata": {},
   "outputs": [],
   "source": [
    "from math import pi\n",
    "from sim_circuit import QuantumRegister, QuantumCircuit \n",
    "\n",
    "    \n",
    "def is_bit_not_set(m, k):\n",
    "    return not (m & (1 << k))\n",
    "\n",
    "def phase_oracle_match(n, items):\n",
    "    q = QuantumRegister(n)\n",
    "    qc = QuantumCircuit(q)\n",
    "\n",
    "    for m in items:\n",
    "        for i in range(n):\n",
    "            if is_bit_not_set(m, i):\n",
    "                qc.x(q[i])\n",
    "\n",
    "        qc.mcp(pi, [q[i] for i in range(len(q) - 1)], q[len(q) - 1])\n",
    "\n",
    "        for i in range(n):\n",
    "            if is_bit_not_set(m, i):\n",
    "                qc.x(q[i])\n",
    "    return qc"
   ]
  },
  {
   "cell_type": "code",
   "execution_count": null,
   "id": "7c64000b-6958-45a3-b580-375e45f4cf3a",
   "metadata": {},
   "outputs": [],
   "source": [
    "n = 3\n",
    "items = [3]\n",
    "\n",
    "oracle_circuit = phase_oracle_match(n, items)"
   ]
  },
  {
   "cell_type": "code",
   "execution_count": null,
   "id": "db64ca55-7ea3-4a99-8ce8-9b443a0465e9",
   "metadata": {},
   "outputs": [],
   "source": [
    "from util_qiskit import print_circuit\n",
    "\n",
    "print_circuit(oracle_circuit)"
   ]
  },
  {
   "cell_type": "code",
   "execution_count": null,
   "id": "96da22f9-b4e7-40d4-828f-b9737f2c490a",
   "metadata": {},
   "outputs": [],
   "source": [
    "q = QuantumRegister(n)\n",
    "qc = QuantumCircuit(q)\n",
    "\n",
    "for i in range(n):\n",
    "    qc.h(q[i])"
   ]
  },
  {
   "cell_type": "code",
   "execution_count": null,
   "id": "ff50dbb4-11ee-4686-9f68-a19d4ab0a4c5",
   "metadata": {},
   "outputs": [],
   "source": [
    "qc.append(oracle_circuit, QuantumRegister(n))"
   ]
  },
  {
   "cell_type": "code",
   "execution_count": null,
   "id": "702a457d-2c8c-4372-b437-98ce3e1d5f1e",
   "metadata": {},
   "outputs": [],
   "source": [
    "print_state_table(qc.run())"
   ]
  },
  {
   "cell_type": "code",
   "execution_count": null,
   "id": "54463c9a-a7a4-48ee-ad83-3ab1274b38e7",
   "metadata": {},
   "outputs": [],
   "source": [
    "n = 3\n",
    "items = [1, 3, 5]\n",
    "\n",
    "oracle_circuit = phase_oracle_match(n, items)"
   ]
  },
  {
   "cell_type": "code",
   "execution_count": null,
   "id": "d1ae3c75-bf5b-49c7-bfa6-27e205bfc6de",
   "metadata": {},
   "outputs": [],
   "source": [
    "print_circuit(oracle_circuit)"
   ]
  },
  {
   "cell_type": "code",
   "execution_count": null,
   "id": "fdf70adc-ebe8-4427-ab09-0dcf09680e22",
   "metadata": {},
   "outputs": [],
   "source": [
    "q = QuantumRegister(n)\n",
    "qc = QuantumCircuit(q)\n",
    "\n",
    "for i in range(n):\n",
    "    qc.h(q[i])\n",
    "    \n",
    "qc.append(oracle_circuit, QuantumRegister(n))    "
   ]
  },
  {
   "cell_type": "code",
   "execution_count": null,
   "id": "dfb8148c95306bbf",
   "metadata": {},
   "outputs": [],
   "source": [
    "n = 3\n",
    "\n",
    "rs = generate_state(n, seed=777)\n",
    "print_state_table(rs)"
   ]
  },
  {
   "cell_type": "code",
   "execution_count": null,
   "id": "beedf6e14f0ec419",
   "metadata": {},
   "outputs": [],
   "source": [
    "q = QuantumRegister(n)\n",
    "qc = QuantumCircuit(q)\n",
    "\n",
    "qc.initialize(rs)\n",
    "qc.append(oracle_circuit, QuantumRegister(n))\n",
    "\n",
    "state = qc.run()\n",
    "print_state_table(state)"
   ]
  },
  {
   "cell_type": "markdown",
   "id": "6613d149-bfe3-4ecf-b97e-f2a6b4a362c4",
   "metadata": {},
   "source": [
    "#### Section 8.2.2"
   ]
  },
  {
   "cell_type": "code",
   "execution_count": null,
   "id": "956dd3d3",
   "metadata": {},
   "outputs": [],
   "source": [
    "def bit_oracle_match(n, items):\n",
    "    q = QuantumRegister(n)\n",
    "    a = QuantumRegister(1)\n",
    "    qc = QuantumCircuit(q, a)\n",
    "\n",
    "    for m in items:\n",
    "        for i in range(n):\n",
    "            if is_bit_not_set(m, i):\n",
    "                qc.x(q[i])\n",
    "\n",
    "        qc.mcx([q[i] for i in range(len(q))], a[0])\n",
    "\n",
    "        for i in range(n):\n",
    "            if is_bit_not_set(m, i):\n",
    "                qc.x(q[i])\n",
    "    return qc"
   ]
  },
  {
   "cell_type": "code",
   "execution_count": null,
   "id": "4ec9976c",
   "metadata": {},
   "outputs": [],
   "source": [
    "n = 3\n",
    "items = [3]\n",
    "\n",
    "oracle_circuit = bit_oracle_match(n, items)\n",
    "\n",
    "# print_circuit(oracle_circuit)\n",
    "from util_qiskit import draw_circuit\n",
    "\n",
    "draw_circuit(oracle_circuit)"
   ]
  },
  {
   "cell_type": "code",
   "execution_count": null,
   "id": "5955a727-d4e8-4bc6-b8d3-a46fb00577e3",
   "metadata": {},
   "outputs": [],
   "source": [
    "q = QuantumRegister(n)\n",
    "a = QuantumRegister(1)\n",
    "qc = QuantumCircuit(q, a)\n",
    "\n",
    "for i in range(n):\n",
    "    qc.h(q[i])\n",
    "\n",
    "qc.append(oracle_circuit, QuantumRegister(n+1))"
   ]
  },
  {
   "cell_type": "code",
   "execution_count": null,
   "id": "0811ac1a-4ad7-496c-8c12-4fc1c3139918",
   "metadata": {},
   "outputs": [],
   "source": [
    "print_state_table(qc.run())"
   ]
  },
  {
   "cell_type": "code",
   "execution_count": null,
   "id": "59214499-6456-4c5a-9907-86e8b07f9c12",
   "metadata": {},
   "outputs": [],
   "source": [
    "n = 3\n",
    "items = [1, 3, 5]\n",
    "\n",
    "oracle_circuit = bit_oracle_match(n, items)\n",
    "\n",
    "q = QuantumRegister(n)\n",
    "a = QuantumRegister(1)\n",
    "qc = QuantumCircuit(q, a)\n",
    "\n",
    "for i in range(n):\n",
    "    qc.h(q[i])\n",
    "\n",
    "qc.append(oracle_circuit, QuantumRegister(n+1))"
   ]
  },
  {
   "cell_type": "code",
   "execution_count": null,
   "id": "6635a540-2a32-4bce-bdc1-206509eedad4",
   "metadata": {},
   "outputs": [],
   "source": [
    "print_state_table(qc.run())"
   ]
  },
  {
   "cell_type": "markdown",
   "id": "bf528e66-2a70-4b5a-b22d-2a4f0028680d",
   "metadata": {},
   "source": [
    "## Section 8.3"
   ]
  },
  {
   "cell_type": "code",
   "execution_count": null,
   "id": "c7911ba8",
   "metadata": {},
   "outputs": [],
   "source": [
    "def phase_to_bit_oracle(oracle_circuit):\n",
    "    n = sum(oracle_circuit.regs)\n",
    "    q = QuantumRegister(n)\n",
    "    a = QuantumRegister(1)\n",
    "    qc = QuantumCircuit(q, a)\n",
    "    qc.h(a[0])\n",
    "    qc.c_append(oracle_circuit, a[0], q)\n",
    "    qc.h(a[0])\n",
    "\n",
    "    return qc"
   ]
  },
  {
   "cell_type": "code",
   "execution_count": null,
   "id": "0a45a1b6-a475-4c1f-94a6-6e72df0569e3",
   "metadata": {},
   "outputs": [],
   "source": [
    "n = 3\n",
    "items = [1, 3, 5]\n",
    "oracle_circuit = phase_oracle_match(n, items)"
   ]
  },
  {
   "cell_type": "code",
   "execution_count": null,
   "id": "41cfdf35",
   "metadata": {},
   "outputs": [],
   "source": [
    "print_circuit(oracle_circuit)"
   ]
  },
  {
   "cell_type": "code",
   "execution_count": null,
   "id": "f77f0aa3",
   "metadata": {},
   "outputs": [],
   "source": [
    "state = generate_state(n, seed=777) + [0 for _ in range(2**n)]\n",
    "print_state_table(state)"
   ]
  },
  {
   "cell_type": "code",
   "execution_count": null,
   "id": "df670bf3-5fe0-48f9-a9c7-31398759c2e8",
   "metadata": {},
   "outputs": [],
   "source": [
    "q = QuantumRegister(n)\n",
    "a = QuantumRegister(1)\n",
    "\n",
    "qc = QuantumCircuit(q, a)\n",
    "qc.initialize(state.copy())\n",
    "\n",
    "qc.append(phase_to_bit_oracle(oracle_circuit), QuantumRegister(n+1))"
   ]
  },
  {
   "cell_type": "code",
   "execution_count": null,
   "id": "b22d4d55-1ab5-41ea-9654-31c34b72e011",
   "metadata": {},
   "outputs": [],
   "source": [
    "print_state_table(qc.run())"
   ]
  },
  {
   "cell_type": "markdown",
   "id": "d94a4bd7-e439-4b38-9142-b11295dc3a0d",
   "metadata": {},
   "source": [
    "#### Section 8.3.2"
   ]
  },
  {
   "cell_type": "code",
   "execution_count": null,
   "id": "8a29f35f",
   "metadata": {},
   "outputs": [],
   "source": [
    "def bit_to_phase_oracle(oracle_circuit):\n",
    "    n = sum(oracle_circuit.regs)\n",
    "    q = QuantumRegister(n)\n",
    "    qc = QuantumCircuit(q)\n",
    "    qc.append(oracle_circuit, q)\n",
    "    qc.p(pi, q[len(q)-1])\n",
    "    qc.append(oracle_circuit, q)\n",
    "\n",
    "    return qc"
   ]
  },
  {
   "cell_type": "code",
   "execution_count": null,
   "id": "8e0193ac-d916-4ed9-8814-07fb20fb3ff8",
   "metadata": {},
   "outputs": [],
   "source": [
    "n = 3\n",
    "items = [1, 3, 5]\n",
    "oracle_circuit = bit_oracle_match(n, items)"
   ]
  },
  {
   "cell_type": "code",
   "execution_count": null,
   "id": "bab647a0-fc35-4634-913f-100d65ab368f",
   "metadata": {},
   "outputs": [],
   "source": [
    "print_circuit(oracle_circuit)"
   ]
  },
  {
   "cell_type": "code",
   "execution_count": null,
   "id": "199f3ec9",
   "metadata": {},
   "outputs": [],
   "source": [
    "draw_circuit(oracle_circuit)"
   ]
  },
  {
   "cell_type": "code",
   "execution_count": null,
   "id": "0a4058fa",
   "metadata": {},
   "outputs": [],
   "source": [
    "n = 3\n",
    "items = [1, 3, 5]\n",
    "oracle_circuit = bit_oracle_match(n, items)\n",
    "\n",
    "state = generate_state(n, seed=777) + [0 for _ in range(2**n)]\n",
    "\n",
    "q = QuantumRegister(n)\n",
    "a = QuantumRegister(1)\n",
    "\n",
    "qc = QuantumCircuit(q, a)\n",
    "qc.initialize(state.copy())\n",
    "\n",
    "qc.append(bit_to_phase_oracle(oracle_circuit), QuantumRegister(n+1))"
   ]
  },
  {
   "cell_type": "code",
   "execution_count": null,
   "id": "61b2d789-4a69-404f-a3ba-1468dce00d4c",
   "metadata": {},
   "outputs": [],
   "source": [
    "print_state_table(qc.run())"
   ]
  },
  {
   "cell_type": "markdown",
   "id": "0f819fd8-6081-47b1-88ac-a2080e30f80f",
   "metadata": {},
   "source": [
    "## Section 8.4"
   ]
  },
  {
   "cell_type": "code",
   "execution_count": null,
   "id": "244ab812-2f2b-41c2-b16e-b1aacacb3782",
   "metadata": {},
   "outputs": [],
   "source": [
    "def recursive_fib(n):\n",
    "    if n <= 1:\n",
    "        return n\n",
    "    else:\n",
    "        return recursive_fib(n - 1) + recursive_fib(n - 2)"
   ]
  },
  {
   "cell_type": "code",
   "execution_count": null,
   "id": "32563f55-aa82-4c19-8fec-8b928ad744a6",
   "metadata": {},
   "outputs": [],
   "source": [
    "[recursive_fib(n) for n in range(10)]"
   ]
  },
  {
   "cell_type": "code",
   "execution_count": null,
   "id": "4656cadb",
   "metadata": {},
   "outputs": [],
   "source": [
    "from math import asin\n",
    "\n",
    "def fib_circuit(n):\n",
    "    theta = 2*asin((sqrt(5) - 1)/2)\n",
    "\n",
    "    q = QuantumRegister(n)\n",
    "    qc = QuantumCircuit(q)\n",
    "\n",
    "    for i in range(n):\n",
    "        qc.ry(theta, q[i])\n",
    "\n",
    "    for i in range(n - 1):\n",
    "        qc.cry(-theta, q[i], q[i + 1])\n",
    "\n",
    "    return qc"
   ]
  },
  {
   "cell_type": "code",
   "execution_count": null,
   "id": "db819d1e-6771-4c18-9225-ad31670c7cca",
   "metadata": {},
   "outputs": [],
   "source": [
    "qc = fib_circuit(1)\n",
    "state = qc.run()"
   ]
  },
  {
   "cell_type": "code",
   "execution_count": null,
   "id": "3c8af13f-1be5-48fb-8418-60fd9f60b598",
   "metadata": {},
   "outputs": [],
   "source": [
    "print_state_table(state)"
   ]
  },
  {
   "cell_type": "code",
   "execution_count": null,
   "id": "1a6fd045-a4b3-4a1f-b4f3-11e61a6ef3b5",
   "metadata": {},
   "outputs": [],
   "source": [
    "qc = fib_circuit(2)\n",
    "state = qc.run()"
   ]
  },
  {
   "cell_type": "code",
   "execution_count": null,
   "id": "08d19538-15c4-462e-81c0-cc30bab12897",
   "metadata": {},
   "outputs": [],
   "source": [
    "print_state_table(state)"
   ]
  },
  {
   "cell_type": "code",
   "execution_count": null,
   "id": "d53811dc-a37b-4d3f-97cd-06c612bfe001",
   "metadata": {},
   "outputs": [],
   "source": [
    "from util import is_close\n",
    "\n",
    "qc = fib_circuit(2)\n",
    "state = qc.run()\n",
    "\n",
    "assert is_close(abs(state[0])**2/abs(state[2])**2, (1+sqrt(5))/2)\n",
    "assert is_close(abs(state[1])**2/abs(state[2])**2, (1+sqrt(5))/2)"
   ]
  },
  {
   "cell_type": "code",
   "execution_count": null,
   "id": "aad8cf21-4fec-44b9-8130-5a77a18936e7",
   "metadata": {},
   "outputs": [],
   "source": [
    "qc = fib_circuit(3)\n",
    "state = qc.run()"
   ]
  },
  {
   "cell_type": "code",
   "execution_count": null,
   "id": "a77725d2-4883-4ed8-a2bd-720ab334efeb",
   "metadata": {},
   "outputs": [],
   "source": [
    "print_state_table(state)"
   ]
  }
 ],
 "metadata": {
  "kernelspec": {
   "display_name": "Python 3 (ipykernel)",
   "language": "python",
   "name": "python3"
  },
  "language_info": {
   "codemirror_mode": {
    "name": "ipython",
    "version": 3
   },
   "file_extension": ".py",
   "mimetype": "text/x-python",
   "name": "python",
   "nbconvert_exporter": "python",
   "pygments_lexer": "ipython3",
   "version": "3.9.13"
  }
 },
 "nbformat": 4,
 "nbformat_minor": 5
}
