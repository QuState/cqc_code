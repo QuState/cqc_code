{
 "cells": [
  {
   "cell_type": "code",
   "execution_count": 1,
   "id": "e8c77bd6-a787-4e26-8241-7a81e0025ad3",
   "metadata": {},
   "outputs": [],
   "source": [
    "import os\n",
    "os.chdir('..')\n",
    "\n",
    "from util import CONFIG\n",
    "CONFIG.set_use_mpl_tables(True)"
   ]
  },
  {
   "cell_type": "markdown",
   "id": "6d9dc83d-ab58-4301-a5ee-7e03f20d3953",
   "metadata": {},
   "source": [
    "## Section 8.1"
   ]
  },
  {
   "cell_type": "markdown",
   "id": "99a2ae02-1d9d-4205-a58e-f0f361455ea3",
   "metadata": {},
   "source": [
    "#### Section 8.1.1"
   ]
  },
  {
   "cell_type": "code",
   "execution_count": 2,
   "id": "163d0d65-fb12-455d-a900-9d8845a741b3",
   "metadata": {},
   "outputs": [],
   "source": [
    "predicate = lambda k: True if k == 3 else False"
   ]
  },
  {
   "cell_type": "code",
   "execution_count": 3,
   "id": "a239bd61-e931-4ee3-bbe3-3c3f658f4985",
   "metadata": {},
   "outputs": [
    {
     "name": "stdout",
     "output_type": "stream",
     "text": [
      "\n",
      "Good outcomes: [3]\n"
     ]
    }
   ],
   "source": [
    "n = 3\n",
    "print(f'\\nGood outcomes: {[k for k in range(2**n) if predicate(k)]}')"
   ]
  },
  {
   "cell_type": "code",
   "execution_count": 4,
   "id": "a46c2aba-31b0-4039-bbe8-2931ac11eae2",
   "metadata": {},
   "outputs": [],
   "source": [
    "def c_phase_oracle(state, predicate):\n",
    "    for item in range(len(state)):\n",
    "        if predicate(item):\n",
    "            state[item] *= -1"
   ]
  },
  {
   "cell_type": "code",
   "execution_count": 5,
   "id": "e274387b-1fbc-4a45-b8bb-e801c8c919eb",
   "metadata": {},
   "outputs": [],
   "source": [
    "from math import sqrt\n",
    "\n",
    "n = 3\n",
    "state = [1/sqrt(2**n) for _ in range(2**n)]"
   ]
  },
  {
   "cell_type": "code",
   "execution_count": 6,
   "id": "4d8e812c-a56d-4264-8c77-354baaa0637d",
   "metadata": {},
   "outputs": [
    {
     "name": "stdout",
     "output_type": "stream",
     "text": [
      "\n",
      "Outcome  Binary  Amplitude           Magnitude  Direction  Amplitude Bar             Probability\n",
      "------------------------------------------------------------------------------------------------\n",
      "0        000     0.3536 + i0.0000    0.3536        0.00°   \u001B[38;2;246;54;26m████████                \u001B[39m  0.125 \n",
      "1        001     0.3536 + i0.0000    0.3536        0.00°   \u001B[38;2;246;54;26m████████                \u001B[39m  0.125 \n",
      "2        010     0.3536 + i0.0000    0.3536        0.00°   \u001B[38;2;246;54;26m████████                \u001B[39m  0.125 \n",
      "3        011     0.3536 + i0.0000    0.3536        0.00°   \u001B[38;2;246;54;26m████████                \u001B[39m  0.125 \n",
      "4        100     0.3536 + i0.0000    0.3536        0.00°   \u001B[38;2;246;54;26m████████                \u001B[39m  0.125 \n",
      "5        101     0.3536 + i0.0000    0.3536        0.00°   \u001B[38;2;246;54;26m████████                \u001B[39m  0.125 \n",
      "6        110     0.3536 + i0.0000    0.3536        0.00°   \u001B[38;2;246;54;26m████████                \u001B[39m  0.125 \n",
      "7        111     0.3536 + i0.0000    0.3536        0.00°   \u001B[38;2;246;54;26m████████                \u001B[39m  0.125 \n",
      "\n"
     ]
    }
   ],
   "source": [
    "from util import print_state_table\n",
    "\n",
    "print_state_table(state)"
   ]
  },
  {
   "cell_type": "code",
   "execution_count": 7,
   "id": "ce1ba7cb-9a5d-4ca0-9e64-3b520e72f2db",
   "metadata": {},
   "outputs": [],
   "source": [
    "c_phase_oracle(state, predicate)"
   ]
  },
  {
   "cell_type": "code",
   "execution_count": 8,
   "id": "a628f42c-5d2a-42f0-85a9-5e73057dc460",
   "metadata": {},
   "outputs": [
    {
     "name": "stdout",
     "output_type": "stream",
     "text": [
      "\n",
      "State after oracle is applied, changing the direction of good outcomes\n",
      "\n",
      "Outcome  Binary  Amplitude           Magnitude  Direction  Amplitude Bar             Probability\n",
      "------------------------------------------------------------------------------------------------\n",
      "0        000     0.3536 + i0.0000    0.3536        0.00°   \u001B[38;2;246;54;26m████████                \u001B[39m  0.125 \n",
      "1        001     0.3536 + i0.0000    0.3536        0.00°   \u001B[38;2;246;54;26m████████                \u001B[39m  0.125 \n",
      "2        010     0.3536 + i0.0000    0.3536        0.00°   \u001B[38;2;246;54;26m████████                \u001B[39m  0.125 \n",
      "3        011    -0.3536 + i0.0000    0.3536      180.00°   \u001B[38;2;37;232;234m████████                \u001B[39m  0.125 \n",
      "4        100     0.3536 + i0.0000    0.3536        0.00°   \u001B[38;2;246;54;26m████████                \u001B[39m  0.125 \n",
      "5        101     0.3536 + i0.0000    0.3536        0.00°   \u001B[38;2;246;54;26m████████                \u001B[39m  0.125 \n",
      "6        110     0.3536 + i0.0000    0.3536        0.00°   \u001B[38;2;246;54;26m████████                \u001B[39m  0.125 \n",
      "7        111     0.3536 + i0.0000    0.3536        0.00°   \u001B[38;2;246;54;26m████████                \u001B[39m  0.125 \n",
      "\n"
     ]
    }
   ],
   "source": [
    "print('\\nState after oracle is applied, changing the direction of good outcomes')\n",
    "print_state_table(state)"
   ]
  },
  {
   "cell_type": "markdown",
   "id": "ba38f3fd-ff91-447a-801b-6abd574621b6",
   "metadata": {},
   "source": [
    "#### Section 8.1.2"
   ]
  },
  {
   "cell_type": "code",
   "execution_count": 9,
   "id": "baf43993-8b03-4c49-b313-e257f5ac9a5f",
   "metadata": {},
   "outputs": [],
   "source": [
    "def c_bit_oracle(state, predicate):\n",
    "    N = len(state)\n",
    "    state = state + [0 for _ in range(N)] # <1>\n",
    "    for item in range(N):\n",
    "        if predicate(item): # <2>\n",
    "            state[N + item] = state[item] # <2>\n",
    "            state[item] = 0\n",
    "    return state"
   ]
  },
  {
   "cell_type": "code",
   "execution_count": 10,
   "id": "d145bb38-002e-4bd6-a209-fe1558eae0c9",
   "metadata": {},
   "outputs": [],
   "source": [
    "predicate = lambda k: True if k == 3 else False\n",
    "\n",
    "n = 3\n",
    "state = [1/sqrt(2**n) for _ in range(2**n)]\n",
    "\n",
    "tag_state = c_bit_oracle(state, predicate)"
   ]
  },
  {
   "cell_type": "code",
   "execution_count": 11,
   "id": "2b6e688b-6e7c-4887-9b99-92061b0b7694",
   "metadata": {},
   "outputs": [
    {
     "name": "stdout",
     "output_type": "stream",
     "text": [
      "\n",
      "Outcome  Binary  Amplitude           Magnitude  Direction  Amplitude Bar             Probability\n",
      "------------------------------------------------------------------------------------------------\n",
      "0        0000    0.3536 + i0.0000    0.3536        0.00°   \u001B[38;2;246;54;26m████████                \u001B[39m  0.125 \n",
      "1        0001    0.3536 + i0.0000    0.3536        0.00°   \u001B[38;2;246;54;26m████████                \u001B[39m  0.125 \n",
      "2        0010    0.3536 + i0.0000    0.3536        0.00°   \u001B[38;2;246;54;26m████████                \u001B[39m  0.125 \n",
      "3        0011    0.0000 + i0.0000    0                     \u001B[38;2;246;54;26m                        \u001B[39m  0     \n",
      "4        0100    0.3536 + i0.0000    0.3536        0.00°   \u001B[38;2;246;54;26m████████                \u001B[39m  0.125 \n",
      "5        0101    0.3536 + i0.0000    0.3536        0.00°   \u001B[38;2;246;54;26m████████                \u001B[39m  0.125 \n",
      "6        0110    0.3536 + i0.0000    0.3536        0.00°   \u001B[38;2;246;54;26m████████                \u001B[39m  0.125 \n",
      "7        0111    0.3536 + i0.0000    0.3536        0.00°   \u001B[38;2;246;54;26m████████                \u001B[39m  0.125 \n",
      "8        1000    0.0000 + i0.0000    0                     \u001B[38;2;246;54;26m                        \u001B[39m  0     \n",
      "9        1001    0.0000 + i0.0000    0                     \u001B[38;2;246;54;26m                        \u001B[39m  0     \n",
      "10       1010    0.0000 + i0.0000    0                     \u001B[38;2;246;54;26m                        \u001B[39m  0     \n",
      "11       1011    0.3536 + i0.0000    0.3536        0.00°   \u001B[38;2;246;54;26m████████                \u001B[39m  0.125 \n",
      "12       1100    0.0000 + i0.0000    0                     \u001B[38;2;246;54;26m                        \u001B[39m  0     \n",
      "13       1101    0.0000 + i0.0000    0                     \u001B[38;2;246;54;26m                        \u001B[39m  0     \n",
      "14       1110    0.0000 + i0.0000    0                     \u001B[38;2;246;54;26m                        \u001B[39m  0     \n",
      "15       1111    0.0000 + i0.0000    0                     \u001B[38;2;246;54;26m                        \u001B[39m  0     \n",
      "\n"
     ]
    }
   ],
   "source": [
    "print_state_table(tag_state)"
   ]
  },
  {
   "cell_type": "code",
   "execution_count": 12,
   "id": "466466ba-c7cd-4b12-b7f2-ed84dac0039b",
   "metadata": {},
   "outputs": [],
   "source": [
    "from util import generate_state\n",
    "\n",
    "n = 3\n",
    "state = generate_state(n, seed=777)"
   ]
  },
  {
   "cell_type": "code",
   "execution_count": 13,
   "id": "7ce86e84-4826-4195-8482-c590f7036139",
   "metadata": {},
   "outputs": [
    {
     "name": "stdout",
     "output_type": "stream",
     "text": [
      "\n",
      "Outcome  Binary  Amplitude           Magnitude  Direction  Amplitude Bar             Probability\n",
      "------------------------------------------------------------------------------------------------\n",
      "0        000    -0.1673 - i0.1616    0.2327     -135.10°   \u001B[38;2;40;150;255m█████                   \u001B[39m  0.0541\n",
      "1        001    -0.2493 + i0.2074    0.3243      140.24°   \u001B[38;2;45;174;95m███████                 \u001B[39m  0.1052\n",
      "2        010    -0.0715 + i0.2862    0.295       104.30°   \u001B[38;2;109;166;4m███████                 \u001B[39m  0.087 \n",
      "3        011     0.2521 - i0.0108    0.2524       -2.55°   \u001B[38;2;247;53;32m██████                  \u001B[39m  0.0637\n",
      "4        100     0.2543 - i0.1212    0.2817      -25.52°   \u001B[38;2;255;112;109m██████                  \u001B[39m  0.0793\n",
      "5        101    -0.1503 - i0.3937    0.4214     -110.11°   \u001B[38;2;99;131;255m██████████              \u001B[39m  0.1776\n",
      "6        110     0.3562 - i0.3016    0.4667      -40.74°   \u001B[38;2;255;151;163m███████████             \u001B[39m  0.2178\n",
      "7        111     0.3692 + i0.2811    0.464        37.28°   \u001B[38;2;255;156;0m███████████             \u001B[39m  0.2153\n",
      "\n"
     ]
    }
   ],
   "source": [
    "print_state_table(state)"
   ]
  },
  {
   "cell_type": "code",
   "execution_count": 14,
   "id": "7486117c-94eb-4c65-9fa5-c1474222d34b",
   "metadata": {},
   "outputs": [],
   "source": [
    "state = c_bit_oracle(state, predicate)"
   ]
  },
  {
   "cell_type": "code",
   "execution_count": 15,
   "id": "74533756-3dd7-4fb7-ac80-a4c66d1e8457",
   "metadata": {},
   "outputs": [
    {
     "name": "stdout",
     "output_type": "stream",
     "text": [
      "\n",
      "Outcome  Binary  Amplitude           Magnitude  Direction  Amplitude Bar             Probability\n",
      "------------------------------------------------------------------------------------------------\n",
      "0        0000   -0.1673 - i0.1616    0.2327     -135.10°   \u001B[38;2;40;150;255m█████                   \u001B[39m  0.0541\n",
      "1        0001   -0.2493 + i0.2074    0.3243      140.24°   \u001B[38;2;45;174;95m███████                 \u001B[39m  0.1052\n",
      "2        0010   -0.0715 + i0.2862    0.295       104.30°   \u001B[38;2;109;166;4m███████                 \u001B[39m  0.087 \n",
      "3        0011    0.0000 + i0.0000    0                     \u001B[38;2;246;54;26m                        \u001B[39m  0     \n",
      "4        0100    0.2543 - i0.1212    0.2817      -25.52°   \u001B[38;2;255;112;109m██████                  \u001B[39m  0.0793\n",
      "5        0101   -0.1503 - i0.3937    0.4214     -110.11°   \u001B[38;2;99;131;255m██████████              \u001B[39m  0.1776\n",
      "6        0110    0.3562 - i0.3016    0.4667      -40.74°   \u001B[38;2;255;151;163m███████████             \u001B[39m  0.2178\n",
      "7        0111    0.3692 + i0.2811    0.464        37.28°   \u001B[38;2;255;156;0m███████████             \u001B[39m  0.2153\n",
      "8        1000    0.0000 + i0.0000    0                     \u001B[38;2;246;54;26m                        \u001B[39m  0     \n",
      "9        1001    0.0000 + i0.0000    0                     \u001B[38;2;246;54;26m                        \u001B[39m  0     \n",
      "10       1010    0.0000 + i0.0000    0                     \u001B[38;2;246;54;26m                        \u001B[39m  0     \n",
      "11       1011    0.2521 - i0.0108    0.2524       -2.55°   \u001B[38;2;247;53;32m██████                  \u001B[39m  0.0637\n",
      "12       1100    0.0000 + i0.0000    0                     \u001B[38;2;246;54;26m                        \u001B[39m  0     \n",
      "13       1101    0.0000 + i0.0000    0                     \u001B[38;2;246;54;26m                        \u001B[39m  0     \n",
      "14       1110    0.0000 + i0.0000    0                     \u001B[38;2;246;54;26m                        \u001B[39m  0     \n",
      "15       1111    0.0000 + i0.0000    0                     \u001B[38;2;246;54;26m                        \u001B[39m  0     \n",
      "\n"
     ]
    }
   ],
   "source": [
    "print_state_table(state)"
   ]
  },
  {
   "cell_type": "markdown",
   "id": "99a88a5e-fcea-4182-8c16-959fa60d981d",
   "metadata": {},
   "source": [
    "## Section 8.2"
   ]
  },
  {
   "cell_type": "markdown",
   "id": "bf64f56b-c772-4a7a-b3b7-e6943b246415",
   "metadata": {},
   "source": [
    "#### Section 8.2.1"
   ]
  },
  {
   "cell_type": "markdown",
   "id": "ab02865d-47ea-4b1f-961b-0ea11ff43659",
   "metadata": {},
   "source": [
    "Listing 8.1"
   ]
  },
  {
   "cell_type": "code",
   "execution_count": 16,
   "id": "d4c6c80d-d834-4b9e-8feb-9682874967a1",
   "metadata": {},
   "outputs": [],
   "source": [
    "from math import pi\n",
    "from sim_circuit import QuantumRegister, QuantumCircuit \n",
    "\n",
    "    \n",
    "def is_bit_not_set(m, k):\n",
    "    return not (m & (1 << k))\n",
    "\n",
    "def phase_oracle_match(n, items):\n",
    "    q = QuantumRegister(n)\n",
    "    qc = QuantumCircuit(q)\n",
    "\n",
    "    for m in items:\n",
    "        for i in range(n):\n",
    "            if is_bit_not_set(m, i):\n",
    "                qc.x(q[i])\n",
    "\n",
    "        qc.mcp(pi, [q[i] for i in range(len(q) - 1)], q[len(q) - 1])\n",
    "\n",
    "        for i in range(n):\n",
    "            if is_bit_not_set(m, i):\n",
    "                qc.x(q[i])\n",
    "    return qc"
   ]
  },
  {
   "cell_type": "code",
   "execution_count": 17,
   "id": "d7898f8c-ff21-4520-bfd0-8004027da7a5",
   "metadata": {},
   "outputs": [],
   "source": [
    "n = 3\n",
    "items = [3]\n",
    "\n",
    "oracle_circuit = phase_oracle_match(n, items)"
   ]
  },
  {
   "cell_type": "code",
   "execution_count": 18,
   "id": "a489e168-a97f-4b4f-b282-a44575f56bf5",
   "metadata": {},
   "outputs": [
    {
     "name": "stdout",
     "output_type": "stream",
     "text": [
      "                      \n",
      "q_0: ──────■──────────\n",
      "           │          \n",
      "q_1: ──────■──────────\n",
      "     ┌───┐ │P(π) ┌───┐\n",
      "q_2: ┤ X ├─■─────┤ X ├\n",
      "     └───┘       └───┘\n"
     ]
    }
   ],
   "source": [
    "from util_qiskit import print_circuit\n",
    "\n",
    "print_circuit(oracle_circuit)"
   ]
  },
  {
   "cell_type": "code",
   "execution_count": 19,
   "id": "ba5f6f4a-f218-4360-83f8-5b32dd0afbf9",
   "metadata": {},
   "outputs": [],
   "source": [
    "q = QuantumRegister(n)\n",
    "qc = QuantumCircuit(q)\n",
    "\n",
    "for i in range(n):\n",
    "    qc.h(q[i])"
   ]
  },
  {
   "cell_type": "code",
   "execution_count": 20,
   "id": "158d1812-021e-474e-91e0-7e6c305763e8",
   "metadata": {},
   "outputs": [],
   "source": [
    "qc.append(oracle_circuit, QuantumRegister(n))"
   ]
  },
  {
   "cell_type": "code",
   "execution_count": 21,
   "id": "d9175ed1-2347-4288-b191-5b2cb245c681",
   "metadata": {},
   "outputs": [
    {
     "name": "stdout",
     "output_type": "stream",
     "text": [
      "\n",
      "Outcome  Binary  Amplitude           Magnitude  Direction  Amplitude Bar             Probability\n",
      "------------------------------------------------------------------------------------------------\n",
      "0        000     0.3536 + i0.0000    0.3536        0.00°   \u001B[38;2;246;54;26m████████                \u001B[39m  0.125 \n",
      "1        001     0.3536 + i0.0000    0.3536        0.00°   \u001B[38;2;246;54;26m████████                \u001B[39m  0.125 \n",
      "2        010     0.3536 + i0.0000    0.3536        0.00°   \u001B[38;2;246;54;26m████████                \u001B[39m  0.125 \n",
      "3        011    -0.3536 + i0.0000    0.3536      180.00°   \u001B[38;2;37;232;234m████████                \u001B[39m  0.125 \n",
      "4        100     0.3536 + i0.0000    0.3536        0.00°   \u001B[38;2;246;54;26m████████                \u001B[39m  0.125 \n",
      "5        101     0.3536 + i0.0000    0.3536        0.00°   \u001B[38;2;246;54;26m████████                \u001B[39m  0.125 \n",
      "6        110     0.3536 + i0.0000    0.3536        0.00°   \u001B[38;2;246;54;26m████████                \u001B[39m  0.125 \n",
      "7        111     0.3536 + i0.0000    0.3536        0.00°   \u001B[38;2;246;54;26m████████                \u001B[39m  0.125 \n",
      "\n"
     ]
    }
   ],
   "source": [
    "print_state_table(qc.run())"
   ]
  },
  {
   "cell_type": "code",
   "execution_count": 22,
   "id": "89400b21-3e12-4748-ae00-8dfa8026b4ca",
   "metadata": {},
   "outputs": [],
   "source": [
    "n = 3\n",
    "items = [1, 3, 5]\n",
    "\n",
    "oracle_circuit = phase_oracle_match(n, items)"
   ]
  },
  {
   "cell_type": "code",
   "execution_count": 23,
   "id": "e5b90168-a1f9-419a-9eeb-150cebad17dc",
   "metadata": {},
   "outputs": [
    {
     "name": "stdout",
     "output_type": "stream",
     "text": [
      "                                                   \n",
      "q_0: ──────■────────────────■───────────■──────────\n",
      "     ┌───┐ │     ┌───┐      │     ┌───┐ │     ┌───┐\n",
      "q_1: ┤ X ├─■─────┤ X ├──────■─────┤ X ├─■─────┤ X ├\n",
      "     ├───┤ │P(π) ├───┤┌───┐ │P(π) ├───┤ │P(π) └───┘\n",
      "q_2: ┤ X ├─■─────┤ X ├┤ X ├─■─────┤ X ├─■──────────\n",
      "     └───┘       └───┘└───┘       └───┘            \n"
     ]
    }
   ],
   "source": [
    "print_circuit(oracle_circuit)"
   ]
  },
  {
   "cell_type": "code",
   "execution_count": 24,
   "id": "7d5fb87f-c891-410b-953a-f3540d05b16b",
   "metadata": {},
   "outputs": [],
   "source": [
    "q = QuantumRegister(n)\n",
    "qc = QuantumCircuit(q)\n",
    "\n",
    "for i in range(n):\n",
    "    qc.h(q[i])\n",
    "    \n",
    "qc.append(oracle_circuit, QuantumRegister(n))  "
   ]
  },
  {
   "cell_type": "code",
   "execution_count": 25,
   "id": "28f47d05-b894-44ff-80ed-d8b4257d6dc6",
   "metadata": {},
   "outputs": [
    {
     "name": "stdout",
     "output_type": "stream",
     "text": [
      "\n",
      "Outcome  Binary  Amplitude           Magnitude  Direction  Amplitude Bar             Probability\n",
      "------------------------------------------------------------------------------------------------\n",
      "0        000     0.3536 + i0.0000    0.3536        0.00°   \u001B[38;2;246;54;26m████████                \u001B[39m  0.125 \n",
      "1        001    -0.3536 + i0.0000    0.3536      180.00°   \u001B[38;2;37;232;234m████████                \u001B[39m  0.125 \n",
      "2        010     0.3536 + i0.0000    0.3536        0.00°   \u001B[38;2;246;54;26m████████                \u001B[39m  0.125 \n",
      "3        011    -0.3536 + i0.0000    0.3536      180.00°   \u001B[38;2;37;232;234m████████                \u001B[39m  0.125 \n",
      "4        100     0.3536 + i0.0000    0.3536        0.00°   \u001B[38;2;246;54;26m████████                \u001B[39m  0.125 \n",
      "5        101    -0.3536 + i0.0000    0.3536      180.00°   \u001B[38;2;37;232;234m████████                \u001B[39m  0.125 \n",
      "6        110     0.3536 + i0.0000    0.3536        0.00°   \u001B[38;2;246;54;26m████████                \u001B[39m  0.125 \n",
      "7        111     0.3536 + i0.0000    0.3536        0.00°   \u001B[38;2;246;54;26m████████                \u001B[39m  0.125 \n",
      "\n"
     ]
    }
   ],
   "source": [
    "print_state_table(qc.run())"
   ]
  },
  {
   "cell_type": "markdown",
   "id": "f89229cb-5132-4b7c-bc2c-def22b7d744f",
   "metadata": {},
   "source": [
    "#### Section 8.2.2"
   ]
  },
  {
   "cell_type": "markdown",
   "id": "f21f9128-d075-469c-8fed-f5e8356016c5",
   "metadata": {},
   "source": [
    "Listing 8.2"
   ]
  },
  {
   "cell_type": "code",
   "execution_count": 26,
   "id": "7bb4cb8e-93c7-4c22-88d4-4a9fe228477e",
   "metadata": {},
   "outputs": [],
   "source": [
    "def bit_oracle_match(n, items):\n",
    "    q = QuantumRegister(n)\n",
    "    a = QuantumRegister(1)\n",
    "    qc = QuantumCircuit(q, a)\n",
    "\n",
    "    for m in items:\n",
    "        for i in range(n):\n",
    "            if is_bit_not_set(m, i):\n",
    "                qc.x(q[i])\n",
    "\n",
    "        qc.mcx([q[i] for i in range(len(q))], a[0])\n",
    "\n",
    "        for i in range(n):\n",
    "            if is_bit_not_set(m, i):\n",
    "                qc.x(q[i])\n",
    "    return qc"
   ]
  },
  {
   "cell_type": "code",
   "execution_count": 27,
   "id": "b36937a6-429f-40e0-a8c4-32757779d997",
   "metadata": {},
   "outputs": [],
   "source": [
    "n = 3\n",
    "items = [3]\n",
    "\n",
    "oracle_circuit = bit_oracle_match(n, items)\n",
    "\n",
    "q = QuantumRegister(n)\n",
    "a = QuantumRegister(1)\n",
    "qc = QuantumCircuit(q, a)\n",
    "\n",
    "for i in range(n):\n",
    "    qc.h(q[i])\n",
    "\n",
    "qc.append(oracle_circuit, QuantumRegister(n + 1)) # <1>"
   ]
  },
  {
   "cell_type": "code",
   "execution_count": 28,
   "id": "58a1e936-5874-46ed-b353-827c32c70845",
   "metadata": {},
   "outputs": [
    {
     "name": "stdout",
     "output_type": "stream",
     "text": [
      "                     \n",
      "q0_0: ───────■───────\n",
      "             │       \n",
      "q0_1: ───────■───────\n",
      "      ┌───┐  │  ┌───┐\n",
      "q0_2: ┤ X ├──■──┤ X ├\n",
      "      └───┘┌─┴─┐└───┘\n",
      "  q1: ─────┤ X ├─────\n",
      "           └───┘     \n"
     ]
    }
   ],
   "source": [
    "print_circuit(oracle_circuit)"
   ]
  },
  {
   "cell_type": "code",
   "execution_count": 29,
   "id": "37f9ba13-1c71-482a-8f1e-0148b773d71c",
   "metadata": {},
   "outputs": [
    {
     "name": "stdout",
     "output_type": "stream",
     "text": [
      "\n",
      "Outcome  Binary  Amplitude           Magnitude  Direction  Amplitude Bar             Probability\n",
      "------------------------------------------------------------------------------------------------\n",
      "0        0000    0.3536 + i0.0000    0.3536        0.00°   \u001B[38;2;246;54;26m████████                \u001B[39m  0.125 \n",
      "1        0001    0.3536 + i0.0000    0.3536        0.00°   \u001B[38;2;246;54;26m████████                \u001B[39m  0.125 \n",
      "2        0010    0.3536 + i0.0000    0.3536        0.00°   \u001B[38;2;246;54;26m████████                \u001B[39m  0.125 \n",
      "3        0011    0.0000 + i0.0000    0.0                   \u001B[38;2;246;54;26m                        \u001B[39m  0.0   \n",
      "4        0100    0.3536 + i0.0000    0.3536        0.00°   \u001B[38;2;246;54;26m████████                \u001B[39m  0.125 \n",
      "5        0101    0.3536 + i0.0000    0.3536        0.00°   \u001B[38;2;246;54;26m████████                \u001B[39m  0.125 \n",
      "6        0110    0.3536 + i0.0000    0.3536        0.00°   \u001B[38;2;246;54;26m████████                \u001B[39m  0.125 \n",
      "7        0111    0.3536 + i0.0000    0.3536        0.00°   \u001B[38;2;246;54;26m████████                \u001B[39m  0.125 \n",
      "8        1000    0.0000 + i0.0000    0.0                   \u001B[38;2;246;54;26m                        \u001B[39m  0.0   \n",
      "9        1001    0.0000 + i0.0000    0.0                   \u001B[38;2;246;54;26m                        \u001B[39m  0.0   \n",
      "10       1010    0.0000 + i0.0000    0.0                   \u001B[38;2;246;54;26m                        \u001B[39m  0.0   \n",
      "11       1011    0.3536 + i0.0000    0.3536        0.00°   \u001B[38;2;246;54;26m████████                \u001B[39m  0.125 \n",
      "12       1100    0.0000 + i0.0000    0.0                   \u001B[38;2;246;54;26m                        \u001B[39m  0.0   \n",
      "13       1101    0.0000 + i0.0000    0.0                   \u001B[38;2;246;54;26m                        \u001B[39m  0.0   \n",
      "14       1110    0.0000 + i0.0000    0.0                   \u001B[38;2;246;54;26m                        \u001B[39m  0.0   \n",
      "15       1111    0.0000 + i0.0000    0.0                   \u001B[38;2;246;54;26m                        \u001B[39m  0.0   \n",
      "\n"
     ]
    }
   ],
   "source": [
    "print_state_table(qc.run())"
   ]
  },
  {
   "cell_type": "code",
   "execution_count": 30,
   "id": "7f318b07-cdd7-4765-ba36-f0748ee18428",
   "metadata": {},
   "outputs": [],
   "source": [
    "n = 3\n",
    "items = [1, 3, 5]\n",
    "\n",
    "oracle_circuit = bit_oracle_match(n, items)\n",
    "\n",
    "q = QuantumRegister(n)\n",
    "a = QuantumRegister(1)\n",
    "qc = QuantumCircuit(q, a)\n",
    "\n",
    "for i in range(n):\n",
    "    qc.h(q[i])\n",
    "\n",
    "qc.append(oracle_circuit, QuantumRegister(n+1))"
   ]
  },
  {
   "cell_type": "code",
   "execution_count": 31,
   "id": "884afc38-9b86-41d0-a177-1737f9897897",
   "metadata": {},
   "outputs": [
    {
     "name": "stdout",
     "output_type": "stream",
     "text": [
      "                                              \n",
      "q2_0: ───────■──────────────■─────────■───────\n",
      "      ┌───┐  │  ┌───┐       │  ┌───┐  │  ┌───┐\n",
      "q2_1: ┤ X ├──■──┤ X ├───────■──┤ X ├──■──┤ X ├\n",
      "      ├───┤  │  ├───┤┌───┐  │  ├───┤  │  └───┘\n",
      "q2_2: ┤ X ├──■──┤ X ├┤ X ├──■──┤ X ├──■───────\n",
      "      └───┘┌─┴─┐└───┘└───┘┌─┴─┐└───┘┌─┴─┐     \n",
      "  q3: ─────┤ X ├──────────┤ X ├─────┤ X ├─────\n",
      "           └───┘          └───┘     └───┘     \n"
     ]
    }
   ],
   "source": [
    "print_circuit(oracle_circuit)"
   ]
  },
  {
   "cell_type": "code",
   "execution_count": 32,
   "id": "911b4200-def5-4ee8-ac4d-895eb8c9f6e8",
   "metadata": {},
   "outputs": [
    {
     "name": "stdout",
     "output_type": "stream",
     "text": [
      "\n",
      "Outcome  Binary  Amplitude           Magnitude  Direction  Amplitude Bar             Probability\n",
      "------------------------------------------------------------------------------------------------\n",
      "0        0000    0.3536 + i0.0000    0.3536        0.00°   \u001B[38;2;246;54;26m████████                \u001B[39m  0.125 \n",
      "1        0001    0.0000 + i0.0000    0.0                   \u001B[38;2;246;54;26m                        \u001B[39m  0.0   \n",
      "2        0010    0.3536 + i0.0000    0.3536        0.00°   \u001B[38;2;246;54;26m████████                \u001B[39m  0.125 \n",
      "3        0011    0.0000 + i0.0000    0.0                   \u001B[38;2;246;54;26m                        \u001B[39m  0.0   \n",
      "4        0100    0.3536 + i0.0000    0.3536        0.00°   \u001B[38;2;246;54;26m████████                \u001B[39m  0.125 \n",
      "5        0101    0.0000 + i0.0000    0.0                   \u001B[38;2;246;54;26m                        \u001B[39m  0.0   \n",
      "6        0110    0.3536 + i0.0000    0.3536        0.00°   \u001B[38;2;246;54;26m████████                \u001B[39m  0.125 \n",
      "7        0111    0.3536 + i0.0000    0.3536        0.00°   \u001B[38;2;246;54;26m████████                \u001B[39m  0.125 \n",
      "8        1000    0.0000 + i0.0000    0.0                   \u001B[38;2;246;54;26m                        \u001B[39m  0.0   \n",
      "9        1001    0.3536 + i0.0000    0.3536        0.00°   \u001B[38;2;246;54;26m████████                \u001B[39m  0.125 \n",
      "10       1010    0.0000 + i0.0000    0.0                   \u001B[38;2;246;54;26m                        \u001B[39m  0.0   \n",
      "11       1011    0.3536 + i0.0000    0.3536        0.00°   \u001B[38;2;246;54;26m████████                \u001B[39m  0.125 \n",
      "12       1100    0.0000 + i0.0000    0.0                   \u001B[38;2;246;54;26m                        \u001B[39m  0.0   \n",
      "13       1101    0.3536 + i0.0000    0.3536        0.00°   \u001B[38;2;246;54;26m████████                \u001B[39m  0.125 \n",
      "14       1110    0.0000 + i0.0000    0.0                   \u001B[38;2;246;54;26m                        \u001B[39m  0.0   \n",
      "15       1111    0.0000 + i0.0000    0.0                   \u001B[38;2;246;54;26m                        \u001B[39m  0.0   \n",
      "\n"
     ]
    }
   ],
   "source": [
    "print_state_table(qc.run())"
   ]
  },
  {
   "cell_type": "markdown",
   "id": "c1f7d2f4-fee9-4062-90b4-3b10bb4b308f",
   "metadata": {},
   "source": [
    "## Section 8.3"
   ]
  },
  {
   "cell_type": "markdown",
   "id": "d0d26e8f-1017-4742-a0fd-001c538f0477",
   "metadata": {},
   "source": [
    "#### Section 8.3.1"
   ]
  },
  {
   "cell_type": "code",
   "execution_count": 33,
   "id": "452b8ab4-10a4-4f7f-aead-75adbd173b82",
   "metadata": {},
   "outputs": [],
   "source": [
    "def phase_to_bit_oracle(oracle_circuit):\n",
    "    n = sum(oracle_circuit.regs) # <1>\n",
    "    q = QuantumRegister(n)\n",
    "    a = QuantumRegister(1)\n",
    "    qc = QuantumCircuit(q, a)\n",
    "    qc.h(a[0])\n",
    "    qc.c_append(oracle_circuit, a[0], q) # <2>\n",
    "    qc.h(a[0])\n",
    "\n",
    "    return qc"
   ]
  },
  {
   "cell_type": "code",
   "execution_count": 34,
   "id": "5003def6-2b0f-4a01-9fe9-0ecb1e08f5c4",
   "metadata": {},
   "outputs": [],
   "source": [
    "n = 3\n",
    "items = [1, 3, 5]\n",
    "oracle_circuit = phase_oracle_match(n, items)"
   ]
  },
  {
   "cell_type": "code",
   "execution_count": 35,
   "id": "050e74af-3b3b-47d6-bc37-d76a80deecc5",
   "metadata": {},
   "outputs": [
    {
     "name": "stdout",
     "output_type": "stream",
     "text": [
      "                                                   \n",
      "q_0: ──────■────────────────■───────────■──────────\n",
      "     ┌───┐ │     ┌───┐      │     ┌───┐ │     ┌───┐\n",
      "q_1: ┤ X ├─■─────┤ X ├──────■─────┤ X ├─■─────┤ X ├\n",
      "     ├───┤ │P(π) ├───┤┌───┐ │P(π) ├───┤ │P(π) └───┘\n",
      "q_2: ┤ X ├─■─────┤ X ├┤ X ├─■─────┤ X ├─■──────────\n",
      "     └───┘       └───┘└───┘       └───┘            \n"
     ]
    }
   ],
   "source": [
    "print_circuit(oracle_circuit)"
   ]
  },
  {
   "cell_type": "code",
   "execution_count": 36,
   "id": "9eac345f-b653-440b-8ecb-96f11cd6f83b",
   "metadata": {},
   "outputs": [],
   "source": [
    "state = generate_state(n, seed=777) + [0 for _ in range(2**n)]"
   ]
  },
  {
   "cell_type": "code",
   "execution_count": 37,
   "id": "ac43470f-9d51-4a61-b454-ce105aa0a5db",
   "metadata": {},
   "outputs": [
    {
     "name": "stdout",
     "output_type": "stream",
     "text": [
      "\n",
      "Outcome  Binary  Amplitude           Magnitude  Direction  Amplitude Bar             Probability\n",
      "------------------------------------------------------------------------------------------------\n",
      "0        0000   -0.1673 - i0.1616    0.2327     -135.10°   \u001B[38;2;40;150;255m█████                   \u001B[39m  0.0541\n",
      "1        0001   -0.2493 + i0.2074    0.3243      140.24°   \u001B[38;2;45;174;95m███████                 \u001B[39m  0.1052\n",
      "2        0010   -0.0715 + i0.2862    0.295       104.30°   \u001B[38;2;109;166;4m███████                 \u001B[39m  0.087 \n",
      "3        0011    0.2521 - i0.0108    0.2524       -2.55°   \u001B[38;2;247;53;32m██████                  \u001B[39m  0.0637\n",
      "4        0100    0.2543 - i0.1212    0.2817      -25.52°   \u001B[38;2;255;112;109m██████                  \u001B[39m  0.0793\n",
      "5        0101   -0.1503 - i0.3937    0.4214     -110.11°   \u001B[38;2;99;131;255m██████████              \u001B[39m  0.1776\n",
      "6        0110    0.3562 - i0.3016    0.4667      -40.74°   \u001B[38;2;255;151;163m███████████             \u001B[39m  0.2178\n",
      "7        0111    0.3692 + i0.2811    0.464        37.28°   \u001B[38;2;255;156;0m███████████             \u001B[39m  0.2153\n",
      "8        1000    0.0000 + i0.0000    0                     \u001B[38;2;246;54;26m                        \u001B[39m  0     \n",
      "9        1001    0.0000 + i0.0000    0                     \u001B[38;2;246;54;26m                        \u001B[39m  0     \n",
      "10       1010    0.0000 + i0.0000    0                     \u001B[38;2;246;54;26m                        \u001B[39m  0     \n",
      "11       1011    0.0000 + i0.0000    0                     \u001B[38;2;246;54;26m                        \u001B[39m  0     \n",
      "12       1100    0.0000 + i0.0000    0                     \u001B[38;2;246;54;26m                        \u001B[39m  0     \n",
      "13       1101    0.0000 + i0.0000    0                     \u001B[38;2;246;54;26m                        \u001B[39m  0     \n",
      "14       1110    0.0000 + i0.0000    0                     \u001B[38;2;246;54;26m                        \u001B[39m  0     \n",
      "15       1111    0.0000 + i0.0000    0                     \u001B[38;2;246;54;26m                        \u001B[39m  0     \n",
      "\n"
     ]
    }
   ],
   "source": [
    "print_state_table(state)"
   ]
  },
  {
   "cell_type": "code",
   "execution_count": 38,
   "id": "9a233c39-71c9-43d6-a0a2-8956858cb78f",
   "metadata": {},
   "outputs": [],
   "source": [
    "q = QuantumRegister(n)\n",
    "a = QuantumRegister(1)\n",
    "\n",
    "qc = QuantumCircuit(q, a)\n",
    "qc.initialize(state.copy())\n",
    "\n",
    "qc.append(phase_to_bit_oracle(oracle_circuit), QuantumRegister(n+1))"
   ]
  },
  {
   "cell_type": "code",
   "execution_count": 39,
   "id": "6e1eb756-2aa3-40dd-8624-34ec3d01a7aa",
   "metadata": {},
   "outputs": [
    {
     "name": "stdout",
     "output_type": "stream",
     "text": [
      "\n",
      "Outcome  Binary  Amplitude           Magnitude  Direction  Amplitude Bar             Probability\n",
      "------------------------------------------------------------------------------------------------\n",
      "0        0000   -0.1673 - i0.1616    0.2327     -135.10°   \u001B[38;2;40;150;255m█████                   \u001B[39m  0.0541\n",
      "1        0001    0.0000 + i0.0000    0.0                   \u001B[38;2;77;128;255m                        \u001B[39m  0.0   \n",
      "2        0010   -0.0715 + i0.2862    0.295       104.30°   \u001B[38;2;109;166;4m███████                 \u001B[39m  0.087 \n",
      "3        0011    0.0000 + i0.0000    0.0                   \u001B[38;2;152;184;0m                        \u001B[39m  0.0   \n",
      "4        0100    0.2543 - i0.1212    0.2817      -25.52°   \u001B[38;2;255;112;109m██████                  \u001B[39m  0.0793\n",
      "5        0101    0.0000 + i0.0000    0.0                   \u001B[38;2;246;54;26m                        \u001B[39m  0.0   \n",
      "6        0110    0.3562 - i0.3016    0.4667      -40.74°   \u001B[38;2;255;151;163m███████████             \u001B[39m  0.2178\n",
      "7        0111    0.3692 + i0.2811    0.464        37.28°   \u001B[38;2;255;156;0m███████████             \u001B[39m  0.2153\n",
      "8        1000    0.0000 + i0.0000    0.0                   \u001B[38;2;246;54;26m                        \u001B[39m  0.0   \n",
      "9        1001   -0.2493 + i0.2074    0.3243      140.24°   \u001B[38;2;45;174;95m███████                 \u001B[39m  0.1052\n",
      "10       1010    0.0000 + i0.0000    0.0                   \u001B[38;2;246;54;26m                        \u001B[39m  0.0   \n",
      "11       1011    0.2521 - i0.0108    0.2524       -2.55°   \u001B[38;2;247;53;32m██████                  \u001B[39m  0.0637\n",
      "12       1100    0.0000 + i0.0000    0.0                   \u001B[38;2;246;54;26m                        \u001B[39m  0.0   \n",
      "13       1101   -0.1503 - i0.3937    0.4214     -110.11°   \u001B[38;2;99;131;255m██████████              \u001B[39m  0.1776\n",
      "14       1110    0.0000 + i0.0000    0.0                   \u001B[38;2;246;54;26m                        \u001B[39m  0.0   \n",
      "15       1111    0.0000 + i0.0000    0.0                   \u001B[38;2;246;54;26m                        \u001B[39m  0.0   \n",
      "\n"
     ]
    }
   ],
   "source": [
    "print_state_table(qc.run())"
   ]
  },
  {
   "cell_type": "markdown",
   "id": "b2269ab5-03f8-40df-b7da-cb530d510842",
   "metadata": {},
   "source": [
    "#### Section 8.3.2"
   ]
  },
  {
   "cell_type": "code",
   "execution_count": 40,
   "id": "56f66356-8fcb-42aa-a450-8771d2016168",
   "metadata": {},
   "outputs": [],
   "source": [
    "def bit_to_phase_oracle(oracle_circuit):\n",
    "    n = sum(oracle_circuit.regs)\n",
    "    q = QuantumRegister(n)\n",
    "    qc = QuantumCircuit(q)\n",
    "    qc.append(oracle_circuit, q)\n",
    "    qc.p(pi, q[len(q)-1])\n",
    "    qc.append(oracle_circuit, q)\n",
    "\n",
    "    return qc"
   ]
  },
  {
   "cell_type": "code",
   "execution_count": 41,
   "id": "ceb02d38-e5db-4316-bb8e-e7718e771e28",
   "metadata": {},
   "outputs": [],
   "source": [
    "n = 3\n",
    "items = [1, 3, 5]\n",
    "oracle_circuit = bit_oracle_match(n, items)"
   ]
  },
  {
   "cell_type": "code",
   "execution_count": 42,
   "id": "3ae3174e-43a7-48e4-9707-12085e287aaa",
   "metadata": {},
   "outputs": [
    {
     "name": "stdout",
     "output_type": "stream",
     "text": [
      "                                              \n",
      "q4_0: ───────■──────────────■─────────■───────\n",
      "      ┌───┐  │  ┌───┐       │  ┌───┐  │  ┌───┐\n",
      "q4_1: ┤ X ├──■──┤ X ├───────■──┤ X ├──■──┤ X ├\n",
      "      ├───┤  │  ├───┤┌───┐  │  ├───┤  │  └───┘\n",
      "q4_2: ┤ X ├──■──┤ X ├┤ X ├──■──┤ X ├──■───────\n",
      "      └───┘┌─┴─┐└───┘└───┘┌─┴─┐└───┘┌─┴─┐     \n",
      "  q5: ─────┤ X ├──────────┤ X ├─────┤ X ├─────\n",
      "           └───┘          └───┘     └───┘     \n"
     ]
    }
   ],
   "source": [
    "print_circuit(oracle_circuit)"
   ]
  },
  {
   "cell_type": "code",
   "execution_count": 43,
   "id": "cc76e894-a49f-4ba7-bce5-cc1070e4d60a",
   "metadata": {},
   "outputs": [],
   "source": [
    "n = 3\n",
    "items = [1, 3, 5]\n",
    "oracle_circuit = bit_oracle_match(n, items)\n",
    "\n",
    "state = generate_state(n, seed=777) + [0 for _ in range(2**n)]\n",
    "\n",
    "q = QuantumRegister(n)\n",
    "a = QuantumRegister(1)\n",
    "\n",
    "qc = QuantumCircuit(q, a)\n",
    "qc.initialize(state.copy())\n",
    "\n",
    "qc.append(bit_to_phase_oracle(oracle_circuit), QuantumRegister(n+1))"
   ]
  },
  {
   "cell_type": "code",
   "execution_count": 44,
   "id": "7b1bc12e-b527-4be5-9aa3-ad5211943b01",
   "metadata": {},
   "outputs": [
    {
     "name": "stdout",
     "output_type": "stream",
     "text": [
      "\n",
      "Outcome  Binary  Amplitude           Magnitude  Direction  Amplitude Bar             Probability\n",
      "------------------------------------------------------------------------------------------------\n",
      "0        0000   -0.1673 - i0.1616    0.2327     -135.10°   \u001B[38;2;40;150;255m█████                   \u001B[39m  0.0541\n",
      "1        0001   -0.2493 + i0.2074    0.3243      140.24°   \u001B[38;2;45;174;95m███████                 \u001B[39m  0.1052\n",
      "2        0010   -0.0715 + i0.2862    0.295       104.30°   \u001B[38;2;109;166;4m███████                 \u001B[39m  0.087 \n",
      "3        0011    0.2521 - i0.0108    0.2524       -2.55°   \u001B[38;2;247;53;32m██████                  \u001B[39m  0.0637\n",
      "4        0100    0.2543 - i0.1212    0.2817      -25.52°   \u001B[38;2;255;112;109m██████                  \u001B[39m  0.0793\n",
      "5        0101   -0.1503 - i0.3937    0.4214     -110.11°   \u001B[38;2;99;131;255m██████████              \u001B[39m  0.1776\n",
      "6        0110    0.3562 - i0.3016    0.4667      -40.74°   \u001B[38;2;255;151;163m███████████             \u001B[39m  0.2178\n",
      "7        0111    0.3692 + i0.2811    0.464        37.28°   \u001B[38;2;255;156;0m███████████             \u001B[39m  0.2153\n",
      "8        1000    0.0000 + i0.0000    0                     \u001B[38;2;246;54;26m                        \u001B[39m  0     \n",
      "9        1001    0.0000 + i0.0000    0                     \u001B[38;2;246;54;26m                        \u001B[39m  0     \n",
      "10       1010    0.0000 + i0.0000    0                     \u001B[38;2;246;54;26m                        \u001B[39m  0     \n",
      "11       1011    0.0000 + i0.0000    0                     \u001B[38;2;246;54;26m                        \u001B[39m  0     \n",
      "12       1100    0.0000 + i0.0000    0                     \u001B[38;2;246;54;26m                        \u001B[39m  0     \n",
      "13       1101    0.0000 + i0.0000    0                     \u001B[38;2;246;54;26m                        \u001B[39m  0     \n",
      "14       1110    0.0000 + i0.0000    0                     \u001B[38;2;246;54;26m                        \u001B[39m  0     \n",
      "15       1111    0.0000 + i0.0000    0                     \u001B[38;2;246;54;26m                        \u001B[39m  0     \n",
      "\n"
     ]
    }
   ],
   "source": [
    "print_state_table(state)"
   ]
  },
  {
   "cell_type": "code",
   "execution_count": 45,
   "id": "59a94e6b-1df4-42db-a8a0-f3914333f78e",
   "metadata": {},
   "outputs": [
    {
     "name": "stdout",
     "output_type": "stream",
     "text": [
      "\n",
      "Outcome  Binary  Amplitude           Magnitude  Direction  Amplitude Bar             Probability\n",
      "------------------------------------------------------------------------------------------------\n",
      "0        0000   -0.1673 - i0.1616    0.2327     -135.10°   \u001B[38;2;40;150;255m█████                   \u001B[39m  0.0541\n",
      "1        0001    0.2493 - i0.2074    0.3243      -39.24°   \u001B[38;2;255;151;163m███████                 \u001B[39m  0.1052\n",
      "2        0010   -0.0715 + i0.2862    0.295       104.30°   \u001B[38;2;109;166;4m███████                 \u001B[39m  0.087 \n",
      "3        0011   -0.2521 + i0.0108    0.2524      177.55°   \u001B[38;2;37;232;227m██████                  \u001B[39m  0.0637\n",
      "4        0100    0.2543 - i0.1212    0.2817      -25.52°   \u001B[38;2;255;112;109m██████                  \u001B[39m  0.0793\n",
      "5        0101    0.1503 + i0.3937    0.4214       69.11°   \u001B[38;2;221;208;0m██████████              \u001B[39m  0.1776\n",
      "6        0110    0.3562 - i0.3016    0.4667      -40.74°   \u001B[38;2;255;151;163m███████████             \u001B[39m  0.2178\n",
      "7        0111    0.3692 + i0.2811    0.464        37.28°   \u001B[38;2;255;156;0m███████████             \u001B[39m  0.2153\n",
      "8        1000    0.0000 + i0.0000    0.0                   \u001B[38;2;246;54;26m                        \u001B[39m  0.0   \n",
      "9        1001    0.0000 + i0.0000    0.0                   \u001B[38;2;246;54;26m                        \u001B[39m  0.0   \n",
      "10       1010    0.0000 + i0.0000    0.0                   \u001B[38;2;246;54;26m                        \u001B[39m  0.0   \n",
      "11       1011    0.0000 + i0.0000    0.0                   \u001B[38;2;246;54;26m                        \u001B[39m  0.0   \n",
      "12       1100    0.0000 + i0.0000    0.0                   \u001B[38;2;246;54;26m                        \u001B[39m  0.0   \n",
      "13       1101    0.0000 + i0.0000    0.0                   \u001B[38;2;246;54;26m                        \u001B[39m  0.0   \n",
      "14       1110    0.0000 + i0.0000    0.0                   \u001B[38;2;246;54;26m                        \u001B[39m  0.0   \n",
      "15       1111    0.0000 + i0.0000    0.0                   \u001B[38;2;246;54;26m                        \u001B[39m  0.0   \n",
      "\n"
     ]
    }
   ],
   "source": [
    "print_state_table(qc.run())"
   ]
  },
  {
   "cell_type": "markdown",
   "id": "5c94b0bc-5f68-4851-935b-b11f3868fd22",
   "metadata": {},
   "source": [
    "## Section 8.4"
   ]
  },
  {
   "cell_type": "code",
   "execution_count": 46,
   "id": "3a3bd537-64e4-48d4-beda-69fea8bf8936",
   "metadata": {},
   "outputs": [],
   "source": [
    "def recursive_fib(n):\n",
    "    if n <= 1:\n",
    "        return n\n",
    "    else:\n",
    "        return recursive_fib(n - 1) + recursive_fib(n - 2)"
   ]
  },
  {
   "cell_type": "code",
   "execution_count": 47,
   "id": "61c9d78b-83a2-43fc-88c3-cc4f1a030a13",
   "metadata": {},
   "outputs": [
    {
     "data": {
      "text/plain": "[0, 1, 1, 2, 3, 5, 8, 13, 21, 34]"
     },
     "execution_count": 47,
     "metadata": {},
     "output_type": "execute_result"
    }
   ],
   "source": [
    "[recursive_fib(n) for n in range(10)]"
   ]
  },
  {
   "cell_type": "code",
   "execution_count": 48,
   "id": "a00937e1-2f30-477c-9acc-29c3295cac7d",
   "metadata": {},
   "outputs": [],
   "source": [
    "from math import asin\n",
    "\n",
    "def fib_circuit(n):\n",
    "    theta = 2*asin((sqrt(5) - 1)/2)\n",
    "\n",
    "    q = QuantumRegister(n)\n",
    "    qc = QuantumCircuit(q)\n",
    "\n",
    "    for i in range(n):\n",
    "        qc.ry(theta, q[i])\n",
    "\n",
    "    for i in range(n - 1):\n",
    "        qc.cry(-theta, q[i], q[i + 1])\n",
    "\n",
    "    return qc"
   ]
  },
  {
   "cell_type": "code",
   "execution_count": 49,
   "id": "e73f8ffa-9f02-4168-b127-0c17741071f2",
   "metadata": {},
   "outputs": [],
   "source": [
    "qc = fib_circuit(1)"
   ]
  },
  {
   "cell_type": "code",
   "execution_count": 50,
   "id": "5f8fce89-8fe8-443b-961a-1d2bfc306e1e",
   "metadata": {},
   "outputs": [
    {
     "name": "stdout",
     "output_type": "stream",
     "text": [
      "\n",
      "Outcome  Binary  Amplitude           Magnitude  Direction  Amplitude Bar             Probability\n",
      "------------------------------------------------------------------------------------------------\n",
      "0        0       0.7862 + i0.0000    0.7862        0.00°   \u001B[38;2;246;54;26m██████████████████      \u001B[39m  0.618 \n",
      "1        1       0.6180 + i0.0000    0.618         0.00°   \u001B[38;2;246;54;26m██████████████          \u001B[39m  0.382 \n",
      "\n"
     ]
    }
   ],
   "source": [
    "print_state_table(qc.run())"
   ]
  },
  {
   "cell_type": "code",
   "execution_count": 51,
   "id": "fe993f3b-c8c4-4ae7-8b19-f310b9ad61cb",
   "metadata": {},
   "outputs": [],
   "source": [
    "from util import is_close\n",
    "\n",
    "qc = fib_circuit(2)\n",
    "state = qc.run()\n",
    "\n",
    "assert is_close(abs(state[0])**2/abs(state[2])**2, (1+sqrt(5))/2) # <1>\n",
    "assert is_close(abs(state[1])**2/abs(state[2])**2, (1+sqrt(5))/2) # <2>"
   ]
  },
  {
   "cell_type": "code",
   "execution_count": 52,
   "id": "a51f5c18-8175-4d5e-ba9a-5ccff5070140",
   "metadata": {},
   "outputs": [
    {
     "name": "stdout",
     "output_type": "stream",
     "text": [
      "\n",
      "Outcome  Binary  Amplitude           Magnitude  Direction  Amplitude Bar             Probability\n",
      "------------------------------------------------------------------------------------------------\n",
      "0        00      0.6180 + i0.0000    0.618         0.00°   \u001B[38;2;246;54;26m██████████████          \u001B[39m  0.382 \n",
      "1        01      0.6180 + i0.0000    0.618         0.00°   \u001B[38;2;246;54;26m██████████████          \u001B[39m  0.382 \n",
      "2        10      0.4859 + i0.0000    0.4859        0.00°   \u001B[38;2;246;54;26m███████████             \u001B[39m  0.2361\n",
      "3        11      0.0000 + i0.0000    0.0                   \u001B[38;2;37;232;234m                        \u001B[39m  0.0   \n",
      "\n"
     ]
    }
   ],
   "source": [
    "print_state_table(state)"
   ]
  },
  {
   "cell_type": "code",
   "execution_count": 53,
   "id": "affefa99-db0c-4b45-abfa-067925d02676",
   "metadata": {},
   "outputs": [
    {
     "name": "stdout",
     "output_type": "stream",
     "text": [
      "\n",
      "Outcome  Binary  Amplitude           Magnitude  Direction  Amplitude Bar             Probability\n",
      "------------------------------------------------------------------------------------------------\n",
      "0        000     0.4859 + i0.0000    0.4859        0.00°   \u001B[38;2;246;54;26m███████████             \u001B[39m  0.2361\n",
      "1        001     0.4859 + i0.0000    0.4859        0.00°   \u001B[38;2;246;54;26m███████████             \u001B[39m  0.2361\n",
      "2        010     0.4859 + i0.0000    0.4859        0.00°   \u001B[38;2;246;54;26m███████████             \u001B[39m  0.2361\n",
      "3        011     0.0000 + i0.0000    0.0                   \u001B[38;2;37;232;234m                        \u001B[39m  0.0   \n",
      "4        100     0.3820 + i0.0000    0.382         0.00°   \u001B[38;2;246;54;26m█████████               \u001B[39m  0.1459\n",
      "5        101     0.3820 + i0.0000    0.382         0.00°   \u001B[38;2;246;54;26m█████████               \u001B[39m  0.1459\n",
      "6        110     0.0000 + i0.0000    0.0                   \u001B[38;2;246;54;26m                        \u001B[39m  0.0   \n",
      "7        111     0.0000 + i0.0000    0.0                   \u001B[38;2;37;232;234m                        \u001B[39m  0.0   \n",
      "\n"
     ]
    }
   ],
   "source": [
    "qc = fib_circuit(3)\n",
    "print_state_table(qc.run())"
   ]
  }
 ],
 "metadata": {
  "kernelspec": {
   "display_name": "Python 3 (ipykernel)",
   "language": "python",
   "name": "python3"
  },
  "language_info": {
   "codemirror_mode": {
    "name": "ipython",
    "version": 3
   },
   "file_extension": ".py",
   "mimetype": "text/x-python",
   "name": "python",
   "nbconvert_exporter": "python",
   "pygments_lexer": "ipython3",
   "version": "3.9.13"
  }
 },
 "nbformat": 4,
 "nbformat_minor": 5
}
