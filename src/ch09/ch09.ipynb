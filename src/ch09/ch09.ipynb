{
 "cells": [
  {
   "cell_type": "code",
   "execution_count": null,
   "id": "27ceefe4",
   "metadata": {
    "ExecuteTime": {
     "end_time": "2023-12-11T17:39:14.035758Z",
     "start_time": "2023-12-11T17:39:12.652207Z"
    }
   },
   "outputs": [],
   "source": [
    "import os\n",
    "os.chdir('..')\n",
    "\n",
    "from util import CONFIG\n",
    "CONFIG.set_use_mpl_tables(True)"
   ]
  },
  {
   "cell_type": "markdown",
   "id": "1c5beef2-6928-4b04-91ae-74727f5a20fe",
   "metadata": {},
   "source": [
    "## Section 9.1"
   ]
  },
  {
   "cell_type": "markdown",
   "id": "70a07ec9-ec10-47c9-951a-539967bcca8d",
   "metadata": {},
   "source": [
    "#### Section 9.1.1"
   ]
  },
  {
   "cell_type": "code",
   "execution_count": null,
   "id": "8c68c7ea-9227-4627-936f-5755f3c9b9b1",
   "metadata": {
    "ExecuteTime": {
     "end_time": "2023-12-11T17:39:14.044517Z",
     "start_time": "2023-12-11T17:39:14.035970Z"
    }
   },
   "outputs": [],
   "source": [
    "from math import sqrt\n",
    "\n",
    "n = 3\n",
    "state = [1/sqrt(2**n) for _ in range(2**n)]"
   ]
  },
  {
   "cell_type": "code",
   "execution_count": null,
   "id": "ee106d56-904c-41f0-8706-be7e82aa6156",
   "metadata": {
    "ExecuteTime": {
     "end_time": "2023-12-11T17:39:14.048294Z",
     "start_time": "2023-12-11T17:39:14.044193Z"
    }
   },
   "outputs": [],
   "source": [
    "from util import print_state_table\n",
    "\n",
    "print_state_table(state)"
   ]
  },
  {
   "cell_type": "code",
   "execution_count": null,
   "id": "cab03326-64e5-425c-8380-8dc900ecc105",
   "metadata": {
    "ExecuteTime": {
     "end_time": "2023-12-11T17:39:14.052994Z",
     "start_time": "2023-12-11T17:39:14.048073Z"
    }
   },
   "outputs": [],
   "source": [
    "predicate = lambda k: True if k == 3 else False"
   ]
  },
  {
   "cell_type": "code",
   "execution_count": null,
   "id": "2c4914fe-2a84-41be-8a20-81f3dc4602f1",
   "metadata": {
    "ExecuteTime": {
     "end_time": "2023-12-11T17:39:14.060885Z",
     "start_time": "2023-12-11T17:39:14.053082Z"
    }
   },
   "outputs": [],
   "source": [
    "def oracle(state, predicate):\n",
    "    for item in range(len(state)):\n",
    "        if predicate(item):\n",
    "            state[item] *= -1\n",
    "            \n",
    "oracle(state, predicate)"
   ]
  },
  {
   "cell_type": "code",
   "execution_count": null,
   "id": "635000f7-7bf7-4c9f-9993-0bf5fd081bf9",
   "metadata": {
    "ExecuteTime": {
     "end_time": "2023-12-11T17:39:14.077835Z",
     "start_time": "2023-12-11T17:39:14.057514Z"
    }
   },
   "outputs": [],
   "source": [
    "print_state_table(state)"
   ]
  },
  {
   "cell_type": "markdown",
   "id": "4c307d9d-cdb8-474f-bf93-07bf48a77842",
   "metadata": {},
   "source": [
    "#### Section 9.1.2"
   ]
  },
  {
   "cell_type": "markdown",
   "id": "f57e7b72-0ba1-44a0-86a3-1caa1bc76e3a",
   "metadata": {},
   "source": [
    "Listing 9.1"
   ]
  },
  {
   "cell_type": "code",
   "execution_count": null,
   "id": "47f2440371cf5d26",
   "metadata": {
    "ExecuteTime": {
     "end_time": "2023-12-11T17:39:14.081045Z",
     "start_time": "2023-12-11T17:39:14.061896Z"
    }
   },
   "outputs": [],
   "source": [
    "from util import inner\n",
    "\n",
    "def inversion(original, current):\n",
    "    proj = inner(original, current)\n",
    "    for k in range(len(current)):\n",
    "        current[k] = 2*proj*original[k] - current[k]"
   ]
  },
  {
   "cell_type": "code",
   "execution_count": null,
   "id": "3b04764d-0152-4205-b6b8-e6ede5a8e15e",
   "metadata": {
    "ExecuteTime": {
     "end_time": "2023-12-11T17:39:14.090126Z",
     "start_time": "2023-12-11T17:39:14.065170Z"
    }
   },
   "outputs": [],
   "source": [
    "n = 3\n",
    "state = [1/sqrt(2**n) for _ in range(2**n)]\n",
    "\n",
    "s = state.copy() #<1>\n",
    "\n",
    "oracle(state, predicate)"
   ]
  },
  {
   "cell_type": "code",
   "execution_count": null,
   "id": "4370a229-45dd-4daf-9d7e-ad6587f1671d",
   "metadata": {
    "ExecuteTime": {
     "end_time": "2023-12-11T17:39:14.090126Z",
     "start_time": "2023-12-11T17:39:14.065170Z"
    }
   },
   "outputs": [],
   "source": [
    "inversion(s, state) #<1>"
   ]
  },
  {
   "cell_type": "code",
   "execution_count": null,
   "id": "d5462d1b-e3b8-4049-a99f-37c9cb81904f",
   "metadata": {
    "ExecuteTime": {
     "end_time": "2023-12-11T17:39:14.091740Z",
     "start_time": "2023-12-11T17:39:14.068786Z"
    }
   },
   "outputs": [],
   "source": [
    "print_state_table(state)"
   ]
  },
  {
   "cell_type": "code",
   "execution_count": null,
   "id": "c4c2e44f-ac46-4523-babf-818f6c0a5907",
   "metadata": {},
   "outputs": [],
   "source": [
    "from util import generate_state\n",
    "\n",
    "n = 3\n",
    "state = generate_state(n)"
   ]
  },
  {
   "cell_type": "code",
   "execution_count": null,
   "id": "031f7f67-e487-43ea-ad8d-68590fa2b53f",
   "metadata": {},
   "outputs": [],
   "source": [
    "print_state_table(state)"
   ]
  },
  {
   "cell_type": "code",
   "execution_count": null,
   "id": "cfec4efb-330b-449c-ae80-389007e0a28b",
   "metadata": {},
   "outputs": [],
   "source": [
    "s = state.copy()\n",
    "\n",
    "predicate = lambda k: True if k == 5 else False\n",
    "oracle(state, predicate)"
   ]
  },
  {
   "cell_type": "code",
   "execution_count": null,
   "id": "bfbe44eb-ddff-4289-97f0-1e5e19d70056",
   "metadata": {},
   "outputs": [],
   "source": [
    "print_state_table(state)"
   ]
  },
  {
   "cell_type": "code",
   "execution_count": null,
   "id": "96628401-be6f-4c23-a67b-547706a10585",
   "metadata": {},
   "outputs": [],
   "source": [
    "inversion(s, state)"
   ]
  },
  {
   "cell_type": "code",
   "execution_count": null,
   "id": "fa39b98c-6a11-40a9-b5c0-6dc14ab592fb",
   "metadata": {},
   "outputs": [],
   "source": [
    "print_state_table(state)"
   ]
  },
  {
   "cell_type": "code",
   "execution_count": null,
   "id": "8e27278d-db7d-49fc-a963-1df5d541369e",
   "metadata": {
    "ExecuteTime": {
     "end_time": "2023-12-11T17:39:14.092971Z",
     "start_time": "2023-12-11T17:39:14.073131Z"
    }
   },
   "outputs": [],
   "source": [
    "n = 3\n",
    "state = [1/sqrt(2**n) for _ in range(2**n)]\n",
    "\n",
    "s = state.copy()\n",
    "\n",
    "predicate = lambda k: True if k == 3 else False\n",
    "oracle(state, predicate)"
   ]
  },
  {
   "cell_type": "code",
   "execution_count": null,
   "id": "9d41390a-448e-4e0e-b6da-26d142c4ae54",
   "metadata": {},
   "outputs": [],
   "source": [
    "from util import is_close\n",
    "\n",
    "amplitude_mean = sum(state)/2**n\n",
    "\n",
    "proj = inner(s, state)\n",
    "for k in range(len(state)):\n",
    "    if k != 3:\n",
    "        assert is_close(proj*state[k], amplitude_mean)"
   ]
  },
  {
   "cell_type": "code",
   "execution_count": null,
   "id": "04f6673b-2408-4c2c-943d-de5fdb8bc702",
   "metadata": {
    "ExecuteTime": {
     "end_time": "2023-12-11T17:39:14.199611Z",
     "start_time": "2023-12-11T17:39:14.193249Z"
    }
   },
   "outputs": [],
   "source": [
    "for k in range(len(state)):\n",
    "    state[k] = 2*amplitude_mean-state[k]"
   ]
  },
  {
   "cell_type": "code",
   "execution_count": null,
   "id": "4900bfd2-4aab-4a7b-902c-fc30a3056bdf",
   "metadata": {
    "ExecuteTime": {
     "end_time": "2023-12-11T17:39:14.278030Z",
     "start_time": "2023-12-11T17:39:14.200079Z"
    }
   },
   "outputs": [],
   "source": [
    "print_state_table(state)"
   ]
  },
  {
   "cell_type": "markdown",
   "id": "ab7c63b7-b1cc-4c2c-bbf2-3130e9c19de1",
   "metadata": {},
   "source": [
    "#### Section 9.1.3"
   ]
  },
  {
   "cell_type": "markdown",
   "id": "54d1df81-c551-4aeb-8d0e-bcfcd0892a88",
   "metadata": {},
   "source": [
    "Listing 9.2"
   ]
  },
  {
   "cell_type": "code",
   "execution_count": null,
   "id": "5e1f2f40-2e88-4ed5-a234-2effe02e895d",
   "metadata": {
    "ExecuteTime": {
     "end_time": "2023-12-11T17:39:14.286519Z",
     "start_time": "2023-12-11T17:39:14.277303Z"
    }
   },
   "outputs": [],
   "source": [
    "from math import cos\n",
    "\n",
    "def grover_sim(state, predicate, iterations):\n",
    "    s = state.copy()\n",
    "\n",
    "    p = sum([abs(s[k])**2 for k in items]) # <1>\n",
    "    theta = asin(sqrt(p)) # <1>\n",
    "    assert is_close(inner(s, state), 1)\n",
    "\n",
    "    for it in range(1, iterations + 1):\n",
    "        oracle(state, predicate)\n",
    "        inversion(s, state)\n",
    "        assert is_close(inner(s, state), cos(2*it*theta)) # <2>\n",
    "\n",
    "        p = sum([abs(state[k])**2 for k in items]) # <3>\n",
    "        assert is_close(p, sin((2*it + 1)*theta)**2) # <4>"
   ]
  },
  {
   "cell_type": "code",
   "execution_count": null,
   "id": "2f2a4a61609b6a98",
   "metadata": {
    "ExecuteTime": {
     "end_time": "2023-12-11T17:39:14.288061Z",
     "start_time": "2023-12-11T17:39:14.283459Z"
    }
   },
   "outputs": [],
   "source": [
    "from math import sin, asin\n",
    "\n",
    "def target_amplitude_uniform(n, l, j):\n",
    "    theta = asin(sqrt(l/2**n))\n",
    "    return sin((2*j+1)*theta)/sqrt(l)"
   ]
  },
  {
   "cell_type": "code",
   "execution_count": null,
   "id": "8d00d7cfe192bb4",
   "metadata": {
    "ExecuteTime": {
     "end_time": "2023-12-11T17:39:14.297528Z",
     "start_time": "2023-12-11T17:39:14.288177Z"
    }
   },
   "outputs": [],
   "source": [
    "from util import is_close\n",
    "\n",
    "n = 3\n",
    "items = [3]\n",
    "predicate = lambda i: True if i in items else False\n",
    "\n",
    "state = [1/sqrt(2**n) for _ in range(2**n)]\n",
    "\n",
    "grover_sim(state, predicate, iterations = 1)\n",
    "\n",
    "assert is_close(state[items[0]], target_amplitude_uniform(3, 1, 1))"
   ]
  },
  {
   "cell_type": "code",
   "execution_count": null,
   "id": "887ba1aba2f8a31c",
   "metadata": {
    "ExecuteTime": {
     "end_time": "2023-12-11T17:39:14.299552Z",
     "start_time": "2023-12-11T17:39:14.292505Z"
    }
   },
   "outputs": [],
   "source": [
    "print_state_table(state)"
   ]
  },
  {
   "cell_type": "code",
   "execution_count": null,
   "id": "2417ae56-118c-457e-b5dc-d8310538c007",
   "metadata": {
    "ExecuteTime": {
     "end_time": "2023-12-11T17:39:14.321104Z",
     "start_time": "2023-12-11T17:39:14.296509Z"
    }
   },
   "outputs": [],
   "source": [
    "n = 3\n",
    "items = [3]\n",
    "predicate = lambda i: True if i in items else False\n",
    "\n",
    "state = [1/sqrt(2**n) for _ in range(2**n)]\n",
    "\n",
    "grover_sim(state, predicate, iterations = 2)\n",
    "\n",
    "assert is_close(state[items[0]], target_amplitude_uniform(3, 1, 2))"
   ]
  },
  {
   "cell_type": "code",
   "execution_count": null,
   "id": "b410202d-6ed1-44eb-90b8-b10b38d3787c",
   "metadata": {
    "ExecuteTime": {
     "end_time": "2023-12-11T17:39:14.333161Z",
     "start_time": "2023-12-11T17:39:14.301700Z"
    }
   },
   "outputs": [],
   "source": [
    "print_state_table(state)"
   ]
  },
  {
   "cell_type": "code",
   "execution_count": null,
   "id": "94a5008b-e450-4112-ace0-60e156c161ba",
   "metadata": {
    "ExecuteTime": {
     "end_time": "2023-12-11T17:39:14.334399Z",
     "start_time": "2023-12-11T17:39:14.305584Z"
    }
   },
   "outputs": [],
   "source": [
    "n = 3\n",
    "items = [3]\n",
    "predicate = lambda i: True if i in items else False\n",
    "\n",
    "state = [1/sqrt(2**n) for _ in range(2**n)]\n",
    "\n",
    "grover_sim(state, predicate, iterations = 3)\n",
    "\n",
    "assert is_close(state[items[0]], target_amplitude_uniform(3, 1, 3))"
   ]
  },
  {
   "cell_type": "code",
   "execution_count": null,
   "id": "841bfb81-9838-4d7c-ae70-70f448ff921b",
   "metadata": {
    "ExecuteTime": {
     "end_time": "2023-12-11T17:39:14.336176Z",
     "start_time": "2023-12-11T17:39:14.309919Z"
    }
   },
   "outputs": [],
   "source": [
    "print_state_table(state)"
   ]
  },
  {
   "cell_type": "code",
   "execution_count": null,
   "id": "54093ebb-4c89-4509-b8d6-f43c4b0de00e",
   "metadata": {
    "ExecuteTime": {
     "end_time": "2023-12-11T17:39:14.343735Z",
     "start_time": "2023-12-11T17:39:14.313749Z"
    }
   },
   "outputs": [],
   "source": [
    "from math import floor, pi\n",
    "\n",
    "num_iterations = int(floor(pi/4*sqrt(2**n/len(items))))"
   ]
  },
  {
   "cell_type": "code",
   "execution_count": null,
   "id": "523bf0bb-d7cf-499c-a48e-65dbf7b1f5b0",
   "metadata": {
    "ExecuteTime": {
     "end_time": "2023-12-11T17:39:14.345300Z",
     "start_time": "2023-12-11T17:39:14.318467Z"
    }
   },
   "outputs": [],
   "source": [
    "from util import generate_state\n",
    "\n",
    "n = 3\n",
    "items = [0, 1]\n",
    "predicate = lambda i: True if i in items else False\n",
    "iterations = int(floor(pi/4*sqrt(2**n/len(items))))\n",
    "\n",
    "state = generate_state(n)\n",
    "grover_sim(state, predicate, iterations)"
   ]
  },
  {
   "cell_type": "code",
   "execution_count": null,
   "id": "5b8b79e5-8378-488f-a9a3-4b8732d7d017",
   "metadata": {
    "ExecuteTime": {
     "end_time": "2023-12-11T17:39:14.384462Z",
     "start_time": "2023-12-11T17:39:14.323121Z"
    }
   },
   "outputs": [],
   "source": [
    "print_state_table(state)"
   ]
  },
  {
   "cell_type": "markdown",
   "id": "2ad8cbee-00ad-47f7-963c-21a4bb32d7c2",
   "metadata": {},
   "source": [
    "#### Section 9.1.4"
   ]
  },
  {
   "cell_type": "code",
   "execution_count": null,
   "id": "8aeffa9d-8cf5-462d-8020-a160f591aa0b",
   "metadata": {
    "jupyter": {
     "outputs_hidden": false
    }
   },
   "outputs": [],
   "source": [
    "import numpy as np\n",
    "\n",
    "def random_transformation(n):\n",
    "    import scipy.stats\n",
    "    U = scipy.stats.unitary_group.rvs(2**n)\n",
    "\n",
    "    def f_direct(state):\n",
    "        assert(len(state) == 2**n)\n",
    "        s = U @ state\n",
    "        for k in range(len(s)):\n",
    "            state[k] = s[k]\n",
    "\n",
    "    def f_inverse(state):\n",
    "        assert(len(state) == 2**n)\n",
    "        s = np.conj(U.transpose()) @ state\n",
    "        for k in range(len(s)):\n",
    "            state[k] = s[k]\n",
    "\n",
    "    return (f_direct, f_inverse)"
   ]
  },
  {
   "cell_type": "code",
   "execution_count": null,
   "id": "e5a18a44-e85b-410e-9e86-8e8c54bf8988",
   "metadata": {},
   "outputs": [],
   "source": [
    "n = 3\n",
    "f = random_transformation(n)"
   ]
  },
  {
   "cell_type": "code",
   "execution_count": null,
   "id": "d1c1cb14-41cf-4566-a982-44573f83d1c2",
   "metadata": {},
   "outputs": [],
   "source": [
    "from sim_core import init_state\n",
    "\n",
    "state = init_state(n)\n",
    "f[0](state)"
   ]
  },
  {
   "cell_type": "code",
   "execution_count": null,
   "id": "fb233b99-4fbe-40db-904d-1c5739791a31",
   "metadata": {},
   "outputs": [],
   "source": [
    "print_state_table(state)"
   ]
  },
  {
   "cell_type": "markdown",
   "id": "f2a8eaef-227f-41fb-b4d4-1fe6088c525f",
   "metadata": {},
   "source": [
    "Listing 9.3"
   ]
  },
  {
   "cell_type": "code",
   "execution_count": null,
   "id": "6893d976-a1f9-44a1-9f8f-3a81add312ce",
   "metadata": {},
   "outputs": [],
   "source": [
    "from math import log2\n",
    "\n",
    "def inversion_0_transformation(f, state):\n",
    "    n = int(log2(len(state)))\n",
    "\n",
    "    transform = f[0]\n",
    "    inverse_transform = f[1]\n",
    "\n",
    "    inverse_transform(state)\n",
    "    inversion(init_state(n), state)\n",
    "    transform(state)"
   ]
  },
  {
   "cell_type": "code",
   "execution_count": null,
   "id": "da91b29c-81e1-4339-aac2-afabf4801bb8",
   "metadata": {},
   "outputs": [],
   "source": [
    "predicate = lambda k: True if k == 3 else False\n",
    "oracle(state, predicate)"
   ]
  },
  {
   "cell_type": "code",
   "execution_count": null,
   "id": "2dbc8d8d-1984-486e-80fe-0182269ef353",
   "metadata": {},
   "outputs": [],
   "source": [
    "print_state_table(state)"
   ]
  },
  {
   "cell_type": "code",
   "execution_count": null,
   "id": "d40a7da1-b3ef-435b-9e9c-23b20ae3bfbd",
   "metadata": {},
   "outputs": [],
   "source": [
    "inversion_0_transformation(f, state)"
   ]
  },
  {
   "cell_type": "code",
   "execution_count": null,
   "id": "c4857862-f64d-475a-ab28-40f8da659ce1",
   "metadata": {},
   "outputs": [],
   "source": [
    "print_state_table(state)"
   ]
  },
  {
   "cell_type": "markdown",
   "id": "2a7e247d-722f-42f3-9d82-671a6d0520d6",
   "metadata": {},
   "source": [
    "## Section 9.2"
   ]
  },
  {
   "cell_type": "markdown",
   "id": "864d6f9a-4667-4e0d-a9be-a79b7a31c792",
   "metadata": {},
   "source": [
    "#### Section 9.2.1"
   ]
  },
  {
   "cell_type": "markdown",
   "id": "4cea8682-8efc-4d1a-b40c-9ce2e546d367",
   "metadata": {},
   "source": [
    "Listing 9.4"
   ]
  },
  {
   "cell_type": "code",
   "execution_count": null,
   "id": "fdd5a91db4116142",
   "metadata": {
    "ExecuteTime": {
     "end_time": "2023-12-11T17:39:14.412737Z",
     "start_time": "2023-12-11T17:39:14.344665Z"
    }
   },
   "outputs": [],
   "source": [
    "from sim_circuit import QuantumRegister, QuantumCircuit\n",
    "\n",
    "\n",
    "def is_bit_not_set(m, k):\n",
    "    return not (m & (1 << k))\n",
    "\n",
    "def phase_oracle_match(n, items):\n",
    "    q = QuantumRegister(n)\n",
    "    qc = QuantumCircuit(q)\n",
    "\n",
    "    for m in items:\n",
    "        for i in range(n):\n",
    "            if is_bit_not_set(m, i):\n",
    "                qc.x(q[i])\n",
    "\n",
    "        qc.mcp(pi, [q[i] for i in range(len(q) - 1)], q[len(q) - 1])\n",
    "\n",
    "        for i in range(n):\n",
    "            if is_bit_not_set(m, i):\n",
    "                qc.x(q[i])\n",
    "    return qc"
   ]
  },
  {
   "cell_type": "markdown",
   "id": "0f56dc16-99d8-44c1-8874-c0e5e9eddfe1",
   "metadata": {},
   "source": [
    "#### Section 9.2.2"
   ]
  },
  {
   "cell_type": "markdown",
   "id": "9a610aad-b5a9-488b-ba35-881a411d00a1",
   "metadata": {},
   "source": [
    "Listing 9.5"
   ]
  },
  {
   "cell_type": "code",
   "execution_count": null,
   "id": "d57a0c22-6fcc-4779-8f4b-0490715a5c85",
   "metadata": {
    "ExecuteTime": {
     "end_time": "2023-12-11T17:39:14.418771Z",
     "start_time": "2023-12-11T17:39:14.349955Z"
    }
   },
   "outputs": [],
   "source": [
    "def inversion_0_circuit(n):\n",
    "    q = QuantumRegister(n)\n",
    "    qc = QuantumCircuit(q)\n",
    "\n",
    "    for i in range(n):\n",
    "        qc.x(q[i])\n",
    "\n",
    "    qc.mcp(pi, [q[i] for i in range(n - 1)], q[n - 1])\n",
    "\n",
    "    for i in range(n):\n",
    "        qc.x(q[i])\n",
    "\n",
    "    return qc"
   ]
  },
  {
   "cell_type": "markdown",
   "id": "ae6f8d6e-d46a-4397-ab78-8e9f89ed04ff",
   "metadata": {},
   "source": [
    "Listing 9.6"
   ]
  },
  {
   "cell_type": "code",
   "execution_count": null,
   "id": "593a1c35c9dad903",
   "metadata": {
    "ExecuteTime": {
     "end_time": "2023-12-11T17:39:14.420731Z",
     "start_time": "2023-12-11T17:39:14.353981Z"
    }
   },
   "outputs": [],
   "source": [
    "def inversion_circuit(A):\n",
    "    n = sum(A.regs)\n",
    "    q = QuantumRegister(n)\n",
    "    qc = QuantumCircuit(q)\n",
    "\n",
    "    qc.append(A.inverse(), q)\n",
    "\n",
    "    qc.append(inversion_0_circuit(n), q)\n",
    "\n",
    "    qc.append(A, q)\n",
    "\n",
    "    return qc"
   ]
  },
  {
   "cell_type": "markdown",
   "id": "d5f45e25-e025-492a-8817-bd79dc660bf7",
   "metadata": {},
   "source": [
    "#### Section 9.2.3"
   ]
  },
  {
   "cell_type": "markdown",
   "id": "8afb36cf-a581-452b-add4-f6ce760c1f5e",
   "metadata": {},
   "source": [
    "Listing 9.7"
   ]
  },
  {
   "cell_type": "code",
   "execution_count": null,
   "id": "95147d57-8542-4bf5-97dd-547b2ab34057",
   "metadata": {
    "ExecuteTime": {
     "end_time": "2023-12-11T17:39:14.422324Z",
     "start_time": "2023-12-11T17:39:14.357361Z"
    }
   },
   "outputs": [],
   "source": [
    "def grover_iterate_circuit(A, O):\n",
    "    n = sum(O.regs)\n",
    "    q = QuantumRegister(n)\n",
    "    qc = QuantumCircuit(q)\n",
    "\n",
    "    qc.append(O, q)\n",
    "\n",
    "    qc.append(inversion_circuit(A), q)\n",
    "\n",
    "    return qc"
   ]
  },
  {
   "cell_type": "markdown",
   "id": "8d9f45d2-4746-4993-937e-f323e4c64344",
   "metadata": {},
   "source": [
    "#### Section 9.2.4"
   ]
  },
  {
   "cell_type": "markdown",
   "id": "280ef96d-a416-48d1-8803-45ac693915ff",
   "metadata": {},
   "source": [
    "Listing 9.8"
   ]
  },
  {
   "cell_type": "code",
   "execution_count": null,
   "id": "7aacddcecc04e917",
   "metadata": {
    "ExecuteTime": {
     "end_time": "2023-12-11T17:39:14.423656Z",
     "start_time": "2023-12-11T17:39:14.360835Z"
    }
   },
   "outputs": [],
   "source": [
    "def grover_circuit(A, O, iterations):\n",
    "    n = sum(A.regs)\n",
    "    q = QuantumRegister(n)\n",
    "    qc = QuantumCircuit(q)\n",
    "    \n",
    "    qc.append(A, q)\n",
    "\n",
    "    for i in range(1, iterations + 1):\n",
    "        qc.append(grover_iterate_circuit(A, O), q)\n",
    "        qc.report(f'iteration_{i}')\n",
    "\n",
    "    return qc"
   ]
  },
  {
   "cell_type": "code",
   "execution_count": null,
   "id": "979ff1e5-25d5-4629-aceb-bf343d2d4a37",
   "metadata": {
    "ExecuteTime": {
     "end_time": "2023-12-11T17:39:14.424904Z",
     "start_time": "2023-12-11T17:39:14.364249Z"
    }
   },
   "outputs": [],
   "source": [
    "def prepare_uniform(n):\n",
    "    q = QuantumRegister(n)\n",
    "    qc = QuantumCircuit(q)\n",
    "\n",
    "    for i in range(len(q)):\n",
    "        qc.h(q[i])\n",
    "\n",
    "    return qc"
   ]
  },
  {
   "cell_type": "code",
   "execution_count": null,
   "id": "67d0536e-c8ac-4c02-99b0-5e0696cf5637",
   "metadata": {
    "ExecuteTime": {
     "end_time": "2023-12-11T17:39:14.426119Z",
     "start_time": "2023-12-11T17:39:14.367700Z"
    }
   },
   "outputs": [],
   "source": [
    "n = 3\n",
    "items = [1, 3, 7]\n",
    "num_iterations = int(floor(pi/4*sqrt(2**n/len(items))))\n",
    "\n",
    "qc = grover_circuit(prepare_uniform(n), phase_oracle_match(n, items), num_iterations)"
   ]
  },
  {
   "cell_type": "code",
   "execution_count": null,
   "id": "9384d8bc-5dc3-4fc1-97fe-41bcce30372c",
   "metadata": {
    "ExecuteTime": {
     "end_time": "2023-12-11T17:39:14.555408Z",
     "start_time": "2023-12-11T17:39:14.370133Z"
    }
   },
   "outputs": [],
   "source": [
    "from util_qiskit import draw_circuit\n",
    "\n",
    "draw_circuit(qc)"
   ]
  },
  {
   "cell_type": "code",
   "execution_count": null,
   "id": "418a0140-6bdb-40ed-a3fd-2fa5160c360e",
   "metadata": {
    "ExecuteTime": {
     "end_time": "2023-12-11T17:39:14.559113Z",
     "start_time": "2023-12-11T17:39:14.555649Z"
    }
   },
   "outputs": [],
   "source": [
    "for i in range(1, num_iterations + 1):\n",
    "    for m in items:\n",
    "        assert is_close(qc.reports[f'iteration_{i}'][2][m], (-1)**i * target_amplitude_uniform(n, len(items), i))"
   ]
  },
  {
   "cell_type": "code",
   "execution_count": null,
   "id": "f4ed7725",
   "metadata": {
    "ExecuteTime": {
     "end_time": "2023-12-11T17:39:14.563925Z",
     "start_time": "2023-12-11T17:39:14.560611Z"
    }
   },
   "outputs": [],
   "source": [
    "print_state_table(qc.run())"
   ]
  },
  {
   "cell_type": "code",
   "execution_count": null,
   "id": "f3b0dd53139506bb",
   "metadata": {
    "ExecuteTime": {
     "end_time": "2023-12-11T17:39:14.597731Z",
     "start_time": "2023-12-11T17:39:14.574305Z"
    },
    "jupyter": {
     "outputs_hidden": false
    }
   },
   "outputs": [],
   "source": [
    "def unitary_to_circuit(U):\n",
    "    assert(U.shape[0] == U.shape[1])\n",
    "    m = int(log2(U.shape[0]))\n",
    "\n",
    "    q = QuantumRegister(m)\n",
    "    qc = QuantumCircuit(q)\n",
    "    qc.append_u(U, q)\n",
    "\n",
    "    return qc"
   ]
  },
  {
   "cell_type": "code",
   "execution_count": null,
   "id": "f7a4fd4d4ec2b44d",
   "metadata": {
    "ExecuteTime": {
     "end_time": "2023-12-11T17:39:14.865856Z",
     "start_time": "2023-12-11T17:39:14.577745Z"
    },
    "jupyter": {
     "outputs_hidden": false
    }
   },
   "outputs": [],
   "source": [
    "import scipy.stats\n",
    "# import numpy as np\n",
    "# np.random.rseed(seed=233423)\n",
    "\n",
    "def random_unitary_and_circuit(m):\n",
    "    A = scipy.stats.unitary_group.rvs(2**m)\n",
    "    return A, unitary_to_circuit(A)\n",
    "\n",
    "def random_circuit(m):\n",
    "    return random_unitary_and_circuit(m)[1]"
   ]
  },
  {
   "cell_type": "code",
   "execution_count": null,
   "id": "e5e87bfc00733f02",
   "metadata": {
    "ExecuteTime": {
     "end_time": "2023-12-11T17:39:14.877529Z",
     "start_time": "2023-12-11T17:39:14.870315Z"
    },
    "jupyter": {
     "outputs_hidden": false
    }
   },
   "outputs": [],
   "source": [
    "n = 3\n",
    "items = [0, 1]\n",
    "iterations = 3\n",
    "\n",
    "q = QuantumRegister(n)\n",
    "qc = QuantumCircuit(q)\n",
    "\n",
    "O = phase_oracle_match(n, items)\n",
    "C = random_circuit(n)\n",
    "G = grover_iterate_circuit(C, O)\n",
    "\n",
    "qc.append(C, q)\n",
    "qc.report('original')\n",
    "for it in range(1, iterations + 1):\n",
    "    qc.append(G, q)\n",
    "    qc.report(f'iteration_{it}')\n",
    "\n",
    "state = qc.run()\n",
    "print_state_table(state)\n",
    "\n",
    "original = qc.reports['original'][2]\n",
    "prob_good = sum([abs(original[k])**2 for k in items])\n",
    "\n",
    "theta = asin(sqrt(prob_good))\n",
    "for it in range(1, iterations + 1):\n",
    "    s = qc.reports[f'iteration_{it}'][2]\n",
    "    assert is_close(abs(cos(2*it*theta)), abs(inner(original, s)))\n",
    "    \n",
    "    p = sum([abs(s[k])**2 for k in items])\n",
    "    assert is_close(p, sin((2*it + 1)*theta)**2)"
   ]
  },
  {
   "cell_type": "markdown",
   "id": "a7a7b3eece82ff61",
   "metadata": {},
   "source": [
    "## Section 9.3"
   ]
  },
  {
   "cell_type": "markdown",
   "id": "37bade8e-d621-4f24-8041-3cc3ca285cff",
   "metadata": {},
   "source": [
    "#### Section 9.3.1"
   ]
  },
  {
   "cell_type": "markdown",
   "id": "a02a5e6deb96fedb",
   "metadata": {},
   "source": [
    "Listing 9.9"
   ]
  },
  {
   "cell_type": "code",
   "execution_count": null,
   "id": "3f112d19c851b192",
   "metadata": {
    "ExecuteTime": {
     "end_time": "2023-12-11T17:39:14.885686Z",
     "start_time": "2023-12-11T17:39:14.879858Z"
    }
   },
   "outputs": [],
   "source": [
    "def amplitude_estimation_circuit(n, A, O, swap=True):\n",
    "    c = QuantumRegister(n)\n",
    "    q = QuantumRegister(sum(A.regs))\n",
    "    qc = QuantumCircuit(c, q)\n",
    "\n",
    "    for i in range(n):\n",
    "        qc.h(c[i])\n",
    "\n",
    "    qc.append(A, q)\n",
    "\n",
    "    for i in range(n):\n",
    "        for _ in range(2**i):\n",
    "            if swap:\n",
    "                qc.c_append(grover_iterate_circuit(A, O), c[i], q) # <1>\n",
    "            else:\n",
    "                qc.c_append(grover_iterate_circuit(A, O), c[n-1-i], q) # <1>\n",
    "\n",
    "    qc.iqft(c if swap else c[::-1], swap)\n",
    "\n",
    "    return qc"
   ]
  },
  {
   "cell_type": "markdown",
   "id": "e8ba668c-cbef-4969-8f1b-c8919976adac",
   "metadata": {},
   "source": [
    "#### Section 9.3.2"
   ]
  },
  {
   "cell_type": "code",
   "execution_count": null,
   "id": "24ac0c1c3eaa72f7",
   "metadata": {
    "ExecuteTime": {
     "end_time": "2023-12-11T17:39:14.958887Z",
     "start_time": "2023-12-11T17:39:14.946893Z"
    }
   },
   "outputs": [],
   "source": [
    "from math import pi\n",
    "\n",
    "n = 5\n",
    "m = 3\n",
    "items = [0, 1, 2]\n",
    "qc = amplitude_estimation_circuit(n, prepare_uniform(m), phase_oracle_match(m, items), False)\n",
    "\n",
    "state = qc.run()"
   ]
  },
  {
   "cell_type": "code",
   "execution_count": null,
   "id": "4f4441c9cac46137",
   "metadata": {
    "ExecuteTime": {
     "end_time": "2023-12-11T17:39:15.125428Z",
     "start_time": "2023-12-11T17:39:14.969246Z"
    }
   },
   "outputs": [],
   "source": [
    "from util import list_to_dict, plot_bars\n",
    "\n",
    "probs = [0 for _ in range(2**n)]\n",
    "for k in range(2**m): # prefix\n",
    "    for j in range(2**n): # suffix\n",
    "        probs[j] += abs(state[k*2**n + j])**2\n",
    "\n",
    "plot_bars(list_to_dict(probs, True), '', 'Outcomes', 'Probability')"
   ]
  },
  {
   "cell_type": "code",
   "execution_count": null,
   "id": "1682ad33-5352-4503-9f33-5f5fc5689c04",
   "metadata": {},
   "outputs": [],
   "source": [
    "probs_half = [2*probs[k] for k in range(len(probs)//2 + 1, len(probs))]\n",
    "probs_half = [1 - sum(probs_half)] + probs_half\n",
    "\n",
    "plot_bars(list_to_dict(probs_half, False), '', '', '')"
   ]
  },
  {
   "cell_type": "code",
   "execution_count": null,
   "id": "f611e43e",
   "metadata": {
    "ExecuteTime": {
     "end_time": "2023-12-11T17:39:15.243031Z",
     "start_time": "2023-12-11T17:39:15.239064Z"
    },
    "scrolled": true
   },
   "outputs": [],
   "source": [
    "import numpy as np\n",
    "\n",
    "v = np.argmax(probs[int(len(probs)/2):])\n",
    "print('v:', v)\n",
    "count = int(2**m*sin(7*pi/2**n)**2)\n",
    "print('count:', count)\n",
    "assert(count == len(items))"
   ]
  },
  {
   "cell_type": "markdown",
   "id": "3ebdd25d-b7b1-4bb3-86ae-94930d411a6a",
   "metadata": {},
   "source": [
    "#### Section 9.3.3"
   ]
  },
  {
   "cell_type": "code",
   "execution_count": null,
   "id": "2eafc85e",
   "metadata": {
    "ExecuteTime": {
     "end_time": "2023-12-11T17:39:15.253919Z",
     "start_time": "2023-12-11T17:39:15.246074Z"
    }
   },
   "outputs": [],
   "source": [
    "m = 3\n",
    "\n",
    "np.random.seed(seed=50)\n",
    "C = random_circuit(m)\n",
    "\n",
    "print_state_table(C.run())"
   ]
  },
  {
   "cell_type": "code",
   "execution_count": null,
   "id": "2304a226-0076-428c-82f9-a0e7263268fa",
   "metadata": {},
   "outputs": [],
   "source": [
    "A, C = random_unitary_and_circuit(m)"
   ]
  },
  {
   "cell_type": "code",
   "execution_count": null,
   "id": "37683f2a",
   "metadata": {
    "ExecuteTime": {
     "end_time": "2023-12-11T17:39:15.252235Z",
     "start_time": "2023-12-11T17:39:15.242959Z"
    }
   },
   "outputs": [],
   "source": [
    "def good_probs(qc, items):\n",
    "    state = qc.run()\n",
    "    return sum([abs(state[k])**2 for k in items])"
   ]
  },
  {
   "cell_type": "code",
   "execution_count": null,
   "id": "50fd9327",
   "metadata": {
    "ExecuteTime": {
     "end_time": "2023-12-11T17:39:15.279838Z",
     "start_time": "2023-12-11T17:39:15.252288Z"
    }
   },
   "outputs": [],
   "source": [
    "# probability of good states\n",
    "\n",
    "# items = [0, 1]\n",
    "items = range(2**m)[:2**(m-1)]\n",
    "prob_g = good_probs(C, items)\n",
    "print(prob_g)"
   ]
  },
  {
   "cell_type": "code",
   "execution_count": null,
   "id": "a735e8de",
   "metadata": {
    "ExecuteTime": {
     "end_time": "2023-12-11T17:39:15.282260Z",
     "start_time": "2023-12-11T17:39:15.257228Z"
    }
   },
   "outputs": [],
   "source": [
    "# Grover operator\n",
    "\n",
    "def oracle_unitary(n, items):\n",
    "    O = np.eye(2**n)\n",
    "    for i in range(2**n):\n",
    "        if i in items:\n",
    "            O[i, i] = -1\n",
    "\n",
    "    return O\n",
    "\n",
    "\n",
    "def inversion_0_unitary(n):\n",
    "    M0 = np.eye(2**n)\n",
    "    M0[0, 0] = -1\n",
    "\n",
    "    return M0\n",
    "\n",
    "M0 = inversion_0_unitary(m)\n",
    "O = oracle_unitary(m, items)\n",
    "\n",
    "G = A @ M0 @ np.conj(A.transpose()) @ O"
   ]
  },
  {
   "cell_type": "code",
   "execution_count": null,
   "id": "78468521",
   "metadata": {
    "ExecuteTime": {
     "end_time": "2023-12-11T17:39:15.283560Z",
     "start_time": "2023-12-11T17:39:15.261376Z"
    }
   },
   "outputs": [],
   "source": [
    "# the squared cos/sin of half of a non-trivial eigenphase of G gives the probability of good outcomes\n",
    "\n",
    "eigvals, eigvecs = np.linalg.eig(G)\n",
    "\n",
    "print('eigvals', [np.round(e, 4) for e in eigvals])\n",
    "\n",
    "eig1 = cos(np.angle(eigvals[0])/2)**2\n",
    "eig2 = (eigvals[0]**0.5).real**2\n",
    "\n",
    "\n",
    "print(prob_g, eig1, eig2)\n",
    "\n",
    "if is_close(eig1, 0):\n",
    "    print('using eigvals[1]')\n",
    "    eig1 = cos(np.angle(eigvals[1])/2)**2\n",
    "    eig2 = (eigvals[1]**0.5).real**2\n",
    "\n",
    "\n",
    "    print(prob_g, eig1, eig2)\n"
   ]
  },
  {
   "cell_type": "code",
   "execution_count": null,
   "id": "74003613",
   "metadata": {
    "ExecuteTime": {
     "end_time": "2023-12-11T17:39:15.292809Z",
     "start_time": "2023-12-11T17:39:15.265464Z"
    }
   },
   "outputs": [],
   "source": [
    "assert is_close(eig1, prob_g)\n",
    "assert is_close(eig2, prob_g)"
   ]
  },
  {
   "cell_type": "code",
   "execution_count": null,
   "id": "2910a212",
   "metadata": {
    "ExecuteTime": {
     "end_time": "2023-12-11T17:39:22.917330Z",
     "start_time": "2023-12-11T17:39:15.291030Z"
    }
   },
   "outputs": [],
   "source": [
    "n = 8 # 9\n",
    "\n",
    "C = unitary_to_circuit(A)\n",
    "\n",
    "qc = amplitude_estimation_circuit(n, C, phase_oracle_match(m, items), swap=True)\n",
    "state = qc.run()\n",
    "\n",
    "probs = [0 for _ in range(2**n)]\n",
    "for k in range(2**m): # prefix\n",
    "    for j in range(2**n): # suffix\n",
    "        probs[j] += abs(state[k*2**n + j])**2\n",
    "\n",
    "# plot_bars(list_to_dict(probs, False), '', 'Outcomes', 'Probability')"
   ]
  },
  {
   "cell_type": "code",
   "execution_count": null,
   "id": "4235692d",
   "metadata": {
    "ExecuteTime": {
     "end_time": "2023-12-11T17:39:22.921710Z",
     "start_time": "2023-12-11T17:39:22.919055Z"
    }
   },
   "outputs": [],
   "source": [
    "# sines = {}\n",
    "# for k, v in enumerate(probs):\n",
    "#     # key = 2**tgt_bits*np.round(np.cos(np.pi*k/2**ctrl_bits)**2, 4)\n",
    "#     key = 2**m*round(cos(k*pi/2**n)**2, 4)\n",
    "#     sines[key] = sines.get(key, 0) + round(v, 4)\n",
    "#         \n",
    "# est = max(sines, key=sines.get)\n",
    "# print('est ~ ', est/2**m)\n",
    "\n",
    "v = np.argmax(probs[int(len(probs)/2):])\n",
    "estimate = round(sin(v*pi/2**n)**2, 4)\n",
    "print('estimate ~ ', estimate)\n",
    "\n",
    "assert(abs(prob_g - estimate) < 0.01) # 8-9 qubits are typically enough to get 2 decimals, but may occasionally fail"
   ]
  }
 ],
 "metadata": {
  "kernelspec": {
   "display_name": "Python 3 (ipykernel)",
   "language": "python",
   "name": "python3"
  },
  "language_info": {
   "codemirror_mode": {
    "name": "ipython",
    "version": 3
   },
   "file_extension": ".py",
   "mimetype": "text/x-python",
   "name": "python",
   "nbconvert_exporter": "python",
   "pygments_lexer": "ipython3",
   "version": "3.9.13"
  }
 },
 "nbformat": 4,
 "nbformat_minor": 5
}
