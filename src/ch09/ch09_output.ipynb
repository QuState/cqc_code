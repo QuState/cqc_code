{
 "cells": [
  {
   "cell_type": "code",
   "execution_count": 1,
   "id": "27ceefe4",
   "metadata": {
    "ExecuteTime": {
     "end_time": "2023-12-11T17:39:14.035758Z",
     "start_time": "2023-12-11T17:39:12.652207Z"
    }
   },
   "outputs": [],
   "source": [
    "import os\n",
    "os.chdir('..')\n",
    "\n",
    "from util import CONFIG\n",
    "CONFIG.set_use_mpl_tables(True)"
   ]
  },
  {
   "cell_type": "markdown",
   "id": "1c5beef2-6928-4b04-91ae-74727f5a20fe",
   "metadata": {},
   "source": [
    "## Section 9.1"
   ]
  },
  {
   "cell_type": "markdown",
   "id": "70a07ec9-ec10-47c9-951a-539967bcca8d",
   "metadata": {},
   "source": [
    "#### Section 9.1.1"
   ]
  },
  {
   "cell_type": "code",
   "execution_count": 2,
   "id": "8c68c7ea-9227-4627-936f-5755f3c9b9b1",
   "metadata": {
    "ExecuteTime": {
     "end_time": "2023-12-11T17:39:14.044517Z",
     "start_time": "2023-12-11T17:39:14.035970Z"
    }
   },
   "outputs": [],
   "source": [
    "from math import sqrt\n",
    "\n",
    "n = 3\n",
    "state = [1/sqrt(2**n) for _ in range(2**n)]"
   ]
  },
  {
   "cell_type": "code",
   "execution_count": 3,
   "id": "ee106d56-904c-41f0-8706-be7e82aa6156",
   "metadata": {
    "ExecuteTime": {
     "end_time": "2023-12-11T17:39:14.048294Z",
     "start_time": "2023-12-11T17:39:14.044193Z"
    }
   },
   "outputs": [
    {
     "name": "stdout",
     "output_type": "stream",
     "text": [
      "\n",
      "Outcome  Binary  Amplitude           Magnitude  Direction  Amplitude Bar             Probability\n",
      "------------------------------------------------------------------------------------------------\n",
      "0        000     0.3536 + i0.0000    0.3536        0.00°   \u001b[38;2;246;54;26m████████                \u001b[39m  0.125 \n",
      "1        001     0.3536 + i0.0000    0.3536        0.00°   \u001b[38;2;246;54;26m████████                \u001b[39m  0.125 \n",
      "2        010     0.3536 + i0.0000    0.3536        0.00°   \u001b[38;2;246;54;26m████████                \u001b[39m  0.125 \n",
      "3        011     0.3536 + i0.0000    0.3536        0.00°   \u001b[38;2;246;54;26m████████                \u001b[39m  0.125 \n",
      "4        100     0.3536 + i0.0000    0.3536        0.00°   \u001b[38;2;246;54;26m████████                \u001b[39m  0.125 \n",
      "5        101     0.3536 + i0.0000    0.3536        0.00°   \u001b[38;2;246;54;26m████████                \u001b[39m  0.125 \n",
      "6        110     0.3536 + i0.0000    0.3536        0.00°   \u001b[38;2;246;54;26m████████                \u001b[39m  0.125 \n",
      "7        111     0.3536 + i0.0000    0.3536        0.00°   \u001b[38;2;246;54;26m████████                \u001b[39m  0.125 \n",
      "\n"
     ]
    }
   ],
   "source": [
    "from util import print_state_table\n",
    "\n",
    "print_state_table(state)"
   ]
  },
  {
   "cell_type": "code",
   "execution_count": 4,
   "id": "cab03326-64e5-425c-8380-8dc900ecc105",
   "metadata": {
    "ExecuteTime": {
     "end_time": "2023-12-11T17:39:14.052994Z",
     "start_time": "2023-12-11T17:39:14.048073Z"
    }
   },
   "outputs": [],
   "source": [
    "predicate = lambda k: True if k == 3 else False"
   ]
  },
  {
   "cell_type": "code",
   "execution_count": 5,
   "id": "2c4914fe-2a84-41be-8a20-81f3dc4602f1",
   "metadata": {
    "ExecuteTime": {
     "end_time": "2023-12-11T17:39:14.060885Z",
     "start_time": "2023-12-11T17:39:14.053082Z"
    }
   },
   "outputs": [],
   "source": [
    "def oracle(state, predicate):\n",
    "    for item in range(len(state)):\n",
    "        if predicate(item):\n",
    "            state[item] *= -1\n",
    "            \n",
    "oracle(state, predicate)"
   ]
  },
  {
   "cell_type": "code",
   "execution_count": 6,
   "id": "635000f7-7bf7-4c9f-9993-0bf5fd081bf9",
   "metadata": {
    "ExecuteTime": {
     "end_time": "2023-12-11T17:39:14.077835Z",
     "start_time": "2023-12-11T17:39:14.057514Z"
    }
   },
   "outputs": [
    {
     "name": "stdout",
     "output_type": "stream",
     "text": [
      "\n",
      "Outcome  Binary  Amplitude           Magnitude  Direction  Amplitude Bar             Probability\n",
      "------------------------------------------------------------------------------------------------\n",
      "0        000     0.3536 + i0.0000    0.3536        0.00°   \u001b[38;2;246;54;26m████████                \u001b[39m  0.125 \n",
      "1        001     0.3536 + i0.0000    0.3536        0.00°   \u001b[38;2;246;54;26m████████                \u001b[39m  0.125 \n",
      "2        010     0.3536 + i0.0000    0.3536        0.00°   \u001b[38;2;246;54;26m████████                \u001b[39m  0.125 \n",
      "3        011    -0.3536 + i0.0000    0.3536      180.00°   \u001b[38;2;37;232;234m████████                \u001b[39m  0.125 \n",
      "4        100     0.3536 + i0.0000    0.3536        0.00°   \u001b[38;2;246;54;26m████████                \u001b[39m  0.125 \n",
      "5        101     0.3536 + i0.0000    0.3536        0.00°   \u001b[38;2;246;54;26m████████                \u001b[39m  0.125 \n",
      "6        110     0.3536 + i0.0000    0.3536        0.00°   \u001b[38;2;246;54;26m████████                \u001b[39m  0.125 \n",
      "7        111     0.3536 + i0.0000    0.3536        0.00°   \u001b[38;2;246;54;26m████████                \u001b[39m  0.125 \n",
      "\n"
     ]
    }
   ],
   "source": [
    "print_state_table(state)"
   ]
  },
  {
   "cell_type": "markdown",
   "id": "4c307d9d-cdb8-474f-bf93-07bf48a77842",
   "metadata": {},
   "source": [
    "#### Section 9.1.2"
   ]
  },
  {
   "cell_type": "markdown",
   "id": "f57e7b72-0ba1-44a0-86a3-1caa1bc76e3a",
   "metadata": {},
   "source": [
    "Listing 9.1"
   ]
  },
  {
   "cell_type": "code",
   "execution_count": 7,
   "id": "47f2440371cf5d26",
   "metadata": {
    "ExecuteTime": {
     "end_time": "2023-12-11T17:39:14.081045Z",
     "start_time": "2023-12-11T17:39:14.061896Z"
    }
   },
   "outputs": [],
   "source": [
    "from util import inner\n",
    "\n",
    "def inversion(original, current):\n",
    "    proj = inner(original, current)\n",
    "    for k in range(len(current)):\n",
    "        current[k] = 2*proj*original[k] - current[k]"
   ]
  },
  {
   "cell_type": "code",
   "execution_count": 8,
   "id": "3b04764d-0152-4205-b6b8-e6ede5a8e15e",
   "metadata": {
    "ExecuteTime": {
     "end_time": "2023-12-11T17:39:14.090126Z",
     "start_time": "2023-12-11T17:39:14.065170Z"
    }
   },
   "outputs": [],
   "source": [
    "n = 3\n",
    "state = [1/sqrt(2**n) for _ in range(2**n)]\n",
    "\n",
    "s = state.copy() #<1>\n",
    "\n",
    "oracle(state, predicate)"
   ]
  },
  {
   "cell_type": "code",
   "execution_count": 9,
   "id": "4370a229-45dd-4daf-9d7e-ad6587f1671d",
   "metadata": {
    "ExecuteTime": {
     "end_time": "2023-12-11T17:39:14.090126Z",
     "start_time": "2023-12-11T17:39:14.065170Z"
    }
   },
   "outputs": [],
   "source": [
    "inversion(s, state) #<1>"
   ]
  },
  {
   "cell_type": "code",
   "execution_count": 10,
   "id": "d5462d1b-e3b8-4049-a99f-37c9cb81904f",
   "metadata": {
    "ExecuteTime": {
     "end_time": "2023-12-11T17:39:14.091740Z",
     "start_time": "2023-12-11T17:39:14.068786Z"
    }
   },
   "outputs": [
    {
     "name": "stdout",
     "output_type": "stream",
     "text": [
      "\n",
      "Outcome  Binary  Amplitude           Magnitude  Direction  Amplitude Bar             Probability\n",
      "------------------------------------------------------------------------------------------------\n",
      "0        000     0.1768 + i0.0000    0.1768        0.00°   \u001b[38;2;246;54;26m████                    \u001b[39m  0.0312\n",
      "1        001     0.1768 + i0.0000    0.1768        0.00°   \u001b[38;2;246;54;26m████                    \u001b[39m  0.0312\n",
      "2        010     0.1768 + i0.0000    0.1768        0.00°   \u001b[38;2;246;54;26m████                    \u001b[39m  0.0312\n",
      "3        011     0.8839 + i0.0000    0.8839        0.00°   \u001b[38;2;246;54;26m█████████████████████   \u001b[39m  0.7812\n",
      "4        100     0.1768 + i0.0000    0.1768        0.00°   \u001b[38;2;246;54;26m████                    \u001b[39m  0.0312\n",
      "5        101     0.1768 + i0.0000    0.1768        0.00°   \u001b[38;2;246;54;26m████                    \u001b[39m  0.0312\n",
      "6        110     0.1768 + i0.0000    0.1768        0.00°   \u001b[38;2;246;54;26m████                    \u001b[39m  0.0312\n",
      "7        111     0.1768 + i0.0000    0.1768        0.00°   \u001b[38;2;246;54;26m████                    \u001b[39m  0.0312\n",
      "\n"
     ]
    }
   ],
   "source": [
    "print_state_table(state)"
   ]
  },
  {
   "cell_type": "code",
   "execution_count": 11,
   "id": "c4c2e44f-ac46-4523-babf-818f6c0a5907",
   "metadata": {},
   "outputs": [],
   "source": [
    "from util import generate_state\n",
    "\n",
    "n = 3\n",
    "state = generate_state(n)"
   ]
  },
  {
   "cell_type": "code",
   "execution_count": 12,
   "id": "031f7f67-e487-43ea-ad8d-68590fa2b53f",
   "metadata": {},
   "outputs": [
    {
     "name": "stdout",
     "output_type": "stream",
     "text": [
      "\n",
      "Outcome  Binary  Amplitude           Magnitude  Direction  Amplitude Bar             Probability\n",
      "------------------------------------------------------------------------------------------------\n",
      "0        000    -0.1850 - i0.1342    0.2285     -144.96°   \u001b[38;2;46;168;255m█████                   \u001b[39m  0.0522\n",
      "1        001     0.2070 + i0.0254    0.2086        7.00°   \u001b[38;2;246;64;16m█████                   \u001b[39m  0.0435\n",
      "2        010     0.2726 + i0.2780    0.3894       45.56°   \u001b[38;2;255;179;0m█████████               \u001b[39m  0.1516\n",
      "3        011     0.4867 + i0.1080    0.4985       12.51°   \u001b[38;2;247;80;8m███████████             \u001b[39m  0.2485\n",
      "4        100    -0.2028 + i0.0177    0.2036      175.10°   \u001b[38;2;39;230;219m████                    \u001b[39m  0.0414\n",
      "5        101     0.3219 + i0.0871    0.3335       15.14°   \u001b[38;2;248;89;5m████████                \u001b[39m  0.1112\n",
      "6        110    -0.1712 - i0.3447    0.3849     -116.59°   \u001b[38;2;77;128;255m█████████               \u001b[39m  0.1481\n",
      "7        111     0.3190 + i0.3188    0.4509       44.98°   \u001b[38;2;255;175;0m██████████              \u001b[39m  0.2034\n",
      "\n"
     ]
    }
   ],
   "source": [
    "print_state_table(state)"
   ]
  },
  {
   "cell_type": "code",
   "execution_count": 13,
   "id": "cfec4efb-330b-449c-ae80-389007e0a28b",
   "metadata": {},
   "outputs": [],
   "source": [
    "s = state.copy()\n",
    "\n",
    "predicate = lambda k: True if k == 5 else False\n",
    "oracle(state, predicate)"
   ]
  },
  {
   "cell_type": "code",
   "execution_count": 14,
   "id": "bfbe44eb-ddff-4289-97f0-1e5e19d70056",
   "metadata": {},
   "outputs": [
    {
     "name": "stdout",
     "output_type": "stream",
     "text": [
      "\n",
      "Outcome  Binary  Amplitude           Magnitude  Direction  Amplitude Bar             Probability\n",
      "------------------------------------------------------------------------------------------------\n",
      "0        000    -0.1850 - i0.1342    0.2285     -144.96°   \u001b[38;2;46;168;255m█████                   \u001b[39m  0.0522\n",
      "1        001     0.2070 + i0.0254    0.2086        7.00°   \u001b[38;2;246;64;16m█████                   \u001b[39m  0.0435\n",
      "2        010     0.2726 + i0.2780    0.3894       45.56°   \u001b[38;2;255;179;0m█████████               \u001b[39m  0.1516\n",
      "3        011     0.4867 + i0.1080    0.4985       12.51°   \u001b[38;2;247;80;8m███████████             \u001b[39m  0.2485\n",
      "4        100    -0.2028 + i0.0177    0.2036      175.10°   \u001b[38;2;39;230;219m████                    \u001b[39m  0.0414\n",
      "5        101    -0.3219 - i0.0871    0.3335     -164.14°   \u001b[38;2;44;214;252m████████                \u001b[39m  0.1112\n",
      "6        110    -0.1712 - i0.3447    0.3849     -116.59°   \u001b[38;2;77;128;255m█████████               \u001b[39m  0.1481\n",
      "7        111     0.3190 + i0.3188    0.4509       44.98°   \u001b[38;2;255;175;0m██████████              \u001b[39m  0.2034\n",
      "\n"
     ]
    }
   ],
   "source": [
    "print_state_table(state)"
   ]
  },
  {
   "cell_type": "code",
   "execution_count": 15,
   "id": "96628401-be6f-4c23-a67b-547706a10585",
   "metadata": {},
   "outputs": [],
   "source": [
    "inversion(s, state)"
   ]
  },
  {
   "cell_type": "code",
   "execution_count": 16,
   "id": "fa39b98c-6a11-40a9-b5c0-6dc14ab592fb",
   "metadata": {},
   "outputs": [
    {
     "name": "stdout",
     "output_type": "stream",
     "text": [
      "\n",
      "Outcome  Binary  Amplitude           Magnitude  Direction  Amplitude Bar             Probability\n",
      "------------------------------------------------------------------------------------------------\n",
      "0        000    -0.1027 - i0.0745    0.1269     -144.96°   \u001b[38;2;46;168;255m███                     \u001b[39m  0.0161\n",
      "1        001     0.1149 + i0.0141    0.1158        7.00°   \u001b[38;2;246;64;16m██                      \u001b[39m  0.0134\n",
      "2        010     0.1513 + i0.1543    0.2161       45.56°   \u001b[38;2;255;179;0m█████                   \u001b[39m  0.0467\n",
      "3        011     0.2701 + i0.0599    0.2767       12.50°   \u001b[38;2;247;80;8m██████                  \u001b[39m  0.0766\n",
      "4        100    -0.1126 + i0.0098    0.113       175.30°   \u001b[38;2;39;230;219m██                      \u001b[39m  0.0128\n",
      "5        101     0.8226 + i0.2227    0.8522       15.15°   \u001b[38;2;248;89;5m████████████████████    \u001b[39m  0.7262\n",
      "6        110    -0.0950 - i0.1913    0.2136     -116.59°   \u001b[38;2;77;128;255m█████                   \u001b[39m  0.0456\n",
      "7        111     0.1770 + i0.1769    0.2503       44.98°   \u001b[38;2;255;175;0m██████                  \u001b[39m  0.0626\n",
      "\n"
     ]
    }
   ],
   "source": [
    "print_state_table(state)"
   ]
  },
  {
   "cell_type": "code",
   "execution_count": 17,
   "id": "8e27278d-db7d-49fc-a963-1df5d541369e",
   "metadata": {
    "ExecuteTime": {
     "end_time": "2023-12-11T17:39:14.092971Z",
     "start_time": "2023-12-11T17:39:14.073131Z"
    }
   },
   "outputs": [],
   "source": [
    "n = 3\n",
    "state = [1/sqrt(2**n) for _ in range(2**n)]\n",
    "\n",
    "s = state.copy()\n",
    "\n",
    "predicate = lambda k: True if k == 3 else False\n",
    "oracle(state, predicate)"
   ]
  },
  {
   "cell_type": "code",
   "execution_count": 18,
   "id": "9d41390a-448e-4e0e-b6da-26d142c4ae54",
   "metadata": {},
   "outputs": [],
   "source": [
    "from util import is_close\n",
    "\n",
    "amplitude_mean = sum(state)/2**n\n",
    "\n",
    "proj = inner(s, state)\n",
    "for k in range(len(state)):\n",
    "    if k != 3:\n",
    "        assert is_close(proj*state[k], amplitude_mean)"
   ]
  },
  {
   "cell_type": "code",
   "execution_count": 19,
   "id": "04f6673b-2408-4c2c-943d-de5fdb8bc702",
   "metadata": {
    "ExecuteTime": {
     "end_time": "2023-12-11T17:39:14.199611Z",
     "start_time": "2023-12-11T17:39:14.193249Z"
    }
   },
   "outputs": [],
   "source": [
    "for k in range(len(state)):\n",
    "    state[k] = 2*amplitude_mean-state[k]"
   ]
  },
  {
   "cell_type": "code",
   "execution_count": 20,
   "id": "4900bfd2-4aab-4a7b-902c-fc30a3056bdf",
   "metadata": {
    "ExecuteTime": {
     "end_time": "2023-12-11T17:39:14.278030Z",
     "start_time": "2023-12-11T17:39:14.200079Z"
    }
   },
   "outputs": [
    {
     "name": "stdout",
     "output_type": "stream",
     "text": [
      "\n",
      "Outcome  Binary  Amplitude           Magnitude  Direction  Amplitude Bar             Probability\n",
      "------------------------------------------------------------------------------------------------\n",
      "0        000     0.1768 + i0.0000    0.1768        0.00°   \u001b[38;2;246;54;26m████                    \u001b[39m  0.0312\n",
      "1        001     0.1768 + i0.0000    0.1768        0.00°   \u001b[38;2;246;54;26m████                    \u001b[39m  0.0312\n",
      "2        010     0.1768 + i0.0000    0.1768        0.00°   \u001b[38;2;246;54;26m████                    \u001b[39m  0.0312\n",
      "3        011     0.8839 + i0.0000    0.8839        0.00°   \u001b[38;2;246;54;26m█████████████████████   \u001b[39m  0.7812\n",
      "4        100     0.1768 + i0.0000    0.1768        0.00°   \u001b[38;2;246;54;26m████                    \u001b[39m  0.0312\n",
      "5        101     0.1768 + i0.0000    0.1768        0.00°   \u001b[38;2;246;54;26m████                    \u001b[39m  0.0312\n",
      "6        110     0.1768 + i0.0000    0.1768        0.00°   \u001b[38;2;246;54;26m████                    \u001b[39m  0.0312\n",
      "7        111     0.1768 + i0.0000    0.1768        0.00°   \u001b[38;2;246;54;26m████                    \u001b[39m  0.0312\n",
      "\n"
     ]
    }
   ],
   "source": [
    "print_state_table(state)"
   ]
  },
  {
   "cell_type": "markdown",
   "id": "ab7c63b7-b1cc-4c2c-bbf2-3130e9c19de1",
   "metadata": {},
   "source": [
    "#### Section 9.1.3"
   ]
  },
  {
   "cell_type": "markdown",
   "id": "54d1df81-c551-4aeb-8d0e-bcfcd0892a88",
   "metadata": {},
   "source": [
    "Listing 9.2"
   ]
  },
  {
   "cell_type": "code",
   "execution_count": 21,
   "id": "5e1f2f40-2e88-4ed5-a234-2effe02e895d",
   "metadata": {
    "ExecuteTime": {
     "end_time": "2023-12-11T17:39:14.286519Z",
     "start_time": "2023-12-11T17:39:14.277303Z"
    }
   },
   "outputs": [],
   "source": [
    "from math import cos\n",
    "\n",
    "def grover_sim(state, predicate, iterations):\n",
    "    s = state.copy()\n",
    "\n",
    "    p = sum([abs(s[k])**2 for k in items]) # <1>\n",
    "    theta = asin(sqrt(p)) # <1>\n",
    "    assert is_close(inner(s, state), 1)\n",
    "\n",
    "    for it in range(1, iterations + 1):\n",
    "        oracle(state, predicate)\n",
    "        inversion(s, state)\n",
    "        assert is_close(inner(s, state), cos(2*it*theta)) # <2>\n",
    "\n",
    "        p = sum([abs(state[k])**2 for k in items]) # <3>\n",
    "        assert is_close(p, sin((2*it + 1)*theta)**2) # <4>"
   ]
  },
  {
   "cell_type": "code",
   "execution_count": 22,
   "id": "2f2a4a61609b6a98",
   "metadata": {
    "ExecuteTime": {
     "end_time": "2023-12-11T17:39:14.288061Z",
     "start_time": "2023-12-11T17:39:14.283459Z"
    }
   },
   "outputs": [],
   "source": [
    "from math import sin, asin\n",
    "\n",
    "def target_amplitude_uniform(n, l, j):\n",
    "    theta = asin(sqrt(l/2**n))\n",
    "    return sin((2*j+1)*theta)/sqrt(l)"
   ]
  },
  {
   "cell_type": "code",
   "execution_count": 23,
   "id": "8d00d7cfe192bb4",
   "metadata": {
    "ExecuteTime": {
     "end_time": "2023-12-11T17:39:14.297528Z",
     "start_time": "2023-12-11T17:39:14.288177Z"
    }
   },
   "outputs": [],
   "source": [
    "from util import is_close\n",
    "\n",
    "n = 3\n",
    "items = [3]\n",
    "predicate = lambda i: True if i in items else False\n",
    "\n",
    "state = [1/sqrt(2**n) for _ in range(2**n)]\n",
    "\n",
    "grover_sim(state, predicate, iterations = 1)\n",
    "\n",
    "assert is_close(state[items[0]], target_amplitude_uniform(3, 1, 1))"
   ]
  },
  {
   "cell_type": "code",
   "execution_count": 24,
   "id": "887ba1aba2f8a31c",
   "metadata": {
    "ExecuteTime": {
     "end_time": "2023-12-11T17:39:14.299552Z",
     "start_time": "2023-12-11T17:39:14.292505Z"
    }
   },
   "outputs": [
    {
     "name": "stdout",
     "output_type": "stream",
     "text": [
      "\n",
      "Outcome  Binary  Amplitude           Magnitude  Direction  Amplitude Bar             Probability\n",
      "------------------------------------------------------------------------------------------------\n",
      "0        000     0.1768 + i0.0000    0.1768        0.00°   \u001b[38;2;246;54;26m████                    \u001b[39m  0.0312\n",
      "1        001     0.1768 + i0.0000    0.1768        0.00°   \u001b[38;2;246;54;26m████                    \u001b[39m  0.0312\n",
      "2        010     0.1768 + i0.0000    0.1768        0.00°   \u001b[38;2;246;54;26m████                    \u001b[39m  0.0312\n",
      "3        011     0.8839 + i0.0000    0.8839        0.00°   \u001b[38;2;246;54;26m█████████████████████   \u001b[39m  0.7812\n",
      "4        100     0.1768 + i0.0000    0.1768        0.00°   \u001b[38;2;246;54;26m████                    \u001b[39m  0.0312\n",
      "5        101     0.1768 + i0.0000    0.1768        0.00°   \u001b[38;2;246;54;26m████                    \u001b[39m  0.0312\n",
      "6        110     0.1768 + i0.0000    0.1768        0.00°   \u001b[38;2;246;54;26m████                    \u001b[39m  0.0312\n",
      "7        111     0.1768 + i0.0000    0.1768        0.00°   \u001b[38;2;246;54;26m████                    \u001b[39m  0.0312\n",
      "\n"
     ]
    }
   ],
   "source": [
    "print_state_table(state)"
   ]
  },
  {
   "cell_type": "code",
   "execution_count": 25,
   "id": "2417ae56-118c-457e-b5dc-d8310538c007",
   "metadata": {
    "ExecuteTime": {
     "end_time": "2023-12-11T17:39:14.321104Z",
     "start_time": "2023-12-11T17:39:14.296509Z"
    }
   },
   "outputs": [],
   "source": [
    "n = 3\n",
    "items = [3]\n",
    "predicate = lambda i: True if i in items else False\n",
    "\n",
    "state = [1/sqrt(2**n) for _ in range(2**n)]\n",
    "\n",
    "grover_sim(state, predicate, iterations = 2)\n",
    "\n",
    "assert is_close(state[items[0]], target_amplitude_uniform(3, 1, 2))"
   ]
  },
  {
   "cell_type": "code",
   "execution_count": 26,
   "id": "b410202d-6ed1-44eb-90b8-b10b38d3787c",
   "metadata": {
    "ExecuteTime": {
     "end_time": "2023-12-11T17:39:14.333161Z",
     "start_time": "2023-12-11T17:39:14.301700Z"
    }
   },
   "outputs": [
    {
     "name": "stdout",
     "output_type": "stream",
     "text": [
      "\n",
      "Outcome  Binary  Amplitude           Magnitude  Direction  Amplitude Bar             Probability\n",
      "------------------------------------------------------------------------------------------------\n",
      "0        000    -0.0884 + i0.0000    0.0884      180.00°   \u001b[38;2;37;232;234m██                      \u001b[39m  0.0078\n",
      "1        001    -0.0884 + i0.0000    0.0884      180.00°   \u001b[38;2;37;232;234m██                      \u001b[39m  0.0078\n",
      "2        010    -0.0884 + i0.0000    0.0884      180.00°   \u001b[38;2;37;232;234m██                      \u001b[39m  0.0078\n",
      "3        011     0.9723 + i0.0000    0.9723        0.00°   \u001b[38;2;246;54;26m███████████████████████ \u001b[39m  0.9453\n",
      "4        100    -0.0884 + i0.0000    0.0884      180.00°   \u001b[38;2;37;232;234m██                      \u001b[39m  0.0078\n",
      "5        101    -0.0884 + i0.0000    0.0884      180.00°   \u001b[38;2;37;232;234m██                      \u001b[39m  0.0078\n",
      "6        110    -0.0884 + i0.0000    0.0884      180.00°   \u001b[38;2;37;232;234m██                      \u001b[39m  0.0078\n",
      "7        111    -0.0884 + i0.0000    0.0884      180.00°   \u001b[38;2;37;232;234m██                      \u001b[39m  0.0078\n",
      "\n"
     ]
    }
   ],
   "source": [
    "print_state_table(state)"
   ]
  },
  {
   "cell_type": "code",
   "execution_count": 27,
   "id": "94a5008b-e450-4112-ace0-60e156c161ba",
   "metadata": {
    "ExecuteTime": {
     "end_time": "2023-12-11T17:39:14.334399Z",
     "start_time": "2023-12-11T17:39:14.305584Z"
    }
   },
   "outputs": [],
   "source": [
    "n = 3\n",
    "items = [3]\n",
    "predicate = lambda i: True if i in items else False\n",
    "\n",
    "state = [1/sqrt(2**n) for _ in range(2**n)]\n",
    "\n",
    "grover_sim(state, predicate, iterations = 3)\n",
    "\n",
    "assert is_close(state[items[0]], target_amplitude_uniform(3, 1, 3))"
   ]
  },
  {
   "cell_type": "code",
   "execution_count": 28,
   "id": "841bfb81-9838-4d7c-ae70-70f448ff921b",
   "metadata": {
    "ExecuteTime": {
     "end_time": "2023-12-11T17:39:14.336176Z",
     "start_time": "2023-12-11T17:39:14.309919Z"
    }
   },
   "outputs": [
    {
     "name": "stdout",
     "output_type": "stream",
     "text": [
      "\n",
      "Outcome  Binary  Amplitude           Magnitude  Direction  Amplitude Bar             Probability\n",
      "------------------------------------------------------------------------------------------------\n",
      "0        000    -0.3094 + i0.0000    0.3094      180.00°   \u001b[38;2;37;232;234m███████                 \u001b[39m  0.0957\n",
      "1        001    -0.3094 + i0.0000    0.3094      180.00°   \u001b[38;2;37;232;234m███████                 \u001b[39m  0.0957\n",
      "2        010    -0.3094 + i0.0000    0.3094      180.00°   \u001b[38;2;37;232;234m███████                 \u001b[39m  0.0957\n",
      "3        011     0.5745 + i0.0000    0.5745        0.00°   \u001b[38;2;246;54;26m█████████████           \u001b[39m  0.3301\n",
      "4        100    -0.3094 + i0.0000    0.3094      180.00°   \u001b[38;2;37;232;234m███████                 \u001b[39m  0.0957\n",
      "5        101    -0.3094 + i0.0000    0.3094      180.00°   \u001b[38;2;37;232;234m███████                 \u001b[39m  0.0957\n",
      "6        110    -0.3094 + i0.0000    0.3094      180.00°   \u001b[38;2;37;232;234m███████                 \u001b[39m  0.0957\n",
      "7        111    -0.3094 + i0.0000    0.3094      180.00°   \u001b[38;2;37;232;234m███████                 \u001b[39m  0.0957\n",
      "\n"
     ]
    }
   ],
   "source": [
    "print_state_table(state)"
   ]
  },
  {
   "cell_type": "code",
   "execution_count": 29,
   "id": "54093ebb-4c89-4509-b8d6-f43c4b0de00e",
   "metadata": {
    "ExecuteTime": {
     "end_time": "2023-12-11T17:39:14.343735Z",
     "start_time": "2023-12-11T17:39:14.313749Z"
    }
   },
   "outputs": [],
   "source": [
    "from math import floor, pi\n",
    "\n",
    "num_iterations = int(floor(pi/4*sqrt(2**n/len(items))))"
   ]
  },
  {
   "cell_type": "code",
   "execution_count": 30,
   "id": "523bf0bb-d7cf-499c-a48e-65dbf7b1f5b0",
   "metadata": {
    "ExecuteTime": {
     "end_time": "2023-12-11T17:39:14.345300Z",
     "start_time": "2023-12-11T17:39:14.318467Z"
    }
   },
   "outputs": [],
   "source": [
    "from util import generate_state\n",
    "\n",
    "n = 3\n",
    "items = [0, 1]\n",
    "predicate = lambda i: True if i in items else False\n",
    "iterations = int(floor(pi/4*sqrt(2**n/len(items))))\n",
    "\n",
    "state = generate_state(n)\n",
    "grover_sim(state, predicate, iterations)"
   ]
  },
  {
   "cell_type": "code",
   "execution_count": 31,
   "id": "5b8b79e5-8378-488f-a9a3-4b8732d7d017",
   "metadata": {
    "ExecuteTime": {
     "end_time": "2023-12-11T17:39:14.384462Z",
     "start_time": "2023-12-11T17:39:14.323121Z"
    }
   },
   "outputs": [
    {
     "name": "stdout",
     "output_type": "stream",
     "text": [
      "\n",
      "Outcome  Binary  Amplitude           Magnitude  Direction  Amplitude Bar             Probability\n",
      "------------------------------------------------------------------------------------------------\n",
      "0        000    -0.4842 - i0.3511    0.5981     -144.95°   \u001b[38;2;46;168;255m██████████████          \u001b[39m  0.3577\n",
      "1        001     0.5418 + i0.0665    0.5459        7.00°   \u001b[38;2;246;64;16m█████████████           \u001b[39m  0.298 \n",
      "2        010     0.1682 + i0.1715    0.2403       45.56°   \u001b[38;2;255;179;0m█████                   \u001b[39m  0.0577\n",
      "3        011     0.3003 + i0.0666    0.3076       12.50°   \u001b[38;2;247;80;8m███████                 \u001b[39m  0.0946\n",
      "4        100    -0.1251 + i0.0109    0.1256      175.20°   \u001b[38;2;39;230;219m███                     \u001b[39m  0.0158\n",
      "5        101     0.1986 + i0.0538    0.2058       15.16°   \u001b[38;2;248;89;5m████                    \u001b[39m  0.0424\n",
      "6        110    -0.1056 - i0.2127    0.2375     -116.60°   \u001b[38;2;77;128;255m█████                   \u001b[39m  0.0564\n",
      "7        111     0.1968 + i0.1967    0.2782       44.99°   \u001b[38;2;255;175;0m██████                  \u001b[39m  0.0774\n",
      "\n"
     ]
    }
   ],
   "source": [
    "print_state_table(state)"
   ]
  },
  {
   "cell_type": "markdown",
   "id": "2ad8cbee-00ad-47f7-963c-21a4bb32d7c2",
   "metadata": {},
   "source": [
    "#### Section 9.1.4"
   ]
  },
  {
   "cell_type": "code",
   "execution_count": 32,
   "id": "8aeffa9d-8cf5-462d-8020-a160f591aa0b",
   "metadata": {
    "jupyter": {
     "outputs_hidden": false
    }
   },
   "outputs": [],
   "source": [
    "import numpy as np\n",
    "\n",
    "def random_transformation(n):\n",
    "    import scipy.stats\n",
    "    U = scipy.stats.unitary_group.rvs(2**n)\n",
    "\n",
    "    def f_direct(state):\n",
    "        assert(len(state) == 2**n)\n",
    "        s = U @ state\n",
    "        for k in range(len(s)):\n",
    "            state[k] = s[k]\n",
    "\n",
    "    def f_inverse(state):\n",
    "        assert(len(state) == 2**n)\n",
    "        s = np.conj(U.transpose()) @ state\n",
    "        for k in range(len(s)):\n",
    "            state[k] = s[k]\n",
    "\n",
    "    return (f_direct, f_inverse)"
   ]
  },
  {
   "cell_type": "code",
   "execution_count": 33,
   "id": "e5a18a44-e85b-410e-9e86-8e8c54bf8988",
   "metadata": {},
   "outputs": [],
   "source": [
    "n = 3\n",
    "f = random_transformation(n)"
   ]
  },
  {
   "cell_type": "code",
   "execution_count": 34,
   "id": "d1c1cb14-41cf-4566-a982-44573f83d1c2",
   "metadata": {},
   "outputs": [],
   "source": [
    "from sim_core import init_state\n",
    "\n",
    "state = init_state(n)\n",
    "f[0](state)"
   ]
  },
  {
   "cell_type": "code",
   "execution_count": 35,
   "id": "fb233b99-4fbe-40db-904d-1c5739791a31",
   "metadata": {},
   "outputs": [
    {
     "name": "stdout",
     "output_type": "stream",
     "text": [
      "\n",
      "Outcome  Binary  Amplitude           Magnitude  Direction  Amplitude Bar             Probability\n",
      "------------------------------------------------------------------------------------------------\n",
      "0        000     0.0387 - i0.0436    0.0583      -48.59°   \u001b[38;2;255;171;196m█                       \u001b[39m  0.0034\n",
      "1        001     0.4965 + i0.1126    0.5091       12.78°   \u001b[38;2;248;84;6m████████████            \u001b[39m  0.2592\n",
      "2        010    -0.1921 + i0.1805    0.2636      136.78°   \u001b[38;2;44;169;85m██████                  \u001b[39m  0.0695\n",
      "3        011    -0.1291 + i0.4627    0.4803      105.59°   \u001b[38;2;99;163;6m███████████             \u001b[39m  0.2307\n",
      "4        100     0.0203 - i0.3500    0.3505      -86.32°   \u001b[38;2;183;165;255m████████                \u001b[39m  0.1229\n",
      "5        101    -0.3036 - i0.2277    0.3795     -143.87°   \u001b[38;2;45;165;255m█████████               \u001b[39m  0.144 \n",
      "6        110    -0.1102 - i0.1030    0.1508     -136.70°   \u001b[38;2;41;153;255m███                     \u001b[39m  0.0227\n",
      "7        111    -0.1413 - i0.3573    0.3842     -111.42°   \u001b[38;2;94;130;255m█████████               \u001b[39m  0.1476\n",
      "\n"
     ]
    }
   ],
   "source": [
    "print_state_table(state)"
   ]
  },
  {
   "cell_type": "markdown",
   "id": "f2a8eaef-227f-41fb-b4d4-1fe6088c525f",
   "metadata": {},
   "source": [
    "Listing 9.3"
   ]
  },
  {
   "cell_type": "code",
   "execution_count": 36,
   "id": "6893d976-a1f9-44a1-9f8f-3a81add312ce",
   "metadata": {},
   "outputs": [],
   "source": [
    "from math import log2\n",
    "\n",
    "def inversion_0_transformation(f, state):\n",
    "    n = int(log2(len(state)))\n",
    "\n",
    "    transform = f[0]\n",
    "    inverse_transform = f[1]\n",
    "\n",
    "    inverse_transform(state)\n",
    "    inversion(init_state(n), state)\n",
    "    transform(state)"
   ]
  },
  {
   "cell_type": "code",
   "execution_count": 37,
   "id": "da91b29c-81e1-4339-aac2-afabf4801bb8",
   "metadata": {},
   "outputs": [],
   "source": [
    "predicate = lambda k: True if k == 3 else False\n",
    "oracle(state, predicate)"
   ]
  },
  {
   "cell_type": "code",
   "execution_count": 38,
   "id": "2dbc8d8d-1984-486e-80fe-0182269ef353",
   "metadata": {},
   "outputs": [
    {
     "name": "stdout",
     "output_type": "stream",
     "text": [
      "\n",
      "Outcome  Binary  Amplitude           Magnitude  Direction  Amplitude Bar             Probability\n",
      "------------------------------------------------------------------------------------------------\n",
      "0        000     0.0387 - i0.0436    0.0583      -48.59°   \u001b[38;2;255;171;196m█                       \u001b[39m  0.0034\n",
      "1        001     0.4965 + i0.1126    0.5091       12.78°   \u001b[38;2;248;84;6m████████████            \u001b[39m  0.2592\n",
      "2        010    -0.1921 + i0.1805    0.2636      136.78°   \u001b[38;2;44;169;85m██████                  \u001b[39m  0.0695\n",
      "3        011     0.1291 - i0.4627    0.4803      -74.59°   \u001b[38;2;219;184;255m███████████             \u001b[39m  0.2307\n",
      "4        100     0.0203 - i0.3500    0.3505      -86.32°   \u001b[38;2;183;165;255m████████                \u001b[39m  0.1229\n",
      "5        101    -0.3036 - i0.2277    0.3795     -143.87°   \u001b[38;2;45;165;255m█████████               \u001b[39m  0.144 \n",
      "6        110    -0.1102 - i0.1030    0.1508     -136.70°   \u001b[38;2;41;153;255m███                     \u001b[39m  0.0227\n",
      "7        111    -0.1413 - i0.3573    0.3842     -111.42°   \u001b[38;2;94;130;255m█████████               \u001b[39m  0.1476\n",
      "\n"
     ]
    }
   ],
   "source": [
    "print_state_table(state)"
   ]
  },
  {
   "cell_type": "code",
   "execution_count": 39,
   "id": "d40a7da1-b3ef-435b-9e9c-23b20ae3bfbd",
   "metadata": {},
   "outputs": [],
   "source": [
    "inversion_0_transformation(f, state)"
   ]
  },
  {
   "cell_type": "code",
   "execution_count": 40,
   "id": "c4857862-f64d-475a-ab28-40f8da659ce1",
   "metadata": {},
   "outputs": [
    {
     "name": "stdout",
     "output_type": "stream",
     "text": [
      "\n",
      "Outcome  Binary  Amplitude           Magnitude  Direction  Amplitude Bar             Probability\n",
      "------------------------------------------------------------------------------------------------\n",
      "0        000     0.0030 - i0.0034    0.0045      -48.42°   \u001b[38;2;255;171;196m                        \u001b[39m  0.0   \n",
      "1        001     0.0383 + i0.0087    0.0393       12.80°   \u001b[38;2;248;84;6m                        \u001b[39m  0.0015\n",
      "2        010    -0.0148 + i0.0139    0.0203      136.80°   \u001b[38;2;44;169;85m                        \u001b[39m  0.0004\n",
      "3        011    -0.2682 + i0.9610    0.9977      105.59°   \u001b[38;2;99;163;6m███████████████████████ \u001b[39m  0.9954\n",
      "4        100     0.0016 - i0.0270    0.027       -86.39°   \u001b[38;2;183;165;255m                        \u001b[39m  0.0007\n",
      "5        101    -0.0234 - i0.0176    0.0293     -143.95°   \u001b[38;2;45;165;255m                        \u001b[39m  0.0009\n",
      "6        110    -0.0085 - i0.0079    0.0116     -137.90°   \u001b[38;2;41;153;255m                        \u001b[39m  0.0001\n",
      "7        111    -0.0109 - i0.0276    0.0296     -111.45°   \u001b[38;2;94;130;255m                        \u001b[39m  0.0009\n",
      "\n"
     ]
    }
   ],
   "source": [
    "print_state_table(state)"
   ]
  },
  {
   "cell_type": "markdown",
   "id": "2a7e247d-722f-42f3-9d82-671a6d0520d6",
   "metadata": {},
   "source": [
    "## Section 9.2"
   ]
  },
  {
   "cell_type": "markdown",
   "id": "864d6f9a-4667-4e0d-a9be-a79b7a31c792",
   "metadata": {},
   "source": [
    "#### Section 9.2.1"
   ]
  },
  {
   "cell_type": "markdown",
   "id": "4cea8682-8efc-4d1a-b40c-9ce2e546d367",
   "metadata": {},
   "source": [
    "Listing 9.4"
   ]
  },
  {
   "cell_type": "code",
   "execution_count": 41,
   "id": "fdd5a91db4116142",
   "metadata": {
    "ExecuteTime": {
     "end_time": "2023-12-11T17:39:14.412737Z",
     "start_time": "2023-12-11T17:39:14.344665Z"
    }
   },
   "outputs": [],
   "source": [
    "from sim_circuit import QuantumRegister, QuantumCircuit\n",
    "\n",
    "\n",
    "def is_bit_not_set(m, k):\n",
    "    return not (m & (1 << k))\n",
    "\n",
    "def phase_oracle_match(n, items):\n",
    "    q = QuantumRegister(n)\n",
    "    qc = QuantumCircuit(q)\n",
    "\n",
    "    for m in items:\n",
    "        for i in range(n):\n",
    "            if is_bit_not_set(m, i):\n",
    "                qc.x(q[i])\n",
    "\n",
    "        qc.mcp(pi, [q[i] for i in range(len(q) - 1)], q[len(q) - 1])\n",
    "\n",
    "        for i in range(n):\n",
    "            if is_bit_not_set(m, i):\n",
    "                qc.x(q[i])\n",
    "    return qc"
   ]
  },
  {
   "cell_type": "markdown",
   "id": "0f56dc16-99d8-44c1-8874-c0e5e9eddfe1",
   "metadata": {},
   "source": [
    "#### Section 9.2.2"
   ]
  },
  {
   "cell_type": "markdown",
   "id": "9a610aad-b5a9-488b-ba35-881a411d00a1",
   "metadata": {},
   "source": [
    "Listing 9.5"
   ]
  },
  {
   "cell_type": "code",
   "execution_count": 42,
   "id": "d57a0c22-6fcc-4779-8f4b-0490715a5c85",
   "metadata": {
    "ExecuteTime": {
     "end_time": "2023-12-11T17:39:14.418771Z",
     "start_time": "2023-12-11T17:39:14.349955Z"
    }
   },
   "outputs": [],
   "source": [
    "def inversion_0_circuit(n):\n",
    "    q = QuantumRegister(n)\n",
    "    qc = QuantumCircuit(q)\n",
    "\n",
    "    for i in range(n):\n",
    "        qc.x(q[i])\n",
    "\n",
    "    qc.mcp(pi, [q[i] for i in range(n - 1)], q[n - 1])\n",
    "\n",
    "    for i in range(n):\n",
    "        qc.x(q[i])\n",
    "\n",
    "    return qc"
   ]
  },
  {
   "cell_type": "markdown",
   "id": "ae6f8d6e-d46a-4397-ab78-8e9f89ed04ff",
   "metadata": {},
   "source": [
    "Listing 9.6"
   ]
  },
  {
   "cell_type": "code",
   "execution_count": 43,
   "id": "593a1c35c9dad903",
   "metadata": {
    "ExecuteTime": {
     "end_time": "2023-12-11T17:39:14.420731Z",
     "start_time": "2023-12-11T17:39:14.353981Z"
    }
   },
   "outputs": [],
   "source": [
    "def inversion_circuit(A):\n",
    "    n = sum(A.regs)\n",
    "    q = QuantumRegister(n)\n",
    "    qc = QuantumCircuit(q)\n",
    "\n",
    "    qc.append(A.inverse(), q)\n",
    "\n",
    "    qc.append(inversion_0_circuit(n), q)\n",
    "\n",
    "    qc.append(A, q)\n",
    "\n",
    "    return qc"
   ]
  },
  {
   "cell_type": "markdown",
   "id": "d5f45e25-e025-492a-8817-bd79dc660bf7",
   "metadata": {},
   "source": [
    "#### Section 9.2.3"
   ]
  },
  {
   "cell_type": "markdown",
   "id": "8afb36cf-a581-452b-add4-f6ce760c1f5e",
   "metadata": {},
   "source": [
    "Listing 9.7"
   ]
  },
  {
   "cell_type": "code",
   "execution_count": 44,
   "id": "95147d57-8542-4bf5-97dd-547b2ab34057",
   "metadata": {
    "ExecuteTime": {
     "end_time": "2023-12-11T17:39:14.422324Z",
     "start_time": "2023-12-11T17:39:14.357361Z"
    }
   },
   "outputs": [],
   "source": [
    "def grover_iterate_circuit(A, O):\n",
    "    n = sum(O.regs)\n",
    "    q = QuantumRegister(n)\n",
    "    qc = QuantumCircuit(q)\n",
    "\n",
    "    qc.append(O, q)\n",
    "\n",
    "    qc.append(inversion_circuit(A), q)\n",
    "\n",
    "    return qc"
   ]
  },
  {
   "cell_type": "markdown",
   "id": "8d9f45d2-4746-4993-937e-f323e4c64344",
   "metadata": {},
   "source": [
    "#### Section 9.2.4"
   ]
  },
  {
   "cell_type": "markdown",
   "id": "280ef96d-a416-48d1-8803-45ac693915ff",
   "metadata": {},
   "source": [
    "Listing 9.8"
   ]
  },
  {
   "cell_type": "code",
   "execution_count": 45,
   "id": "7aacddcecc04e917",
   "metadata": {
    "ExecuteTime": {
     "end_time": "2023-12-11T17:39:14.423656Z",
     "start_time": "2023-12-11T17:39:14.360835Z"
    }
   },
   "outputs": [],
   "source": [
    "def grover_circuit(A, O, iterations):\n",
    "    n = sum(A.regs)\n",
    "    q = QuantumRegister(n)\n",
    "    qc = QuantumCircuit(q)\n",
    "    \n",
    "    qc.append(A, q)\n",
    "\n",
    "    for i in range(1, iterations + 1):\n",
    "        qc.append(grover_iterate_circuit(A, O), q)\n",
    "        qc.report(f'iteration_{i}')\n",
    "\n",
    "    return qc"
   ]
  },
  {
   "cell_type": "code",
   "execution_count": 46,
   "id": "979ff1e5-25d5-4629-aceb-bf343d2d4a37",
   "metadata": {
    "ExecuteTime": {
     "end_time": "2023-12-11T17:39:14.424904Z",
     "start_time": "2023-12-11T17:39:14.364249Z"
    }
   },
   "outputs": [],
   "source": [
    "def prepare_uniform(n):\n",
    "    q = QuantumRegister(n)\n",
    "    qc = QuantumCircuit(q)\n",
    "\n",
    "    for i in range(len(q)):\n",
    "        qc.h(q[i])\n",
    "\n",
    "    return qc"
   ]
  },
  {
   "cell_type": "code",
   "execution_count": 47,
   "id": "67d0536e-c8ac-4c02-99b0-5e0696cf5637",
   "metadata": {
    "ExecuteTime": {
     "end_time": "2023-12-11T17:39:14.426119Z",
     "start_time": "2023-12-11T17:39:14.367700Z"
    }
   },
   "outputs": [],
   "source": [
    "n = 3\n",
    "items = [1, 3, 7]\n",
    "num_iterations = int(floor(pi/4*sqrt(2**n/len(items))))\n",
    "\n",
    "qc = grover_circuit(prepare_uniform(n), phase_oracle_match(n, items), num_iterations)"
   ]
  },
  {
   "cell_type": "code",
   "execution_count": 48,
   "id": "9384d8bc-5dc3-4fc1-97fe-41bcce30372c",
   "metadata": {
    "ExecuteTime": {
     "end_time": "2023-12-11T17:39:14.555408Z",
     "start_time": "2023-12-11T17:39:14.370133Z"
    }
   },
   "outputs": [
    {
     "data": {
      "text/html": [
       "<pre style=\"word-wrap: normal;white-space: pre;background: #fff0;line-height: 1.1;font-family: &quot;Courier New&quot;,Courier,monospace\">     ┌───┐                                         ┌───┐┌───┐       ┌───┐┌───┐\n",
       "q_0: ┤ H ├──────■────────────────■───────────■─────┤ H ├┤ X ├─■─────┤ X ├┤ H ├\n",
       "     ├───┤┌───┐ │     ┌───┐      │           │     ├───┤├───┤ │     ├───┤├───┤\n",
       "q_1: ┤ H ├┤ X ├─■─────┤ X ├──────■───────────■─────┤ H ├┤ X ├─■─────┤ X ├┤ H ├\n",
       "     ├───┤├───┤ │P(π) ├───┤┌───┐ │P(π) ┌───┐ │P(π) ├───┤├───┤ │P(π) ├───┤├───┤\n",
       "q_2: ┤ H ├┤ X ├─■─────┤ X ├┤ X ├─■─────┤ X ├─■─────┤ H ├┤ X ├─■─────┤ X ├┤ H ├\n",
       "     └───┘└───┘       └───┘└───┘       └───┘       └───┘└───┘       └───┘└───┘</pre>"
      ],
      "text/plain": [
       "     ┌───┐                                         ┌───┐┌───┐       ┌───┐┌───┐\n",
       "q_0: ┤ H ├──────■────────────────■───────────■─────┤ H ├┤ X ├─■─────┤ X ├┤ H ├\n",
       "     ├───┤┌───┐ │     ┌───┐      │           │     ├───┤├───┤ │     ├───┤├───┤\n",
       "q_1: ┤ H ├┤ X ├─■─────┤ X ├──────■───────────■─────┤ H ├┤ X ├─■─────┤ X ├┤ H ├\n",
       "     ├───┤├───┤ │P(π) ├───┤┌───┐ │P(π) ┌───┐ │P(π) ├───┤├───┤ │P(π) ├───┤├───┤\n",
       "q_2: ┤ H ├┤ X ├─■─────┤ X ├┤ X ├─■─────┤ X ├─■─────┤ H ├┤ X ├─■─────┤ X ├┤ H ├\n",
       "     └───┘└───┘       └───┘└───┘       └───┘       └───┘└───┘       └───┘└───┘"
      ]
     },
     "execution_count": 48,
     "metadata": {},
     "output_type": "execute_result"
    }
   ],
   "source": [
    "from util_qiskit import draw_circuit\n",
    "\n",
    "draw_circuit(qc)"
   ]
  },
  {
   "cell_type": "code",
   "execution_count": 49,
   "id": "418a0140-6bdb-40ed-a3fd-2fa5160c360e",
   "metadata": {
    "ExecuteTime": {
     "end_time": "2023-12-11T17:39:14.559113Z",
     "start_time": "2023-12-11T17:39:14.555649Z"
    }
   },
   "outputs": [],
   "source": [
    "for i in range(1, num_iterations + 1):\n",
    "    for m in items:\n",
    "        assert is_close(qc.reports[f'iteration_{i}'][2][m], (-1)**i * target_amplitude_uniform(n, len(items), i))"
   ]
  },
  {
   "cell_type": "code",
   "execution_count": 50,
   "id": "f4ed7725",
   "metadata": {
    "ExecuteTime": {
     "end_time": "2023-12-11T17:39:14.563925Z",
     "start_time": "2023-12-11T17:39:14.560611Z"
    }
   },
   "outputs": [
    {
     "name": "stdout",
     "output_type": "stream",
     "text": [
      "\n",
      "Outcome  Binary  Amplitude           Magnitude  Direction  Amplitude Bar             Probability\n",
      "------------------------------------------------------------------------------------------------\n",
      "0        000     0.1768 + i0.0000    0.1768        0.00°   \u001b[38;2;246;53;29m████                    \u001b[39m  0.0312\n",
      "1        001    -0.5303 + i0.0000    0.5303      180.00°   \u001b[38;2;37;232;234m████████████            \u001b[39m  0.2812\n",
      "2        010     0.1768 + i0.0000    0.1768        0.00°   \u001b[38;2;246;53;29m████                    \u001b[39m  0.0312\n",
      "3        011    -0.5303 + i0.0000    0.5303      180.00°   \u001b[38;2;37;232;234m████████████            \u001b[39m  0.2812\n",
      "4        100     0.1768 + i0.0000    0.1768        0.00°   \u001b[38;2;246;53;29m████                    \u001b[39m  0.0312\n",
      "5        101     0.1768 + i0.0000    0.1768        0.00°   \u001b[38;2;246;53;29m████                    \u001b[39m  0.0312\n",
      "6        110     0.1768 + i0.0000    0.1768        0.00°   \u001b[38;2;246;53;29m████                    \u001b[39m  0.0312\n",
      "7        111    -0.5303 + i0.0000    0.5303      180.00°   \u001b[38;2;37;232;234m████████████            \u001b[39m  0.2812\n",
      "\n"
     ]
    }
   ],
   "source": [
    "print_state_table(qc.run())"
   ]
  },
  {
   "cell_type": "code",
   "execution_count": 51,
   "id": "f3b0dd53139506bb",
   "metadata": {
    "ExecuteTime": {
     "end_time": "2023-12-11T17:39:14.597731Z",
     "start_time": "2023-12-11T17:39:14.574305Z"
    },
    "jupyter": {
     "outputs_hidden": false
    }
   },
   "outputs": [],
   "source": [
    "def unitary_to_circuit(U):\n",
    "    assert(U.shape[0] == U.shape[1])\n",
    "    m = int(log2(U.shape[0]))\n",
    "\n",
    "    q = QuantumRegister(m)\n",
    "    qc = QuantumCircuit(q)\n",
    "    qc.append_u(U, q)\n",
    "\n",
    "    return qc"
   ]
  },
  {
   "cell_type": "code",
   "execution_count": 52,
   "id": "f7a4fd4d4ec2b44d",
   "metadata": {
    "ExecuteTime": {
     "end_time": "2023-12-11T17:39:14.865856Z",
     "start_time": "2023-12-11T17:39:14.577745Z"
    },
    "jupyter": {
     "outputs_hidden": false
    }
   },
   "outputs": [],
   "source": [
    "import scipy.stats\n",
    "# import numpy as np\n",
    "# np.random.rseed(seed=233423)\n",
    "\n",
    "def random_unitary_and_circuit(m):\n",
    "    A = scipy.stats.unitary_group.rvs(2**m)\n",
    "    return A, unitary_to_circuit(A)\n",
    "\n",
    "def random_circuit(m):\n",
    "    return random_unitary_and_circuit(m)[1]"
   ]
  },
  {
   "cell_type": "code",
   "execution_count": 53,
   "id": "e5e87bfc00733f02",
   "metadata": {
    "ExecuteTime": {
     "end_time": "2023-12-11T17:39:14.877529Z",
     "start_time": "2023-12-11T17:39:14.870315Z"
    },
    "jupyter": {
     "outputs_hidden": false
    }
   },
   "outputs": [
    {
     "name": "stdout",
     "output_type": "stream",
     "text": [
      "\n",
      "Outcome  Binary  Amplitude           Magnitude  Direction  Amplitude Bar             Probability\n",
      "------------------------------------------------------------------------------------------------\n",
      "0        000    -0.3194 - i0.2165    0.3858     -145.13°   \u001b[38;2;46;171;255m█████████               \u001b[39m  0.1489\n",
      "1        001     0.4568 - i0.2027    0.4997      -23.70°   \u001b[38;2;255;108;104m███████████             \u001b[39m  0.2497\n",
      "2        010     0.0406 - i0.1959    0.2         -78.71°   \u001b[38;2;207;178;255m████                    \u001b[39m  0.04  \n",
      "3        011     0.4452 - i0.3001    0.5369      -33.20°   \u001b[38;2;255;136;142m████████████            \u001b[39m  0.2883\n",
      "4        100    -0.1483 + i0.0224    0.15        171.41°   \u001b[38;2;42;226;206m███                     \u001b[39m  0.0225\n",
      "5        101     0.3483 - i0.1195    0.3682      -18.60°   \u001b[38;2;255;92;84m████████                \u001b[39m  0.1356\n",
      "6        110    -0.0173 - i0.1785    0.1793      -95.46°   \u001b[38;2;156;151;255m████                    \u001b[39m  0.0322\n",
      "7        111     0.2684 + i0.1042    0.2879       21.22°   \u001b[38;2;251;111;1m██████                  \u001b[39m  0.0829\n",
      "\n"
     ]
    }
   ],
   "source": [
    "n = 3\n",
    "items = [0, 1]\n",
    "iterations = 3\n",
    "\n",
    "q = QuantumRegister(n)\n",
    "qc = QuantumCircuit(q)\n",
    "\n",
    "O = phase_oracle_match(n, items)\n",
    "C = random_circuit(n)\n",
    "G = grover_iterate_circuit(C, O)\n",
    "\n",
    "qc.append(C, q)\n",
    "qc.report('original')\n",
    "for it in range(1, iterations + 1):\n",
    "    qc.append(G, q)\n",
    "    qc.report(f'iteration_{it}')\n",
    "\n",
    "state = qc.run()\n",
    "print_state_table(state)\n",
    "\n",
    "original = qc.reports['original'][2]\n",
    "prob_good = sum([abs(original[k])**2 for k in items])\n",
    "\n",
    "theta = asin(sqrt(prob_good))\n",
    "for it in range(1, iterations + 1):\n",
    "    s = qc.reports[f'iteration_{it}'][2]\n",
    "    assert is_close(abs(cos(2*it*theta)), abs(inner(original, s)))\n",
    "    \n",
    "    p = sum([abs(s[k])**2 for k in items])\n",
    "    assert is_close(p, sin((2*it + 1)*theta)**2)"
   ]
  },
  {
   "cell_type": "markdown",
   "id": "a7a7b3eece82ff61",
   "metadata": {},
   "source": [
    "## Section 9.3"
   ]
  },
  {
   "cell_type": "markdown",
   "id": "37bade8e-d621-4f24-8041-3cc3ca285cff",
   "metadata": {},
   "source": [
    "#### Section 9.3.1"
   ]
  },
  {
   "cell_type": "markdown",
   "id": "a02a5e6deb96fedb",
   "metadata": {},
   "source": [
    "Listing 9.9"
   ]
  },
  {
   "cell_type": "code",
   "execution_count": 54,
   "id": "3f112d19c851b192",
   "metadata": {
    "ExecuteTime": {
     "end_time": "2023-12-11T17:39:14.885686Z",
     "start_time": "2023-12-11T17:39:14.879858Z"
    }
   },
   "outputs": [],
   "source": [
    "def amplitude_estimation_circuit(n, A, O, swap=True):\n",
    "    c = QuantumRegister(n)\n",
    "    q = QuantumRegister(sum(A.regs))\n",
    "    qc = QuantumCircuit(c, q)\n",
    "\n",
    "    for i in range(n):\n",
    "        qc.h(c[i])\n",
    "\n",
    "    qc.append(A, q)\n",
    "\n",
    "    for i in range(n):\n",
    "        for _ in range(2**i):\n",
    "            if swap:\n",
    "                qc.c_append(grover_iterate_circuit(A, O), c[i], q) # <1>\n",
    "            else:\n",
    "                qc.c_append(grover_iterate_circuit(A, O), c[n-1-i], q) # <1>\n",
    "\n",
    "    qc.iqft(c if swap else c[::-1], swap)\n",
    "\n",
    "    return qc"
   ]
  },
  {
   "cell_type": "markdown",
   "id": "e8ba668c-cbef-4969-8f1b-c8919976adac",
   "metadata": {},
   "source": [
    "#### Section 9.3.2"
   ]
  },
  {
   "cell_type": "code",
   "execution_count": 55,
   "id": "24ac0c1c3eaa72f7",
   "metadata": {
    "ExecuteTime": {
     "end_time": "2023-12-11T17:39:14.958887Z",
     "start_time": "2023-12-11T17:39:14.946893Z"
    }
   },
   "outputs": [],
   "source": [
    "from math import pi\n",
    "\n",
    "n = 5\n",
    "m = 3\n",
    "items = [0, 1, 2]\n",
    "qc = amplitude_estimation_circuit(n, prepare_uniform(m), phase_oracle_match(m, items), False)\n",
    "\n",
    "state = qc.run()"
   ]
  },
  {
   "cell_type": "code",
   "execution_count": 56,
   "id": "4f4441c9cac46137",
   "metadata": {
    "ExecuteTime": {
     "end_time": "2023-12-11T17:39:15.125428Z",
     "start_time": "2023-12-11T17:39:14.969246Z"
    }
   },
   "outputs": [
    {
     "data": {
      "image/png": "[encoded data removed]",
      "text/plain": [
       "<Figure size 640x480 with 1 Axes>"
      ]
     },
     "metadata": {},
     "output_type": "display_data"
    }
   ],
   "source": [
    "from util import list_to_dict, plot_bars\n",
    "\n",
    "probs = [0 for _ in range(2**n)]\n",
    "for k in range(2**m): # prefix\n",
    "    for j in range(2**n): # suffix\n",
    "        probs[j] += abs(state[k*2**n + j])**2\n",
    "\n",
    "plot_bars(list_to_dict(probs, True), '', 'Outcomes', 'Probability')"
   ]
  },
  {
   "cell_type": "code",
   "execution_count": 57,
   "id": "1682ad33-5352-4503-9f33-5f5fc5689c04",
   "metadata": {},
   "outputs": [
    {
     "data": {
      "image/png": "[encoded data removed]",
      "text/plain": [
       "<Figure size 640x480 with 1 Axes>"
      ]
     },
     "metadata": {},
     "output_type": "display_data"
    }
   ],
   "source": [
    "probs_half = [2*probs[k] for k in range(len(probs)//2 + 1, len(probs))]\n",
    "probs_half = [1 - sum(probs_half)] + probs_half\n",
    "\n",
    "plot_bars(list_to_dict(probs_half, False), '', '', '')"
   ]
  },
  {
   "cell_type": "code",
   "execution_count": 58,
   "id": "f611e43e",
   "metadata": {
    "ExecuteTime": {
     "end_time": "2023-12-11T17:39:15.243031Z",
     "start_time": "2023-12-11T17:39:15.239064Z"
    },
    "scrolled": true
   },
   "outputs": [
    {
     "name": "stdout",
     "output_type": "stream",
     "text": [
      "v: 7\n",
      "count: 3\n"
     ]
    }
   ],
   "source": [
    "import numpy as np\n",
    "\n",
    "v = np.argmax(probs[int(len(probs)/2):])\n",
    "print('v:', v)\n",
    "count = int(2**m*sin(7*pi/2**n)**2)\n",
    "print('count:', count)\n",
    "assert(count == len(items))"
   ]
  },
  {
   "cell_type": "markdown",
   "id": "3ebdd25d-b7b1-4bb3-86ae-94930d411a6a",
   "metadata": {},
   "source": [
    "#### Section 9.3.3"
   ]
  },
  {
   "cell_type": "code",
   "execution_count": 59,
   "id": "2eafc85e",
   "metadata": {
    "ExecuteTime": {
     "end_time": "2023-12-11T17:39:15.253919Z",
     "start_time": "2023-12-11T17:39:15.246074Z"
    }
   },
   "outputs": [
    {
     "name": "stdout",
     "output_type": "stream",
     "text": [
      "\n",
      "Outcome  Binary  Amplitude           Magnitude  Direction  Amplitude Bar             Probability\n",
      "------------------------------------------------------------------------------------------------\n",
      "0        000    -0.3155 - i0.0497    0.3194     -171.95°   \u001b[38;2;40;224;248m███████                 \u001b[39m  0.102 \n",
      "1        001    -0.2593 + i0.1432    0.2962      151.90°   \u001b[38;2;50;193;135m███████                 \u001b[39m  0.0877\n",
      "2        010     0.6702 + i0.2489    0.7149       20.37°   \u001b[38;2;251;107;2m█████████████████       \u001b[39m  0.5111\n",
      "3        011     0.0282 - i0.0734    0.0786      -68.20°   \u001b[38;2;230;188;253m█                       \u001b[39m  0.0062\n",
      "4        100    -0.2768 - i0.1799    0.3302     -146.20°   \u001b[38;2;47;175;255m███████                 \u001b[39m  0.109 \n",
      "5        101    -0.0405 - i0.0341    0.053      -139.10°   \u001b[38;2;43;159;255m█                       \u001b[39m  0.0028\n",
      "6        110     0.1384 - i0.0333    0.1423      -13.47°   \u001b[38;2;253;75;64m███                     \u001b[39m  0.0203\n",
      "7        111     0.1649 + i0.3656    0.4011       65.72°   \u001b[38;2;232;209;0m█████████               \u001b[39m  0.1609\n",
      "\n"
     ]
    }
   ],
   "source": [
    "m = 3\n",
    "\n",
    "np.random.seed(seed=50)\n",
    "C = random_circuit(m)\n",
    "\n",
    "print_state_table(C.run())"
   ]
  },
  {
   "cell_type": "code",
   "execution_count": 60,
   "id": "2304a226-0076-428c-82f9-a0e7263268fa",
   "metadata": {},
   "outputs": [],
   "source": [
    "A, C = random_unitary_and_circuit(m)"
   ]
  },
  {
   "cell_type": "code",
   "execution_count": 61,
   "id": "37683f2a",
   "metadata": {
    "ExecuteTime": {
     "end_time": "2023-12-11T17:39:15.252235Z",
     "start_time": "2023-12-11T17:39:15.242959Z"
    }
   },
   "outputs": [],
   "source": [
    "def good_probs(qc, items):\n",
    "    state = qc.run()\n",
    "    return sum([abs(state[k])**2 for k in items])"
   ]
  },
  {
   "cell_type": "code",
   "execution_count": 62,
   "id": "50fd9327",
   "metadata": {
    "ExecuteTime": {
     "end_time": "2023-12-11T17:39:15.279838Z",
     "start_time": "2023-12-11T17:39:15.252288Z"
    }
   },
   "outputs": [
    {
     "name": "stdout",
     "output_type": "stream",
     "text": [
      "0.23387693366536028\n"
     ]
    }
   ],
   "source": [
    "# probability of good states\n",
    "\n",
    "# items = [0, 1]\n",
    "items = range(2**m)[:2**(m-1)]\n",
    "prob_g = good_probs(C, items)\n",
    "print(prob_g)"
   ]
  },
  {
   "cell_type": "code",
   "execution_count": 63,
   "id": "a735e8de",
   "metadata": {
    "ExecuteTime": {
     "end_time": "2023-12-11T17:39:15.282260Z",
     "start_time": "2023-12-11T17:39:15.257228Z"
    }
   },
   "outputs": [],
   "source": [
    "# Grover operator\n",
    "\n",
    "def oracle_unitary(n, items):\n",
    "    O = np.eye(2**n)\n",
    "    for i in range(2**n):\n",
    "        if i in items:\n",
    "            O[i, i] = -1\n",
    "\n",
    "    return O\n",
    "\n",
    "\n",
    "def inversion_0_unitary(n):\n",
    "    M0 = np.eye(2**n)\n",
    "    M0[0, 0] = -1\n",
    "\n",
    "    return M0\n",
    "\n",
    "M0 = inversion_0_unitary(m)\n",
    "O = oracle_unitary(m, items)\n",
    "\n",
    "G = A @ M0 @ np.conj(A.transpose()) @ O"
   ]
  },
  {
   "cell_type": "code",
   "execution_count": 64,
   "id": "78468521",
   "metadata": {
    "ExecuteTime": {
     "end_time": "2023-12-11T17:39:15.283560Z",
     "start_time": "2023-12-11T17:39:15.261376Z"
    }
   },
   "outputs": [
    {
     "name": "stdout",
     "output_type": "stream",
     "text": [
      "eigvals [(-0.5322-0.8466j), (-1+0j), (-0.5322+0.8466j), (1+0j), (-1-0j), (1-0j), (-1-0j), (1-0j)]\n",
      "0.23387693366536028 0.2338769336653604 0.2338769336653605\n"
     ]
    }
   ],
   "source": [
    "# the squared cos/sin of half of a non-trivial eigenphase of G gives the probability of good outcomes\n",
    "\n",
    "eigvals, eigvecs = np.linalg.eig(G)\n",
    "\n",
    "print('eigvals', [np.round(e, 4) for e in eigvals])\n",
    "\n",
    "eig1 = cos(np.angle(eigvals[0])/2)**2\n",
    "eig2 = (eigvals[0]**0.5).real**2\n",
    "\n",
    "\n",
    "print(prob_g, eig1, eig2)\n",
    "\n",
    "if is_close(eig1, 0):\n",
    "    print('using eigvals[1]')\n",
    "    eig1 = cos(np.angle(eigvals[1])/2)**2\n",
    "    eig2 = (eigvals[1]**0.5).real**2\n",
    "\n",
    "\n",
    "    print(prob_g, eig1, eig2)\n"
   ]
  },
  {
   "cell_type": "code",
   "execution_count": 65,
   "id": "74003613",
   "metadata": {
    "ExecuteTime": {
     "end_time": "2023-12-11T17:39:15.292809Z",
     "start_time": "2023-12-11T17:39:15.265464Z"
    }
   },
   "outputs": [],
   "source": [
    "assert is_close(eig1, prob_g)\n",
    "assert is_close(eig2, prob_g)"
   ]
  },
  {
   "cell_type": "code",
   "execution_count": 66,
   "id": "2910a212",
   "metadata": {
    "ExecuteTime": {
     "end_time": "2023-12-11T17:39:22.917330Z",
     "start_time": "2023-12-11T17:39:15.291030Z"
    }
   },
   "outputs": [],
   "source": [
    "n = 8 # 9\n",
    "\n",
    "C = unitary_to_circuit(A)\n",
    "\n",
    "qc = amplitude_estimation_circuit(n, C, phase_oracle_match(m, items), swap=True)\n",
    "state = qc.run()\n",
    "\n",
    "probs = [0 for _ in range(2**n)]\n",
    "for k in range(2**m): # prefix\n",
    "    for j in range(2**n): # suffix\n",
    "        probs[j] += abs(state[k*2**n + j])**2\n",
    "\n",
    "# plot_bars(list_to_dict(probs, False), '', 'Outcomes', 'Probability')"
   ]
  },
  {
   "cell_type": "code",
   "execution_count": 67,
   "id": "4235692d",
   "metadata": {
    "ExecuteTime": {
     "end_time": "2023-12-11T17:39:22.921710Z",
     "start_time": "2023-12-11T17:39:22.919055Z"
    }
   },
   "outputs": [
    {
     "name": "stdout",
     "output_type": "stream",
     "text": [
      "estimate ~  0.2325\n"
     ]
    }
   ],
   "source": [
    "# sines = {}\n",
    "# for k, v in enumerate(probs):\n",
    "#     # key = 2**tgt_bits*np.round(np.cos(np.pi*k/2**ctrl_bits)**2, 4)\n",
    "#     key = 2**m*round(cos(k*pi/2**n)**2, 4)\n",
    "#     sines[key] = sines.get(key, 0) + round(v, 4)\n",
    "#         \n",
    "# est = max(sines, key=sines.get)\n",
    "# print('est ~ ', est/2**m)\n",
    "\n",
    "v = np.argmax(probs[int(len(probs)/2):])\n",
    "estimate = round(sin(v*pi/2**n)**2, 4)\n",
    "print('estimate ~ ', estimate)\n",
    "\n",
    "assert(abs(prob_g - estimate) < 0.01) # 8-9 qubits are typically enough to get 2 decimals, but may occasionally fail"
   ]
  }
 ],
 "metadata": {
  "kernelspec": {
   "display_name": "Python 3 (ipykernel)",
   "language": "python",
   "name": "python3"
  },
  "language_info": {
   "codemirror_mode": {
    "name": "ipython",
    "version": 3
   },
   "file_extension": ".py",
   "mimetype": "text/x-python",
   "name": "python",
   "nbconvert_exporter": "python",
   "pygments_lexer": "ipython3",
   "version": "3.9.13"
  }
 },
 "nbformat": 4,
 "nbformat_minor": 5
}
