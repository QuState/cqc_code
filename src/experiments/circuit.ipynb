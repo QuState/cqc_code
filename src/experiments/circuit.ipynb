{
 "cells": [
  {
   "cell_type": "code",
   "execution_count": null,
   "id": "initial_id",
   "metadata": {
    "collapsed": true
   },
   "outputs": [],
   "source": [
    "from math import pi\n",
    "\n",
    "from hume.qiskit.util import show_reports\n",
    "from hume.simulator.circuit import QuantumRegister, QuantumCircuit\n",
    "from hume.utils.common import CONFIG\n",
    "\n",
    "\n",
    "def add_gate(qc, cs, target, gate, angle):\n",
    "    if len(cs) == 1:\n",
    "        gate = 'c' + gate\n",
    "    elif len(cs) > 1:\n",
    "        gate = 'mc' + gate\n",
    "        \n",
    "    m = getattr(qc, gate)\n",
    "    \n",
    "    if angle is None:\n",
    "        if len(cs) == 1:\n",
    "            m(cs[0], int(target))\n",
    "        elif len(cs) > 1:\n",
    "            m(cs, int(target))\n",
    "        else:\n",
    "            m(int(target))\n",
    "    else:\n",
    "        if len(cs) == 1:\n",
    "            m(angle, cs[0], int(target))\n",
    "        elif len(cs) > 1:\n",
    "            m(angle, cs, int(target))\n",
    "        else:\n",
    "            m(angle, int(target))"
   ]
  },
  {
   "cell_type": "code",
   "execution_count": null,
   "outputs": [],
   "source": [
    "import mercury as mr\n",
    "\n",
    "app = mr.App(title='Circuit Builder', description='Experimenting with quantum circuits', show_code=False)"
   ],
   "metadata": {
    "collapsed": false
   },
   "id": "171e069f4a2fb911"
  },
  {
   "cell_type": "code",
   "execution_count": null,
   "outputs": [],
   "source": [
    "\n",
    "no_arg_gates = ['h', 'x', 'y', 'z']\n",
    "arg_gates = ['p', 'rx', 'ry', 'rz']\n",
    "gates = no_arg_gates + arg_gates\n",
    "\n",
    "control_gates = ['x', 'y', 'z', 'p', 'ry']\n",
    "m_control_gates = ['x', 'p']\n",
    "\n",
    "select_str = 'Select...'\n",
    "\n",
    "qubits = mr.Slider(value=3, min=1, max=5, label='Number of qubits', step=1)\n",
    "gate = mr.Select(value=select_str, choices=[select_str] + gates, label='Gate')\n",
    "target = mr.Select(value=select_str, choices=[select_str] + [str(k) for k in range(qubits.value)], label='Target')\n",
    "\n",
    "control = mr.Select(value=select_str, choices=[select_str] if target.value == select_str else [select_str] + [k for k in range(int(target.value))] + [k for k in range(1+int(target.value), qubits.value)], label='Control',\n",
    "                          hidden=qubits.value == 1 or target.value == select_str or gate.value not in control_gates or gate.value in m_control_gates)\n",
    "\n",
    "controls = mr.MultiSelect(value=[], choices=[] if target.value == select_str else [k for k in range(int(target.value))] + [k for k in range(1+int(target.value), qubits.value)], label='Controls', \n",
    "                          hidden=qubits.value == 1 or target.value == select_str or gate.value not in m_control_gates)\n",
    "\n",
    "arg = mr.Numeric(value=0.0, min=-360.0, max=360.0, label='Angle', step = 0.01, \n",
    "                         hidden=target.value == select_str or (gate.value not in arg_gates))\n",
    "\n",
    "report = mr.Checkbox( value=True, label='Create step', disabled=gate.value == select_str or target.value == select_str)\n",
    "button = mr.Button(label='Add transformation', style=\"primary\", disabled=gate.value == select_str or target.value == select_str)\n",
    "\n",
    " "
   ],
   "metadata": {
    "collapsed": false
   },
   "id": "216c43e1c1f30432"
  },
  {
   "cell_type": "code",
   "execution_count": null,
   "outputs": [],
   "source": [
    "CONFIG.use_mpl()\n",
    "n = qubits.value\n",
    "\n",
    "if 'qc' not in locals() or n != sum(qc.regs):\n",
    "    q = QuantumRegister(n)\n",
    "    qc = QuantumCircuit(q)   "
   ],
   "metadata": {
    "collapsed": false
   },
   "id": "62118d035f666f5f"
  },
  {
   "cell_type": "code",
   "execution_count": null,
   "outputs": [],
   "source": [
    "if button.clicked:\n",
    "    add_gate(qc, controls.value if gate.value in m_control_gates else [control.value] if gate.value in control_gates and control.value != select_str else [] , target.value, gate.value, pi/180*arg.value if gate.value in arg_gates else None)\n",
    "    qc.reports.pop('Step in progress', None)\n",
    "    if report.value:\n",
    "        qc.report(f'Step {1+len(qc.reports)}')\n",
    "    else:\n",
    "        qc.report('Step in progress')\n",
    "    show_reports(qc)\n",
    "elif 'qc' in locals():\n",
    "    show_reports(qc)"
   ],
   "metadata": {
    "collapsed": false
   },
   "id": "93e3721afbb2c0b4"
  }
 ],
 "metadata": {
  "kernelspec": {
   "display_name": "Python 3",
   "language": "python",
   "name": "python3"
  },
  "language_info": {
   "codemirror_mode": {
    "name": "ipython",
    "version": 2
   },
   "file_extension": ".py",
   "mimetype": "text/x-python",
   "name": "python",
   "nbconvert_exporter": "python",
   "pygments_lexer": "ipython2",
   "version": "2.7.6"
  }
 },
 "nbformat": 4,
 "nbformat_minor": 5
}
