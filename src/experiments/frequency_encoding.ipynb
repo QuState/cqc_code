{
 "cells": [
  {
   "cell_type": "code",
   "execution_count": null,
   "id": "46731925",
   "metadata": {
    "ExecuteTime": {
     "end_time": "2023-11-08T01:29:08.008938Z",
     "start_time": "2023-11-08T01:29:08.005160Z"
    }
   },
   "outputs": [],
   "source": [
    "from hume.simulator.circuit import QuantumRegister, QuantumCircuit\n",
    "from hume.qiskit.util import show_reports\n",
    "\n",
    "from math import pi\n",
    "\n",
    "def encode_frequency(n, v):\n",
    "    q = QuantumRegister(n)\n",
    "    qc = QuantumCircuit(q)\n",
    "\n",
    "    for j in range(n):\n",
    "        qc.h(q[j])\n",
    "\n",
    "    for j in range(n):\n",
    "        qc.p(2 * pi / 2 ** (n - j) * v, q[j])\n",
    "\n",
    "    qc.report('Geometric sequence')\n",
    "\n",
    "    qc.iqft(range(n))\n",
    "\n",
    "    qc.report('Discrete sinc, after IQFT')\n",
    "\n",
    "    return qc\n",
    "        "
   ]
  },
  {
   "cell_type": "code",
   "execution_count": null,
   "outputs": [],
   "source": [
    "import mercury as mr\n",
    "\n",
    "app = mr.App(title='Discrete Sinc', description='Experimenting with encoding frequencies', show_code=False)"
   ],
   "metadata": {
    "collapsed": false
   },
   "id": "24bb333244fd9dbf"
  },
  {
   "cell_type": "code",
   "execution_count": null,
   "id": "initial_id",
   "metadata": {
    "ExecuteTime": {
     "start_time": "2023-11-08T01:29:08.006783Z"
    }
   },
   "outputs": [],
   "source": [
    "\n",
    "def display_reports(qc):\n",
    "    mr.Md(f'### Circuit code:')\n",
    "    mr.Md(f'### ')\n",
    "    mr.Md(\n",
    "        '''\n",
    "        q = QuantumRegister(n)\n",
    "        qc = QuantumCircuit(q)\n",
    "    \n",
    "        for j in range(n):\n",
    "            qc.h(q[j])\n",
    "    \n",
    "        for j in range(n):\n",
    "            qc.p(2 * pi / 2 ** (n - j) * v, q[j]) # <1>\n",
    "    \n",
    "        qc.report('Geometric sequence')\n",
    "    \n",
    "        qc.iqft(range(n))\n",
    "    \n",
    "        qc.report('Discrete sinc, after IQFT')\n",
    "    \n",
    "        return qc\n",
    "        '''\n",
    "    )\n",
    "\n",
    "    mr.Md(f'### Qubits: {n}')\n",
    "    mr.Md(f'### Frequency: {v}' + (f' mapped to {round(v%2**n, 2)}' if v >= 2**n or v < 0 else ''))\n",
    "\n",
    "    mr.Md('### ')\n",
    "    mr.Md('### ')\n",
    "    mr.Md('### Step by step circuits:')\n",
    "\n",
    "    show_reports(qc)\n",
    "\n",
    "\n",
    "def run(n, v):\n",
    "    qc = encode_frequency(n, v)\n",
    "    display_reports(qc)"
   ]
  },
  {
   "cell_type": "code",
   "execution_count": null,
   "id": "b5792f28de511b1e",
   "metadata": {
    "ExecuteTime": {
     "start_time": "2023-11-08T01:29:08.011099Z"
    }
   },
   "outputs": [],
   "source": [
    "n = 3\n",
    "v = 0\n",
    "\n",
    "qubits = mr.Slider(value=n, min=1, max=5, label='Number of qubits', step=1)\n",
    "freq = mr.Numeric(value=v, min=-1000*2**qubits.value, max=1000*2**qubits.value - 0.01, label=f'Frequency mapped to [0, {2**qubits.value})', step=0.01)\n",
    "button = mr.Button(label='Run', style=\"primary\")"
   ]
  },
  {
   "cell_type": "code",
   "execution_count": null,
   "id": "41d4645f",
   "metadata": {
    "ExecuteTime": {
     "start_time": "2023-11-08T01:29:08.012393Z"
    }
   },
   "outputs": [],
   "source": [
    "n = qubits.value\n",
    "v = freq.value\n",
    "\n",
    "if button.clicked:\n",
    "    run(n, v)\n"
   ]
  },
  {
   "cell_type": "code",
   "execution_count": null,
   "id": "68c69107",
   "metadata": {
    "ExecuteTime": {
     "end_time": "2023-11-08T01:29:08.014166Z",
     "start_time": "2023-11-08T01:29:08.013495Z"
    }
   },
   "outputs": [],
   "source": []
  }
 ],
 "metadata": {
  "kernelspec": {
   "display_name": "Python 3 (ipykernel)",
   "language": "python",
   "name": "python3"
  },
  "language_info": {
   "codemirror_mode": {
    "name": "ipython",
    "version": 3
   },
   "file_extension": ".py",
   "mimetype": "text/x-python",
   "name": "python",
   "nbconvert_exporter": "python",
   "pygments_lexer": "ipython3",
   "version": "3.7.11"
  }
 },
 "nbformat": 4,
 "nbformat_minor": 5
}
